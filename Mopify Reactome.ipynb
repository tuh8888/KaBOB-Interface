{
 "cells": [
  {
   "cell_type": "code",
   "execution_count": 1,
   "metadata": {
    "init_cell": true
   },
   "outputs": [],
   "source": [
    "from KaBOBInterface import KaBOBInterface\n",
    "import networkx as nx\n",
    "from franz.openrdf.vocabulary import RDFS, OWL, RDF\n",
    "from franz.openrdf.query.query import QueryLanguage\n",
    "import matplotlib.pyplot as plt\n",
    "credentials_file = \"KaBOB_credentials.txt\"\n",
    "\n",
    "%matplotlib inline"
   ]
  },
  {
   "cell_type": "code",
   "execution_count": 2,
   "metadata": {
    "init_cell": true
   },
   "outputs": [],
   "source": [
    "def decompose_statements(statements):\n",
    "    for statement in statements:\n",
    "        print(\"S: %s P: %s O: %s\" % (interface.get_label(statement.getSubject()), \n",
    "                                     interface.get_label(statement.getPredicate()), \n",
    "                                     interface.get_label(statement.getObject())))"
   ]
  },
  {
   "cell_type": "code",
   "execution_count": 3,
   "metadata": {
    "init_cell": true
   },
   "outputs": [
    {
     "name": "stderr",
     "output_type": "stream",
     "text": [
      "DEBUG:KaBOBInterface:Connecting to repository --host:'amc-tantor.ucdenver.pvt' port:10037\n"
     ]
    },
    {
     "data": {
      "text/plain": [
       "<KaBOBInterface.KaBOBInterface at 0x23c08ed25f8>"
      ]
     },
     "execution_count": 3,
     "metadata": {},
     "output_type": "execute_result"
    }
   ],
   "source": [
    "interface = KaBOBInterface(credentials_file)\n",
    "interface.__enter__()"
   ]
  },
  {
   "cell_type": "code",
   "execution_count": 8,
   "metadata": {},
   "outputs": [
    {
     "name": "stderr",
     "output_type": "stream",
     "text": [
      "DEBUG:KaBOBInterface:> subclass of low-density lipoprotein particle clearance\n",
      "DEBUG:KaBOBInterface:\t> low-density lipoprotein particle clearance\n",
      "DEBUG:KaBOBInterface:\t\t> plasma lipoprotein particle clearance\n",
      "DEBUG:KaBOBInterface:\t\t\t> multicellular organismal process\n",
      "DEBUG:KaBOBInterface:\t\t\t\t> biological_process\n",
      "DEBUG:KaBOBInterface:\t\t\t\t\t> processual entity\n",
      "DEBUG:KaBOBInterface:\t\t\t\t\t\t> occurrent\n",
      "DEBUG:KaBOBInterface:\t\t\t\t\t\t\t> entity\n",
      "DEBUG:KaBOBInterface:\t\t\t\t\t\t\t< entity\n",
      "DEBUG:KaBOBInterface:\t\t\t\t\t\t< occurrent\n",
      "DEBUG:KaBOBInterface:\t\t\t\t\t< processual entity\n",
      "DEBUG:KaBOBInterface:\t\t\t\t< biological_process\n",
      "DEBUG:KaBOBInterface:\t\t\t\t> Saccharomyces cerevisiae\n",
      "DEBUG:KaBOBInterface:\t\t\t\t\t> Saccharomyces\n",
      "DEBUG:KaBOBInterface:\t\t\t\t\t\t> Saccharomycetaceae\n",
      "DEBUG:KaBOBInterface:\t\t\t\t\t\t\t> Saccharomycetales\n",
      "DEBUG:KaBOBInterface:\t\t\t\t\t\t\t\t> Saccharomycetes\n",
      "DEBUG:KaBOBInterface:\t\t\t\t\t\t\t\t\t> Saccharomycotina\n",
      "DEBUG:KaBOBInterface:\t\t\t\t\t\t\t\t\t\t> saccharomyceta\n",
      "DEBUG:KaBOBInterface:\t\t\t\t\t\t\t\t\t\t\t> Ascomycota\n",
      "DEBUG:KaBOBInterface:\t\t\t\t\t\t\t\t\t\t\t\t> Dikarya\n",
      "DEBUG:KaBOBInterface:\t\t\t\t\t\t\t\t\t\t\t\t\t> Fungi\n",
      "DEBUG:KaBOBInterface:\t\t\t\t\t\t\t\t\t\t\t\t\t\t> Opisthokonta\n",
      "DEBUG:KaBOBInterface:\t\t\t\t\t\t\t\t\t\t\t\t\t\t\t> Eukaryota\n",
      "DEBUG:KaBOBInterface:\t\t\t\t\t\t\t\t\t\t\t\t\t\t\t\t> organism\n",
      "DEBUG:KaBOBInterface:\t\t\t\t\t\t\t\t\t\t\t\t\t\t\t\t\t> object\n",
      "DEBUG:KaBOBInterface:\t\t\t\t\t\t\t\t\t\t\t\t\t\t\t\t\t\t> material entity\n",
      "DEBUG:KaBOBInterface:\t\t\t\t\t\t\t\t\t\t\t\t\t\t\t\t\t\t\t> independent continuant\n",
      "DEBUG:KaBOBInterface:\t\t\t\t\t\t\t\t\t\t\t\t\t\t\t\t\t\t\t\t> continuant\n",
      "DEBUG:KaBOBInterface:\t\t\t\t\t\t\t\t\t\t\t\t\t\t\t\t\t\t\t\t< continuant\n",
      "DEBUG:KaBOBInterface:\t\t\t\t\t\t\t\t\t\t\t\t\t\t\t\t\t\t\t< independent continuant\n",
      "DEBUG:KaBOBInterface:\t\t\t\t\t\t\t\t\t\t\t\t\t\t\t\t\t\t< material entity\n",
      "DEBUG:KaBOBInterface:\t\t\t\t\t\t\t\t\t\t\t\t\t\t\t\t\t< object\n",
      "DEBUG:KaBOBInterface:\t\t\t\t\t\t\t\t\t\t\t\t\t\t\t\t< organism\n",
      "DEBUG:KaBOBInterface:\t\t\t\t\t\t\t\t\t\t\t\t\t\t\t\t> cellular organisms\n",
      "DEBUG:KaBOBInterface:\t\t\t\t\t\t\t\t\t\t\t\t\t\t\t\t\t> ncbitaxon\n",
      "DEBUG:KaBOBInterface:\t\t\t\t\t\t\t\t\t\t\t\t\t\t\t\t\t< ncbitaxon\n",
      "DEBUG:KaBOBInterface:\t\t\t\t\t\t\t\t\t\t\t\t\t\t\t\t< cellular organisms\n",
      "DEBUG:KaBOBInterface:\t\t\t\t\t\t\t\t\t\t\t\t\t\t\t< Eukaryota\n",
      "DEBUG:KaBOBInterface:\t\t\t\t\t\t\t\t\t\t\t\t\t\t< Opisthokonta\n",
      "DEBUG:KaBOBInterface:\t\t\t\t\t\t\t\t\t\t\t\t\t< Fungi\n",
      "DEBUG:KaBOBInterface:\t\t\t\t\t\t\t\t\t\t\t\t< Dikarya\n",
      "DEBUG:KaBOBInterface:\t\t\t\t\t\t\t\t\t\t\t< Ascomycota\n",
      "DEBUG:KaBOBInterface:\t\t\t\t\t\t\t\t\t\t< saccharomyceta\n",
      "DEBUG:KaBOBInterface:\t\t\t\t\t\t\t\t\t< Saccharomycotina\n",
      "DEBUG:KaBOBInterface:\t\t\t\t\t\t\t\t< Saccharomycetes\n",
      "DEBUG:KaBOBInterface:\t\t\t\t\t\t\t< Saccharomycetales\n",
      "DEBUG:KaBOBInterface:\t\t\t\t\t\t< Saccharomycetaceae\n",
      "DEBUG:KaBOBInterface:\t\t\t\t\t< Saccharomyces\n",
      "DEBUG:KaBOBInterface:\t\t\t\t< Saccharomyces cerevisiae\n",
      "DEBUG:KaBOBInterface:\t\t\t\t> Schizosaccharomyces pombe\n",
      "DEBUG:KaBOBInterface:\t\t\t\t\t> Schizosaccharomyces\n",
      "DEBUG:KaBOBInterface:\t\t\t\t\t\t> Schizosaccharomycetaceae\n",
      "DEBUG:KaBOBInterface:\t\t\t\t\t\t\t> Schizosaccharomycetales\n",
      "DEBUG:KaBOBInterface:\t\t\t\t\t\t\t\t> Schizosaccharomycetes\n",
      "DEBUG:KaBOBInterface:\t\t\t\t\t\t\t\t\t> Taphrinomycotina\n",
      "DEBUG:KaBOBInterface:\t\t\t\t\t\t\t\t\t< Taphrinomycotina\n",
      "DEBUG:KaBOBInterface:\t\t\t\t\t\t\t\t< Schizosaccharomycetes\n",
      "DEBUG:KaBOBInterface:\t\t\t\t\t\t\t< Schizosaccharomycetales\n",
      "DEBUG:KaBOBInterface:\t\t\t\t\t\t< Schizosaccharomycetaceae\n",
      "DEBUG:KaBOBInterface:\t\t\t\t\t< Schizosaccharomyces\n",
      "DEBUG:KaBOBInterface:\t\t\t\t< Schizosaccharomyces pombe\n",
      "DEBUG:KaBOBInterface:\t\t\t< multicellular organismal process\n",
      "DEBUG:KaBOBInterface:\t\t< plasma lipoprotein particle clearance\n",
      "DEBUG:KaBOBInterface:\t< low-density lipoprotein particle clearance\n",
      "DEBUG:KaBOBInterface:< subclass of low-density lipoprotein particle clearance\n",
      "DEBUG:KaBOBInterface:> subclass of subclass of biological_process\n",
      "DEBUG:KaBOBInterface:\t> subclass of biological_process\n"
     ]
    },
    {
     "ename": "KeyboardInterrupt",
     "evalue": "",
     "output_type": "error",
     "traceback": [
      "\u001b[1;31m----------------------------------------------\u001b[0m",
      "\u001b[1;31mKeyboardInterrupt\u001b[0mTraceback (most recent call last)",
      "\u001b[1;32m<ipython-input-8-e4ab8f7f6163>\u001b[0m in \u001b[0;36m<module>\u001b[1;34m()\u001b[0m\n\u001b[0;32m      2\u001b[0m \u001b[1;33m\u001b[0m\u001b[0m\n\u001b[0;32m      3\u001b[0m \u001b[0mldl_path\u001b[0m \u001b[1;33m=\u001b[0m \u001b[0minterface\u001b[0m\u001b[1;33m.\u001b[0m\u001b[0mget_bio_node\u001b[0m\u001b[1;33m(\u001b[0m\u001b[0mldl_uri\u001b[0m\u001b[1;33m)\u001b[0m\u001b[1;33m\u001b[0m\u001b[0m\n\u001b[1;32m----> 4\u001b[1;33m \u001b[0minterface\u001b[0m\u001b[1;33m.\u001b[0m\u001b[0mmopify_pathway\u001b[0m\u001b[1;33m(\u001b[0m\u001b[0mldl_path\u001b[0m\u001b[1;33m)\u001b[0m\u001b[1;33m\u001b[0m\u001b[0m\n\u001b[0m",
      "\u001b[1;32m~GDrive\\KaBOB\\KaBOB Interface\\KaBOBInterface.py\u001b[0m in \u001b[0;36mmopify_pathway\u001b[1;34m(self, pathway_node)\u001b[0m\n\u001b[0;32m    195\u001b[0m         \u001b[0mbcr1\u001b[0m \u001b[1;33m=\u001b[0m \u001b[0mself\u001b[0m\u001b[1;33m.\u001b[0m\u001b[0mget_subjects\u001b[0m\u001b[1;33m(\u001b[0m\u001b[0mp\u001b[0m\u001b[1;33m=\u001b[0m\u001b[0mRDFS\u001b[0m\u001b[1;33m.\u001b[0m\u001b[0mSUBCLASSOF\u001b[0m\u001b[1;33m,\u001b[0m \u001b[0mo\u001b[0m\u001b[1;33m=\u001b[0m\u001b[0mproper_part_restr\u001b[0m\u001b[1;33m)\u001b[0m\u001b[1;33m\u001b[0m\u001b[0m\n\u001b[0;32m    196\u001b[0m         \u001b[0mself\u001b[0m\u001b[1;33m.\u001b[0m\u001b[0mmopify\u001b[0m\u001b[1;33m(\u001b[0m\u001b[0mpathway_node\u001b[0m\u001b[1;33m)\u001b[0m\u001b[1;33m\u001b[0m\u001b[0m\n\u001b[1;32m--> 197\u001b[1;33m         \u001b[1;33m[\u001b[0m\u001b[0mself\u001b[0m\u001b[1;33m.\u001b[0m\u001b[0mmopify\u001b[0m\u001b[1;33m(\u001b[0m\u001b[0mbcr\u001b[0m\u001b[1;33m)\u001b[0m \u001b[1;32mfor\u001b[0m \u001b[0mbcr\u001b[0m \u001b[1;32min\u001b[0m \u001b[0mbcr1\u001b[0m\u001b[1;33m]\u001b[0m\u001b[1;33m\u001b[0m\u001b[0m\n\u001b[0m\u001b[0;32m    198\u001b[0m \u001b[1;33m\u001b[0m\u001b[0m\n\u001b[0;32m    199\u001b[0m     \u001b[1;32mdef\u001b[0m \u001b[0mget_all_drugs\u001b[0m\u001b[1;33m(\u001b[0m\u001b[0mself\u001b[0m\u001b[1;33m)\u001b[0m\u001b[1;33m:\u001b[0m\u001b[1;33m\u001b[0m\u001b[0m\n",
      "\u001b[1;32m~GDrive\\KaBOB\\KaBOB Interface\\KaBOBInterface.py\u001b[0m in \u001b[0;36m<listcomp>\u001b[1;34m(.0)\u001b[0m\n\u001b[0;32m    195\u001b[0m         \u001b[0mbcr1\u001b[0m \u001b[1;33m=\u001b[0m \u001b[0mself\u001b[0m\u001b[1;33m.\u001b[0m\u001b[0mget_subjects\u001b[0m\u001b[1;33m(\u001b[0m\u001b[0mp\u001b[0m\u001b[1;33m=\u001b[0m\u001b[0mRDFS\u001b[0m\u001b[1;33m.\u001b[0m\u001b[0mSUBCLASSOF\u001b[0m\u001b[1;33m,\u001b[0m \u001b[0mo\u001b[0m\u001b[1;33m=\u001b[0m\u001b[0mproper_part_restr\u001b[0m\u001b[1;33m)\u001b[0m\u001b[1;33m\u001b[0m\u001b[0m\n\u001b[0;32m    196\u001b[0m         \u001b[0mself\u001b[0m\u001b[1;33m.\u001b[0m\u001b[0mmopify\u001b[0m\u001b[1;33m(\u001b[0m\u001b[0mpathway_node\u001b[0m\u001b[1;33m)\u001b[0m\u001b[1;33m\u001b[0m\u001b[0m\n\u001b[1;32m--> 197\u001b[1;33m         \u001b[1;33m[\u001b[0m\u001b[0mself\u001b[0m\u001b[1;33m.\u001b[0m\u001b[0mmopify\u001b[0m\u001b[1;33m(\u001b[0m\u001b[0mbcr\u001b[0m\u001b[1;33m)\u001b[0m \u001b[1;32mfor\u001b[0m \u001b[0mbcr\u001b[0m \u001b[1;32min\u001b[0m \u001b[0mbcr1\u001b[0m\u001b[1;33m]\u001b[0m\u001b[1;33m\u001b[0m\u001b[0m\n\u001b[0m\u001b[0;32m    198\u001b[0m \u001b[1;33m\u001b[0m\u001b[0m\n\u001b[0;32m    199\u001b[0m     \u001b[1;32mdef\u001b[0m \u001b[0mget_all_drugs\u001b[0m\u001b[1;33m(\u001b[0m\u001b[0mself\u001b[0m\u001b[1;33m)\u001b[0m\u001b[1;33m:\u001b[0m\u001b[1;33m\u001b[0m\u001b[0m\n",
      "\u001b[1;32m~GDrive\\KaBOB\\KaBOB Interface\\AllegroGraphRepositoryInterface.py\u001b[0m in \u001b[0;36mmopify\u001b[1;34m(self, node, depth)\u001b[0m\n\u001b[0;32m    244\u001b[0m \u001b[1;33m\u001b[0m\u001b[0m\n\u001b[0;32m    245\u001b[0m             \u001b[0mself\u001b[0m\u001b[1;33m.\u001b[0m\u001b[0mlog\u001b[0m\u001b[1;33m.\u001b[0m\u001b[0mdebug\u001b[0m\u001b[1;33m(\u001b[0m\u001b[1;34m\"\\t\"\u001b[0m \u001b[1;33m*\u001b[0m \u001b[0mdepth\u001b[0m \u001b[1;33m+\u001b[0m \u001b[1;34m\"> \"\u001b[0m \u001b[1;33m+\u001b[0m \u001b[0mmop_label\u001b[0m\u001b[1;33m)\u001b[0m\u001b[1;33m\u001b[0m\u001b[0m\n\u001b[1;32m--> 246\u001b[1;33m             \u001b[0mself\u001b[0m\u001b[1;33m.\u001b[0m\u001b[0mcreate_kabob_mop\u001b[0m\u001b[1;33m(\u001b[0m\u001b[0mnode\u001b[0m\u001b[1;33m,\u001b[0m \u001b[0mmop_label\u001b[0m\u001b[1;33m,\u001b[0m \u001b[0mparents\u001b[0m\u001b[1;33m,\u001b[0m \u001b[0mslots\u001b[0m\u001b[1;33m,\u001b[0m \u001b[0mnode_type\u001b[0m\u001b[1;33m,\u001b[0m \u001b[0mequivalent_class\u001b[0m\u001b[1;33m,\u001b[0m \u001b[0mdepth\u001b[0m\u001b[1;33m,\u001b[0m \u001b[0mis_trivial\u001b[0m\u001b[1;33m)\u001b[0m\u001b[1;33m\u001b[0m\u001b[0m\n\u001b[0m\u001b[0;32m    247\u001b[0m             \u001b[0mself\u001b[0m\u001b[1;33m.\u001b[0m\u001b[0mlog\u001b[0m\u001b[1;33m.\u001b[0m\u001b[0mdebug\u001b[0m\u001b[1;33m(\u001b[0m\u001b[1;34m\"\\t\"\u001b[0m \u001b[1;33m*\u001b[0m \u001b[0mdepth\u001b[0m \u001b[1;33m+\u001b[0m \u001b[1;34m\"< \"\u001b[0m \u001b[1;33m+\u001b[0m \u001b[0mmop_label\u001b[0m\u001b[1;33m)\u001b[0m\u001b[1;33m\u001b[0m\u001b[0m\n\u001b[0;32m    248\u001b[0m             \u001b[1;32mreturn\u001b[0m \u001b[0mequivalent_class\u001b[0m\u001b[1;33m\u001b[0m\u001b[0m\n",
      "\u001b[1;32m~GDrive\\KaBOB\\KaBOB Interface\\AllegroGraphRepositoryInterface.py\u001b[0m in \u001b[0;36mcreate_kabob_mop\u001b[1;34m(self, node, mop_label, parents, slots, node_type, equivalent_class, depth, is_trivial)\u001b[0m\n\u001b[0;32m    283\u001b[0m \u001b[1;33m\u001b[0m\u001b[0m\n\u001b[0;32m    284\u001b[0m             [self.mops.add_abstraction(equivalent_class,\n\u001b[1;32m--> 285\u001b[1;33m                                        self.mopify(parent, depth=depth + 1)) for parent in parents]\n\u001b[0m\u001b[0;32m    286\u001b[0m             [self.mops.add_slot(equivalent_class,\n\u001b[0;32m    287\u001b[0m                                 \u001b[0mrole\u001b[0m\u001b[1;33m,\u001b[0m\u001b[1;33m\u001b[0m\u001b[0m\n",
      "\u001b[1;32m~GDrive\\KaBOB\\KaBOB Interface\\AllegroGraphRepositoryInterface.py\u001b[0m in \u001b[0;36m<listcomp>\u001b[1;34m(.0)\u001b[0m\n\u001b[0;32m    283\u001b[0m \u001b[1;33m\u001b[0m\u001b[0m\n\u001b[0;32m    284\u001b[0m             [self.mops.add_abstraction(equivalent_class,\n\u001b[1;32m--> 285\u001b[1;33m                                        self.mopify(parent, depth=depth + 1)) for parent in parents]\n\u001b[0m\u001b[0;32m    286\u001b[0m             [self.mops.add_slot(equivalent_class,\n\u001b[0;32m    287\u001b[0m                                 \u001b[0mrole\u001b[0m\u001b[1;33m,\u001b[0m\u001b[1;33m\u001b[0m\u001b[0m\n",
      "\u001b[1;32m~GDrive\\KaBOB\\KaBOB Interface\\AllegroGraphRepositoryInterface.py\u001b[0m in \u001b[0;36mmopify\u001b[1;34m(self, node, depth)\u001b[0m\n\u001b[0;32m    244\u001b[0m \u001b[1;33m\u001b[0m\u001b[0m\n\u001b[0;32m    245\u001b[0m             \u001b[0mself\u001b[0m\u001b[1;33m.\u001b[0m\u001b[0mlog\u001b[0m\u001b[1;33m.\u001b[0m\u001b[0mdebug\u001b[0m\u001b[1;33m(\u001b[0m\u001b[1;34m\"\\t\"\u001b[0m \u001b[1;33m*\u001b[0m \u001b[0mdepth\u001b[0m \u001b[1;33m+\u001b[0m \u001b[1;34m\"> \"\u001b[0m \u001b[1;33m+\u001b[0m \u001b[0mmop_label\u001b[0m\u001b[1;33m)\u001b[0m\u001b[1;33m\u001b[0m\u001b[0m\n\u001b[1;32m--> 246\u001b[1;33m             \u001b[0mself\u001b[0m\u001b[1;33m.\u001b[0m\u001b[0mcreate_kabob_mop\u001b[0m\u001b[1;33m(\u001b[0m\u001b[0mnode\u001b[0m\u001b[1;33m,\u001b[0m \u001b[0mmop_label\u001b[0m\u001b[1;33m,\u001b[0m \u001b[0mparents\u001b[0m\u001b[1;33m,\u001b[0m \u001b[0mslots\u001b[0m\u001b[1;33m,\u001b[0m \u001b[0mnode_type\u001b[0m\u001b[1;33m,\u001b[0m \u001b[0mequivalent_class\u001b[0m\u001b[1;33m,\u001b[0m \u001b[0mdepth\u001b[0m\u001b[1;33m,\u001b[0m \u001b[0mis_trivial\u001b[0m\u001b[1;33m)\u001b[0m\u001b[1;33m\u001b[0m\u001b[0m\n\u001b[0m\u001b[0;32m    247\u001b[0m             \u001b[0mself\u001b[0m\u001b[1;33m.\u001b[0m\u001b[0mlog\u001b[0m\u001b[1;33m.\u001b[0m\u001b[0mdebug\u001b[0m\u001b[1;33m(\u001b[0m\u001b[1;34m\"\\t\"\u001b[0m \u001b[1;33m*\u001b[0m \u001b[0mdepth\u001b[0m \u001b[1;33m+\u001b[0m \u001b[1;34m\"< \"\u001b[0m \u001b[1;33m+\u001b[0m \u001b[0mmop_label\u001b[0m\u001b[1;33m)\u001b[0m\u001b[1;33m\u001b[0m\u001b[0m\n\u001b[0;32m    248\u001b[0m             \u001b[1;32mreturn\u001b[0m \u001b[0mequivalent_class\u001b[0m\u001b[1;33m\u001b[0m\u001b[0m\n",
      "\u001b[1;32m~GDrive\\KaBOB\\KaBOB Interface\\AllegroGraphRepositoryInterface.py\u001b[0m in \u001b[0;36mcreate_kabob_mop\u001b[1;34m(self, node, mop_label, parents, slots, node_type, equivalent_class, depth, is_trivial)\u001b[0m\n\u001b[0;32m    287\u001b[0m                                 \u001b[0mrole\u001b[0m\u001b[1;33m,\u001b[0m\u001b[1;33m\u001b[0m\u001b[0m\n\u001b[0;32m    288\u001b[0m                                 \u001b[0mself\u001b[0m\u001b[1;33m.\u001b[0m\u001b[0mget_label\u001b[0m\u001b[1;33m(\u001b[0m\u001b[0mrole\u001b[0m\u001b[1;33m)\u001b[0m\u001b[1;33m,\u001b[0m\u001b[1;33m\u001b[0m\u001b[0m\n\u001b[1;32m--> 289\u001b[1;33m                                 self.mopify(filler, depth=depth + 1)) for role, filler in slots]\n\u001b[0m\u001b[0;32m    290\u001b[0m \u001b[1;33m\u001b[0m\u001b[0m\n\u001b[0;32m    291\u001b[0m     def parse_statements(self, node: Value, is_trivial: bool) -> Tuple[\n",
      "\u001b[1;32m~GDrive\\KaBOB\\KaBOB Interface\\AllegroGraphRepositoryInterface.py\u001b[0m in \u001b[0;36m<listcomp>\u001b[1;34m(.0)\u001b[0m\n\u001b[0;32m    287\u001b[0m                                 \u001b[0mrole\u001b[0m\u001b[1;33m,\u001b[0m\u001b[1;33m\u001b[0m\u001b[0m\n\u001b[0;32m    288\u001b[0m                                 \u001b[0mself\u001b[0m\u001b[1;33m.\u001b[0m\u001b[0mget_label\u001b[0m\u001b[1;33m(\u001b[0m\u001b[0mrole\u001b[0m\u001b[1;33m)\u001b[0m\u001b[1;33m,\u001b[0m\u001b[1;33m\u001b[0m\u001b[0m\n\u001b[1;32m--> 289\u001b[1;33m                                 self.mopify(filler, depth=depth + 1)) for role, filler in slots]\n\u001b[0m\u001b[0;32m    290\u001b[0m \u001b[1;33m\u001b[0m\u001b[0m\n\u001b[0;32m    291\u001b[0m     def parse_statements(self, node: Value, is_trivial: bool) -> Tuple[\n",
      "\u001b[1;32m~GDrive\\KaBOB\\KaBOB Interface\\AllegroGraphRepositoryInterface.py\u001b[0m in \u001b[0;36mmopify\u001b[1;34m(self, node, depth)\u001b[0m\n\u001b[0;32m    238\u001b[0m             \u001b[1;32mif\u001b[0m \u001b[0mis_trivial\u001b[0m\u001b[1;33m:\u001b[0m\u001b[1;33m\u001b[0m\u001b[0m\n\u001b[0;32m    239\u001b[0m                 \u001b[0mself\u001b[0m\u001b[1;33m.\u001b[0m\u001b[0mlog\u001b[0m\u001b[1;33m.\u001b[0m\u001b[0mwarning\u001b[0m\u001b[1;33m(\u001b[0m\u001b[1;34m\"\\t\"\u001b[0m \u001b[1;33m*\u001b[0m \u001b[0mdepth\u001b[0m \u001b[1;33m+\u001b[0m \u001b[1;34m\"Trivial mopification of non-BIO-world node %s\"\u001b[0m \u001b[1;33m%\u001b[0m \u001b[0mnode\u001b[0m\u001b[1;33m)\u001b[0m\u001b[1;33m\u001b[0m\u001b[0m\n\u001b[1;32m--> 240\u001b[1;33m             \u001b[0mmop_label\u001b[0m\u001b[1;33m,\u001b[0m \u001b[0mparents\u001b[0m\u001b[1;33m,\u001b[0m \u001b[0mslots\u001b[0m\u001b[1;33m,\u001b[0m \u001b[0mnode_type\u001b[0m\u001b[1;33m,\u001b[0m \u001b[0mequivalent_class\u001b[0m \u001b[1;33m=\u001b[0m \u001b[0mself\u001b[0m\u001b[1;33m.\u001b[0m\u001b[0mparse_statements\u001b[0m\u001b[1;33m(\u001b[0m\u001b[0mnode\u001b[0m\u001b[1;33m,\u001b[0m \u001b[0mis_trivial\u001b[0m\u001b[1;33m)\u001b[0m\u001b[1;33m\u001b[0m\u001b[0m\n\u001b[0m\u001b[0;32m    241\u001b[0m \u001b[1;33m\u001b[0m\u001b[0m\n\u001b[0;32m    242\u001b[0m             \u001b[1;32mif\u001b[0m \u001b[0mnode_type\u001b[0m \u001b[1;33m==\u001b[0m \u001b[0mRDF\u001b[0m\u001b[1;33m.\u001b[0m\u001b[0mLIST\u001b[0m\u001b[1;33m:\u001b[0m\u001b[1;33m\u001b[0m\u001b[0m\n",
      "\u001b[1;32m~GDrive\\KaBOB\\KaBOB Interface\\AllegroGraphRepositoryInterface.py\u001b[0m in \u001b[0;36mparse_statements\u001b[1;34m(self, node, is_trivial)\u001b[0m\n\u001b[0;32m    353\u001b[0m             \u001b[0mmop_label\u001b[0m\u001b[1;33m:\u001b[0m \u001b[0mstr\u001b[0m \u001b[1;33m=\u001b[0m \u001b[0mself\u001b[0m\u001b[1;33m.\u001b[0m\u001b[0mget_instance_node_label\u001b[0m\u001b[1;33m(\u001b[0m\u001b[0mnode\u001b[0m\u001b[1;33m,\u001b[0m \u001b[0mlabels\u001b[0m\u001b[1;33m)\u001b[0m\u001b[1;33m\u001b[0m\u001b[0m\n\u001b[0;32m    354\u001b[0m         \u001b[1;32melse\u001b[0m\u001b[1;33m:\u001b[0m\u001b[1;33m\u001b[0m\u001b[0m\n\u001b[1;32m--> 355\u001b[1;33m             \u001b[0mmop_label\u001b[0m\u001b[1;33m:\u001b[0m \u001b[0mstr\u001b[0m \u001b[1;33m=\u001b[0m \u001b[0mself\u001b[0m\u001b[1;33m.\u001b[0m\u001b[0mget_label\u001b[0m\u001b[1;33m(\u001b[0m\u001b[0mnode\u001b[0m\u001b[1;33m,\u001b[0m \u001b[0mlabels\u001b[0m\u001b[1;33m)\u001b[0m\u001b[1;33m\u001b[0m\u001b[0m\n\u001b[0m\u001b[0;32m    356\u001b[0m \u001b[1;33m\u001b[0m\u001b[0m\n\u001b[0;32m    357\u001b[0m         \u001b[1;32mreturn\u001b[0m \u001b[0mmop_label\u001b[0m\u001b[1;33m,\u001b[0m \u001b[0mparents\u001b[0m\u001b[1;33m,\u001b[0m \u001b[0mslots\u001b[0m\u001b[1;33m,\u001b[0m \u001b[0mnode_type\u001b[0m\u001b[1;33m,\u001b[0m \u001b[0mequivalent_class\u001b[0m\u001b[1;33m\u001b[0m\u001b[0m\n",
      "\u001b[1;32m~GDrive\\KaBOB\\KaBOB Interface\\AllegroGraphRepositoryInterface.py\u001b[0m in \u001b[0;36mget_label\u001b[1;34m(self, node, labels)\u001b[0m\n\u001b[0;32m    415\u001b[0m                 \u001b[1;32mfor\u001b[0m \u001b[0mparent\u001b[0m \u001b[1;32min\u001b[0m \u001b[0mself\u001b[0m\u001b[1;33m.\u001b[0m\u001b[0mget_objects\u001b[0m\u001b[1;33m(\u001b[0m\u001b[0ms\u001b[0m\u001b[1;33m=\u001b[0m\u001b[0mnode\u001b[0m\u001b[1;33m,\u001b[0m \u001b[0mp\u001b[0m\u001b[1;33m=\u001b[0m\u001b[0mRDFS\u001b[0m\u001b[1;33m.\u001b[0m\u001b[0mSUBCLASSOF\u001b[0m\u001b[1;33m)\u001b[0m\u001b[1;33m:\u001b[0m\u001b[1;33m\u001b[0m\u001b[0m\n\u001b[0;32m    416\u001b[0m                     \u001b[1;32mif\u001b[0m \u001b[1;32mnot\u001b[0m \u001b[0mself\u001b[0m\u001b[1;33m.\u001b[0m\u001b[0mcheck_restriction\u001b[0m\u001b[1;33m(\u001b[0m\u001b[0mparent\u001b[0m\u001b[1;33m)\u001b[0m\u001b[1;33m[\u001b[0m\u001b[1;36m0\u001b[0m\u001b[1;33m]\u001b[0m\u001b[1;33m:\u001b[0m\u001b[1;33m\u001b[0m\u001b[0m\n\u001b[1;32m--> 417\u001b[1;33m                         \u001b[1;32mreturn\u001b[0m \u001b[1;34m\"subclass of \"\u001b[0m \u001b[1;33m+\u001b[0m \u001b[0mself\u001b[0m\u001b[1;33m.\u001b[0m\u001b[0mget_label\u001b[0m\u001b[1;33m(\u001b[0m\u001b[0mparent\u001b[0m\u001b[1;33m)\u001b[0m\u001b[1;33m\u001b[0m\u001b[0m\n\u001b[0m\u001b[0;32m    418\u001b[0m             \u001b[1;32mreturn\u001b[0m \u001b[0mlabel\u001b[0m\u001b[1;33m\u001b[0m\u001b[0m\n\u001b[0;32m    419\u001b[0m \u001b[1;33m\u001b[0m\u001b[0m\n",
      "\u001b[1;32m~GDrive\\KaBOB\\KaBOB Interface\\AllegroGraphRepositoryInterface.py\u001b[0m in \u001b[0;36mget_label\u001b[1;34m(self, node, labels)\u001b[0m\n\u001b[0;32m    413\u001b[0m             \u001b[0mlabel\u001b[0m \u001b[1;33m=\u001b[0m \u001b[0mstr\u001b[0m\u001b[1;33m(\u001b[0m\u001b[0mlocal_name\u001b[0m\u001b[1;33m)\u001b[0m\u001b[1;33m\u001b[0m\u001b[0m\n\u001b[0;32m    414\u001b[0m             \u001b[1;32mif\u001b[0m \u001b[0mlen\u001b[0m\u001b[1;33m(\u001b[0m\u001b[0mlabel\u001b[0m\u001b[1;33m)\u001b[0m \u001b[1;33m>=\u001b[0m \u001b[1;36m15\u001b[0m \u001b[1;32mand\u001b[0m \u001b[1;34m' '\u001b[0m \u001b[1;32mnot\u001b[0m \u001b[1;32min\u001b[0m \u001b[0mlabel\u001b[0m\u001b[1;33m:\u001b[0m\u001b[1;33m\u001b[0m\u001b[0m\n\u001b[1;32m--> 415\u001b[1;33m                 \u001b[1;32mfor\u001b[0m \u001b[0mparent\u001b[0m \u001b[1;32min\u001b[0m \u001b[0mself\u001b[0m\u001b[1;33m.\u001b[0m\u001b[0mget_objects\u001b[0m\u001b[1;33m(\u001b[0m\u001b[0ms\u001b[0m\u001b[1;33m=\u001b[0m\u001b[0mnode\u001b[0m\u001b[1;33m,\u001b[0m \u001b[0mp\u001b[0m\u001b[1;33m=\u001b[0m\u001b[0mRDFS\u001b[0m\u001b[1;33m.\u001b[0m\u001b[0mSUBCLASSOF\u001b[0m\u001b[1;33m)\u001b[0m\u001b[1;33m:\u001b[0m\u001b[1;33m\u001b[0m\u001b[0m\n\u001b[0m\u001b[0;32m    416\u001b[0m                     \u001b[1;32mif\u001b[0m \u001b[1;32mnot\u001b[0m \u001b[0mself\u001b[0m\u001b[1;33m.\u001b[0m\u001b[0mcheck_restriction\u001b[0m\u001b[1;33m(\u001b[0m\u001b[0mparent\u001b[0m\u001b[1;33m)\u001b[0m\u001b[1;33m[\u001b[0m\u001b[1;36m0\u001b[0m\u001b[1;33m]\u001b[0m\u001b[1;33m:\u001b[0m\u001b[1;33m\u001b[0m\u001b[0m\n\u001b[0;32m    417\u001b[0m                         \u001b[1;32mreturn\u001b[0m \u001b[1;34m\"subclass of \"\u001b[0m \u001b[1;33m+\u001b[0m \u001b[0mself\u001b[0m\u001b[1;33m.\u001b[0m\u001b[0mget_label\u001b[0m\u001b[1;33m(\u001b[0m\u001b[0mparent\u001b[0m\u001b[1;33m)\u001b[0m\u001b[1;33m\u001b[0m\u001b[0m\n",
      "\u001b[1;32m~GDrive\\KaBOB\\KaBOB Interface\\AllegroGraphRepositoryInterface.py\u001b[0m in \u001b[0;36mget_objects\u001b[1;34m(self, s, p)\u001b[0m\n\u001b[0;32m    419\u001b[0m \u001b[1;33m\u001b[0m\u001b[0m\n\u001b[0;32m    420\u001b[0m     \u001b[1;32mdef\u001b[0m \u001b[0mget_objects\u001b[0m\u001b[1;33m(\u001b[0m\u001b[0mself\u001b[0m\u001b[1;33m,\u001b[0m \u001b[0ms\u001b[0m\u001b[1;33m:\u001b[0m \u001b[0mValue\u001b[0m \u001b[1;32mor\u001b[0m \u001b[1;32mNone\u001b[0m\u001b[1;33m,\u001b[0m \u001b[0mp\u001b[0m\u001b[1;33m:\u001b[0m \u001b[0mURI\u001b[0m \u001b[1;32mor\u001b[0m \u001b[1;32mNone\u001b[0m\u001b[1;33m)\u001b[0m \u001b[1;33m->\u001b[0m \u001b[0mList\u001b[0m\u001b[1;33m[\u001b[0m\u001b[0mURI\u001b[0m \u001b[1;32mor\u001b[0m \u001b[0mLiteral\u001b[0m\u001b[1;33m]\u001b[0m\u001b[1;33m:\u001b[0m\u001b[1;33m\u001b[0m\u001b[0m\n\u001b[1;32m--> 421\u001b[1;33m         \u001b[0mstatements\u001b[0m \u001b[1;33m=\u001b[0m \u001b[0mself\u001b[0m\u001b[1;33m.\u001b[0m\u001b[0mget_statements\u001b[0m\u001b[1;33m(\u001b[0m\u001b[0ms\u001b[0m\u001b[1;33m=\u001b[0m\u001b[0ms\u001b[0m\u001b[1;33m,\u001b[0m \u001b[0mp\u001b[0m\u001b[1;33m=\u001b[0m\u001b[0mp\u001b[0m\u001b[1;33m)\u001b[0m\u001b[1;33m\u001b[0m\u001b[0m\n\u001b[0m\u001b[0;32m    422\u001b[0m         \u001b[1;32mreturn\u001b[0m \u001b[1;33m[\u001b[0m\u001b[1;33m]\u001b[0m \u001b[1;32mif\u001b[0m \u001b[1;32mnot\u001b[0m \u001b[0mstatements\u001b[0m \u001b[1;32melse\u001b[0m \u001b[1;33m[\u001b[0m\u001b[0mstatement\u001b[0m\u001b[1;33m.\u001b[0m\u001b[0mgetObject\u001b[0m\u001b[1;33m(\u001b[0m\u001b[1;33m)\u001b[0m \u001b[1;32mfor\u001b[0m \u001b[0mstatement\u001b[0m \u001b[1;32min\u001b[0m \u001b[0mstatements\u001b[0m\u001b[1;33m]\u001b[0m\u001b[1;33m\u001b[0m\u001b[0m\n\u001b[0;32m    423\u001b[0m \u001b[1;33m\u001b[0m\u001b[0m\n",
      "\u001b[1;32m~GDrive\\KaBOB\\KaBOB Interface\\AllegroGraphRepositoryInterface.py\u001b[0m in \u001b[0;36mget_statements\u001b[1;34m(self, s, p, o)\u001b[0m\n\u001b[0;32m    439\u001b[0m             \u001b[0mstatements\u001b[0m \u001b[1;33m=\u001b[0m \u001b[0mself\u001b[0m\u001b[1;33m.\u001b[0m\u001b[0mcached_statements\u001b[0m\u001b[1;33m.\u001b[0m\u001b[0mget\u001b[0m\u001b[1;33m(\u001b[0m\u001b[0ms\u001b[0m\u001b[1;33m)\u001b[0m\u001b[1;33m\u001b[0m\u001b[0m\n\u001b[0;32m    440\u001b[0m         \u001b[1;32mif\u001b[0m \u001b[1;32mnot\u001b[0m \u001b[0mstatements\u001b[0m\u001b[1;33m:\u001b[0m\u001b[1;33m\u001b[0m\u001b[0m\n\u001b[1;32m--> 441\u001b[1;33m             \u001b[1;32mwith\u001b[0m \u001b[0mself\u001b[0m\u001b[1;33m.\u001b[0m\u001b[0mconn\u001b[0m\u001b[1;33m.\u001b[0m\u001b[0mgetStatements\u001b[0m\u001b[1;33m(\u001b[0m\u001b[0msubject\u001b[0m\u001b[1;33m=\u001b[0m\u001b[0ms\u001b[0m\u001b[1;33m,\u001b[0m \u001b[0mpredicate\u001b[0m\u001b[1;33m=\u001b[0m\u001b[0mp\u001b[0m\u001b[1;33m,\u001b[0m \u001b[0mobject\u001b[0m\u001b[1;33m=\u001b[0m\u001b[0mo\u001b[0m\u001b[1;33m)\u001b[0m \u001b[1;32mas\u001b[0m \u001b[0mstatements\u001b[0m\u001b[1;33m:\u001b[0m\u001b[1;33m\u001b[0m\u001b[0m\n\u001b[0m\u001b[0;32m    442\u001b[0m                 \u001b[0mstatements\u001b[0m \u001b[1;33m=\u001b[0m \u001b[0mstatements\u001b[0m\u001b[1;33m.\u001b[0m\u001b[0masList\u001b[0m\u001b[1;33m(\u001b[0m\u001b[1;33m)\u001b[0m\u001b[1;33m\u001b[0m\u001b[0m\n\u001b[0;32m    443\u001b[0m                 \u001b[1;32mif\u001b[0m \u001b[0ms\u001b[0m \u001b[1;32mand\u001b[0m \u001b[1;32mnot\u001b[0m \u001b[0mp\u001b[0m \u001b[1;32mand\u001b[0m \u001b[1;32mnot\u001b[0m \u001b[0mo\u001b[0m\u001b[1;33m:\u001b[0m\u001b[1;33m\u001b[0m\u001b[0m\n",
      "\u001b[1;32mC:\\Anaconda\\lib\\site-packages\\franz\\openrdf\\repository\\repositoryconnection.py\u001b[0m in \u001b[0;36mgetStatements\u001b[1;34m(self, subject, predicate, object, contexts, includeInferred, limit, offset, tripleIDs, output, output_format)\u001b[0m\n\u001b[0;32m    424\u001b[0m                     \u001b[0msubj\u001b[0m\u001b[1;33m,\u001b[0m \u001b[0mpred\u001b[0m\u001b[1;33m,\u001b[0m \u001b[0mobj\u001b[0m\u001b[1;33m,\u001b[0m \u001b[0mcxt\u001b[0m\u001b[1;33m,\u001b[0m\u001b[1;33m\u001b[0m\u001b[0m\n\u001b[0;32m    425\u001b[0m                     \u001b[0minfer\u001b[0m\u001b[1;33m=\u001b[0m\u001b[0mincludeInferred\u001b[0m\u001b[1;33m,\u001b[0m \u001b[0mlimit\u001b[0m\u001b[1;33m=\u001b[0m\u001b[0mlimit\u001b[0m\u001b[1;33m,\u001b[0m \u001b[0moffset\u001b[0m\u001b[1;33m=\u001b[0m\u001b[0moffset\u001b[0m\u001b[1;33m,\u001b[0m \u001b[0mtripleIDs\u001b[0m\u001b[1;33m=\u001b[0m\u001b[0mtripleIDs\u001b[0m\u001b[1;33m,\u001b[0m\u001b[1;33m\u001b[0m\u001b[0m\n\u001b[1;32m--> 426\u001b[1;33m                     accept=accept, callback=callback)\n\u001b[0m\u001b[0;32m    427\u001b[0m \u001b[1;33m\u001b[0m\u001b[0m\n\u001b[0;32m    428\u001b[0m             \u001b[1;32mif\u001b[0m \u001b[0moutput\u001b[0m \u001b[1;32mis\u001b[0m \u001b[1;32mNone\u001b[0m\u001b[1;33m:\u001b[0m\u001b[1;33m\u001b[0m\u001b[0m\n",
      "\u001b[1;32mC:\\Anaconda\\lib\\site-packages\\franz\\miniclient\\repository.py\u001b[0m in \u001b[0;36mgetStatements\u001b[1;34m(self, subj, pred, obj, context, infer, callback, limit, offset, accept, tripleIDs, count)\u001b[0m\n\u001b[0;32m    352\u001b[0m                 \u001b[0mobj\u001b[0m\u001b[1;33m=\u001b[0m\u001b[0mobj\u001b[0m\u001b[1;33m,\u001b[0m \u001b[0mobjEnd\u001b[0m\u001b[1;33m=\u001b[0m\u001b[0mobjEnd\u001b[0m\u001b[1;33m,\u001b[0m \u001b[0mcontext\u001b[0m\u001b[1;33m=\u001b[0m\u001b[0mcontext\u001b[0m\u001b[1;33m,\u001b[0m \u001b[0minfer\u001b[0m\u001b[1;33m=\u001b[0m\u001b[0minfer\u001b[0m\u001b[1;33m,\u001b[0m\u001b[1;33m\u001b[0m\u001b[0m\n\u001b[0;32m    353\u001b[0m                 limit=limit, offset=offset),\n\u001b[1;32m--> 354\u001b[1;33m             callback=callback, accept=accept)\n\u001b[0m\u001b[0;32m    355\u001b[0m \u001b[1;33m\u001b[0m\u001b[0m\n\u001b[0;32m    356\u001b[0m     \u001b[1;32mdef\u001b[0m \u001b[0mgetStatementsById\u001b[0m\u001b[1;33m(\u001b[0m\u001b[0mself\u001b[0m\u001b[1;33m,\u001b[0m \u001b[0mids\u001b[0m\u001b[1;33m,\u001b[0m \u001b[0mreturnIDs\u001b[0m\u001b[1;33m=\u001b[0m\u001b[1;32mTrue\u001b[0m\u001b[1;33m,\u001b[0m \u001b[0maccept\u001b[0m\u001b[1;33m=\u001b[0m\u001b[1;32mNone\u001b[0m\u001b[1;33m,\u001b[0m \u001b[0mcallback\u001b[0m\u001b[1;33m=\u001b[0m\u001b[1;32mNone\u001b[0m\u001b[1;33m)\u001b[0m\u001b[1;33m:\u001b[0m\u001b[1;33m\u001b[0m\u001b[0m\n",
      "\u001b[1;32mC:\\Anaconda\\lib\\site-packages\\franz\\miniclient\\request.py\u001b[0m in \u001b[0;36mjsonRequest\u001b[1;34m(obj, method, url, body, content_type, callback, accept, headers)\u001b[0m\n\u001b[0;32m     86\u001b[0m \u001b[1;33m\u001b[0m\u001b[0m\n\u001b[0;32m     87\u001b[0m     \u001b[1;32mif\u001b[0m \u001b[0mcallback\u001b[0m \u001b[1;32mis\u001b[0m \u001b[1;32mNone\u001b[0m\u001b[1;33m:\u001b[0m\u001b[1;33m\u001b[0m\u001b[0m\n\u001b[1;32m---> 88\u001b[1;33m         \u001b[0mstatus\u001b[0m\u001b[1;33m,\u001b[0m \u001b[0mbody\u001b[0m \u001b[1;33m=\u001b[0m \u001b[0mmakeRequest\u001b[0m\u001b[1;33m(\u001b[0m\u001b[0mobj\u001b[0m\u001b[1;33m,\u001b[0m \u001b[0mmethod\u001b[0m\u001b[1;33m,\u001b[0m \u001b[0murl\u001b[0m\u001b[1;33m,\u001b[0m \u001b[0mbody\u001b[0m\u001b[1;33m,\u001b[0m \u001b[0maccept\u001b[0m\u001b[1;33m,\u001b[0m \u001b[0mcontent_type\u001b[0m\u001b[1;33m,\u001b[0m \u001b[0mheaders\u001b[0m\u001b[1;33m=\u001b[0m\u001b[0mheaders\u001b[0m\u001b[1;33m)\u001b[0m\u001b[1;33m\u001b[0m\u001b[0m\n\u001b[0m\u001b[0;32m     89\u001b[0m         \u001b[1;32mif\u001b[0m \u001b[0mstatus\u001b[0m \u001b[1;33m==\u001b[0m \u001b[1;36m200\u001b[0m\u001b[1;33m:\u001b[0m\u001b[1;33m\u001b[0m\u001b[0m\n\u001b[0;32m     90\u001b[0m             \u001b[1;32mif\u001b[0m \u001b[0maccept\u001b[0m \u001b[1;32min\u001b[0m \u001b[1;33m(\u001b[0m\u001b[1;34m'application/json'\u001b[0m\u001b[1;33m,\u001b[0m \u001b[1;34m'text/integer'\u001b[0m\u001b[1;33m,\u001b[0m \u001b[1;34m\"application/x-quints+json\"\u001b[0m\u001b[1;33m)\u001b[0m\u001b[1;33m:\u001b[0m\u001b[1;33m\u001b[0m\u001b[0m\n",
      "\u001b[1;32mC:\\Anaconda\\lib\\site-packages\\franz\\miniclient\\backends\\curl.py\u001b[0m in \u001b[0;36mmakeRequest\u001b[1;34m(obj, method, url, body, accept, contentType, callback, errCallback, headers)\u001b[0m\n\u001b[0;32m    324\u001b[0m         \u001b[0mbuf\u001b[0m \u001b[1;33m=\u001b[0m \u001b[0mio\u001b[0m\u001b[1;33m.\u001b[0m\u001b[0mBytesIO\u001b[0m\u001b[1;33m(\u001b[0m\u001b[1;33m)\u001b[0m\u001b[1;33m\u001b[0m\u001b[0m\n\u001b[0;32m    325\u001b[0m         \u001b[0mcurl\u001b[0m\u001b[1;33m.\u001b[0m\u001b[0msetopt\u001b[0m\u001b[1;33m(\u001b[0m\u001b[0mpycurl\u001b[0m\u001b[1;33m.\u001b[0m\u001b[0mWRITEFUNCTION\u001b[0m\u001b[1;33m,\u001b[0m \u001b[0mbuf\u001b[0m\u001b[1;33m.\u001b[0m\u001b[0mwrite\u001b[0m\u001b[1;33m)\u001b[0m\u001b[1;33m\u001b[0m\u001b[0m\n\u001b[1;32m--> 326\u001b[1;33m         \u001b[0mretrying_perform\u001b[0m\u001b[1;33m(\u001b[0m\u001b[0mcurl\u001b[0m\u001b[1;33m)\u001b[0m\u001b[1;33m\u001b[0m\u001b[0m\n\u001b[0m\u001b[0;32m    327\u001b[0m         \u001b[0mresponse\u001b[0m \u001b[1;33m=\u001b[0m \u001b[0mto_native_string\u001b[0m\u001b[1;33m(\u001b[0m\u001b[0mbuf\u001b[0m\u001b[1;33m.\u001b[0m\u001b[0mgetvalue\u001b[0m\u001b[1;33m(\u001b[0m\u001b[1;33m)\u001b[0m\u001b[1;33m)\u001b[0m\u001b[1;33m\u001b[0m\u001b[0m\n\u001b[0;32m    328\u001b[0m         \u001b[0mbuf\u001b[0m\u001b[1;33m.\u001b[0m\u001b[0mclose\u001b[0m\u001b[1;33m(\u001b[0m\u001b[1;33m)\u001b[0m\u001b[1;33m\u001b[0m\u001b[0m\n",
      "\u001b[1;32mC:\\Anaconda\\lib\\site-packages\\franz\\miniclient\\backends\\curl.py\u001b[0m in \u001b[0;36mretrying_perform\u001b[1;34m(curl)\u001b[0m\n\u001b[0;32m    167\u001b[0m     \u001b[1;32mwhile\u001b[0m \u001b[1;32mTrue\u001b[0m\u001b[1;33m:\u001b[0m\u001b[1;33m\u001b[0m\u001b[0m\n\u001b[0;32m    168\u001b[0m         \u001b[1;32mtry\u001b[0m\u001b[1;33m:\u001b[0m\u001b[1;33m\u001b[0m\u001b[0m\n\u001b[1;32m--> 169\u001b[1;33m             \u001b[0mcurl\u001b[0m\u001b[1;33m.\u001b[0m\u001b[0mperform\u001b[0m\u001b[1;33m(\u001b[0m\u001b[1;33m)\u001b[0m\u001b[1;33m\u001b[0m\u001b[0m\n\u001b[0m\u001b[0;32m    170\u001b[0m             \u001b[1;32mbreak\u001b[0m\u001b[1;33m\u001b[0m\u001b[0m\n\u001b[0;32m    171\u001b[0m         \u001b[1;32mexcept\u001b[0m \u001b[0mpycurl\u001b[0m\u001b[1;33m.\u001b[0m\u001b[0merror\u001b[0m \u001b[1;32mas\u001b[0m \u001b[0merror\u001b[0m\u001b[1;33m:\u001b[0m\u001b[1;33m\u001b[0m\u001b[0m\n",
      "\u001b[1;31mKeyboardInterrupt\u001b[0m: "
     ]
    }
   ],
   "source": [
    "ldl_uri = \"ice:REACTOME_R-HSA-8964038\"\n",
    "\n",
    "ldl_path = interface.get_bio_node(ldl_uri)\n",
    "interface.mopify_pathway(ldl_path)"
   ]
  },
  {
   "cell_type": "code",
   "execution_count": 9,
   "metadata": {},
   "outputs": [
    {
     "name": "stdout",
     "output_type": "stream",
     "text": [
      "S: subclass of Reactome identifier P: denotes O: subclass of low-density lipoprotein particle clearance\n",
      "S: subclass of Reactome identifier P: subClassOf O: Reactome identifier\n",
      "S: subclass of Reactome identifier P: subClassOf O: ontology concept identifier\n"
     ]
    }
   ],
   "source": [
    "decompose_statements(interface.get_statements(s=interface.get_node(ldl_uri)))"
   ]
  },
  {
   "cell_type": "code",
   "execution_count": null,
   "metadata": {},
   "outputs": [],
   "source": [
    "def is_parent(u, v):\n",
    "    return interface.mops.is_abstraction(u, v)\n",
    "def label_nodes(B):\n",
    "    label = None\n",
    "    for u in B:\n",
    "        label = {interface.mops.attribute_label: interface.mops.get_frame_label(u)}\n",
    "        if \"sub class of\" not in label:\n",
    "            return label\n",
    "\n",
    "    return label\n",
    "        \n",
    "collapsed_slots = nx.quotient_graph(interface.mops.slots, is_parent, node_data=label_nodes)\n",
    "print(interface.mops.slots.number_of_nodes())\n",
    "print(collapsed_slots.number_of_nodes())\n",
    "print(interface.mops.slots.number_of_edges())\n",
    "print(collapsed_slots.number_of_edges())"
   ]
  },
  {
   "cell_type": "code",
   "execution_count": null,
   "metadata": {},
   "outputs": [],
   "source": [
    "edge_labels = {}\n",
    "for (u, v, key), label in nx.get_edge_attributes(interface.mops.slots, interface.mops.attribute_label).items():\n",
    "    edge_labels[key] = str(label)\n",
    "\n",
    "node_labels = nx.get_node_attributes(collapsed_slots, interface.mops.attribute_label)\n",
    "\n",
    "def get_label(node):\n",
    "    if isinstance(node, str):\n",
    "        return node\n",
    "    \n",
    "    if node in node_labels:\n",
    "        return str(node_labels[node])\n",
    "    else: \n",
    "        return edge_labels[node]"
   ]
  },
  {
   "cell_type": "code",
   "execution_count": null,
   "metadata": {},
   "outputs": [],
   "source": [
    "nx.write_gml(collapsed_slots, \"E:/Documents/KaBOB/REACTOME/collapsed_slots.gml\", get_label)"
   ]
  },
  {
   "cell_type": "code",
   "execution_count": null,
   "metadata": {
    "collapsed": true
   },
   "outputs": [],
   "source": []
  }
 ],
 "metadata": {
  "celltoolbar": "Initialization Cell",
  "kernelspec": {
   "display_name": "Python 3",
   "language": "python",
   "name": "python3"
  },
  "language_info": {
   "codemirror_mode": {
    "name": "ipython",
    "version": 3
   },
   "file_extension": ".py",
   "mimetype": "text/x-python",
   "name": "python",
   "nbconvert_exporter": "python",
   "pygments_lexer": "ipython3",
   "version": "3.6.3"
  },
  "varInspector": {
   "cols": {
    "lenName": 16,
    "lenType": 16,
    "lenVar": 40
   },
   "kernels_config": {
    "python": {
     "delete_cmd_postfix": "",
     "delete_cmd_prefix": "del ",
     "library": "var_list.py",
     "varRefreshCmd": "print(var_dic_list())"
    },
    "r": {
     "delete_cmd_postfix": ") ",
     "delete_cmd_prefix": "rm(",
     "library": "var_list.r",
     "varRefreshCmd": "cat(var_dic_list()) "
    }
   },
   "position": {
    "height": "352px",
    "left": "1108px",
    "right": "112px",
    "top": "141px",
    "width": "459px"
   },
   "types_to_exclude": [
    "module",
    "function",
    "builtin_function_or_method",
    "instance",
    "_Feature"
   ],
   "window_display": false
  }
 },
 "nbformat": 4,
 "nbformat_minor": 2
}
