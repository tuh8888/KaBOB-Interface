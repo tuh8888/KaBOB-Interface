{
 "cells": [
  {
   "cell_type": "markdown",
   "metadata": {},
   "source": [
    "# KaBOB-MOPs"
   ]
  },
  {
   "cell_type": "markdown",
   "metadata": {
    "collapsed": true
   },
   "source": [
    "## KaBOB Interface Test"
   ]
  },
  {
   "cell_type": "markdown",
   "metadata": {},
   "source": [
    "KaBOBInterface is used to mopify and parse KaBOB triples. OpenKaBOB opens a connection to KaBOB and closes it using a `with` statement"
   ]
  },
  {
   "cell_type": "code",
   "execution_count": 1,
   "metadata": {
    "init_cell": true
   },
   "outputs": [],
   "source": [
    "from KaBOBInterface import KaBOBInterface\n",
    "import networkx as nx\n",
    "import pickle\n",
    "from MOPs import MOPs"
   ]
  },
  {
   "cell_type": "code",
   "execution_count": 4,
   "metadata": {},
   "outputs": [
    {
     "name": "stderr",
     "output_type": "stream",
     "text": [
      "DEBUG:KaBOBInterface:Connecting to repository --host:'amc-tantor.ucdenver.pvt' port:10037\n",
      "DEBUG:KaBOBInterface:Closed KaBOB\n"
     ]
    },
    {
     "name": "stdout",
     "output_type": "stream",
     "text": [
      "Triples in KaBOB: 300126784\n"
     ]
    }
   ],
   "source": [
    "with KaBOBInterface(\"KaBOB_credentials.txt\") as kabob:\n",
    "    print('Triples in KaBOB:', kabob.conn.size())"
   ]
  },
  {
   "cell_type": "markdown",
   "metadata": {},
   "source": [
    "### Basic Querying"
   ]
  },
  {
   "cell_type": "markdown",
   "metadata": {},
   "source": [
    "#### Without using the interface (using just agraph_python)"
   ]
  },
  {
   "cell_type": "code",
   "execution_count": 3,
   "metadata": {},
   "outputs": [
    {
     "name": "stderr",
     "output_type": "stream",
     "text": [
      "DEBUG:KaBOBInterface:Connecting to KaBOB --host:'amc-tantor.ucdenver.pvt' port:10037\n"
     ]
    },
    {
     "name": "stdout",
     "output_type": "stream",
     "text": [
      "Label for p53\n",
      "\t\"cellular tumor antigen p53 (human)\"\n",
      "\n",
      "Triples with p53 as the subject\n",
      "\t\"cellular tumor antigen p53 (human)\" subClassOf \"cellular tumor antigen p53\"\n",
      "\t\"cellular tumor antigen p53 (human)\" subClassOf \"Homo sapiens protein\"\n",
      "\n",
      "Triples with p53 as the object\n",
      "\t\"cellular tumor antigen p53 (human)\" subClassOf \"cellular tumor antigen p53 isoform 1 (human)\"\n",
      "\t\"cellular tumor antigen p53 (human)\" subClassOf \"cellular tumor antigen p53 phosphorylated 15 (human)\"\n",
      "\t\"cellular tumor antigen p53 (human)\" subClassOf \"cellular tumor antigen p53 phosphorylated 14 (human)\"\n",
      "\t\"cellular tumor antigen p53 (human)\" subClassOf \"cellular tumor antigen p53 dimethylated 3 (human)\"\n",
      "\t\"cellular tumor antigen p53 (human)\" subClassOf \"cellular tumor antigen p53 phosphorylated 16 (human)\"\n",
      "\t\"cellular tumor antigen p53 (human)\" subClassOf \"cellular tumor antigen p53 phosphorylated 1 (human)\"\n",
      "\t\"cellular tumor antigen p53 (human)\" subClassOf \"cellular tumor antigen p53 phosphorylated 13 (human)\"\n",
      "\t\"cellular tumor antigen p53 (human)\" subClassOf \"cellular tumor antigen p53 dimethylated 2 (human)\"\n",
      "\t\"cellular tumor antigen p53 (human)\" subClassOf \"cellular tumor antigen p53 isoform h4 (human)\"\n",
      "\t\"cellular tumor antigen p53 (human)\" subClassOf \"cellular tumor antigen p53 isoform h7 (human)\"\n",
      "\t\"cellular tumor antigen p53 (human)\" subClassOf \"cellular tumor antigen p53 isoform h2 (human)\"\n",
      "\t\"cellular tumor antigen p53 (human)\" subClassOf \"cellular tumor antigen p53 isoform h8 (human)\"\n",
      "\t\"cellular tumor antigen p53 (human)\" subClassOf \"cellular tumor antigen p53 isoform h9 (human)\"\n",
      "\t\"cellular tumor antigen p53 (human)\" subClassOf \"cellular tumor antigen p53 isoform h5 (human)\"\n",
      "\t\"cellular tumor antigen p53 (human)\" annotatedSource \"PR:P04637 located_in GO:0005654\"\n",
      "\t\"cellular tumor antigen p53 (human)\" subClassOf \"cellular tumor antigen p53 isoform h3 (human)\"\n",
      "\t\"cellular tumor antigen p53 (human)\" subClassOf \"cellular tumor antigen p53 isoform h6 (human)\"\n",
      "\t\"cellular tumor antigen p53 (human)\" subClassOf \"cellular tumor antigen p53 phosphorylated 19 (human)\"\n",
      "\t\"cellular tumor antigen p53 (human)\" subClassOf \"cellular tumor antigen p53 phosphorylated 17 (human)\"\n",
      "\t\"cellular tumor antigen p53 (human)\" subClassOf \"cellular tumor antigen p53 sumoylated 1 (human)\"\n",
      "\t\"cellular tumor antigen p53 (human)\" subClassOf \"cellular tumor antigen p53 phosphorylated 12 (human)\"\n",
      "\t\"cellular tumor antigen p53 (human)\" subClassOf \"cellular tumor antigen p53 ubiquitinated form (human)\""
     ]
    },
    {
     "name": "stderr",
     "output_type": "stream",
     "text": [
      "DEBUG:KaBOBInterface:Closed KaBOB\n"
     ]
    },
    {
     "name": "stdout",
     "output_type": "stream",
     "text": [
      "\n",
      "\t\"cellular tumor antigen p53 (human)\" subClassOf \"cellular tumor antigen p53 phosphorylated 18 (human)\"\n",
      "\t\"cellular tumor antigen p53 (human)\" subClassOf \"cellular tumor antigen p53 phosphorylated 4 (human)\"\n"
     ]
    }
   ],
   "source": [
    "\n",
    "\n",
    "with KaBOBInterface(\"KaBOB_credentials.txt\") as interface:\n",
    "    kabob = interface.conn\n",
    "    p53 = kabob.createURI(\"http://purl.obolibrary.org/obo/PR_P04637\")\n",
    "    label = kabob.createURI(\"http://www.w3.org/2000/01/rdf-schema#label\")\n",
    "    \n",
    "    print('Label for p53')\n",
    "    p53_labels = kabob.getStatements(p53, label).asList()\n",
    "    p53_label = p53_labels[0].getObject()\n",
    "    print(\"\\t%s\" % p53_label)\n",
    "    \n",
    "    print()\n",
    "    \n",
    "    print('Triples with p53 as the subject')\n",
    "    p53_as_subject = kabob.getStatements(p53, None, None)\n",
    "    with p53_as_subject:\n",
    "        p53_as_subject.enableDuplicateFilter()  # This may or may not be necessary all the time\n",
    "        for statement in p53_as_subject:\n",
    "            object_labels = kabob.getStatements(statement.getObject(), label).asList()\n",
    "            \n",
    "            if object_labels:\n",
    "                print(\"\\t%s %s %s\" % (p53_label, statement.getPredicate().getLocalName(), object_labels[0].getObject()))\n",
    "    \n",
    "    print()\n",
    "    \n",
    "    print('Triples with p53 as the object')\n",
    "    p53_as_object = kabob.getStatements(None, None, p53)\n",
    "    with p53_as_object:\n",
    "        p53_as_object.enableDuplicateFilter()\n",
    "        for statement in p53_as_object:\n",
    "            subject_labels = kabob.getStatements(statement.getSubject(), label).asList()\n",
    "            \n",
    "            if subject_labels:\n",
    "                print(\"\\t%s %s %s\" % (p53_label, statement.getPredicate().getLocalName(), subject_labels[0].getObject()))\n"
   ]
  },
  {
   "cell_type": "markdown",
   "metadata": {
    "collapsed": true
   },
   "source": [
    "#### With the interface"
   ]
  },
  {
   "cell_type": "code",
   "execution_count": 3,
   "metadata": {},
   "outputs": [
    {
     "name": "stderr",
     "output_type": "stream",
     "text": [
      "DEBUG:KaBOBInterface:Connecting to repository --host:'amc-tantor.ucdenver.pvt' port:10037\n"
     ]
    },
    {
     "name": "stdout",
     "output_type": "stream",
     "text": [
      "Label for p53\n",
      "\tcellular tumor antigen p53 (human)\n",
      "\n",
      "Triples with p53 as the subject\n",
      "\tcellular tumor antigen p53 (human) database_cross_reference UniProtKB:P04637\n",
      "\tcellular tumor antigen p53 (human) database_cross_reference Reactome:R-HSA-69488\n",
      "\tcellular tumor antigen p53 (human) id PR:P04637\n",
      "\tcellular tumor antigen p53 (human) has_obo_namespace protein\n",
      "\tcellular tumor antigen p53 (human) textual definition A cellular tumor antigen p53 that is encoded in the genome of human.\n",
      "\tcellular tumor antigen p53 (human) label cellular tumor antigen p53 (human)\n",
      "\tcellular tumor antigen p53 (human) comment Category=organism-gene.\n",
      "\tcellular tumor antigen p53 (human) subClassOf cellular tumor antigen p53\n",
      "\tcellular tumor antigen p53 (human) subClassOf pr_genid463600\n",
      "\tcellular tumor antigen p53 (human) subClassOf Homo sapiens protein\n",
      "\tcellular tumor antigen p53 (human) subClassOf pr_genid1795521\n",
      "\tcellular tumor antigen p53 (human) equivalentClass pr_genid463596\n",
      "\tcellular tumor antigen p53 (human) type Class\n",
      "\tcellular tumor antigen p53 (human) has_exact_synonym hTP53\n",
      "\n",
      "Triples with p53 as the object\n",
      "\tPR_P04637 denotes cellular tumor antigen p53 (human)\n",
      "\tcellular tumor antigen p53 isoform 1 (human) subClassOf cellular tumor antigen p53 (human)\n",
      "\tcellular tumor antigen p53 phosphorylated 15 (human) subClassOf cellular tumor antigen p53 (human)\n",
      "\tcellular tumor antigen p53 phosphorylated 14 (human) subClassOf cellular tumor antigen p53 (human)\n",
      "\tcellular tumor antigen p53 dimethylated 3 (human) subClassOf cellular tumor antigen p53 (human)\n",
      "\tcellular tumor antigen p53 phosphorylated 16 (human) subClassOf cellular tumor antigen p53 (human)\n",
      "\tcellular tumor antigen p53 phosphorylated 1 (human) subClassOf cellular tumor antigen p53 (human)\n",
      "\tcellular tumor antigen p53 phosphorylated 13 (human) subClassOf cellular tumor antigen p53 (human)\n",
      "\tcellular tumor antigen p53 dimethylated 2 (human) subClassOf cellular tumor antigen p53 (human)\n",
      "\tcellular tumor antigen p53 isoform h4 (human) subClassOf cellular tumor antigen p53 (human)\n",
      "\tcellular tumor antigen p53 isoform h7 (human) subClassOf cellular tumor antigen p53 (human)\n",
      "\tpr_genid463601 annotatedSource cellular tumor antigen p53 (human)\n",
      "\tcellular tumor antigen p53 isoform h2 (human) subClassOf cellular tumor antigen p53 (human)\n",
      "\tcellular tumor antigen p53 isoform h8 (human) subClassOf cellular tumor antigen p53 (human)\n",
      "\tcellular tumor antigen p53 isoform h9 (human) subClassOf cellular tumor antigen p53 (human)\n",
      "\tcellular tumor antigen p53 isoform h5 (human) subClassOf cellular tumor antigen p53 (human)\n",
      "\tpr_genid463603 annotatedSource cellular tumor antigen p53 (human)\n",
      "\tPR:P04637 located_in GO:0005654 annotatedSource cellular tumor antigen p53 (human)\n",
      "\tcellular tumor antigen p53 isoform h3 (human) subClassOf cellular tumor antigen p53 (human)\n",
      "\tcellular tumor antigen p53 isoform h6 (human) subClassOf cellular tumor antigen p53 (human)\n",
      "\tcellular tumor antigen p53 phosphorylated 19 (human) subClassOf cellular tumor antigen p53 (human)\n",
      "\tcellular tumor antigen p53 phosphorylated 17 (human) subClassOf cellular tumor antigen p53 (human)\n",
      "\tcellular tumor antigen p53 sumoylated 1 (human) subClassOf cellular tumor antigen p53 (human)\n",
      "\tcellular tumor antigen p53 phosphorylated 12 (human) subClassOf cellular tumor antigen p53 (human)\n",
      "\tcellular tumor antigen p53 ubiquitinated form (human) subClassOf cellular tumor antigen p53 (human)\n",
      "\tcellular tumor antigen p53 phosphorylated 18 (human) subClassOf cellular tumor antigen p53 (human)\n"
     ]
    },
    {
     "name": "stderr",
     "output_type": "stream",
     "text": [
      "DEBUG:KaBOBInterface:Closed KaBOB\n"
     ]
    },
    {
     "name": "stdout",
     "output_type": "stream",
     "text": [
      "\tcellular tumor antigen p53 phosphorylated 4 (human) subClassOf cellular tumor antigen p53 (human)\n",
      "\tpr_genid287037 first cellular tumor antigen p53 (human)\n"
     ]
    }
   ],
   "source": [
    "\n",
    "\n",
    "with KaBOBInterface(\"KaBOB_credentials.txt\") as kabob:\n",
    "    p53 = kabob.get_node(\"PR_P04637\")\n",
    "    \n",
    "    print('Label for p53')\n",
    "    p53_label = kabob.get_label(p53)\n",
    "    print(\"\\t%s\" % p53_label)\n",
    "    \n",
    "    print()\n",
    "    \n",
    "    print('Triples with p53 as the subject')\n",
    "    for statement in kabob.get_statements(s=p53):\n",
    "        object_label = kabob.get_label(statement.getObject())\n",
    "        predicate_label = kabob.get_label(statement.getPredicate())\n",
    "        print(\"\\t%s %s %s\" % (p53_label, predicate_label, object_label))\n",
    "    \n",
    "    print()\n",
    "    \n",
    "    print('Triples with p53 as the object')\n",
    "    for statement in kabob.get_statements(o=p53):\n",
    "        subject_label = kabob.get_label(statement.getSubject())\n",
    "        predicate_label = kabob.get_label(statement.getPredicate())\n",
    "        print(\"\\t%s %s %s\" % (subject_label, predicate_label, p53_label))"
   ]
  },
  {
   "cell_type": "markdown",
   "metadata": {},
   "source": [
    "### Mopification"
   ]
  },
  {
   "cell_type": "code",
   "execution_count": 4,
   "metadata": {},
   "outputs": [
    {
     "name": "stderr",
     "output_type": "stream",
     "text": [
      "DEBUG:KaBOBInterface:Connecting to repository --host:'amc-tantor.ucdenver.pvt' port:10037\n",
      "WARNING:KaBOBInterface:Trivial mopification of non-BIO-world node <http://purl.obolibrary.org/obo/PR_P04637>\n",
      "DEBUG:KaBOBInterface:> cellular tumor antigen p53 (human)\n",
      "DEBUG:KaBOBInterface:< cellular tumor antigen p53 (human)\n",
      "DEBUG:KaBOBInterface:Closed KaBOB\n",
      "DEBUG:KaBOBInterface:Connecting to repository --host:'amc-tantor.ucdenver.pvt' port:10037\n",
      "DEBUG:KaBOBInterface:> cellular tumor antigen p53 (human)\n",
      "DEBUG:KaBOBInterface:\t> cellular tumor antigen p53\n",
      "DEBUG:KaBOBInterface:\t\t> protein\n",
      "DEBUG:KaBOBInterface:\t\t\t> biopolymer\n",
      "DEBUG:KaBOBInterface:\t\t\t\t> interactor type\n",
      "DEBUG:KaBOBInterface:\t\t\t\t< interactor type\n",
      "DEBUG:KaBOBInterface:\t\t\t< biopolymer\n",
      "DEBUG:KaBOBInterface:\t\t\t> amino acid chain\n",
      "DEBUG:KaBOBInterface:\t\t\t\t> molecular entity\n",
      "DEBUG:KaBOBInterface:\t\t\t\t\t> chemical entity\n",
      "DEBUG:KaBOBInterface:\t\t\t\t\t\t> object\n",
      "DEBUG:KaBOBInterface:\t\t\t\t\t\t\t> material entity\n",
      "DEBUG:KaBOBInterface:\t\t\t\t\t\t\t\t> independent continuant\n",
      "DEBUG:KaBOBInterface:\t\t\t\t\t\t\t\t\t> continuant\n",
      "DEBUG:KaBOBInterface:\t\t\t\t\t\t\t\t\t\t> entity\n",
      "DEBUG:KaBOBInterface:\t\t\t\t\t\t\t\t\t\t< entity\n",
      "DEBUG:KaBOBInterface:\t\t\t\t\t\t\t\t\t< continuant\n",
      "DEBUG:KaBOBInterface:\t\t\t\t\t\t\t\t< independent continuant\n",
      "DEBUG:KaBOBInterface:\t\t\t\t\t\t\t< material entity\n",
      "DEBUG:KaBOBInterface:\t\t\t\t\t\t< object\n",
      "DEBUG:KaBOBInterface:\t\t\t\t\t< chemical entity\n",
      "DEBUG:KaBOBInterface:\t\t\t\t< molecular entity\n",
      "DEBUG:KaBOBInterface:\t\t\t\t> organic amino compound\n",
      "DEBUG:KaBOBInterface:\t\t\t\t\t> organonitrogen compound\n",
      "DEBUG:KaBOBInterface:\t\t\t\t\t\t> nitrogen molecular entity\n",
      "DEBUG:KaBOBInterface:\t\t\t\t\t\t\t> pnictogen molecular entity\n",
      "DEBUG:KaBOBInterface:\t\t\t\t\t\t\t\t> p-block molecular entity\n",
      "DEBUG:KaBOBInterface:\t\t\t\t\t\t\t\t\t> main group molecular entity\n",
      "DEBUG:KaBOBInterface:\t\t\t\t\t\t\t\t\t< main group molecular entity\n",
      "DEBUG:KaBOBInterface:\t\t\t\t\t\t\t\t< p-block molecular entity\n",
      "DEBUG:KaBOBInterface:\t\t\t\t\t\t\t< pnictogen molecular entity\n",
      "DEBUG:KaBOBInterface:\t\t\t\t\t\t< nitrogen molecular entity\n",
      "DEBUG:KaBOBInterface:\t\t\t\t\t\t> heteroorganic entity\n",
      "DEBUG:KaBOBInterface:\t\t\t\t\t\t\t> organic molecular entity\n",
      "DEBUG:KaBOBInterface:\t\t\t\t\t\t\t\t> carbon group molecular entity\n",
      "DEBUG:KaBOBInterface:\t\t\t\t\t\t\t\t< carbon group molecular entity\n",
      "DEBUG:KaBOBInterface:\t\t\t\t\t\t\t< organic molecular entity\n",
      "DEBUG:KaBOBInterface:\t\t\t\t\t\t< heteroorganic entity\n",
      "DEBUG:KaBOBInterface:\t\t\t\t\t< organonitrogen compound\n",
      "DEBUG:KaBOBInterface:\t\t\t\t< organic amino compound\n",
      "DEBUG:KaBOBInterface:\t\t\t< amino acid chain\n",
      "DEBUG:KaBOBInterface:\t\t\t> physical entity\n",
      "DEBUG:KaBOBInterface:\t\t\t< physical entity\n",
      "DEBUG:KaBOBInterface:\t\t\t> information biomacromolecule\n",
      "DEBUG:KaBOBInterface:\t\t\t\t> biomacromolecule\n",
      "DEBUG:KaBOBInterface:\t\t\t\t\t> macromolecule\n",
      "DEBUG:KaBOBInterface:\t\t\t\t\t\t> polyatomic entity\n",
      "DEBUG:KaBOBInterface:\t\t\t\t\t\t< polyatomic entity\n",
      "DEBUG:KaBOBInterface:\t\t\t\t\t< macromolecule\n",
      "DEBUG:KaBOBInterface:\t\t\t\t< biomacromolecule\n",
      "DEBUG:KaBOBInterface:\t\t\t< information biomacromolecule\n",
      "DEBUG:KaBOBInterface:\t\t< protein\n",
      "DEBUG:KaBOBInterface:\t< cellular tumor antigen p53\n",
      "DEBUG:KaBOBInterface:\t> GP_B_2VC6kJt0EwheaEg8GER1qC273bc\n",
      "WARNING:KaBOBInterface:\t\tTrivial mopification of non-BIO-world node <http://ccp.ucdenver.edu/obo/ext/IAO_EXT_0001716>\n",
      "DEBUG:KaBOBInterface:\t\t> gene product abstraction\n",
      "DEBUG:KaBOBInterface:\t\t< gene product abstraction\n",
      "DEBUG:KaBOBInterface:\t\t> GPGPV_B_2VC6kJt0EwheaEg8GER1qC273bc\n",
      "WARNING:KaBOBInterface:\t\t\tTrivial mopification of non-BIO-world node <http://ccp.ucdenver.edu/obo/ext/IAO_EXT_0001721>\n",
      "DEBUG:KaBOBInterface:\t\t\t> gene product or gene product variant abstraction\n",
      "DEBUG:KaBOBInterface:\t\t\t< gene product or gene product variant abstraction\n",
      "DEBUG:KaBOBInterface:\t\t\t> GGPV_B_2VC6kJt0EwheaEg8GER1qC273bc\n",
      "WARNING:KaBOBInterface:\t\t\t\tTrivial mopification of non-BIO-world node <http://ccp.ucdenver.edu/obo/ext/IAO_EXT_0001718>\n",
      "DEBUG:KaBOBInterface:\t\t\t\t> gene or gene product or variant abstraction\n",
      "DEBUG:KaBOBInterface:\t\t\t\t< gene or gene product or variant abstraction\n",
      "DEBUG:KaBOBInterface:\t\t\t< GGPV_B_2VC6kJt0EwheaEg8GER1qC273bc\n",
      "DEBUG:KaBOBInterface:\t\t< GPGPV_B_2VC6kJt0EwheaEg8GER1qC273bc\n",
      "DEBUG:KaBOBInterface:\t\t> GGP_B_2VC6kJt0EwheaEg8GER1qC273bc\n",
      "WARNING:KaBOBInterface:\t\t\tTrivial mopification of non-BIO-world node <http://ccp.ucdenver.edu/obo/ext/IAO_EXT_0001715>\n",
      "DEBUG:KaBOBInterface:\t\t\t> gene or gene product abstraction\n",
      "DEBUG:KaBOBInterface:\t\t\t< gene or gene product abstraction\n",
      "DEBUG:KaBOBInterface:\t\t< GGP_B_2VC6kJt0EwheaEg8GER1qC273bc\n",
      "DEBUG:KaBOBInterface:\t< GP_B_2VC6kJt0EwheaEg8GER1qC273bc\n",
      "DEBUG:KaBOBInterface:\t> Homo sapiens protein\n",
      "DEBUG:KaBOBInterface:\t\t> eukaryotic protein\n",
      "DEBUG:KaBOBInterface:\t\t\t> BN_go-plus_genid272324\n",
      "DEBUG:KaBOBInterface:\t\t\t< BN_go-plus_genid272324\n",
      "DEBUG:KaBOBInterface:\t\t< eukaryotic protein\n",
      "DEBUG:KaBOBInterface:\t< Homo sapiens protein\n",
      "DEBUG:KaBOBInterface:\t> Homo sapiens\n",
      "DEBUG:KaBOBInterface:\t\t> Homo\n",
      "DEBUG:KaBOBInterface:\t\t\t> Homininae\n",
      "DEBUG:KaBOBInterface:\t\t\t\t> Hominidae\n",
      "DEBUG:KaBOBInterface:\t\t\t\t\t> Hominoidea\n",
      "DEBUG:KaBOBInterface:\t\t\t\t\t\t> Catarrhini\n",
      "DEBUG:KaBOBInterface:\t\t\t\t\t\t\t> Simiiformes\n",
      "DEBUG:KaBOBInterface:\t\t\t\t\t\t\t\t> Haplorrhini\n",
      "DEBUG:KaBOBInterface:\t\t\t\t\t\t\t\t\t> Primates\n",
      "DEBUG:KaBOBInterface:\t\t\t\t\t\t\t\t\t\t> Euarchontoglires\n",
      "DEBUG:KaBOBInterface:\t\t\t\t\t\t\t\t\t\t\t> Boreoeutheria\n",
      "DEBUG:KaBOBInterface:\t\t\t\t\t\t\t\t\t\t\t\t> Eutheria\n",
      "DEBUG:KaBOBInterface:\t\t\t\t\t\t\t\t\t\t\t\t\t> Theria <Mammalia>\n",
      "DEBUG:KaBOBInterface:\t\t\t\t\t\t\t\t\t\t\t\t\t\t> Mammalia\n",
      "DEBUG:KaBOBInterface:\t\t\t\t\t\t\t\t\t\t\t\t\t\t\t> Amniota\n",
      "DEBUG:KaBOBInterface:\t\t\t\t\t\t\t\t\t\t\t\t\t\t\t\t> Tetrapoda\n",
      "DEBUG:KaBOBInterface:\t\t\t\t\t\t\t\t\t\t\t\t\t\t\t\t\t> Dipnotetrapodomorpha\n",
      "DEBUG:KaBOBInterface:\t\t\t\t\t\t\t\t\t\t\t\t\t\t\t\t\t\t> Sarcopterygii\n",
      "DEBUG:KaBOBInterface:\t\t\t\t\t\t\t\t\t\t\t\t\t\t\t\t\t\t\t> Euteleostomi\n",
      "DEBUG:KaBOBInterface:\t\t\t\t\t\t\t\t\t\t\t\t\t\t\t\t\t\t\t\t> Teleostomi\n",
      "DEBUG:KaBOBInterface:\t\t\t\t\t\t\t\t\t\t\t\t\t\t\t\t\t\t\t\t\t> Gnathostomata <vertebrate>\n",
      "DEBUG:KaBOBInterface:\t\t\t\t\t\t\t\t\t\t\t\t\t\t\t\t\t\t\t\t\t\t> Vertebrata <Metazoa>\n",
      "DEBUG:KaBOBInterface:\t\t\t\t\t\t\t\t\t\t\t\t\t\t\t\t\t\t\t\t\t\t\t> Craniata <chordata>\n",
      "DEBUG:KaBOBInterface:\t\t\t\t\t\t\t\t\t\t\t\t\t\t\t\t\t\t\t\t\t\t\t\t> Chordata\n",
      "DEBUG:KaBOBInterface:\t\t\t\t\t\t\t\t\t\t\t\t\t\t\t\t\t\t\t\t\t\t\t\t\t> Deuterostomia\n",
      "DEBUG:KaBOBInterface:\t\t\t\t\t\t\t\t\t\t\t\t\t\t\t\t\t\t\t\t\t\t\t\t\t\t> Bilateria\n",
      "DEBUG:KaBOBInterface:\t\t\t\t\t\t\t\t\t\t\t\t\t\t\t\t\t\t\t\t\t\t\t\t\t\t\t> Eumetazoa\n",
      "DEBUG:KaBOBInterface:\t\t\t\t\t\t\t\t\t\t\t\t\t\t\t\t\t\t\t\t\t\t\t\t\t\t\t\t> Metazoa\n",
      "DEBUG:KaBOBInterface:\t\t\t\t\t\t\t\t\t\t\t\t\t\t\t\t\t\t\t\t\t\t\t\t\t\t\t\t\t> Opisthokonta\n",
      "DEBUG:KaBOBInterface:\t\t\t\t\t\t\t\t\t\t\t\t\t\t\t\t\t\t\t\t\t\t\t\t\t\t\t\t\t\t> Eukaryota\n",
      "DEBUG:KaBOBInterface:\t\t\t\t\t\t\t\t\t\t\t\t\t\t\t\t\t\t\t\t\t\t\t\t\t\t\t\t\t\t\t> organism\n",
      "DEBUG:KaBOBInterface:\t\t\t\t\t\t\t\t\t\t\t\t\t\t\t\t\t\t\t\t\t\t\t\t\t\t\t\t\t\t\t< organism\n",
      "DEBUG:KaBOBInterface:\t\t\t\t\t\t\t\t\t\t\t\t\t\t\t\t\t\t\t\t\t\t\t\t\t\t\t\t\t\t\t> cellular organisms\n",
      "DEBUG:KaBOBInterface:\t\t\t\t\t\t\t\t\t\t\t\t\t\t\t\t\t\t\t\t\t\t\t\t\t\t\t\t\t\t\t\t> ncbitaxon\n",
      "DEBUG:KaBOBInterface:\t\t\t\t\t\t\t\t\t\t\t\t\t\t\t\t\t\t\t\t\t\t\t\t\t\t\t\t\t\t\t\t< ncbitaxon\n",
      "DEBUG:KaBOBInterface:\t\t\t\t\t\t\t\t\t\t\t\t\t\t\t\t\t\t\t\t\t\t\t\t\t\t\t\t\t\t\t< cellular organisms\n",
      "DEBUG:KaBOBInterface:\t\t\t\t\t\t\t\t\t\t\t\t\t\t\t\t\t\t\t\t\t\t\t\t\t\t\t\t\t\t\t> superkingdom\n",
      "DEBUG:KaBOBInterface:\t\t\t\t\t\t\t\t\t\t\t\t\t\t\t\t\t\t\t\t\t\t\t\t\t\t\t\t\t\t\t\t> taxonomic rank\n",
      "DEBUG:KaBOBInterface:\t\t\t\t\t\t\t\t\t\t\t\t\t\t\t\t\t\t\t\t\t\t\t\t\t\t\t\t\t\t\t\t< taxonomic rank\n",
      "DEBUG:KaBOBInterface:\t\t\t\t\t\t\t\t\t\t\t\t\t\t\t\t\t\t\t\t\t\t\t\t\t\t\t\t\t\t\t< superkingdom\n",
      "DEBUG:KaBOBInterface:\t\t\t\t\t\t\t\t\t\t\t\t\t\t\t\t\t\t\t\t\t\t\t\t\t\t\t\t\t\t< Eukaryota\n",
      "DEBUG:KaBOBInterface:\t\t\t\t\t\t\t\t\t\t\t\t\t\t\t\t\t\t\t\t\t\t\t\t\t\t\t\t\t< Opisthokonta\n",
      "DEBUG:KaBOBInterface:\t\t\t\t\t\t\t\t\t\t\t\t\t\t\t\t\t\t\t\t\t\t\t\t\t\t\t\t\t> kingdom\n",
      "DEBUG:KaBOBInterface:\t\t\t\t\t\t\t\t\t\t\t\t\t\t\t\t\t\t\t\t\t\t\t\t\t\t\t\t\t< kingdom\n",
      "DEBUG:KaBOBInterface:\t\t\t\t\t\t\t\t\t\t\t\t\t\t\t\t\t\t\t\t\t\t\t\t\t\t\t\t< Metazoa\n",
      "DEBUG:KaBOBInterface:\t\t\t\t\t\t\t\t\t\t\t\t\t\t\t\t\t\t\t\t\t\t\t\t\t\t\t< Eumetazoa\n",
      "DEBUG:KaBOBInterface:\t\t\t\t\t\t\t\t\t\t\t\t\t\t\t\t\t\t\t\t\t\t\t\t\t\t< Bilateria\n",
      "DEBUG:KaBOBInterface:\t\t\t\t\t\t\t\t\t\t\t\t\t\t\t\t\t\t\t\t\t\t\t\t\t< Deuterostomia\n",
      "DEBUG:KaBOBInterface:\t\t\t\t\t\t\t\t\t\t\t\t\t\t\t\t\t\t\t\t\t\t\t\t\t> phylum\n",
      "DEBUG:KaBOBInterface:\t\t\t\t\t\t\t\t\t\t\t\t\t\t\t\t\t\t\t\t\t\t\t\t\t< phylum\n",
      "DEBUG:KaBOBInterface:\t\t\t\t\t\t\t\t\t\t\t\t\t\t\t\t\t\t\t\t\t\t\t\t< Chordata\n",
      "DEBUG:KaBOBInterface:\t\t\t\t\t\t\t\t\t\t\t\t\t\t\t\t\t\t\t\t\t\t\t\t> subphylum\n",
      "DEBUG:KaBOBInterface:\t\t\t\t\t\t\t\t\t\t\t\t\t\t\t\t\t\t\t\t\t\t\t\t< subphylum\n",
      "DEBUG:KaBOBInterface:\t\t\t\t\t\t\t\t\t\t\t\t\t\t\t\t\t\t\t\t\t\t\t< Craniata <chordata>\n",
      "DEBUG:KaBOBInterface:\t\t\t\t\t\t\t\t\t\t\t\t\t\t\t\t\t\t\t\t\t\t< Vertebrata <Metazoa>\n",
      "DEBUG:KaBOBInterface:\t\t\t\t\t\t\t\t\t\t\t\t\t\t\t\t\t\t\t\t\t< Gnathostomata <vertebrate>\n",
      "DEBUG:KaBOBInterface:\t\t\t\t\t\t\t\t\t\t\t\t\t\t\t\t\t\t\t\t< Teleostomi\n",
      "DEBUG:KaBOBInterface:\t\t\t\t\t\t\t\t\t\t\t\t\t\t\t\t\t\t\t< Euteleostomi\n",
      "DEBUG:KaBOBInterface:\t\t\t\t\t\t\t\t\t\t\t\t\t\t\t\t\t\t\t> superclass\n",
      "DEBUG:KaBOBInterface:\t\t\t\t\t\t\t\t\t\t\t\t\t\t\t\t\t\t\t< superclass\n",
      "DEBUG:KaBOBInterface:\t\t\t\t\t\t\t\t\t\t\t\t\t\t\t\t\t\t< Sarcopterygii\n",
      "DEBUG:KaBOBInterface:\t\t\t\t\t\t\t\t\t\t\t\t\t\t\t\t\t< Dipnotetrapodomorpha\n"
     ]
    },
    {
     "name": "stderr",
     "output_type": "stream",
     "text": [
      "DEBUG:KaBOBInterface:\t\t\t\t\t\t\t\t\t\t\t\t\t\t\t\t< Tetrapoda\n",
      "DEBUG:KaBOBInterface:\t\t\t\t\t\t\t\t\t\t\t\t\t\t\t< Amniota\n",
      "DEBUG:KaBOBInterface:\t\t\t\t\t\t\t\t\t\t\t\t\t\t\t> class\n",
      "DEBUG:KaBOBInterface:\t\t\t\t\t\t\t\t\t\t\t\t\t\t\t< class\n",
      "DEBUG:KaBOBInterface:\t\t\t\t\t\t\t\t\t\t\t\t\t\t< Mammalia\n",
      "DEBUG:KaBOBInterface:\t\t\t\t\t\t\t\t\t\t\t\t\t< Theria <Mammalia>\n",
      "DEBUG:KaBOBInterface:\t\t\t\t\t\t\t\t\t\t\t\t< Eutheria\n",
      "DEBUG:KaBOBInterface:\t\t\t\t\t\t\t\t\t\t\t< Boreoeutheria\n",
      "DEBUG:KaBOBInterface:\t\t\t\t\t\t\t\t\t\t\t> superorder\n",
      "DEBUG:KaBOBInterface:\t\t\t\t\t\t\t\t\t\t\t< superorder\n",
      "DEBUG:KaBOBInterface:\t\t\t\t\t\t\t\t\t\t< Euarchontoglires\n",
      "DEBUG:KaBOBInterface:\t\t\t\t\t\t\t\t\t\t> order\n",
      "DEBUG:KaBOBInterface:\t\t\t\t\t\t\t\t\t\t< order\n",
      "DEBUG:KaBOBInterface:\t\t\t\t\t\t\t\t\t< Primates\n",
      "DEBUG:KaBOBInterface:\t\t\t\t\t\t\t\t\t> suborder\n",
      "DEBUG:KaBOBInterface:\t\t\t\t\t\t\t\t\t< suborder\n",
      "DEBUG:KaBOBInterface:\t\t\t\t\t\t\t\t< Haplorrhini\n",
      "DEBUG:KaBOBInterface:\t\t\t\t\t\t\t\t> infraorder\n",
      "DEBUG:KaBOBInterface:\t\t\t\t\t\t\t\t< infraorder\n",
      "DEBUG:KaBOBInterface:\t\t\t\t\t\t\t< Simiiformes\n",
      "DEBUG:KaBOBInterface:\t\t\t\t\t\t\t> parvorder\n",
      "DEBUG:KaBOBInterface:\t\t\t\t\t\t\t< parvorder\n",
      "DEBUG:KaBOBInterface:\t\t\t\t\t\t< Catarrhini\n",
      "DEBUG:KaBOBInterface:\t\t\t\t\t\t> superfamily\n",
      "DEBUG:KaBOBInterface:\t\t\t\t\t\t< superfamily\n",
      "DEBUG:KaBOBInterface:\t\t\t\t\t< Hominoidea\n",
      "DEBUG:KaBOBInterface:\t\t\t\t\t> family\n",
      "DEBUG:KaBOBInterface:\t\t\t\t\t< family\n",
      "DEBUG:KaBOBInterface:\t\t\t\t< Hominidae\n",
      "DEBUG:KaBOBInterface:\t\t\t\t> subfamily\n",
      "DEBUG:KaBOBInterface:\t\t\t\t< subfamily\n",
      "DEBUG:KaBOBInterface:\t\t\t< Homininae\n",
      "DEBUG:KaBOBInterface:\t\t\t> genus\n",
      "DEBUG:KaBOBInterface:\t\t\t< genus\n",
      "DEBUG:KaBOBInterface:\t\t< Homo\n",
      "DEBUG:KaBOBInterface:\t\t> species\n",
      "DEBUG:KaBOBInterface:\t\t< species\n",
      "DEBUG:KaBOBInterface:\t< Homo sapiens\n",
      "DEBUG:KaBOBInterface:< cellular tumor antigen p53 (human)\n",
      "DEBUG:KaBOBInterface:Closed KaBOB\n"
     ]
    }
   ],
   "source": [
    "with KaBOBInterface(\"KaBOB_credentials.txt\") as kabob:\n",
    "    p53 = kabob.get_node(\"PR_P04637\")\n",
    "    kabob.mopify(p53)\n",
    "    \n",
    "with KaBOBInterface(\"KaBOB_credentials.txt\") as kabob:\n",
    "    bio_p53 = kabob.get_bio_node(\"PR_P04637\")\n",
    "    kabob.mopify(bio_p53)\n",
    "            \n",
    "#     interface.draw(layout=nx.circular_layout)"
   ]
  },
  {
   "cell_type": "code",
   "execution_count": 2,
   "metadata": {},
   "outputs": [
    {
     "name": "stdout",
     "output_type": "stream",
     "text": [
      "Reading cached statements\n"
     ]
    },
    {
     "name": "stderr",
     "output_type": "stream",
     "text": [
      "DEBUG:KaBOBInterface:Connecting to repository --host:'amc-tantor.ucdenver.pvt' port:10037\n"
     ]
    },
    {
     "name": "stdout",
     "output_type": "stream",
     "text": [
      "Reading cached mops\n",
      "\n"
     ]
    },
    {
     "name": "stderr",
     "output_type": "stream",
     "text": [
      "DEBUG:KaBOBInterface:Closed KaBOB\n"
     ]
    },
    {
     "name": "stdout",
     "output_type": "stream",
     "text": [
      "Calculating statistics\n",
      "***Frame Statistics***\n",
      "\tNumber of mop: 838\n",
      "\n",
      "***Role Statistics***\n"
     ]
    }
   ],
   "source": [
    "with KaBOBInterface(\"KaBOB_credentials.txt\", cache_dir=\"E:/Documents/KaBOB/pickles\") as kabob:\n",
    "        \n",
    "    print(\"Calculating statistics\")\n",
    "    frame_stats, role_stats = kabob.mops.get_statistics()\n",
    "    \n",
    "    print(\"***Frame Statistics***\")\n",
    "    for key, value in frame_stats.items():\n",
    "        print(\"\\tNumber of %s: %d\" % (key, value))\n",
    "     \n",
    "    print()\n",
    "    \n",
    "    print(\"***Role Statistics***\")\n",
    "    for key, value in role_stats.items():\n",
    "        print(\"\\tNumber of %s: %d\" % (key, value))\n",
    "        \n",
    "    "
   ]
  },
  {
   "cell_type": "code",
   "execution_count": 4,
   "metadata": {},
   "outputs": [
    {
     "name": "stderr",
     "output_type": "stream",
     "text": [
      "DEBUG:KaBOBInterface:Connecting to repository --host:'amc-tantor.ucdenver.pvt' port:10037\n"
     ]
    },
    {
     "name": "stdout",
     "output_type": "stream",
     "text": [
      "Reading cached statements\n",
      "Reading cached mops\n"
     ]
    },
    {
     "name": "stderr",
     "output_type": "stream",
     "text": [
      "DEBUG:KaBOBInterface:Drawing graphs\n",
      "DEBUG:MOPs:Drawing Mops\n"
     ]
    },
    {
     "name": "stdout",
     "output_type": "stream",
     "text": [
      "Hyper cholesterol is involved in 80 statements of interest\n",
      "****** 0 ******\n",
      "****** 1 ******\n",
      "****** 2 ******\n",
      "****** 3 ******\n",
      "****** 4 ******\n",
      "****** 5 ******\n",
      "****** 6 ******\n",
      "****** 7 ******\n",
      "****** 8 ******\n",
      "****** 9 ******\n",
      "****** 10 ******\n",
      "****** 11 ******\n",
      "****** 12 ******\n",
      "****** 13 ******\n",
      "****** 14 ******\n",
      "****** 15 ******\n",
      "****** 16 ******\n",
      "****** 17 ******\n",
      "****** 18 ******\n",
      "****** 19 ******\n",
      "****** 20 ******\n",
      "****** 21 ******\n",
      "****** 22 ******\n",
      "****** 23 ******\n",
      "****** 24 ******\n",
      "****** 25 ******\n",
      "****** 26 ******\n",
      "****** 27 ******\n",
      "****** 28 ******\n",
      "****** 29 ******\n",
      "****** 30 ******\n",
      "****** 31 ******\n",
      "****** 32 ******\n",
      "****** 33 ******\n",
      "****** 34 ******\n",
      "****** 35 ******\n",
      "****** 36 ******\n",
      "****** 37 ******\n",
      "****** 38 ******\n",
      "****** 39 ******\n",
      "****** 40 ******\n",
      "****** 41 ******\n",
      "****** 42 ******\n",
      "****** 43 ******\n",
      "****** 44 ******\n",
      "****** 45 ******\n",
      "****** 46 ******\n",
      "****** 47 ******\n",
      "****** 48 ******\n",
      "****** 49 ******\n",
      "****** 50 ******\n",
      "****** 51 ******\n",
      "****** 52 ******\n",
      "****** 53 ******\n",
      "****** 54 ******\n",
      "****** 55 ******\n",
      "****** 56 ******\n",
      "****** 57 ******\n",
      "****** 58 ******\n",
      "****** 59 ******\n",
      "****** 60 ******\n",
      "****** 61 ******\n",
      "****** 62 ******\n",
      "****** 63 ******\n",
      "****** 64 ******\n",
      "****** 65 ******\n",
      "****** 66 ******\n",
      "****** 67 ******\n",
      "****** 68 ******\n",
      "****** 69 ******\n",
      "****** 70 ******\n",
      "****** 71 ******\n",
      "****** 72 ******\n",
      "****** 73 ******\n",
      "****** 74 ******\n",
      "****** 75 ******\n",
      "****** 76 ******\n",
      "****** 77 ******\n",
      "****** 78 ******\n",
      "****** 79 ******\n"
     ]
    },
    {
     "name": "stderr",
     "output_type": "stream",
     "text": [
      "DEBUG:KaBOBInterface:Closed KaBOB\n"
     ]
    },
    {
     "ename": "ValueError",
     "evalue": "too many values to unpack (expected 3)",
     "output_type": "error",
     "traceback": [
      "\u001b[1;31m---------------------------------------------------------------------------\u001b[0m",
      "\u001b[1;31mValueError\u001b[0m                                Traceback (most recent call last)",
      "\u001b[1;32m<ipython-input-4-75feab20333f>\u001b[0m in \u001b[0;36m<module>\u001b[1;34m()\u001b[0m\n\u001b[0;32m     18\u001b[0m \u001b[1;33m\u001b[0m\u001b[0m\n\u001b[0;32m     19\u001b[0m     \u001b[0mmops\u001b[0m \u001b[1;33m=\u001b[0m \u001b[0minterface\u001b[0m\u001b[1;33m.\u001b[0m\u001b[0mmops\u001b[0m\u001b[1;33m\u001b[0m\u001b[0m\n\u001b[1;32m---> 20\u001b[1;33m     \u001b[0minterface\u001b[0m\u001b[1;33m.\u001b[0m\u001b[0mdraw\u001b[0m\u001b[1;33m(\u001b[0m\u001b[0mproject_dir\u001b[0m \u001b[1;33m+\u001b[0m \u001b[1;34m\"/images\"\u001b[0m\u001b[1;33m)\u001b[0m\u001b[1;33m\u001b[0m\u001b[0m\n\u001b[0m\u001b[0;32m     21\u001b[0m \u001b[1;33m\u001b[0m\u001b[0m\n\u001b[0;32m     22\u001b[0m \u001b[1;33m\u001b[0m\u001b[0m\n",
      "\u001b[1;32m~GDrive\\KaBOB\\KaBOB Interface\\AllegroGraphRepositoryInterface.py\u001b[0m in \u001b[0;36mdraw\u001b[1;34m(self, image_dir, layout, size)\u001b[0m\n\u001b[0;32m    166\u001b[0m         \"\"\"\n\u001b[0;32m    167\u001b[0m         \u001b[0mself\u001b[0m\u001b[1;33m.\u001b[0m\u001b[0mlog\u001b[0m\u001b[1;33m.\u001b[0m\u001b[0mdebug\u001b[0m\u001b[1;33m(\u001b[0m\u001b[1;34m\"Drawing graphs\"\u001b[0m\u001b[1;33m)\u001b[0m\u001b[1;33m\u001b[0m\u001b[0m\n\u001b[1;32m--> 168\u001b[1;33m         \u001b[0mself\u001b[0m\u001b[1;33m.\u001b[0m\u001b[0mmops\u001b[0m\u001b[1;33m.\u001b[0m\u001b[0mdraw_mops\u001b[0m\u001b[1;33m(\u001b[0m\u001b[0mimage_dir\u001b[0m\u001b[1;33m,\u001b[0m \u001b[0mlayout\u001b[0m\u001b[1;33m=\u001b[0m\u001b[0mlayout\u001b[0m\u001b[1;33m,\u001b[0m \u001b[0msize\u001b[0m\u001b[1;33m=\u001b[0m\u001b[0msize\u001b[0m\u001b[1;33m)\u001b[0m\u001b[1;33m\u001b[0m\u001b[0m\n\u001b[0m\u001b[0;32m    169\u001b[0m \u001b[1;33m\u001b[0m\u001b[0m\n\u001b[0;32m    170\u001b[0m     \"\"\"\n",
      "\u001b[1;32m~GDrive\\KaBOB\\KaBOB Interface\\MOPs.py\u001b[0m in \u001b[0;36mdraw_mops\u001b[1;34m(self, image_dir, layout, size)\u001b[0m\n\u001b[0;32m    177\u001b[0m         \u001b[0mself\u001b[0m\u001b[1;33m.\u001b[0m\u001b[0mdraw_graph\u001b[0m\u001b[1;33m(\u001b[0m\u001b[0mself\u001b[0m\u001b[1;33m,\u001b[0m \u001b[0mpos\u001b[0m\u001b[1;33m,\u001b[0m \u001b[1;34m\"%s/full_graph.png\"\u001b[0m \u001b[1;33m%\u001b[0m \u001b[0mimage_dir\u001b[0m\u001b[1;33m,\u001b[0m \u001b[0msize\u001b[0m\u001b[1;33m=\u001b[0m\u001b[0msize\u001b[0m\u001b[1;33m)\u001b[0m\u001b[1;33m\u001b[0m\u001b[0m\n\u001b[0;32m    178\u001b[0m         \u001b[0mself\u001b[0m\u001b[1;33m.\u001b[0m\u001b[0mdraw_graph\u001b[0m\u001b[1;33m(\u001b[0m\u001b[0mself\u001b[0m\u001b[1;33m.\u001b[0m\u001b[0mget_abstraction_hierarchy\u001b[0m\u001b[1;33m(\u001b[0m\u001b[1;33m)\u001b[0m\u001b[1;33m,\u001b[0m \u001b[0mpos\u001b[0m\u001b[1;33m,\u001b[0m \u001b[1;34m\"%s/abstraction_hierarchy.png\"\u001b[0m \u001b[1;33m%\u001b[0m \u001b[0mimage_dir\u001b[0m\u001b[1;33m,\u001b[0m \u001b[0msize\u001b[0m\u001b[1;33m=\u001b[0m\u001b[0msize\u001b[0m\u001b[1;33m)\u001b[0m\u001b[1;33m\u001b[0m\u001b[0m\n\u001b[1;32m--> 179\u001b[1;33m         \u001b[0mself\u001b[0m\u001b[1;33m.\u001b[0m\u001b[0mdraw_graph\u001b[0m\u001b[1;33m(\u001b[0m\u001b[0mself\u001b[0m\u001b[1;33m.\u001b[0m\u001b[0mget_slot_graph\u001b[0m\u001b[1;33m(\u001b[0m\u001b[1;33m)\u001b[0m\u001b[1;33m,\u001b[0m \u001b[0mpos\u001b[0m\u001b[1;33m,\u001b[0m \u001b[1;34m\"%s/slot_graph.png\"\u001b[0m \u001b[1;33m%\u001b[0m \u001b[0mimage_dir\u001b[0m\u001b[1;33m,\u001b[0m \u001b[0msize\u001b[0m\u001b[1;33m=\u001b[0m\u001b[0msize\u001b[0m\u001b[1;33m)\u001b[0m\u001b[1;33m\u001b[0m\u001b[0m\n\u001b[0m\u001b[0;32m    180\u001b[0m \u001b[1;33m\u001b[0m\u001b[0m\n\u001b[0;32m    181\u001b[0m     \u001b[1;33m@\u001b[0m\u001b[0mstaticmethod\u001b[0m\u001b[1;33m\u001b[0m\u001b[0m\n",
      "\u001b[1;32m~GDrive\\KaBOB\\KaBOB Interface\\MOPs.py\u001b[0m in \u001b[0;36mget_slot_graph\u001b[1;34m(self)\u001b[0m\n\u001b[0;32m    143\u001b[0m     \u001b[1;32mdef\u001b[0m \u001b[0mget_slot_graph\u001b[0m\u001b[1;33m(\u001b[0m\u001b[0mself\u001b[0m\u001b[1;33m)\u001b[0m\u001b[1;33m:\u001b[0m\u001b[1;33m\u001b[0m\u001b[0m\n\u001b[0;32m    144\u001b[0m         \u001b[0medges\u001b[0m \u001b[1;33m=\u001b[0m \u001b[1;33m(\u001b[0m\u001b[1;33m(\u001b[0m\u001b[0mu\u001b[0m\u001b[1;33m,\u001b[0m \u001b[0mv\u001b[0m\u001b[1;33m,\u001b[0m \u001b[0mk\u001b[0m\u001b[1;33m)\u001b[0m \u001b[1;32mfor\u001b[0m \u001b[1;33m(\u001b[0m\u001b[0mu\u001b[0m\u001b[1;33m,\u001b[0m \u001b[0mv\u001b[0m\u001b[1;33m,\u001b[0m \u001b[0mk\u001b[0m\u001b[1;33m)\u001b[0m \u001b[1;32min\u001b[0m \u001b[0mself\u001b[0m\u001b[1;33m.\u001b[0m\u001b[0medges\u001b[0m\u001b[1;33m(\u001b[0m\u001b[0mdata\u001b[0m\u001b[1;33m=\u001b[0m\u001b[1;32mTrue\u001b[0m\u001b[1;33m,\u001b[0m \u001b[0mkeys\u001b[0m\u001b[1;33m=\u001b[0m\u001b[1;32mTrue\u001b[0m\u001b[1;33m)\u001b[0m \u001b[1;32mif\u001b[0m \u001b[0mk\u001b[0m \u001b[1;33m!=\u001b[0m \u001b[0mself\u001b[0m\u001b[1;33m.\u001b[0m\u001b[0mabstraction\u001b[0m \u001b[1;32mand\u001b[0m \u001b[0mk\u001b[0m \u001b[1;33m!=\u001b[0m \u001b[0mself\u001b[0m\u001b[1;33m.\u001b[0m\u001b[0mequivalent\u001b[0m\u001b[1;33m)\u001b[0m\u001b[1;33m\u001b[0m\u001b[0m\n\u001b[1;32m--> 145\u001b[1;33m         \u001b[1;32mreturn\u001b[0m \u001b[0mself\u001b[0m\u001b[1;33m.\u001b[0m\u001b[0medge_subgraph\u001b[0m\u001b[1;33m(\u001b[0m\u001b[0medges\u001b[0m\u001b[1;33m)\u001b[0m\u001b[1;33m\u001b[0m\u001b[0m\n\u001b[0m\u001b[0;32m    146\u001b[0m \u001b[1;33m\u001b[0m\u001b[0m\n\u001b[0;32m    147\u001b[0m     \u001b[1;32mdef\u001b[0m \u001b[0mget_instances\u001b[0m\u001b[1;33m(\u001b[0m\u001b[0mself\u001b[0m\u001b[1;33m,\u001b[0m \u001b[0mabstraction\u001b[0m\u001b[1;33m,\u001b[0m \u001b[0mslots\u001b[0m\u001b[1;33m)\u001b[0m\u001b[1;33m:\u001b[0m\u001b[1;33m\u001b[0m\u001b[0m\n",
      "\u001b[1;32mC:\\Anaconda\\lib\\site-packages\\networkx\\classes\\graph.py\u001b[0m in \u001b[0;36medge_subgraph\u001b[1;34m(self, edges)\u001b[0m\n\u001b[0;32m   1614\u001b[0m \u001b[1;33m\u001b[0m\u001b[0m\n\u001b[0;32m   1615\u001b[0m         \"\"\"\n\u001b[1;32m-> 1616\u001b[1;33m         \u001b[1;32mreturn\u001b[0m \u001b[0mnx\u001b[0m\u001b[1;33m.\u001b[0m\u001b[0medge_subgraph\u001b[0m\u001b[1;33m(\u001b[0m\u001b[0mself\u001b[0m\u001b[1;33m,\u001b[0m \u001b[0medges\u001b[0m\u001b[1;33m)\u001b[0m\u001b[1;33m\u001b[0m\u001b[0m\n\u001b[0m\u001b[0;32m   1617\u001b[0m \u001b[1;33m\u001b[0m\u001b[0m\n\u001b[0;32m   1618\u001b[0m     \u001b[1;32mdef\u001b[0m \u001b[0msize\u001b[0m\u001b[1;33m(\u001b[0m\u001b[0mself\u001b[0m\u001b[1;33m,\u001b[0m \u001b[0mweight\u001b[0m\u001b[1;33m=\u001b[0m\u001b[1;32mNone\u001b[0m\u001b[1;33m)\u001b[0m\u001b[1;33m:\u001b[0m\u001b[1;33m\u001b[0m\u001b[0m\n",
      "\u001b[1;32mC:\\Anaconda\\lib\\site-packages\\networkx\\classes\\function.py\u001b[0m in \u001b[0;36medge_subgraph\u001b[1;34m(G, edges)\u001b[0m\n\u001b[0;32m    409\u001b[0m     \u001b[0mnxf\u001b[0m \u001b[1;33m=\u001b[0m \u001b[0mnx\u001b[0m\u001b[1;33m.\u001b[0m\u001b[0mfilters\u001b[0m\u001b[1;33m\u001b[0m\u001b[0m\n\u001b[0;32m    410\u001b[0m     \u001b[0mnxg\u001b[0m \u001b[1;33m=\u001b[0m \u001b[0mnx\u001b[0m\u001b[1;33m.\u001b[0m\u001b[0mgraphviews\u001b[0m\u001b[1;33m\u001b[0m\u001b[0m\n\u001b[1;32m--> 411\u001b[1;33m     \u001b[0medges\u001b[0m \u001b[1;33m=\u001b[0m \u001b[0mset\u001b[0m\u001b[1;33m(\u001b[0m\u001b[0medges\u001b[0m\u001b[1;33m)\u001b[0m\u001b[1;33m\u001b[0m\u001b[0m\n\u001b[0m\u001b[0;32m    412\u001b[0m     \u001b[0mnodes\u001b[0m \u001b[1;33m=\u001b[0m \u001b[0mset\u001b[0m\u001b[1;33m(\u001b[0m\u001b[1;33m)\u001b[0m\u001b[1;33m\u001b[0m\u001b[0m\n\u001b[0;32m    413\u001b[0m     \u001b[1;32mfor\u001b[0m \u001b[0me\u001b[0m \u001b[1;32min\u001b[0m \u001b[0medges\u001b[0m\u001b[1;33m:\u001b[0m\u001b[1;33m\u001b[0m\u001b[0m\n",
      "\u001b[1;32m~GDrive\\KaBOB\\KaBOB Interface\\MOPs.py\u001b[0m in \u001b[0;36m<genexpr>\u001b[1;34m(.0)\u001b[0m\n\u001b[0;32m    142\u001b[0m \u001b[1;33m\u001b[0m\u001b[0m\n\u001b[0;32m    143\u001b[0m     \u001b[1;32mdef\u001b[0m \u001b[0mget_slot_graph\u001b[0m\u001b[1;33m(\u001b[0m\u001b[0mself\u001b[0m\u001b[1;33m)\u001b[0m\u001b[1;33m:\u001b[0m\u001b[1;33m\u001b[0m\u001b[0m\n\u001b[1;32m--> 144\u001b[1;33m         \u001b[0medges\u001b[0m \u001b[1;33m=\u001b[0m \u001b[1;33m(\u001b[0m\u001b[1;33m(\u001b[0m\u001b[0mu\u001b[0m\u001b[1;33m,\u001b[0m \u001b[0mv\u001b[0m\u001b[1;33m,\u001b[0m \u001b[0mk\u001b[0m\u001b[1;33m)\u001b[0m \u001b[1;32mfor\u001b[0m \u001b[1;33m(\u001b[0m\u001b[0mu\u001b[0m\u001b[1;33m,\u001b[0m \u001b[0mv\u001b[0m\u001b[1;33m,\u001b[0m \u001b[0mk\u001b[0m\u001b[1;33m)\u001b[0m \u001b[1;32min\u001b[0m \u001b[0mself\u001b[0m\u001b[1;33m.\u001b[0m\u001b[0medges\u001b[0m\u001b[1;33m(\u001b[0m\u001b[0mdata\u001b[0m\u001b[1;33m=\u001b[0m\u001b[1;32mTrue\u001b[0m\u001b[1;33m,\u001b[0m \u001b[0mkeys\u001b[0m\u001b[1;33m=\u001b[0m\u001b[1;32mTrue\u001b[0m\u001b[1;33m)\u001b[0m \u001b[1;32mif\u001b[0m \u001b[0mk\u001b[0m \u001b[1;33m!=\u001b[0m \u001b[0mself\u001b[0m\u001b[1;33m.\u001b[0m\u001b[0mabstraction\u001b[0m \u001b[1;32mand\u001b[0m \u001b[0mk\u001b[0m \u001b[1;33m!=\u001b[0m \u001b[0mself\u001b[0m\u001b[1;33m.\u001b[0m\u001b[0mequivalent\u001b[0m\u001b[1;33m)\u001b[0m\u001b[1;33m\u001b[0m\u001b[0m\n\u001b[0m\u001b[0;32m    145\u001b[0m         \u001b[1;32mreturn\u001b[0m \u001b[0mself\u001b[0m\u001b[1;33m.\u001b[0m\u001b[0medge_subgraph\u001b[0m\u001b[1;33m(\u001b[0m\u001b[0medges\u001b[0m\u001b[1;33m)\u001b[0m\u001b[1;33m\u001b[0m\u001b[0m\n\u001b[0;32m    146\u001b[0m \u001b[1;33m\u001b[0m\u001b[0m\n",
      "\u001b[1;31mValueError\u001b[0m: too many values to unpack (expected 3)"
     ]
    }
   ],
   "source": [
    "project_dir = \"E:/GDrive/Biology/Hyper Cholesterol\"\n",
    "hyper_cholesterol = \"obo:GO_0034383\"\n",
    "\n",
    "mops = None\n",
    "with KaBOBInterface(\"KaBOB_credentials.txt\", cache_dir=project_dir + \"/pickles\") as interface:\n",
    "    bio_hyper_cholesterol = interface.get_bio_node(hyper_cholesterol)\n",
    "    \n",
    "    hyper_cholesterol_statements_of_interest = interface.get_statements(s=bio_hyper_cholesterol)\n",
    "    hyper_cholesterol_statements_of_interest.extend(interface.get_statements(o=bio_hyper_cholesterol))\n",
    "\n",
    "    print(\"Hyper cholesterol is involved in %d statements of interest\" % len(hyper_cholesterol_statements_of_interest))\n",
    "    \n",
    "    count = 0\n",
    "    for statement in hyper_cholesterol_statements_of_interest:\n",
    "        print(\"****** %d ******\" % count)\n",
    "        interface.mopify(statement.getSubject())\n",
    "        count += 1\n",
    "\n",
    "    mops = interface.mops\n",
    "    interface.draw(project_dir + \"/images\")\n",
    "\n",
    "\n"
   ]
  },
  {
   "cell_type": "code",
   "execution_count": null,
   "metadata": {},
   "outputs": [],
   "source": [
    "print(nx.get_node_attributes(mops, \"label\")[bio_hyper_cholesterol])\n",
    "\n",
    "neighbor_of_bio_hyper_cholesterol = lambda u, v: (u == bio_hyper_cholesterol and v in interface.mops.neighbors(u))\n",
    "def label_edges(B, C):\n",
    "    for u in B:\n",
    "        for v in C:\n",
    "            if (u,v) in  interface.mops.edges:\n",
    "                return {\"label\": interface.mops.edges[u, v][\"label\"]}\n",
    "\n",
    "def label_nodes(B): \n",
    "    label = None\n",
    "    for u in B:\n",
    "         if u in nx.get_node_attributes(interface.mops, \"label\"):\n",
    "            label ={\"label\": nx.get_node_attributes(interface.mops, \"label\")[u]}\n",
    "            if u == bio_hyper_cholesterol:\n",
    "                return label\n",
    "\n",
    "    return label\n",
    "\n",
    "\n",
    "collapsed_graph = nx.quotient_graph(interface.mops, neighbor_of_bio_hyper_cholesterol, edge_data=label_edges, node_data=label_nodes)\n",
    "\n",
    "collapsed_mops = MOPs()\n",
    "collapsed_mops.add_nodes_from(collapsed_graph.nodes(data=True))\n",
    "collapsed_mops.add_edges_from(collapsed_graph.edges)\n",
    "collapsed_mops.draw_mops(project_dir + \"/images\")\n",
    "\n",
    "collapsed_graph.number_of_nodes()\n",
    "\n",
    "nx.get_edge_attributes(collapsed_graph, \"label\")"
   ]
  },
  {
   "cell_type": "code",
   "execution_count": 15,
   "metadata": {},
   "outputs": [
    {
     "name": "stderr",
     "output_type": "stream",
     "text": [
      "DEBUG:KaBOBInterface:Connecting to repository --host:'amc-tantor.ucdenver.pvt' port:10037\n",
      "DEBUG:KaBOBInterface:Closed KaBOB\n"
     ]
    },
    {
     "name": "stdout",
     "output_type": "stream",
     "text": [
      "tamoxifen citrate\n"
     ]
    }
   ],
   "source": [
    "with KaBOBInterface(\"KaBOB_credentials.txt\") as interface:\n",
    "    print(interface.get_label(interface.get_bio_node(\"CHEBI_41774\")))"
   ]
  },
  {
   "cell_type": "code",
   "execution_count": 15,
   "metadata": {},
   "outputs": [
    {
     "name": "stderr",
     "output_type": "stream",
     "text": [
      "DEBUG:KaBOBInterface:Connecting to repository --host:'amc-tantor.ucdenver.pvt' port:10037\n",
      "DEBUG:KaBOBInterface:Closed KaBOB\n"
     ]
    },
    {
     "name": "stdout",
     "output_type": "stream",
     "text": [
      "B_4_L0uL9QyKCL04rM7_jQgTMg0bw\n"
     ]
    }
   ],
   "source": [
    "with KaBOBInterface(\"KaBOB_credentials.txt\") as interface:\n",
    "    reactome_nodes = interface.conn.getStatements(None, interface.DENOTES, None, contexts=\"<http://ekw.ucdenver.edu/reactome_bio>\")\n",
    "    reactome_nodes = list(reactome_nodes)\n",
    "    print(interface.get_label(reactome_nodes[0].getObject()))\n",
    "    "
   ]
  },
  {
   "cell_type": "code",
   "execution_count": 11,
   "metadata": {},
   "outputs": [],
   "source": []
  },
  {
   "cell_type": "code",
   "execution_count": 14,
   "metadata": {},
   "outputs": [
    {
     "data": {
      "text/plain": [
       "<http://ccp.ucdenver.edu/kabob/bio/B_4_L0uL9QyKCL04rM7_jQgTMg0bw>"
      ]
     },
     "execution_count": 14,
     "metadata": {},
     "output_type": "execute_result"
    }
   ],
   "source": []
  },
  {
   "cell_type": "code",
   "execution_count": null,
   "metadata": {
    "collapsed": true
   },
   "outputs": [],
   "source": []
  }
 ],
 "metadata": {
  "celltoolbar": "Initialization Cell",
  "kernelspec": {
   "display_name": "Python 3",
   "language": "python",
   "name": "python3"
  },
  "language_info": {
   "codemirror_mode": {
    "name": "ipython",
    "version": 3
   },
   "file_extension": ".py",
   "mimetype": "text/x-python",
   "name": "python",
   "nbconvert_exporter": "python",
   "pygments_lexer": "ipython3",
   "version": "3.6.3"
  },
  "varInspector": {
   "cols": {
    "lenName": 16,
    "lenType": 16,
    "lenVar": 40
   },
   "kernels_config": {
    "python": {
     "delete_cmd_postfix": "",
     "delete_cmd_prefix": "del ",
     "library": "var_list.py",
     "varRefreshCmd": "print(var_dic_list())"
    },
    "r": {
     "delete_cmd_postfix": ") ",
     "delete_cmd_prefix": "rm(",
     "library": "var_list.r",
     "varRefreshCmd": "cat(var_dic_list()) "
    }
   },
   "types_to_exclude": [
    "module",
    "function",
    "builtin_function_or_method",
    "instance",
    "_Feature"
   ],
   "window_display": false
  }
 },
 "nbformat": 4,
 "nbformat_minor": 2
}
