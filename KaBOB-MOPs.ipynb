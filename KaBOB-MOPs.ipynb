{
 "cells": [
  {
   "cell_type": "markdown",
   "metadata": {},
   "source": [
    "# KaBOB-MOPs"
   ]
  },
  {
   "cell_type": "markdown",
   "metadata": {
    "collapsed": true
   },
   "source": [
    "## KaBOB Interface Test"
   ]
  },
  {
   "cell_type": "markdown",
   "metadata": {},
   "source": [
    "KaBOBInterface is used to mopify and parse KaBOB triples. OpenKaBOB opens a connection to KaBOB and closes it using a `with` statement"
   ]
  },
  {
   "cell_type": "code",
   "execution_count": 1,
   "metadata": {
    "init_cell": true
   },
   "outputs": [],
   "source": [
    "from KaBOB_Interface import KaBOBInterface\n",
    "import KaBOB_Constants\n",
    "import networkx as nx\n",
    "import pickle"
   ]
  },
  {
   "cell_type": "code",
   "execution_count": 1,
   "metadata": {},
   "outputs": [
    {
     "name": "stderr",
     "output_type": "stream",
     "text": [
      "DEBUG:OpenKaBOB:Connecting to AllegroGraph server --host:'amc-tantor.ucdenver.pvt' port:10037\n",
      "DEBUG:OpenKaBOB:Closed kabob_prod_feb2018\n"
     ]
    },
    {
     "name": "stdout",
     "output_type": "stream",
     "text": [
      "Triples in KaBOB: 283830446\n"
     ]
    }
   ],
   "source": [
    "with OpenKaBOB(\"KaBOB_credentials.txt\") as kabob:\n",
    "    print('Triples in KaBOB:', kabob.size())"
   ]
  },
  {
   "cell_type": "markdown",
   "metadata": {},
   "source": [
    "### Basic Querying"
   ]
  },
  {
   "cell_type": "markdown",
   "metadata": {},
   "source": [
    "#### Without using the interface (using just agraph_python)"
   ]
  },
  {
   "cell_type": "code",
   "execution_count": 4,
   "metadata": {},
   "outputs": [
    {
     "name": "stderr",
     "output_type": "stream",
     "text": [
      "DEBUG:OpenKaBOB:Connecting to AllegroGraph server --host:'amc-tantor.ucdenver.pvt' port:10037\n"
     ]
    },
    {
     "name": "stdout",
     "output_type": "stream",
     "text": [
      "Triples in KaBOB: 283830446\n",
      "Label for p53\n",
      "\t\"cellular tumor antigen p53 (human)\"\n",
      "\n",
      "Triples with p53 as the subject\n",
      "\t\"cellular tumor antigen p53 (human)\" subClassOf \"cellular tumor antigen p53\"\n",
      "\t\"cellular tumor antigen p53 (human)\" subClassOf \"Homo sapiens protein\"\n",
      "\n",
      "Triples with p53 as the object\n",
      "\t\"cellular tumor antigen p53 (human)\" subClassOf \"cellular tumor antigen p53 isoform 1 (human)\"\n",
      "\t\"cellular tumor antigen p53 (human)\" annotatedSource \"PR:P04637 located_in GO:0005654\"\n",
      "\t\"cellular tumor antigen p53 (human)\" subClassOf \"cellular tumor antigen p53 phosphorylated 15 (human)\"\n",
      "\t\"cellular tumor antigen p53 (human)\" subClassOf \"cellular tumor antigen p53 phosphorylated 14 (human)\"\n",
      "\t\"cellular tumor antigen p53 (human)\" subClassOf \"cellular tumor antigen p53 dimethylated 3 (human)\"\n",
      "\t\"cellular tumor antigen p53 (human)\" subClassOf \"cellular tumor antigen p53 phosphorylated 16 (human)\"\n",
      "\t\"cellular tumor antigen p53 (human)\" subClassOf \"cellular tumor antigen p53 phosphorylated 1 (human)\"\n",
      "\t\"cellular tumor antigen p53 (human)\" subClassOf \"cellular tumor antigen p53 phosphorylated 13 (human)\"\n",
      "\t\"cellular tumor antigen p53 (human)\" subClassOf \"cellular tumor antigen p53 dimethylated 2 (human)\"\n",
      "\t\"cellular tumor antigen p53 (human)\" subClassOf \"cellular tumor antigen p53 isoform h4 (human)\"\n",
      "\t\"cellular tumor antigen p53 (human)\" subClassOf \"cellular tumor antigen p53 isoform h7 (human)\"\n",
      "\t\"cellular tumor antigen p53 (human)\" subClassOf \"cellular tumor antigen p53 isoform h2 (human)\"\n",
      "\t\"cellular tumor antigen p53 (human)\" subClassOf \"cellular tumor antigen p53 isoform h8 (human)\"\n",
      "\t\"cellular tumor antigen p53 (human)\" subClassOf \"cellular tumor antigen p53 isoform h9 (human)\"\n",
      "\t\"cellular tumor antigen p53 (human)\" subClassOf \"cellular tumor antigen p53 isoform h5 (human)\"\n",
      "\t\"cellular tumor antigen p53 (human)\" subClassOf \"cellular tumor antigen p53 isoform h3 (human)\"\n",
      "\t\"cellular tumor antigen p53 (human)\" subClassOf \"cellular tumor antigen p53 isoform h6 (human)\"\n",
      "\t\"cellular tumor antigen p53 (human)\" subClassOf \"cellular tumor antigen p53 phosphorylated 19 (human)\"\n",
      "\t\"cellular tumor antigen p53 (human)\" subClassOf \"cellular tumor antigen p53 phosphorylated 17 (human)\"\n",
      "\t\"cellular tumor antigen p53 (human)\" subClassOf \"cellular tumor antigen p53 sumoylated 1 (human)\"\n",
      "\t\"cellular tumor antigen p53 (human)\" subClassOf \"cellular tumor antigen p53 phosphorylated 12 (human)\""
     ]
    },
    {
     "name": "stderr",
     "output_type": "stream",
     "text": [
      "DEBUG:OpenKaBOB:Closed kabob_prod_feb2018\n"
     ]
    },
    {
     "name": "stdout",
     "output_type": "stream",
     "text": [
      "\n",
      "\t\"cellular tumor antigen p53 (human)\" subClassOf \"cellular tumor antigen p53 ubiquitinated form (human)\"\n",
      "\t\"cellular tumor antigen p53 (human)\" subClassOf \"cellular tumor antigen p53 phosphorylated 18 (human)\"\n",
      "\t\"cellular tumor antigen p53 (human)\" subClassOf \"cellular tumor antigen p53 phosphorylated 4 (human)\"\n"
     ]
    }
   ],
   "source": [
    "from KaBOB_Interface import OpenKaBOB\n",
    "\n",
    "p53 = kabob.createURI(\"http://purl.obolibrary.org/obo/PR_P04637\")\n",
    "label = kabob.createURI(\"http://www.w3.org/2000/01/rdf-schema#label\")\n",
    "\n",
    "with OpenKaBOB() as kabob:\n",
    "    print('Triples in KaBOB:', kabob.size())\n",
    "    \n",
    "    print('Label for p53')\n",
    "    p53_labels = kabob.getStatements(p53, label).asList()\n",
    "    p53_label = p53_labels[0].getObject()\n",
    "    print(\"\\t%s\" % p53_label)\n",
    "    \n",
    "    print()\n",
    "    \n",
    "    print('Triples with p53 as the subject')\n",
    "    p53_as_subject = kabob.getStatements(p53, None, None)\n",
    "    with p53_as_subject:\n",
    "        p53_as_subject.enableDuplicateFilter()  # This may or may not be necessary all the time\n",
    "        for statement in p53_as_subject:\n",
    "            object_labels = kabob.getStatements(statement.getObject(), label).asList()\n",
    "            \n",
    "            if object_labels:\n",
    "                print(\"\\t%s %s %s\" % (p53_label, statement.getPredicate().getLocalName(), object_labels[0].getObject()))\n",
    "    \n",
    "    print()\n",
    "    \n",
    "    print('Triples with p53 as the object')\n",
    "    p53_as_object = kabob.getStatements(None, None, p53)\n",
    "    with p53_as_object:\n",
    "        p53_as_object.enableDuplicateFilter()\n",
    "        for statement in p53_as_object:\n",
    "            subject_labels = kabob.getStatements(statement.getSubject(), label).asList()\n",
    "            \n",
    "            if subject_labels:\n",
    "                print(\"\\t%s %s %s\" % (p53_label, statement.getPredicate().getLocalName(), subject_labels[0].getObject()))\n"
   ]
  },
  {
   "cell_type": "markdown",
   "metadata": {
    "collapsed": true
   },
   "source": [
    "#### With the interface"
   ]
  },
  {
   "cell_type": "code",
   "execution_count": 2,
   "metadata": {},
   "outputs": [
    {
     "name": "stderr",
     "output_type": "stream",
     "text": [
      "DEBUG:OpenKaBOB:Connecting to AllegroGraph server --host:'amc-tantor.ucdenver.pvt' port:10037\n"
     ]
    },
    {
     "name": "stdout",
     "output_type": "stream",
     "text": [
      "Label for p53\n",
      "\tcellular tumor antigen p53 (human)\n",
      "\n",
      "Triples with p53 as the subject\n",
      "\tcellular tumor antigen p53 (human) database_cross_reference \"UniProtKB:P04637\"\n",
      "\tcellular tumor antigen p53 (human) database_cross_reference \"Reactome:R-HSA-69488\"\n",
      "\tcellular tumor antigen p53 (human) id \"PR:P04637\"\n",
      "\tcellular tumor antigen p53 (human) has_obo_namespace \"protein\"\n",
      "\tcellular tumor antigen p53 (human) definition \"A cellular tumor antigen p53 that is encoded in the genome of human.\"\n",
      "\tcellular tumor antigen p53 (human) label \"cellular tumor antigen p53 (human)\"\n",
      "\tcellular tumor antigen p53 (human) comment \"Category=organism-gene.\"\n",
      "\tcellular tumor antigen p53 (human) subClassOf cellular tumor antigen p53\n",
      "\tcellular tumor antigen p53 (human) subClassOf Homo sapiens protein\n",
      "\tcellular tumor antigen p53 (human) subClassOf pr_genid1776552\n",
      "\tcellular tumor antigen p53 (human) subClassOf pr_genid338241\n",
      "\tcellular tumor antigen p53 (human) equivalentClass pr_genid338237\n",
      "\tcellular tumor antigen p53 (human) type Class\n",
      "\tcellular tumor antigen p53 (human) has_exact_synonym \"hTP53\"\n",
      "\n",
      "Triples with p53 as the object\n",
      "\tPR_P04637 denotes cellular tumor antigen p53 (human)\n",
      "\tcellular tumor antigen p53 isoform 1 (human) subClassOf cellular tumor antigen p53 (human)\n",
      "\tPR:P04637 located_in GO:0005654 annotatedSource cellular tumor antigen p53 (human)\n",
      "\tcellular tumor antigen p53 phosphorylated 15 (human) subClassOf cellular tumor antigen p53 (human)\n",
      "\tcellular tumor antigen p53 phosphorylated 14 (human) subClassOf cellular tumor antigen p53 (human)\n",
      "\tcellular tumor antigen p53 dimethylated 3 (human) subClassOf cellular tumor antigen p53 (human)\n",
      "\tcellular tumor antigen p53 phosphorylated 16 (human) subClassOf cellular tumor antigen p53 (human)\n",
      "\tcellular tumor antigen p53 phosphorylated 1 (human) subClassOf cellular tumor antigen p53 (human)\n",
      "\tcellular tumor antigen p53 phosphorylated 13 (human) subClassOf cellular tumor antigen p53 (human)\n",
      "\tcellular tumor antigen p53 dimethylated 2 (human) subClassOf cellular tumor antigen p53 (human)\n",
      "\tcellular tumor antigen p53 isoform h4 (human) subClassOf cellular tumor antigen p53 (human)\n",
      "\tpr_genid163811 first cellular tumor antigen p53 (human)\n",
      "\tcellular tumor antigen p53 isoform h7 (human) subClassOf cellular tumor antigen p53 (human)\n",
      "\tcellular tumor antigen p53 isoform h2 (human) subClassOf cellular tumor antigen p53 (human)\n",
      "\tcellular tumor antigen p53 isoform h8 (human) subClassOf cellular tumor antigen p53 (human)\n",
      "\tcellular tumor antigen p53 isoform h9 (human) subClassOf cellular tumor antigen p53 (human)\n",
      "\tpr_genid338244 annotatedSource cellular tumor antigen p53 (human)\n",
      "\tpr_genid338242 annotatedSource cellular tumor antigen p53 (human)\n",
      "\tcellular tumor antigen p53 isoform h5 (human) subClassOf cellular tumor antigen p53 (human)\n",
      "\tcellular tumor antigen p53 isoform h3 (human) subClassOf cellular tumor antigen p53 (human)\n",
      "\tcellular tumor antigen p53 isoform h6 (human) subClassOf cellular tumor antigen p53 (human)\n",
      "\tcellular tumor antigen p53 phosphorylated 19 (human) subClassOf cellular tumor antigen p53 (human)\n",
      "\tcellular tumor antigen p53 phosphorylated 17 (human) subClassOf cellular tumor antigen p53 (human)\n",
      "\tcellular tumor antigen p53 sumoylated 1 (human) subClassOf cellular tumor antigen p53 (human)\n",
      "\tcellular tumor antigen p53 phosphorylated 12 (human) subClassOf cellular tumor antigen p53 (human)\n",
      "\tcellular tumor antigen p53 ubiquitinated form (human) subClassOf cellular tumor antigen p53 (human)\n",
      "\tcellular tumor antigen p53 phosphorylated 18 (human) subClassOf cellular tumor antigen p53 (human)\n"
     ]
    },
    {
     "name": "stderr",
     "output_type": "stream",
     "text": [
      "DEBUG:OpenKaBOB:Closed kabob_prod_feb2018\n"
     ]
    },
    {
     "name": "stdout",
     "output_type": "stream",
     "text": [
      "\tcellular tumor antigen p53 phosphorylated 4 (human) subClassOf cellular tumor antigen p53 (human)\n"
     ]
    }
   ],
   "source": [
    "from KaBOB_Interface import KaBOBInterface\n",
    "\n",
    "p53 = \"obo:PR_P04637\"\n",
    "\n",
    "with KaBOBInterface(\"KaBOB_credentials.txt\") as interface:\n",
    "    print('Label for p53')\n",
    "    p53_label = interface.node_print_name(p53)\n",
    "    print(\"\\t%s\" % p53_label)\n",
    "    \n",
    "    print()\n",
    "    \n",
    "    print('Triples with p53 as the subject')\n",
    "    for statement in interface.agraph_get_statements(s=p53):\n",
    "        object_label = interface.node_print_name(statement.getObject())\n",
    "        predicate_label = interface.node_print_name(statement.getPredicate())\n",
    "        print(\"\\t%s %s %s\" % (p53_label, predicate_label, object_label))\n",
    "    \n",
    "    print()\n",
    "    \n",
    "    print('Triples with p53 as the object')\n",
    "    for statement in interface.agraph_get_statements(o=p53):\n",
    "        subject_label = interface.node_print_name(statement.getSubject())\n",
    "        predicate_label = interface.node_print_name(statement.getPredicate())\n",
    "        print(\"\\t%s %s %s\" % (subject_label, predicate_label, p53_label))"
   ]
  },
  {
   "cell_type": "markdown",
   "metadata": {},
   "source": [
    "### Mopification"
   ]
  },
  {
   "cell_type": "code",
   "execution_count": 1,
   "metadata": {},
   "outputs": [
    {
     "name": "stderr",
     "output_type": "stream",
     "text": [
      "DEBUG:OpenKaBOB:Connecting to AllegroGraph server --host:'amc-tantor.ucdenver.pvt' port:10037\n",
      "DEBUG:KaBOBInterface:> cellular tumor antigen p53 (human)\n",
      "DEBUG:KaBOBInterface:\t> cellular tumor antigen p53\n",
      "DEBUG:KaBOBInterface:\t\t> protein\n",
      "DEBUG:KaBOBInterface:\t\t\t> biopolymer\n",
      "DEBUG:KaBOBInterface:\t\t\t\t> interactor type\n",
      "DEBUG:KaBOBInterface:\t\t\t\t< interactor type\n",
      "DEBUG:KaBOBInterface:\t\t\t< biopolymer\n",
      "DEBUG:KaBOBInterface:\t\t\t> amino acid chain\n",
      "DEBUG:KaBOBInterface:\t\t\t\t> molecular entity\n",
      "DEBUG:KaBOBInterface:\t\t\t\t\t> chemical entity\n",
      "DEBUG:KaBOBInterface:\t\t\t\t\t\t> object\n",
      "DEBUG:KaBOBInterface:\t\t\t\t\t\t\t> material entity\n",
      "DEBUG:KaBOBInterface:\t\t\t\t\t\t\t\t> independent continuant\n",
      "DEBUG:KaBOBInterface:\t\t\t\t\t\t\t\t\t> continuant\n",
      "DEBUG:KaBOBInterface:\t\t\t\t\t\t\t\t\t\t> entity\n",
      "DEBUG:KaBOBInterface:\t\t\t\t\t\t\t\t\t\t< entity\n",
      "DEBUG:KaBOBInterface:\t\t\t\t\t\t\t\t\t\t> occurrent\n",
      "DEBUG:KaBOBInterface:\t\t\t\t\t\t\t\t\t\t< occurrent\n",
      "DEBUG:KaBOBInterface:\t\t\t\t\t\t\t\t\t< continuant\n",
      "DEBUG:KaBOBInterface:\t\t\t\t\t\t\t\t\t> specifically dependent continuant\n",
      "DEBUG:KaBOBInterface:\t\t\t\t\t\t\t\t\t\t> generically dependent continuant\n",
      "DEBUG:KaBOBInterface:\t\t\t\t\t\t\t\t\t\t< generically dependent continuant\n",
      "DEBUG:KaBOBInterface:\t\t\t\t\t\t\t\t\t< specifically dependent continuant\n",
      "DEBUG:KaBOBInterface:\t\t\t\t\t\t\t\t< independent continuant\n",
      "DEBUG:KaBOBInterface:\t\t\t\t\t\t\t\t> immaterial entity\n",
      "DEBUG:KaBOBInterface:\t\t\t\t\t\t\t\t< immaterial entity\n",
      "DEBUG:KaBOBInterface:\t\t\t\t\t\t\t< material entity\n",
      "DEBUG:KaBOBInterface:\t\t\t\t\t\t< object\n",
      "DEBUG:KaBOBInterface:\t\t\t\t\t< chemical entity\n",
      "DEBUG:KaBOBInterface:\t\t\t\t< molecular entity\n",
      "DEBUG:KaBOBInterface:\t\t\t\t> organic amino compound\n",
      "DEBUG:KaBOBInterface:\t\t\t\t\t> organonitrogen compound\n",
      "DEBUG:KaBOBInterface:\t\t\t\t\t\t> nitrogen molecular entity\n",
      "DEBUG:KaBOBInterface:\t\t\t\t\t\t\t> pnictogen molecular entity\n",
      "DEBUG:KaBOBInterface:\t\t\t\t\t\t\t\t> p-block molecular entity\n",
      "DEBUG:KaBOBInterface:\t\t\t\t\t\t\t\t\t> main group molecular entity\n",
      "DEBUG:KaBOBInterface:\t\t\t\t\t\t\t\t\t< main group molecular entity\n",
      "DEBUG:KaBOBInterface:\t\t\t\t\t\t\t\t< p-block molecular entity\n",
      "DEBUG:KaBOBInterface:\t\t\t\t\t\t\t< pnictogen molecular entity\n",
      "DEBUG:KaBOBInterface:\t\t\t\t\t\t< nitrogen molecular entity\n",
      "DEBUG:KaBOBInterface:\t\t\t\t\t\t> heteroorganic entity\n",
      "DEBUG:KaBOBInterface:\t\t\t\t\t\t\t> organic molecular entity\n",
      "DEBUG:KaBOBInterface:\t\t\t\t\t\t\t\t> carbon group molecular entity\n",
      "DEBUG:KaBOBInterface:\t\t\t\t\t\t\t\t< carbon group molecular entity\n",
      "DEBUG:KaBOBInterface:\t\t\t\t\t\t\t< organic molecular entity\n",
      "DEBUG:KaBOBInterface:\t\t\t\t\t\t< heteroorganic entity\n",
      "DEBUG:KaBOBInterface:\t\t\t\t\t< organonitrogen compound\n",
      "DEBUG:KaBOBInterface:\t\t\t\t< organic amino compound\n",
      "DEBUG:KaBOBInterface:\t\t\t< amino acid chain\n",
      "DEBUG:KaBOBInterface:\t\t\t> physical entity\n",
      "DEBUG:KaBOBInterface:\t\t\t< physical entity\n",
      "DEBUG:KaBOBInterface:\t\t\t> information biomacromolecule\n",
      "DEBUG:KaBOBInterface:\t\t\t\t> biomacromolecule\n",
      "DEBUG:KaBOBInterface:\t\t\t\t\t> macromolecule\n",
      "DEBUG:KaBOBInterface:\t\t\t\t\t\t> polyatomic entity\n",
      "DEBUG:KaBOBInterface:\t\t\t\t\t\t< polyatomic entity\n",
      "DEBUG:KaBOBInterface:\t\t\t\t\t< macromolecule\n",
      "DEBUG:KaBOBInterface:\t\t\t\t< biomacromolecule\n",
      "DEBUG:KaBOBInterface:\t\t\t< information biomacromolecule\n",
      "DEBUG:KaBOBInterface:\t\t< protein\n",
      "DEBUG:KaBOBInterface:\t< cellular tumor antigen p53\n",
      "DEBUG:KaBOBInterface:\t> GP_B_2VC6kJt0EwheaEg8GER1qC273bc\n",
      "WARNING:KaBOBInterface:\t\tTrivial mopification of non-BIO-world node <http://ccp.ucdenver.edu/obo/ext/IAO_EXT_0001716>\n",
      "DEBUG:KaBOBInterface:\t\t> gene product abstraction\n",
      "DEBUG:KaBOBInterface:\t\t< gene product abstraction\n",
      "DEBUG:KaBOBInterface:\t\t> GPGPV_B_2VC6kJt0EwheaEg8GER1qC273bc\n",
      "WARNING:KaBOBInterface:\t\t\tTrivial mopification of non-BIO-world node <http://ccp.ucdenver.edu/obo/ext/IAO_EXT_0001721>\n",
      "DEBUG:KaBOBInterface:\t\t\t> gene product or gene product variant abstraction\n",
      "DEBUG:KaBOBInterface:\t\t\t< gene product or gene product variant abstraction\n",
      "DEBUG:KaBOBInterface:\t\t\t> GGPV_B_2VC6kJt0EwheaEg8GER1qC273bc\n",
      "WARNING:KaBOBInterface:\t\t\t\tTrivial mopification of non-BIO-world node <http://ccp.ucdenver.edu/obo/ext/IAO_EXT_0001718>\n",
      "DEBUG:KaBOBInterface:\t\t\t\t> gene or gene product or variant abstraction\n",
      "DEBUG:KaBOBInterface:\t\t\t\t< gene or gene product or variant abstraction\n",
      "DEBUG:KaBOBInterface:\t\t\t< GGPV_B_2VC6kJt0EwheaEg8GER1qC273bc\n",
      "DEBUG:KaBOBInterface:\t\t< GPGPV_B_2VC6kJt0EwheaEg8GER1qC273bc\n",
      "DEBUG:KaBOBInterface:\t\t> GGP_B_2VC6kJt0EwheaEg8GER1qC273bc\n",
      "WARNING:KaBOBInterface:\t\t\tTrivial mopification of non-BIO-world node <http://ccp.ucdenver.edu/obo/ext/IAO_EXT_0001715>\n",
      "DEBUG:KaBOBInterface:\t\t\t> gene or gene product abstraction\n",
      "DEBUG:KaBOBInterface:\t\t\t< gene or gene product abstraction\n",
      "DEBUG:KaBOBInterface:\t\t< GGP_B_2VC6kJt0EwheaEg8GER1qC273bc\n",
      "DEBUG:KaBOBInterface:\t< GP_B_2VC6kJt0EwheaEg8GER1qC273bc\n",
      "DEBUG:KaBOBInterface:\t> Homo sapiens protein\n",
      "DEBUG:KaBOBInterface:\t\t> eukaryotic protein\n",
      "DEBUG:KaBOBInterface:\t\t\t> archaeal protein\n",
      "DEBUG:KaBOBInterface:\t\t\t\t> viral protein\n",
      "DEBUG:KaBOBInterface:\t\t\t\t< viral protein\n",
      "DEBUG:KaBOBInterface:\t\t\t< archaeal protein\n",
      "DEBUG:KaBOBInterface:\t\t\t> bacterial protein\n",
      "DEBUG:KaBOBInterface:\t\t\t< bacterial protein\n",
      "DEBUG:KaBOBInterface:\t\t< eukaryotic protein\n",
      "DEBUG:KaBOBInterface:\t< Homo sapiens protein\n",
      "DEBUG:KaBOBInterface:\t> Homo sapiens\n",
      "DEBUG:KaBOBInterface:\t\t> Homo\n",
      "DEBUG:KaBOBInterface:\t\t\t> Homininae\n",
      "DEBUG:KaBOBInterface:\t\t\t\t> Hominidae\n",
      "DEBUG:KaBOBInterface:\t\t\t\t\t> Hominoidea\n",
      "DEBUG:KaBOBInterface:\t\t\t\t\t\t> Catarrhini\n",
      "DEBUG:KaBOBInterface:\t\t\t\t\t\t\t> Simiiformes\n",
      "DEBUG:KaBOBInterface:\t\t\t\t\t\t\t\t> Haplorrhini\n",
      "DEBUG:KaBOBInterface:\t\t\t\t\t\t\t\t\t> Primates\n",
      "DEBUG:KaBOBInterface:\t\t\t\t\t\t\t\t\t\t> Euarchontoglires\n",
      "DEBUG:KaBOBInterface:\t\t\t\t\t\t\t\t\t\t\t> Boreoeutheria\n",
      "DEBUG:KaBOBInterface:\t\t\t\t\t\t\t\t\t\t\t\t> Eutheria\n",
      "DEBUG:KaBOBInterface:\t\t\t\t\t\t\t\t\t\t\t\t\t> Theria <Mammalia>\n",
      "DEBUG:KaBOBInterface:\t\t\t\t\t\t\t\t\t\t\t\t\t\t> Mammalia\n",
      "DEBUG:KaBOBInterface:\t\t\t\t\t\t\t\t\t\t\t\t\t\t\t> Amniota\n",
      "DEBUG:KaBOBInterface:\t\t\t\t\t\t\t\t\t\t\t\t\t\t\t\t> Tetrapoda\n",
      "DEBUG:KaBOBInterface:\t\t\t\t\t\t\t\t\t\t\t\t\t\t\t\t\t> Dipnotetrapodomorpha\n",
      "DEBUG:KaBOBInterface:\t\t\t\t\t\t\t\t\t\t\t\t\t\t\t\t\t\t> Sarcopterygii\n",
      "DEBUG:KaBOBInterface:\t\t\t\t\t\t\t\t\t\t\t\t\t\t\t\t\t\t\t> Euteleostomi\n",
      "DEBUG:KaBOBInterface:\t\t\t\t\t\t\t\t\t\t\t\t\t\t\t\t\t\t\t\t> Teleostomi\n",
      "DEBUG:KaBOBInterface:\t\t\t\t\t\t\t\t\t\t\t\t\t\t\t\t\t\t\t\t\t> Gnathostomata <vertebrate>\n",
      "DEBUG:KaBOBInterface:\t\t\t\t\t\t\t\t\t\t\t\t\t\t\t\t\t\t\t\t\t\t> Vertebrata <Metazoa>\n",
      "DEBUG:KaBOBInterface:\t\t\t\t\t\t\t\t\t\t\t\t\t\t\t\t\t\t\t\t\t\t\t> Craniata <chordata>\n",
      "DEBUG:KaBOBInterface:\t\t\t\t\t\t\t\t\t\t\t\t\t\t\t\t\t\t\t\t\t\t\t\t> Chordata\n",
      "DEBUG:KaBOBInterface:\t\t\t\t\t\t\t\t\t\t\t\t\t\t\t\t\t\t\t\t\t\t\t\t\t> Deuterostomia\n",
      "DEBUG:KaBOBInterface:\t\t\t\t\t\t\t\t\t\t\t\t\t\t\t\t\t\t\t\t\t\t\t\t\t\t> Bilateria\n",
      "DEBUG:KaBOBInterface:\t\t\t\t\t\t\t\t\t\t\t\t\t\t\t\t\t\t\t\t\t\t\t\t\t\t\t> Eumetazoa\n",
      "DEBUG:KaBOBInterface:\t\t\t\t\t\t\t\t\t\t\t\t\t\t\t\t\t\t\t\t\t\t\t\t\t\t\t\t> Metazoa\n",
      "DEBUG:KaBOBInterface:\t\t\t\t\t\t\t\t\t\t\t\t\t\t\t\t\t\t\t\t\t\t\t\t\t\t\t\t\t> Opisthokonta\n",
      "DEBUG:KaBOBInterface:\t\t\t\t\t\t\t\t\t\t\t\t\t\t\t\t\t\t\t\t\t\t\t\t\t\t\t\t\t\t> Eukaryota\n",
      "DEBUG:KaBOBInterface:\t\t\t\t\t\t\t\t\t\t\t\t\t\t\t\t\t\t\t\t\t\t\t\t\t\t\t\t\t\t\t> organism\n",
      "DEBUG:KaBOBInterface:\t\t\t\t\t\t\t\t\t\t\t\t\t\t\t\t\t\t\t\t\t\t\t\t\t\t\t\t\t\t\t< organism\n",
      "DEBUG:KaBOBInterface:\t\t\t\t\t\t\t\t\t\t\t\t\t\t\t\t\t\t\t\t\t\t\t\t\t\t\t\t\t\t\t> cellular organisms\n",
      "DEBUG:KaBOBInterface:\t\t\t\t\t\t\t\t\t\t\t\t\t\t\t\t\t\t\t\t\t\t\t\t\t\t\t\t\t\t\t\t> ncbitaxon\n",
      "DEBUG:KaBOBInterface:\t\t\t\t\t\t\t\t\t\t\t\t\t\t\t\t\t\t\t\t\t\t\t\t\t\t\t\t\t\t\t\t< ncbitaxon\n",
      "DEBUG:KaBOBInterface:\t\t\t\t\t\t\t\t\t\t\t\t\t\t\t\t\t\t\t\t\t\t\t\t\t\t\t\t\t\t\t< cellular organisms\n",
      "DEBUG:KaBOBInterface:\t\t\t\t\t\t\t\t\t\t\t\t\t\t\t\t\t\t\t\t\t\t\t\t\t\t\t\t\t\t\t> superkingdom\n",
      "DEBUG:KaBOBInterface:\t\t\t\t\t\t\t\t\t\t\t\t\t\t\t\t\t\t\t\t\t\t\t\t\t\t\t\t\t\t\t\t> taxonomic rank\n",
      "DEBUG:KaBOBInterface:\t\t\t\t\t\t\t\t\t\t\t\t\t\t\t\t\t\t\t\t\t\t\t\t\t\t\t\t\t\t\t\t< taxonomic rank\n",
      "DEBUG:KaBOBInterface:\t\t\t\t\t\t\t\t\t\t\t\t\t\t\t\t\t\t\t\t\t\t\t\t\t\t\t\t\t\t\t< superkingdom\n",
      "DEBUG:KaBOBInterface:\t\t\t\t\t\t\t\t\t\t\t\t\t\t\t\t\t\t\t\t\t\t\t\t\t\t\t\t\t\t< Eukaryota\n",
      "DEBUG:KaBOBInterface:\t\t\t\t\t\t\t\t\t\t\t\t\t\t\t\t\t\t\t\t\t\t\t\t\t\t\t\t\t\t> Alveolata\n",
      "DEBUG:KaBOBInterface:\t\t\t\t\t\t\t\t\t\t\t\t\t\t\t\t\t\t\t\t\t\t\t\t\t\t\t\t\t\t\t> Glaucocystophyceae\n",
      "DEBUG:KaBOBInterface:\t\t\t\t\t\t\t\t\t\t\t\t\t\t\t\t\t\t\t\t\t\t\t\t\t\t\t\t\t\t\t\t> Amoebozoa\n",
      "DEBUG:KaBOBInterface:\t\t\t\t\t\t\t\t\t\t\t\t\t\t\t\t\t\t\t\t\t\t\t\t\t\t\t\t\t\t\t\t< Amoebozoa\n",
      "DEBUG:KaBOBInterface:\t\t\t\t\t\t\t\t\t\t\t\t\t\t\t\t\t\t\t\t\t\t\t\t\t\t\t\t\t\t\t\t> class\n",
      "DEBUG:KaBOBInterface:\t\t\t\t\t\t\t\t\t\t\t\t\t\t\t\t\t\t\t\t\t\t\t\t\t\t\t\t\t\t\t\t< class\n",
      "DEBUG:KaBOBInterface:\t\t\t\t\t\t\t\t\t\t\t\t\t\t\t\t\t\t\t\t\t\t\t\t\t\t\t\t\t\t\t< Glaucocystophyceae\n",
      "DEBUG:KaBOBInterface:\t\t\t\t\t\t\t\t\t\t\t\t\t\t\t\t\t\t\t\t\t\t\t\t\t\t\t\t\t\t\t> Stramenopiles\n",
      "DEBUG:KaBOBInterface:\t\t\t\t\t\t\t\t\t\t\t\t\t\t\t\t\t\t\t\t\t\t\t\t\t\t\t\t\t\t\t\t> Euglenozoa\n",
      "DEBUG:KaBOBInterface:\t\t\t\t\t\t\t\t\t\t\t\t\t\t\t\t\t\t\t\t\t\t\t\t\t\t\t\t\t\t\t\t< Euglenozoa\n",
      "DEBUG:KaBOBInterface:\t\t\t\t\t\t\t\t\t\t\t\t\t\t\t\t\t\t\t\t\t\t\t\t\t\t\t\t\t\t\t< Stramenopiles\n",
      "DEBUG:KaBOBInterface:\t\t\t\t\t\t\t\t\t\t\t\t\t\t\t\t\t\t\t\t\t\t\t\t\t\t\t\t\t\t< Alveolata\n",
      "DEBUG:KaBOBInterface:\t\t\t\t\t\t\t\t\t\t\t\t\t\t\t\t\t\t\t\t\t\t\t\t\t\t\t\t\t< Opisthokonta\n",
      "DEBUG:KaBOBInterface:\t\t\t\t\t\t\t\t\t\t\t\t\t\t\t\t\t\t\t\t\t\t\t\t\t\t\t\t\t> Fungi\n",
      "DEBUG:KaBOBInterface:\t\t\t\t\t\t\t\t\t\t\t\t\t\t\t\t\t\t\t\t\t\t\t\t\t\t\t\t\t\t> kingdom\n"
     ]
    },
    {
     "name": "stderr",
     "output_type": "stream",
     "text": [
      "DEBUG:KaBOBInterface:\t\t\t\t\t\t\t\t\t\t\t\t\t\t\t\t\t\t\t\t\t\t\t\t\t\t\t\t\t\t< kingdom\n",
      "DEBUG:KaBOBInterface:\t\t\t\t\t\t\t\t\t\t\t\t\t\t\t\t\t\t\t\t\t\t\t\t\t\t\t\t\t< Fungi\n",
      "DEBUG:KaBOBInterface:\t\t\t\t\t\t\t\t\t\t\t\t\t\t\t\t\t\t\t\t\t\t\t\t\t\t\t\t< Metazoa\n",
      "DEBUG:KaBOBInterface:\t\t\t\t\t\t\t\t\t\t\t\t\t\t\t\t\t\t\t\t\t\t\t\t\t\t\t< Eumetazoa\n",
      "DEBUG:KaBOBInterface:\t\t\t\t\t\t\t\t\t\t\t\t\t\t\t\t\t\t\t\t\t\t\t\t\t\t\t> Cnidaria\n",
      "DEBUG:KaBOBInterface:\t\t\t\t\t\t\t\t\t\t\t\t\t\t\t\t\t\t\t\t\t\t\t\t\t\t\t\t> phylum\n",
      "DEBUG:KaBOBInterface:\t\t\t\t\t\t\t\t\t\t\t\t\t\t\t\t\t\t\t\t\t\t\t\t\t\t\t\t< phylum\n",
      "DEBUG:KaBOBInterface:\t\t\t\t\t\t\t\t\t\t\t\t\t\t\t\t\t\t\t\t\t\t\t\t\t\t\t< Cnidaria\n",
      "DEBUG:KaBOBInterface:\t\t\t\t\t\t\t\t\t\t\t\t\t\t\t\t\t\t\t\t\t\t\t\t\t\t< Bilateria\n",
      "DEBUG:KaBOBInterface:\t\t\t\t\t\t\t\t\t\t\t\t\t\t\t\t\t\t\t\t\t\t\t\t\t\t> Platyhelminthes\n",
      "DEBUG:KaBOBInterface:\t\t\t\t\t\t\t\t\t\t\t\t\t\t\t\t\t\t\t\t\t\t\t\t\t\t< Platyhelminthes\n",
      "DEBUG:KaBOBInterface:\t\t\t\t\t\t\t\t\t\t\t\t\t\t\t\t\t\t\t\t\t\t\t\t\t< Deuterostomia\n",
      "DEBUG:KaBOBInterface:\t\t\t\t\t\t\t\t\t\t\t\t\t\t\t\t\t\t\t\t\t\t\t\t< Chordata\n",
      "DEBUG:KaBOBInterface:\t\t\t\t\t\t\t\t\t\t\t\t\t\t\t\t\t\t\t\t\t\t\t\t> subphylum\n",
      "DEBUG:KaBOBInterface:\t\t\t\t\t\t\t\t\t\t\t\t\t\t\t\t\t\t\t\t\t\t\t\t< subphylum\n",
      "DEBUG:KaBOBInterface:\t\t\t\t\t\t\t\t\t\t\t\t\t\t\t\t\t\t\t\t\t\t\t< Craniata <chordata>\n",
      "DEBUG:KaBOBInterface:\t\t\t\t\t\t\t\t\t\t\t\t\t\t\t\t\t\t\t\t\t\t< Vertebrata <Metazoa>\n",
      "DEBUG:KaBOBInterface:\t\t\t\t\t\t\t\t\t\t\t\t\t\t\t\t\t\t\t\t\t< Gnathostomata <vertebrate>\n",
      "DEBUG:KaBOBInterface:\t\t\t\t\t\t\t\t\t\t\t\t\t\t\t\t\t\t\t\t\t> Chondrichthyes\n",
      "DEBUG:KaBOBInterface:\t\t\t\t\t\t\t\t\t\t\t\t\t\t\t\t\t\t\t\t\t< Chondrichthyes\n",
      "DEBUG:KaBOBInterface:\t\t\t\t\t\t\t\t\t\t\t\t\t\t\t\t\t\t\t\t< Teleostomi\n",
      "DEBUG:KaBOBInterface:\t\t\t\t\t\t\t\t\t\t\t\t\t\t\t\t\t\t\t< Euteleostomi\n",
      "DEBUG:KaBOBInterface:\t\t\t\t\t\t\t\t\t\t\t\t\t\t\t\t\t\t\t> superclass\n",
      "DEBUG:KaBOBInterface:\t\t\t\t\t\t\t\t\t\t\t\t\t\t\t\t\t\t\t< superclass\n",
      "DEBUG:KaBOBInterface:\t\t\t\t\t\t\t\t\t\t\t\t\t\t\t\t\t\t< Sarcopterygii\n",
      "DEBUG:KaBOBInterface:\t\t\t\t\t\t\t\t\t\t\t\t\t\t\t\t\t< Dipnotetrapodomorpha\n",
      "DEBUG:KaBOBInterface:\t\t\t\t\t\t\t\t\t\t\t\t\t\t\t\t\t> Dipnoi\n",
      "DEBUG:KaBOBInterface:\t\t\t\t\t\t\t\t\t\t\t\t\t\t\t\t\t< Dipnoi\n",
      "DEBUG:KaBOBInterface:\t\t\t\t\t\t\t\t\t\t\t\t\t\t\t\t< Tetrapoda\n",
      "DEBUG:KaBOBInterface:\t\t\t\t\t\t\t\t\t\t\t\t\t\t\t\t> Amphibia\n",
      "DEBUG:KaBOBInterface:\t\t\t\t\t\t\t\t\t\t\t\t\t\t\t\t< Amphibia\n",
      "DEBUG:KaBOBInterface:\t\t\t\t\t\t\t\t\t\t\t\t\t\t\t< Amniota\n",
      "DEBUG:KaBOBInterface:\t\t\t\t\t\t\t\t\t\t\t\t\t\t\t> Sauropsida\n",
      "DEBUG:KaBOBInterface:\t\t\t\t\t\t\t\t\t\t\t\t\t\t\t< Sauropsida\n",
      "DEBUG:KaBOBInterface:\t\t\t\t\t\t\t\t\t\t\t\t\t\t< Mammalia\n",
      "DEBUG:KaBOBInterface:\t\t\t\t\t\t\t\t\t\t\t\t\t\t> Prototheria\n",
      "DEBUG:KaBOBInterface:\t\t\t\t\t\t\t\t\t\t\t\t\t\t< Prototheria\n",
      "DEBUG:KaBOBInterface:\t\t\t\t\t\t\t\t\t\t\t\t\t< Theria <Mammalia>\n",
      "DEBUG:KaBOBInterface:\t\t\t\t\t\t\t\t\t\t\t\t< Eutheria\n",
      "DEBUG:KaBOBInterface:\t\t\t\t\t\t\t\t\t\t\t\t> Xenarthra\n",
      "DEBUG:KaBOBInterface:\t\t\t\t\t\t\t\t\t\t\t\t\t> superorder\n",
      "DEBUG:KaBOBInterface:\t\t\t\t\t\t\t\t\t\t\t\t\t< superorder\n",
      "DEBUG:KaBOBInterface:\t\t\t\t\t\t\t\t\t\t\t\t< Xenarthra\n",
      "DEBUG:KaBOBInterface:\t\t\t\t\t\t\t\t\t\t\t\t> Afrotheria\n",
      "DEBUG:KaBOBInterface:\t\t\t\t\t\t\t\t\t\t\t\t< Afrotheria\n",
      "DEBUG:KaBOBInterface:\t\t\t\t\t\t\t\t\t\t\t< Boreoeutheria\n",
      "DEBUG:KaBOBInterface:\t\t\t\t\t\t\t\t\t\t< Euarchontoglires\n",
      "DEBUG:KaBOBInterface:\t\t\t\t\t\t\t\t\t\t> order\n",
      "DEBUG:KaBOBInterface:\t\t\t\t\t\t\t\t\t\t< order\n",
      "DEBUG:KaBOBInterface:\t\t\t\t\t\t\t\t\t< Primates\n",
      "DEBUG:KaBOBInterface:\t\t\t\t\t\t\t\t\t> suborder\n",
      "DEBUG:KaBOBInterface:\t\t\t\t\t\t\t\t\t< suborder\n",
      "DEBUG:KaBOBInterface:\t\t\t\t\t\t\t\t< Haplorrhini\n",
      "DEBUG:KaBOBInterface:\t\t\t\t\t\t\t\t> Tarsiiformes\n",
      "DEBUG:KaBOBInterface:\t\t\t\t\t\t\t\t\t> infraorder\n",
      "DEBUG:KaBOBInterface:\t\t\t\t\t\t\t\t\t< infraorder\n",
      "DEBUG:KaBOBInterface:\t\t\t\t\t\t\t\t< Tarsiiformes\n",
      "DEBUG:KaBOBInterface:\t\t\t\t\t\t\t< Simiiformes\n",
      "DEBUG:KaBOBInterface:\t\t\t\t\t\t\t> parvorder\n",
      "DEBUG:KaBOBInterface:\t\t\t\t\t\t\t< parvorder\n",
      "DEBUG:KaBOBInterface:\t\t\t\t\t\t< Catarrhini\n",
      "DEBUG:KaBOBInterface:\t\t\t\t\t\t> superfamily\n",
      "DEBUG:KaBOBInterface:\t\t\t\t\t\t< superfamily\n",
      "DEBUG:KaBOBInterface:\t\t\t\t\t< Hominoidea\n",
      "DEBUG:KaBOBInterface:\t\t\t\t\t> family\n",
      "DEBUG:KaBOBInterface:\t\t\t\t\t< family\n",
      "DEBUG:KaBOBInterface:\t\t\t\t< Hominidae\n",
      "DEBUG:KaBOBInterface:\t\t\t\t> Ponginae\n",
      "DEBUG:KaBOBInterface:\t\t\t\t\t> subfamily\n",
      "DEBUG:KaBOBInterface:\t\t\t\t\t< subfamily\n",
      "DEBUG:KaBOBInterface:\t\t\t\t< Ponginae\n",
      "DEBUG:KaBOBInterface:\t\t\t< Homininae\n",
      "DEBUG:KaBOBInterface:\t\t\t> genus\n",
      "DEBUG:KaBOBInterface:\t\t\t< genus\n",
      "DEBUG:KaBOBInterface:\t\t< Homo\n",
      "DEBUG:KaBOBInterface:\t\t> species\n",
      "DEBUG:KaBOBInterface:\t\t< species\n",
      "DEBUG:KaBOBInterface:\t< Homo sapiens\n",
      "DEBUG:KaBOBInterface:< cellular tumor antigen p53 (human)\n",
      "DEBUG:OpenKaBOB:Closed kabob_class_latest\n"
     ]
    }
   ],
   "source": [
    "p53 = \"obo:PR_P04637\"\n",
    "\n",
    "with OpenKaBOB(\"KaBOB_credentials.txt\") as kabob:\n",
    "    interface = KaBOBInterface(kabob)\n",
    "    bio_p53 = interface.bio(interface.create_uri(p53))\n",
    "    interface.mopify(bio_p53)\n",
    "        \n",
    "#     interface.draw(layout=nx.circular_layout)"
   ]
  },
  {
   "cell_type": "markdown",
   "metadata": {},
   "source": [
    "Number of nodes in Bio World"
   ]
  },
  {
   "cell_type": "code",
   "execution_count": 3,
   "metadata": {},
   "outputs": [
    {
     "name": "stderr",
     "output_type": "stream",
     "text": [
      "DEBUG:KaBOBInterface:Connecting to AllegroGraph server --host:'amc-tantor.ucdenver.pvt' port:10037\n"
     ]
    },
    {
     "name": "stdout",
     "output_type": "stream",
     "text": [
      "Reading mops\n"
     ]
    },
    {
     "name": "stderr",
     "output_type": "stream",
     "text": [
      "DEBUG:KaBOBInterface:Closed AllegroGraph server --host:'amc-tantor.ucdenver.pvt' port:10037\n"
     ]
    },
    {
     "name": "stdout",
     "output_type": "stream",
     "text": [
      "Calculating statistics\n",
      "***Frame Statistics***\n",
      "\tNumber of mop: 31211\n",
      "\n",
      "***Role Statistics***\n",
      "\tNumber of only_in_taxon: 3975\n",
      "\tNumber of equivalent: 674\n",
      "\tNumber of has_participant: 283\n",
      "\tNumber of causes or contributes to condition: 172\n",
      "\tNumber of transports or maintains localization of: 93\n",
      "\tNumber of has target end location: 93\n",
      "\tNumber of never_in_taxon: 25\n"
     ]
    }
   ],
   "source": [
    "with KaBOBInterface(\"KaBOB_credentials.txt\") as interface:\n",
    "    \n",
    "    print(\"Reading mops\")\n",
    "    mops = pickle.load(open(\"E:/Documents/KaBOB/pickles/mops.pickle\", \"rb\"))\n",
    "    interface.mops = mops\n",
    "    \n",
    "    print(\"Calculating statistics\")\n",
    "    frame_stats, role_stats = interface.mops.get_statistics()\n",
    "    \n",
    "    print(\"***Frame Statistics***\")\n",
    "    for key, value in frame_stats.items():\n",
    "        print(\"\\tNumber of %s: %d\" % (key, value))\n",
    "    \n",
    "    print()\n",
    "    \n",
    "    print(\"***Role Statistics***\")\n",
    "    for key, value in role_stats.items():\n",
    "        print(\"\\tNumber of %s: %d\" % (key, value))\n",
    "        \n",
    "    "
   ]
  },
  {
   "cell_type": "code",
   "execution_count": 15,
   "metadata": {},
   "outputs": [
    {
     "name": "stderr",
     "output_type": "stream",
     "text": [
      "DEBUG:KaBOBInterface:Connecting to AllegroGraph server --host:'amc-tantor.ucdenver.pvt' port:10037\n",
      "DEBUG:KaBOBInterface:> low-density lipoprotein particle clearance\n"
     ]
    },
    {
     "name": "stdout",
     "output_type": "stream",
     "text": [
      "Hyper cholesterol is involved in 28 statements of interest\n",
      "****** 0 ******\n"
     ]
    },
    {
     "name": "stderr",
     "output_type": "stream",
     "text": [
      "DEBUG:KaBOBInterface:\t> plasma lipoprotein particle clearance\n",
      "DEBUG:KaBOBInterface:\t\t> multicellular organismal process\n",
      "DEBUG:KaBOBInterface:\t\t\t> biological_process\n",
      "DEBUG:KaBOBInterface:\t\t\t\t> processual entity\n",
      "DEBUG:KaBOBInterface:\t\t\t\t\t> occurrent\n",
      "DEBUG:KaBOBInterface:\t\t\t\t\t\t> entity\n",
      "DEBUG:KaBOBInterface:\t\t\t\t\t\t< entity\n",
      "DEBUG:KaBOBInterface:\t\t\t\t\t< occurrent\n",
      "DEBUG:KaBOBInterface:\t\t\t\t< processual entity\n",
      "DEBUG:KaBOBInterface:\t\t\t< biological_process\n",
      "DEBUG:KaBOBInterface:\t\t\t> Saccharomyces cerevisiae\n",
      "DEBUG:KaBOBInterface:\t\t\t\t> Saccharomyces\n",
      "DEBUG:KaBOBInterface:\t\t\t\t\t> Saccharomycetaceae\n",
      "DEBUG:KaBOBInterface:\t\t\t\t\t\t> Saccharomycetales\n",
      "DEBUG:KaBOBInterface:\t\t\t\t\t\t\t> Saccharomycetes\n",
      "DEBUG:KaBOBInterface:\t\t\t\t\t\t\t\t> Saccharomycotina\n",
      "DEBUG:KaBOBInterface:\t\t\t\t\t\t\t\t\t> saccharomyceta\n",
      "DEBUG:KaBOBInterface:\t\t\t\t\t\t\t\t\t\t> Ascomycota\n",
      "DEBUG:KaBOBInterface:\t\t\t\t\t\t\t\t\t\t\t> Dikarya\n",
      "DEBUG:KaBOBInterface:\t\t\t\t\t\t\t\t\t\t\t\t> Fungi\n",
      "DEBUG:KaBOBInterface:\t\t\t\t\t\t\t\t\t\t\t\t\t> Opisthokonta\n",
      "DEBUG:KaBOBInterface:\t\t\t\t\t\t\t\t\t\t\t\t\t\t> Eukaryota\n",
      "DEBUG:KaBOBInterface:\t\t\t\t\t\t\t\t\t\t\t\t\t\t\t> organism\n",
      "DEBUG:KaBOBInterface:\t\t\t\t\t\t\t\t\t\t\t\t\t\t\t\t> object\n",
      "DEBUG:KaBOBInterface:\t\t\t\t\t\t\t\t\t\t\t\t\t\t\t\t\t> material entity\n",
      "DEBUG:KaBOBInterface:\t\t\t\t\t\t\t\t\t\t\t\t\t\t\t\t\t\t> independent continuant\n",
      "DEBUG:KaBOBInterface:\t\t\t\t\t\t\t\t\t\t\t\t\t\t\t\t\t\t\t> continuant\n",
      "DEBUG:KaBOBInterface:\t\t\t\t\t\t\t\t\t\t\t\t\t\t\t\t\t\t\t< continuant\n",
      "DEBUG:KaBOBInterface:\t\t\t\t\t\t\t\t\t\t\t\t\t\t\t\t\t\t< independent continuant\n",
      "DEBUG:KaBOBInterface:\t\t\t\t\t\t\t\t\t\t\t\t\t\t\t\t\t< material entity\n",
      "DEBUG:KaBOBInterface:\t\t\t\t\t\t\t\t\t\t\t\t\t\t\t\t< object\n",
      "DEBUG:KaBOBInterface:\t\t\t\t\t\t\t\t\t\t\t\t\t\t\t< organism\n",
      "DEBUG:KaBOBInterface:\t\t\t\t\t\t\t\t\t\t\t\t\t\t\t> cellular organisms\n",
      "DEBUG:KaBOBInterface:\t\t\t\t\t\t\t\t\t\t\t\t\t\t\t\t> ncbitaxon\n",
      "DEBUG:KaBOBInterface:\t\t\t\t\t\t\t\t\t\t\t\t\t\t\t\t< ncbitaxon\n",
      "DEBUG:KaBOBInterface:\t\t\t\t\t\t\t\t\t\t\t\t\t\t\t< cellular organisms\n",
      "DEBUG:KaBOBInterface:\t\t\t\t\t\t\t\t\t\t\t\t\t\t< Eukaryota\n",
      "DEBUG:KaBOBInterface:\t\t\t\t\t\t\t\t\t\t\t\t\t< Opisthokonta\n",
      "DEBUG:KaBOBInterface:\t\t\t\t\t\t\t\t\t\t\t\t< Fungi\n",
      "DEBUG:KaBOBInterface:\t\t\t\t\t\t\t\t\t\t\t< Dikarya\n",
      "DEBUG:KaBOBInterface:\t\t\t\t\t\t\t\t\t\t< Ascomycota\n",
      "DEBUG:KaBOBInterface:\t\t\t\t\t\t\t\t\t< saccharomyceta\n",
      "DEBUG:KaBOBInterface:\t\t\t\t\t\t\t\t< Saccharomycotina\n",
      "DEBUG:KaBOBInterface:\t\t\t\t\t\t\t< Saccharomycetes\n",
      "DEBUG:KaBOBInterface:\t\t\t\t\t\t< Saccharomycetales\n",
      "DEBUG:KaBOBInterface:\t\t\t\t\t< Saccharomycetaceae\n",
      "DEBUG:KaBOBInterface:\t\t\t\t< Saccharomyces\n",
      "DEBUG:KaBOBInterface:\t\t\t< Saccharomyces cerevisiae\n",
      "DEBUG:KaBOBInterface:\t\t\t> Schizosaccharomyces pombe\n",
      "DEBUG:KaBOBInterface:\t\t\t\t> Schizosaccharomyces\n",
      "DEBUG:KaBOBInterface:\t\t\t\t\t> Schizosaccharomycetaceae\n",
      "DEBUG:KaBOBInterface:\t\t\t\t\t\t> Schizosaccharomycetales\n",
      "DEBUG:KaBOBInterface:\t\t\t\t\t\t\t> Schizosaccharomycetes\n",
      "DEBUG:KaBOBInterface:\t\t\t\t\t\t\t\t> Taphrinomycotina\n",
      "DEBUG:KaBOBInterface:\t\t\t\t\t\t\t\t< Taphrinomycotina\n",
      "DEBUG:KaBOBInterface:\t\t\t\t\t\t\t< Schizosaccharomycetes\n",
      "DEBUG:KaBOBInterface:\t\t\t\t\t\t< Schizosaccharomycetales\n",
      "DEBUG:KaBOBInterface:\t\t\t\t\t< Schizosaccharomycetaceae\n",
      "DEBUG:KaBOBInterface:\t\t\t\t< Schizosaccharomyces\n",
      "DEBUG:KaBOBInterface:\t\t\t< Schizosaccharomyces pombe\n",
      "DEBUG:KaBOBInterface:\t\t< multicellular organismal process\n",
      "DEBUG:KaBOBInterface:\t< plasma lipoprotein particle clearance\n",
      "DEBUG:KaBOBInterface:< low-density lipoprotein particle clearance\n",
      "WARNING:KaBOBInterface:Trivial mopification of non-BIO-world node <http://ccp.ucdenver.edu/kabob/ice/GO_0034383>\n"
     ]
    },
    {
     "name": "stdout",
     "output_type": "stream",
     "text": [
      "****** 1 ******\n",
      "****** 2 ******\n"
     ]
    },
    {
     "name": "stderr",
     "output_type": "stream",
     "text": [
      "DEBUG:KaBOBInterface:> GO_0034383\n",
      "DEBUG:KaBOBInterface:< GO_0034383\n",
      "WARNING:KaBOBInterface:Trivial mopification of non-BIO-world node <http://ccp.ucdenver.edu/obo/ext/IDs-okLLDAonDHJaLjPoNkkW1696gVA>\n",
      "DEBUG:KaBOBInterface:> IDs-okLLDAonDHJaLjPoNkkW1696gVA"
     ]
    },
    {
     "name": "stdout",
     "output_type": "stream",
     "text": [
      "****** 3 ******\n"
     ]
    },
    {
     "name": "stderr",
     "output_type": "stream",
     "text": [
      "\n",
      "DEBUG:KaBOBInterface:< IDs-okLLDAonDHJaLjPoNkkW1696gVA\n"
     ]
    },
    {
     "name": "stdout",
     "output_type": "stream",
     "text": [
      "****** 4 ******\n"
     ]
    },
    {
     "name": "stderr",
     "output_type": "stream",
     "text": [
      "DEBUG:KaBOBInterface:\t> B_CZnTl2FzKqkHVISKgrytkFv0GAY\n",
      "DEBUG:KaBOBInterface:\t\t\t> Homo sapiens\n",
      "DEBUG:KaBOBInterface:\t\t\t\t> Homo\n",
      "DEBUG:KaBOBInterface:\t\t\t\t\t> Homininae\n",
      "DEBUG:KaBOBInterface:\t\t\t\t\t\t> Hominidae\n",
      "DEBUG:KaBOBInterface:\t\t\t\t\t\t\t> Hominoidea\n",
      "DEBUG:KaBOBInterface:\t\t\t\t\t\t\t\t> Catarrhini\n",
      "DEBUG:KaBOBInterface:\t\t\t\t\t\t\t\t\t> Simiiformes\n",
      "DEBUG:KaBOBInterface:\t\t\t\t\t\t\t\t\t\t> Haplorrhini\n",
      "DEBUG:KaBOBInterface:\t\t\t\t\t\t\t\t\t\t\t> Primates\n",
      "DEBUG:KaBOBInterface:\t\t\t\t\t\t\t\t\t\t\t\t> Euarchontoglires\n",
      "DEBUG:KaBOBInterface:\t\t\t\t\t\t\t\t\t\t\t\t\t> Boreoeutheria\n",
      "DEBUG:KaBOBInterface:\t\t\t\t\t\t\t\t\t\t\t\t\t\t> Eutheria\n",
      "DEBUG:KaBOBInterface:\t\t\t\t\t\t\t\t\t\t\t\t\t\t\t> Theria <Mammalia>\n",
      "DEBUG:KaBOBInterface:\t\t\t\t\t\t\t\t\t\t\t\t\t\t\t\t> Mammalia\n",
      "DEBUG:KaBOBInterface:\t\t\t\t\t\t\t\t\t\t\t\t\t\t\t\t\t> Amniota\n",
      "DEBUG:KaBOBInterface:\t\t\t\t\t\t\t\t\t\t\t\t\t\t\t\t\t\t> Tetrapoda\n",
      "DEBUG:KaBOBInterface:\t\t\t\t\t\t\t\t\t\t\t\t\t\t\t\t\t\t\t> Dipnotetrapodomorpha\n",
      "DEBUG:KaBOBInterface:\t\t\t\t\t\t\t\t\t\t\t\t\t\t\t\t\t\t\t\t> Sarcopterygii\n",
      "DEBUG:KaBOBInterface:\t\t\t\t\t\t\t\t\t\t\t\t\t\t\t\t\t\t\t\t\t> Euteleostomi\n",
      "DEBUG:KaBOBInterface:\t\t\t\t\t\t\t\t\t\t\t\t\t\t\t\t\t\t\t\t\t\t> Teleostomi\n",
      "DEBUG:KaBOBInterface:\t\t\t\t\t\t\t\t\t\t\t\t\t\t\t\t\t\t\t\t\t\t\t> Gnathostomata <vertebrate>\n",
      "DEBUG:KaBOBInterface:\t\t\t\t\t\t\t\t\t\t\t\t\t\t\t\t\t\t\t\t\t\t\t\t> Vertebrata <Metazoa>\n",
      "DEBUG:KaBOBInterface:\t\t\t\t\t\t\t\t\t\t\t\t\t\t\t\t\t\t\t\t\t\t\t\t\t> Craniata <chordata>\n",
      "DEBUG:KaBOBInterface:\t\t\t\t\t\t\t\t\t\t\t\t\t\t\t\t\t\t\t\t\t\t\t\t\t\t> Chordata\n",
      "DEBUG:KaBOBInterface:\t\t\t\t\t\t\t\t\t\t\t\t\t\t\t\t\t\t\t\t\t\t\t\t\t\t\t> Deuterostomia\n",
      "DEBUG:KaBOBInterface:\t\t\t\t\t\t\t\t\t\t\t\t\t\t\t\t\t\t\t\t\t\t\t\t\t\t\t\t> Bilateria\n",
      "DEBUG:KaBOBInterface:\t\t\t\t\t\t\t\t\t\t\t\t\t\t\t\t\t\t\t\t\t\t\t\t\t\t\t\t\t> Eumetazoa\n",
      "DEBUG:KaBOBInterface:\t\t\t\t\t\t\t\t\t\t\t\t\t\t\t\t\t\t\t\t\t\t\t\t\t\t\t\t\t\t> Metazoa\n",
      "DEBUG:KaBOBInterface:\t\t\t\t\t\t\t\t\t\t\t\t\t\t\t\t\t\t\t\t\t\t\t\t\t\t\t\t\t\t< Metazoa\n",
      "DEBUG:KaBOBInterface:\t\t\t\t\t\t\t\t\t\t\t\t\t\t\t\t\t\t\t\t\t\t\t\t\t\t\t\t\t< Eumetazoa\n",
      "DEBUG:KaBOBInterface:\t\t\t\t\t\t\t\t\t\t\t\t\t\t\t\t\t\t\t\t\t\t\t\t\t\t\t\t< Bilateria\n",
      "DEBUG:KaBOBInterface:\t\t\t\t\t\t\t\t\t\t\t\t\t\t\t\t\t\t\t\t\t\t\t\t\t\t\t< Deuterostomia\n",
      "DEBUG:KaBOBInterface:\t\t\t\t\t\t\t\t\t\t\t\t\t\t\t\t\t\t\t\t\t\t\t\t\t\t< Chordata\n",
      "DEBUG:KaBOBInterface:\t\t\t\t\t\t\t\t\t\t\t\t\t\t\t\t\t\t\t\t\t\t\t\t\t< Craniata <chordata>\n",
      "DEBUG:KaBOBInterface:\t\t\t\t\t\t\t\t\t\t\t\t\t\t\t\t\t\t\t\t\t\t\t\t< Vertebrata <Metazoa>\n",
      "DEBUG:KaBOBInterface:\t\t\t\t\t\t\t\t\t\t\t\t\t\t\t\t\t\t\t\t\t\t\t< Gnathostomata <vertebrate>\n",
      "DEBUG:KaBOBInterface:\t\t\t\t\t\t\t\t\t\t\t\t\t\t\t\t\t\t\t\t\t\t< Teleostomi\n",
      "DEBUG:KaBOBInterface:\t\t\t\t\t\t\t\t\t\t\t\t\t\t\t\t\t\t\t\t\t< Euteleostomi\n",
      "DEBUG:KaBOBInterface:\t\t\t\t\t\t\t\t\t\t\t\t\t\t\t\t\t\t\t\t< Sarcopterygii\n",
      "DEBUG:KaBOBInterface:\t\t\t\t\t\t\t\t\t\t\t\t\t\t\t\t\t\t\t< Dipnotetrapodomorpha\n",
      "DEBUG:KaBOBInterface:\t\t\t\t\t\t\t\t\t\t\t\t\t\t\t\t\t\t< Tetrapoda\n",
      "DEBUG:KaBOBInterface:\t\t\t\t\t\t\t\t\t\t\t\t\t\t\t\t\t< Amniota\n",
      "DEBUG:KaBOBInterface:\t\t\t\t\t\t\t\t\t\t\t\t\t\t\t\t< Mammalia\n",
      "DEBUG:KaBOBInterface:\t\t\t\t\t\t\t\t\t\t\t\t\t\t\t< Theria <Mammalia>\n",
      "DEBUG:KaBOBInterface:\t\t\t\t\t\t\t\t\t\t\t\t\t\t< Eutheria\n",
      "DEBUG:KaBOBInterface:\t\t\t\t\t\t\t\t\t\t\t\t\t< Boreoeutheria\n",
      "DEBUG:KaBOBInterface:\t\t\t\t\t\t\t\t\t\t\t\t< Euarchontoglires\n",
      "DEBUG:KaBOBInterface:\t\t\t\t\t\t\t\t\t\t\t< Primates\n",
      "DEBUG:KaBOBInterface:\t\t\t\t\t\t\t\t\t\t< Haplorrhini\n",
      "DEBUG:KaBOBInterface:\t\t\t\t\t\t\t\t\t< Simiiformes\n",
      "DEBUG:KaBOBInterface:\t\t\t\t\t\t\t\t< Catarrhini\n",
      "DEBUG:KaBOBInterface:\t\t\t\t\t\t\t< Hominoidea\n",
      "DEBUG:KaBOBInterface:\t\t\t\t\t\t< Hominidae\n",
      "DEBUG:KaBOBInterface:\t\t\t\t\t< Homininae\n",
      "DEBUG:KaBOBInterface:\t\t\t\t< Homo\n",
      "DEBUG:KaBOBInterface:\t\t\t< Homo sapiens\n",
      "DEBUG:KaBOBInterface:\t\t> neutral cholesterol ester hydrolase 1 (human)\n",
      "DEBUG:KaBOBInterface:\t\t\t> protein\n",
      "DEBUG:KaBOBInterface:\t\t\t\t> biopolymer\n",
      "DEBUG:KaBOBInterface:\t\t\t\t\t> interactor type\n",
      "DEBUG:KaBOBInterface:\t\t\t\t\t< interactor type\n",
      "DEBUG:KaBOBInterface:\t\t\t\t< biopolymer\n",
      "DEBUG:KaBOBInterface:\t\t\t\t> amino acid chain\n",
      "DEBUG:KaBOBInterface:\t\t\t\t\t> molecular entity\n",
      "DEBUG:KaBOBInterface:\t\t\t\t\t\t> chemical entity\n",
      "DEBUG:KaBOBInterface:\t\t\t\t\t\t< chemical entity\n",
      "DEBUG:KaBOBInterface:\t\t\t\t\t< molecular entity\n",
      "DEBUG:KaBOBInterface:\t\t\t\t\t> organic amino compound\n",
      "DEBUG:KaBOBInterface:\t\t\t\t\t\t> organonitrogen compound\n",
      "DEBUG:KaBOBInterface:\t\t\t\t\t\t\t> nitrogen molecular entity\n",
      "DEBUG:KaBOBInterface:\t\t\t\t\t\t\t\t> pnictogen molecular entity\n",
      "DEBUG:KaBOBInterface:\t\t\t\t\t\t\t\t\t> p-block molecular entity\n",
      "DEBUG:KaBOBInterface:\t\t\t\t\t\t\t\t\t\t> main group molecular entity\n",
      "DEBUG:KaBOBInterface:\t\t\t\t\t\t\t\t\t\t< main group molecular entity\n",
      "DEBUG:KaBOBInterface:\t\t\t\t\t\t\t\t\t< p-block molecular entity\n",
      "DEBUG:KaBOBInterface:\t\t\t\t\t\t\t\t< pnictogen molecular entity\n",
      "DEBUG:KaBOBInterface:\t\t\t\t\t\t\t< nitrogen molecular entity\n",
      "DEBUG:KaBOBInterface:\t\t\t\t\t\t\t> heteroorganic entity\n",
      "DEBUG:KaBOBInterface:\t\t\t\t\t\t\t\t> organic molecular entity\n",
      "DEBUG:KaBOBInterface:\t\t\t\t\t\t\t\t\t> carbon group molecular entity\n",
      "DEBUG:KaBOBInterface:\t\t\t\t\t\t\t\t\t< carbon group molecular entity\n",
      "DEBUG:KaBOBInterface:\t\t\t\t\t\t\t\t< organic molecular entity\n",
      "DEBUG:KaBOBInterface:\t\t\t\t\t\t\t< heteroorganic entity\n",
      "DEBUG:KaBOBInterface:\t\t\t\t\t\t< organonitrogen compound\n",
      "DEBUG:KaBOBInterface:\t\t\t\t\t< organic amino compound\n",
      "DEBUG:KaBOBInterface:\t\t\t\t< amino acid chain\n",
      "DEBUG:KaBOBInterface:\t\t\t\t> physical entity\n",
      "DEBUG:KaBOBInterface:\t\t\t\t< physical entity\n",
      "DEBUG:KaBOBInterface:\t\t\t\t> information biomacromolecule\n",
      "DEBUG:KaBOBInterface:\t\t\t\t\t> biomacromolecule\n",
      "DEBUG:KaBOBInterface:\t\t\t\t\t\t> macromolecule\n",
      "DEBUG:KaBOBInterface:\t\t\t\t\t\t\t> polyatomic entity\n",
      "DEBUG:KaBOBInterface:\t\t\t\t\t\t\t< polyatomic entity\n",
      "DEBUG:KaBOBInterface:\t\t\t\t\t\t< macromolecule\n",
      "DEBUG:KaBOBInterface:\t\t\t\t\t< biomacromolecule\n",
      "DEBUG:KaBOBInterface:\t\t\t\t< information biomacromolecule\n",
      "DEBUG:KaBOBInterface:\t\t\t< protein\n",
      "DEBUG:KaBOBInterface:\t\t\t> neutral cholesterol ester hydrolase 1\n",
      "DEBUG:KaBOBInterface:\t\t\t< neutral cholesterol ester hydrolase 1\n",
      "DEBUG:KaBOBInterface:\t\t\t> GP_B_OhNDomPQUi0XrbV3Cogg37T3vwQ\n",
      "WARNING:KaBOBInterface:\t\t\t\tTrivial mopification of non-BIO-world node <http://ccp.ucdenver.edu/obo/ext/IAO_EXT_0001716>\n",
      "DEBUG:KaBOBInterface:\t\t\t\t> gene product abstraction\n",
      "DEBUG:KaBOBInterface:\t\t\t\t< gene product abstraction\n",
      "DEBUG:KaBOBInterface:\t\t\t\t> GPGPV_B_OhNDomPQUi0XrbV3Cogg37T3vwQ\n",
      "WARNING:KaBOBInterface:\t\t\t\t\tTrivial mopification of non-BIO-world node <http://ccp.ucdenver.edu/obo/ext/IAO_EXT_0001721>\n",
      "DEBUG:KaBOBInterface:\t\t\t\t\t> gene product or gene product variant abstraction\n",
      "DEBUG:KaBOBInterface:\t\t\t\t\t< gene product or gene product variant abstraction\n",
      "DEBUG:KaBOBInterface:\t\t\t\t\t> GGPV_B_OhNDomPQUi0XrbV3Cogg37T3vwQ\n",
      "WARNING:KaBOBInterface:\t\t\t\t\t\tTrivial mopification of non-BIO-world node <http://ccp.ucdenver.edu/obo/ext/IAO_EXT_0001718>\n",
      "DEBUG:KaBOBInterface:\t\t\t\t\t\t> gene or gene product or variant abstraction\n",
      "DEBUG:KaBOBInterface:\t\t\t\t\t\t< gene or gene product or variant abstraction\n",
      "DEBUG:KaBOBInterface:\t\t\t\t\t< GGPV_B_OhNDomPQUi0XrbV3Cogg37T3vwQ\n",
      "DEBUG:KaBOBInterface:\t\t\t\t< GPGPV_B_OhNDomPQUi0XrbV3Cogg37T3vwQ\n",
      "DEBUG:KaBOBInterface:\t\t\t\t> GGP_B_OhNDomPQUi0XrbV3Cogg37T3vwQ\n",
      "WARNING:KaBOBInterface:\t\t\t\t\tTrivial mopification of non-BIO-world node <http://ccp.ucdenver.edu/obo/ext/IAO_EXT_0001715>\n",
      "DEBUG:KaBOBInterface:\t\t\t\t\t> gene or gene product abstraction\n",
      "DEBUG:KaBOBInterface:\t\t\t\t\t< gene or gene product abstraction\n",
      "DEBUG:KaBOBInterface:\t\t\t\t< GGP_B_OhNDomPQUi0XrbV3Cogg37T3vwQ\n",
      "DEBUG:KaBOBInterface:\t\t\t< GP_B_OhNDomPQUi0XrbV3Cogg37T3vwQ\n",
      "DEBUG:KaBOBInterface:\t\t\t> Homo sapiens protein\n",
      "DEBUG:KaBOBInterface:\t\t\t\t> eukaryotic protein\n",
      "DEBUG:KaBOBInterface:\t\t\t\t\t> BN_go-plus_genid272324\n",
      "DEBUG:KaBOBInterface:\t\t\t\t\t< BN_go-plus_genid272324\n",
      "DEBUG:KaBOBInterface:\t\t\t\t< eukaryotic protein\n",
      "DEBUG:KaBOBInterface:\t\t\t< Homo sapiens protein\n",
      "DEBUG:KaBOBInterface:\t\t< neutral cholesterol ester hydrolase 1 (human)\n",
      "DEBUG:KaBOBInterface:\t< B_CZnTl2FzKqkHVISKgrytkFv0GAY\n",
      "DEBUG:KaBOBInterface:> B_mgtZ4ysoacf-zMowcPTaIrT1OhU\n",
      "DEBUG:KaBOBInterface:< B_mgtZ4ysoacf-zMowcPTaIrT1OhU\n"
     ]
    },
    {
     "name": "stdout",
     "output_type": "stream",
     "text": [
      "****** 5 ******\n"
     ]
    },
    {
     "name": "stderr",
     "output_type": "stream",
     "text": [
      "DEBUG:KaBOBInterface:\t> B_1-Vf_p6os6igXEBI9MraCn02ves\n",
      "DEBUG:KaBOBInterface:\t\t> X6R390_HUMAN\n",
      "DEBUG:KaBOBInterface:\t\t\t> AP-2 complex subunit sigma\n",
      "DEBUG:KaBOBInterface:\t\t\t< AP-2 complex subunit sigma\n",
      "DEBUG:KaBOBInterface:\t\t\t> GP_B_4tx1YNvAMIdm2LzQ7HB5DUyFGeg\n",
      "DEBUG:KaBOBInterface:\t\t\t\t> GGP_B_4tx1YNvAMIdm2LzQ7HB5DUyFGeg\n",
      "DEBUG:KaBOBInterface:\t\t\t\t< GGP_B_4tx1YNvAMIdm2LzQ7HB5DUyFGeg\n",
      "DEBUG:KaBOBInterface:\t\t\t\t> GPGPV_B_4tx1YNvAMIdm2LzQ7HB5DUyFGeg\n",
      "DEBUG:KaBOBInterface:\t\t\t\t\t> GGPV_B_4tx1YNvAMIdm2LzQ7HB5DUyFGeg\n",
      "DEBUG:KaBOBInterface:\t\t\t\t\t< GGPV_B_4tx1YNvAMIdm2LzQ7HB5DUyFGeg\n",
      "DEBUG:KaBOBInterface:\t\t\t\t< GPGPV_B_4tx1YNvAMIdm2LzQ7HB5DUyFGeg\n",
      "DEBUG:KaBOBInterface:\t\t\t< GP_B_4tx1YNvAMIdm2LzQ7HB5DUyFGeg\n",
      "DEBUG:KaBOBInterface:\t\t< X6R390_HUMAN\n",
      "DEBUG:KaBOBInterface:\t< B_1-Vf_p6os6igXEBI9MraCn02ves\n",
      "DEBUG:KaBOBInterface:> B_BOZytRn7XAxZyU86xrmONYVsTVY\n",
      "DEBUG:KaBOBInterface:< B_BOZytRn7XAxZyU86xrmONYVsTVY\n"
     ]
    },
    {
     "name": "stdout",
     "output_type": "stream",
     "text": [
      "****** 6 ******\n"
     ]
    },
    {
     "name": "stderr",
     "output_type": "stream",
     "text": [
      "DEBUG:KaBOBInterface:\t> B_MHmZLMYwyi4I4Z5z72S1ByXEG3I\n",
      "DEBUG:KaBOBInterface:\t\t> SCRB1_HUMAN\n",
      "DEBUG:KaBOBInterface:\t\t\t> GP_B_jQai3rTpCMYH9SR7US5Y8_aarR8\n",
      "DEBUG:KaBOBInterface:\t\t\t\t> GPGPV_B_jQai3rTpCMYH9SR7US5Y8_aarR8\n",
      "DEBUG:KaBOBInterface:\t\t\t\t\t> GGPV_B_jQai3rTpCMYH9SR7US5Y8_aarR8\n",
      "DEBUG:KaBOBInterface:\t\t\t\t\t< GGPV_B_jQai3rTpCMYH9SR7US5Y8_aarR8\n",
      "DEBUG:KaBOBInterface:\t\t\t\t< GPGPV_B_jQai3rTpCMYH9SR7US5Y8_aarR8\n",
      "DEBUG:KaBOBInterface:\t\t\t\t> GGP_B_jQai3rTpCMYH9SR7US5Y8_aarR8\n",
      "DEBUG:KaBOBInterface:\t\t\t\t< GGP_B_jQai3rTpCMYH9SR7US5Y8_aarR8\n",
      "DEBUG:KaBOBInterface:\t\t\t< GP_B_jQai3rTpCMYH9SR7US5Y8_aarR8\n",
      "DEBUG:KaBOBInterface:\t\t\t> scavenger receptor class B member 1\n",
      "DEBUG:KaBOBInterface:\t\t\t< scavenger receptor class B member 1\n",
      "DEBUG:KaBOBInterface:\t\t< SCRB1_HUMAN\n",
      "DEBUG:KaBOBInterface:\t< B_MHmZLMYwyi4I4Z5z72S1ByXEG3I\n",
      "DEBUG:KaBOBInterface:> B_W1o9XtuX6h-ftfr88iHb5nAEPIM\n",
      "DEBUG:KaBOBInterface:< B_W1o9XtuX6h-ftfr88iHb5nAEPIM\n"
     ]
    },
    {
     "name": "stdout",
     "output_type": "stream",
     "text": [
      "****** 7 ******\n"
     ]
    },
    {
     "name": "stderr",
     "output_type": "stream",
     "text": [
      "DEBUG:KaBOBInterface:\t> B_GnxjMSUpWOMLjlYZq4AoUL3lNs8\n",
      "DEBUG:KaBOBInterface:\t\t> carboxylesterase 3 (human)\n",
      "DEBUG:KaBOBInterface:\t\t\t> carboxylesterase 3\n",
      "DEBUG:KaBOBInterface:\t\t\t< carboxylesterase 3\n",
      "DEBUG:KaBOBInterface:\t\t\t> GP_B_ELLU5uU5hEWaohha-gPgKWXI2DU\n",
      "DEBUG:KaBOBInterface:\t\t\t\t> GGP_B_ELLU5uU5hEWaohha-gPgKWXI2DU\n",
      "DEBUG:KaBOBInterface:\t\t\t\t< GGP_B_ELLU5uU5hEWaohha-gPgKWXI2DU\n",
      "DEBUG:KaBOBInterface:\t\t\t\t> GPGPV_B_ELLU5uU5hEWaohha-gPgKWXI2DU\n",
      "DEBUG:KaBOBInterface:\t\t\t\t\t> GGPV_B_ELLU5uU5hEWaohha-gPgKWXI2DU\n",
      "DEBUG:KaBOBInterface:\t\t\t\t\t< GGPV_B_ELLU5uU5hEWaohha-gPgKWXI2DU\n",
      "DEBUG:KaBOBInterface:\t\t\t\t< GPGPV_B_ELLU5uU5hEWaohha-gPgKWXI2DU\n",
      "DEBUG:KaBOBInterface:\t\t\t< GP_B_ELLU5uU5hEWaohha-gPgKWXI2DU\n",
      "DEBUG:KaBOBInterface:\t\t< carboxylesterase 3 (human)\n",
      "DEBUG:KaBOBInterface:\t< B_GnxjMSUpWOMLjlYZq4AoUL3lNs8\n",
      "DEBUG:KaBOBInterface:> B_jH2YTgG018ENn3N4Lc7Pxd3bTew\n",
      "DEBUG:KaBOBInterface:< B_jH2YTgG018ENn3N4Lc7Pxd3bTew\n"
     ]
    },
    {
     "name": "stdout",
     "output_type": "stream",
     "text": [
      "****** 8 ******\n"
     ]
    },
    {
     "name": "stderr",
     "output_type": "stream",
     "text": [
      "DEBUG:KaBOBInterface:\t> B_7rrIw61ghOyjjR51s7yr0gbyGds\n",
      "DEBUG:KaBOBInterface:\t\t> DGAT2_HUMAN\n",
      "DEBUG:KaBOBInterface:\t\t\t> GP_B_z5aOgA9AyJA0ynUmRSt9o99FdLI\n",
      "DEBUG:KaBOBInterface:\t\t\t\t> GPGPV_B_z5aOgA9AyJA0ynUmRSt9o99FdLI\n",
      "DEBUG:KaBOBInterface:\t\t\t\t\t> GGPV_B_z5aOgA9AyJA0ynUmRSt9o99FdLI\n",
      "DEBUG:KaBOBInterface:\t\t\t\t\t< GGPV_B_z5aOgA9AyJA0ynUmRSt9o99FdLI\n",
      "DEBUG:KaBOBInterface:\t\t\t\t< GPGPV_B_z5aOgA9AyJA0ynUmRSt9o99FdLI\n",
      "DEBUG:KaBOBInterface:\t\t\t\t> GGP_B_z5aOgA9AyJA0ynUmRSt9o99FdLI\n",
      "DEBUG:KaBOBInterface:\t\t\t\t< GGP_B_z5aOgA9AyJA0ynUmRSt9o99FdLI\n",
      "DEBUG:KaBOBInterface:\t\t\t< GP_B_z5aOgA9AyJA0ynUmRSt9o99FdLI\n",
      "DEBUG:KaBOBInterface:\t\t\t> diacylglycerol O-acyltransferase 2\n",
      "DEBUG:KaBOBInterface:\t\t\t< diacylglycerol O-acyltransferase 2\n",
      "DEBUG:KaBOBInterface:\t\t< DGAT2_HUMAN\n",
      "DEBUG:KaBOBInterface:\t< B_7rrIw61ghOyjjR51s7yr0gbyGds\n",
      "DEBUG:KaBOBInterface:> B_rFFmFrkPXt7OFpUmPHkTiFq04vA\n",
      "DEBUG:KaBOBInterface:< B_rFFmFrkPXt7OFpUmPHkTiFq04vA\n"
     ]
    },
    {
     "name": "stdout",
     "output_type": "stream",
     "text": [
      "****** 9 ******\n"
     ]
    },
    {
     "name": "stderr",
     "output_type": "stream",
     "text": [
      "DEBUG:KaBOBInterface:\t> B_zqM64XlsIdT5zTlk8DtOP1RAtaY\n",
      "DEBUG:KaBOBInterface:\t\t> low density lipoprotein receptor adapter protein 1 (human)\n",
      "DEBUG:KaBOBInterface:\t\t\t> GP_B_WdYy3zXYgX3Ru0XU7MdBbC1iKyo\n",
      "DEBUG:KaBOBInterface:\t\t\t\t> GGP_B_WdYy3zXYgX3Ru0XU7MdBbC1iKyo\n",
      "DEBUG:KaBOBInterface:\t\t\t\t< GGP_B_WdYy3zXYgX3Ru0XU7MdBbC1iKyo\n",
      "DEBUG:KaBOBInterface:\t\t\t\t> GPGPV_B_WdYy3zXYgX3Ru0XU7MdBbC1iKyo\n",
      "DEBUG:KaBOBInterface:\t\t\t\t\t> GGPV_B_WdYy3zXYgX3Ru0XU7MdBbC1iKyo\n",
      "DEBUG:KaBOBInterface:\t\t\t\t\t< GGPV_B_WdYy3zXYgX3Ru0XU7MdBbC1iKyo\n",
      "DEBUG:KaBOBInterface:\t\t\t\t< GPGPV_B_WdYy3zXYgX3Ru0XU7MdBbC1iKyo\n",
      "DEBUG:KaBOBInterface:\t\t\t< GP_B_WdYy3zXYgX3Ru0XU7MdBbC1iKyo\n",
      "DEBUG:KaBOBInterface:\t\t\t> low density lipoprotein receptor adapter protein 1\n",
      "DEBUG:KaBOBInterface:\t\t\t< low density lipoprotein receptor adapter protein 1\n",
      "DEBUG:KaBOBInterface:\t\t< low density lipoprotein receptor adapter protein 1 (human)\n",
      "DEBUG:KaBOBInterface:\t< B_zqM64XlsIdT5zTlk8DtOP1RAtaY\n",
      "DEBUG:KaBOBInterface:> B_pW3HeRvagRsdVYhfp9Mbd9mVI3U\n",
      "DEBUG:KaBOBInterface:< B_pW3HeRvagRsdVYhfp9Mbd9mVI3U\n"
     ]
    },
    {
     "name": "stdout",
     "output_type": "stream",
     "text": [
      "****** 10 ******\n"
     ]
    },
    {
     "name": "stderr",
     "output_type": "stream",
     "text": [
      "DEBUG:KaBOBInterface:\t> B_jc_tsol75eDBQtYoVXl8YCRygxQ\n",
      "DEBUG:KaBOBInterface:\t\t> AP2M1_HUMAN\n",
      "DEBUG:KaBOBInterface:\t\t\t> GP_B_4FWbgdgMlDiZ60VBs15gVepGIY0\n",
      "DEBUG:KaBOBInterface:\t\t\t\t> GGP_B_4FWbgdgMlDiZ60VBs15gVepGIY0\n",
      "DEBUG:KaBOBInterface:\t\t\t\t< GGP_B_4FWbgdgMlDiZ60VBs15gVepGIY0\n",
      "DEBUG:KaBOBInterface:\t\t\t\t> GPGPV_B_4FWbgdgMlDiZ60VBs15gVepGIY0\n",
      "DEBUG:KaBOBInterface:\t\t\t\t\t> GGPV_B_4FWbgdgMlDiZ60VBs15gVepGIY0\n",
      "DEBUG:KaBOBInterface:\t\t\t\t\t< GGPV_B_4FWbgdgMlDiZ60VBs15gVepGIY0\n",
      "DEBUG:KaBOBInterface:\t\t\t\t< GPGPV_B_4FWbgdgMlDiZ60VBs15gVepGIY0\n",
      "DEBUG:KaBOBInterface:\t\t\t< GP_B_4FWbgdgMlDiZ60VBs15gVepGIY0\n",
      "DEBUG:KaBOBInterface:\t\t\t> AP-2 complex subunit mu\n",
      "DEBUG:KaBOBInterface:\t\t\t< AP-2 complex subunit mu\n",
      "DEBUG:KaBOBInterface:\t\t< AP2M1_HUMAN\n",
      "DEBUG:KaBOBInterface:\t< B_jc_tsol75eDBQtYoVXl8YCRygxQ\n",
      "DEBUG:KaBOBInterface:> B_r2rur2b3Iw88n6W2QrSsLu3bzf4\n",
      "DEBUG:KaBOBInterface:< B_r2rur2b3Iw88n6W2QrSsLu3bzf4\n"
     ]
    },
    {
     "name": "stdout",
     "output_type": "stream",
     "text": [
      "****** 11 ******\n"
     ]
    },
    {
     "name": "stderr",
     "output_type": "stream",
     "text": [
      "DEBUG:KaBOBInterface:\t> B_9ZDSfYmExGGYvR-NgG05f54tDkU\n",
      "DEBUG:KaBOBInterface:\t\t> proprotein convertase subtilisin/kexin type 9 (human)\n",
      "DEBUG:KaBOBInterface:\t\t\t> GP_B_3j6FWH-_XeuvCsf_czKaFjbhl2w\n",
      "DEBUG:KaBOBInterface:\t\t\t\t> GPGPV_B_3j6FWH-_XeuvCsf_czKaFjbhl2w\n",
      "DEBUG:KaBOBInterface:\t\t\t\t\t> GGPV_B_3j6FWH-_XeuvCsf_czKaFjbhl2w\n",
      "DEBUG:KaBOBInterface:\t\t\t\t\t< GGPV_B_3j6FWH-_XeuvCsf_czKaFjbhl2w\n",
      "DEBUG:KaBOBInterface:\t\t\t\t< GPGPV_B_3j6FWH-_XeuvCsf_czKaFjbhl2w\n",
      "DEBUG:KaBOBInterface:\t\t\t\t> GGP_B_3j6FWH-_XeuvCsf_czKaFjbhl2w\n",
      "DEBUG:KaBOBInterface:\t\t\t\t< GGP_B_3j6FWH-_XeuvCsf_czKaFjbhl2w\n",
      "DEBUG:KaBOBInterface:\t\t\t< GP_B_3j6FWH-_XeuvCsf_czKaFjbhl2w\n",
      "DEBUG:KaBOBInterface:\t\t\t> proprotein convertase subtilisin/kexin type 9\n",
      "DEBUG:KaBOBInterface:\t\t\t< proprotein convertase subtilisin/kexin type 9\n",
      "DEBUG:KaBOBInterface:\t\t< proprotein convertase subtilisin/kexin type 9 (human)\n",
      "DEBUG:KaBOBInterface:\t< B_9ZDSfYmExGGYvR-NgG05f54tDkU\n",
      "DEBUG:KaBOBInterface:> B_kmDiRpDaHQP78Vz0LaKTiaR8rD8\n",
      "DEBUG:KaBOBInterface:< B_kmDiRpDaHQP78Vz0LaKTiaR8rD8\n"
     ]
    },
    {
     "name": "stdout",
     "output_type": "stream",
     "text": [
      "****** 12 ******\n"
     ]
    },
    {
     "name": "stderr",
     "output_type": "stream",
     "text": [
      "DEBUG:KaBOBInterface:\t> B_UsYNN8o2BVDuD-7bJ2hL69mH_f0\n",
      "DEBUG:KaBOBInterface:\t\t> adiponectin (human)\n",
      "DEBUG:KaBOBInterface:\t\t\t> adiponectin\n",
      "DEBUG:KaBOBInterface:\t\t\t< adiponectin\n",
      "DEBUG:KaBOBInterface:\t\t\t> GP_B_CBkCv8bgoTysDQ16AM8xsq86uuI\n",
      "DEBUG:KaBOBInterface:\t\t\t\t> GPGPV_B_CBkCv8bgoTysDQ16AM8xsq86uuI\n",
      "DEBUG:KaBOBInterface:\t\t\t\t\t> GGPV_B_CBkCv8bgoTysDQ16AM8xsq86uuI\n",
      "DEBUG:KaBOBInterface:\t\t\t\t\t< GGPV_B_CBkCv8bgoTysDQ16AM8xsq86uuI\n",
      "DEBUG:KaBOBInterface:\t\t\t\t< GPGPV_B_CBkCv8bgoTysDQ16AM8xsq86uuI\n",
      "DEBUG:KaBOBInterface:\t\t\t\t> GGP_B_CBkCv8bgoTysDQ16AM8xsq86uuI\n",
      "DEBUG:KaBOBInterface:\t\t\t\t< GGP_B_CBkCv8bgoTysDQ16AM8xsq86uuI\n",
      "DEBUG:KaBOBInterface:\t\t\t< GP_B_CBkCv8bgoTysDQ16AM8xsq86uuI\n",
      "DEBUG:KaBOBInterface:\t\t< adiponectin (human)\n",
      "DEBUG:KaBOBInterface:\t< B_UsYNN8o2BVDuD-7bJ2hL69mH_f0\n",
      "DEBUG:KaBOBInterface:> B_VBL3LzQJYcH8xmWCS7sQPh_Gc-o\n",
      "DEBUG:KaBOBInterface:< B_VBL3LzQJYcH8xmWCS7sQPh_Gc-o\n"
     ]
    },
    {
     "name": "stdout",
     "output_type": "stream",
     "text": [
      "****** 13 ******\n"
     ]
    },
    {
     "name": "stderr",
     "output_type": "stream",
     "text": [
      "DEBUG:KaBOBInterface:\t> B_C4nLyA54llRX1QIU_KW81cBYgIU\n",
      "DEBUG:KaBOBInterface:\t\t> low-density lipoprotein receptor (human)\n",
      "DEBUG:KaBOBInterface:\t\t\t> low-density lipoprotein receptor\n",
      "DEBUG:KaBOBInterface:\t\t\t< low-density lipoprotein receptor\n",
      "DEBUG:KaBOBInterface:\t\t\t> GP_B_ZZ9_CZfmJhFygoUXb7SZ0La5oeY\n",
      "DEBUG:KaBOBInterface:\t\t\t\t> GPGPV_B_ZZ9_CZfmJhFygoUXb7SZ0La5oeY\n",
      "DEBUG:KaBOBInterface:\t\t\t\t\t> GGPV_B_ZZ9_CZfmJhFygoUXb7SZ0La5oeY\n",
      "DEBUG:KaBOBInterface:\t\t\t\t\t< GGPV_B_ZZ9_CZfmJhFygoUXb7SZ0La5oeY\n",
      "DEBUG:KaBOBInterface:\t\t\t\t< GPGPV_B_ZZ9_CZfmJhFygoUXb7SZ0La5oeY\n",
      "DEBUG:KaBOBInterface:\t\t\t\t> GGP_B_ZZ9_CZfmJhFygoUXb7SZ0La5oeY\n",
      "DEBUG:KaBOBInterface:\t\t\t\t< GGP_B_ZZ9_CZfmJhFygoUXb7SZ0La5oeY\n",
      "DEBUG:KaBOBInterface:\t\t\t< GP_B_ZZ9_CZfmJhFygoUXb7SZ0La5oeY\n",
      "DEBUG:KaBOBInterface:\t\t< low-density lipoprotein receptor (human)\n",
      "DEBUG:KaBOBInterface:\t< B_C4nLyA54llRX1QIU_KW81cBYgIU\n",
      "DEBUG:KaBOBInterface:> B_xw3EptGcyxSCH1FQvkI91vw9s5U\n",
      "DEBUG:KaBOBInterface:< B_xw3EptGcyxSCH1FQvkI91vw9s5U\n"
     ]
    },
    {
     "name": "stdout",
     "output_type": "stream",
     "text": [
      "****** 14 ******\n"
     ]
    },
    {
     "name": "stderr",
     "output_type": "stream",
     "text": [
      "DEBUG:KaBOBInterface:\t> B_01wwjf3EzRuYEptRXOzwp6UfqPU\n",
      "DEBUG:KaBOBInterface:\t\t> Niemann-Pick C1 protein (human)\n",
      "DEBUG:KaBOBInterface:\t\t\t> Niemann-Pick C1 protein\n",
      "DEBUG:KaBOBInterface:\t\t\t< Niemann-Pick C1 protein\n",
      "DEBUG:KaBOBInterface:\t\t\t> GP_B_ChZk1IDw0yYBVx474JdIMAS38gQ\n",
      "DEBUG:KaBOBInterface:\t\t\t\t> GGP_B_ChZk1IDw0yYBVx474JdIMAS38gQ\n",
      "DEBUG:KaBOBInterface:\t\t\t\t< GGP_B_ChZk1IDw0yYBVx474JdIMAS38gQ\n",
      "DEBUG:KaBOBInterface:\t\t\t\t> GPGPV_B_ChZk1IDw0yYBVx474JdIMAS38gQ\n",
      "DEBUG:KaBOBInterface:\t\t\t\t\t> GGPV_B_ChZk1IDw0yYBVx474JdIMAS38gQ\n",
      "DEBUG:KaBOBInterface:\t\t\t\t\t< GGPV_B_ChZk1IDw0yYBVx474JdIMAS38gQ\n",
      "DEBUG:KaBOBInterface:\t\t\t\t< GPGPV_B_ChZk1IDw0yYBVx474JdIMAS38gQ\n",
      "DEBUG:KaBOBInterface:\t\t\t< GP_B_ChZk1IDw0yYBVx474JdIMAS38gQ\n",
      "DEBUG:KaBOBInterface:\t\t< Niemann-Pick C1 protein (human)\n",
      "DEBUG:KaBOBInterface:\t< B_01wwjf3EzRuYEptRXOzwp6UfqPU\n",
      "DEBUG:KaBOBInterface:> B_ADWq5ie5hLXzR58-kdLxVLvdKNU\n",
      "DEBUG:KaBOBInterface:< B_ADWq5ie5hLXzR58-kdLxVLvdKNU\n"
     ]
    },
    {
     "name": "stdout",
     "output_type": "stream",
     "text": [
      "****** 15 ******\n"
     ]
    },
    {
     "name": "stderr",
     "output_type": "stream",
     "text": [
      "DEBUG:KaBOBInterface:\t> B_cfQbTC4RyuvoDLCBo71Kfnbbkds\n",
      "DEBUG:KaBOBInterface:\t\t> platelet glycoprotein 4 (human)\n",
      "DEBUG:KaBOBInterface:\t\t\t> GP_B_xtsNDTi6qzuM5L3HpdLawr59jzE\n",
      "DEBUG:KaBOBInterface:\t\t\t\t> GPGPV_B_xtsNDTi6qzuM5L3HpdLawr59jzE\n",
      "DEBUG:KaBOBInterface:\t\t\t\t\t> GGPV_B_xtsNDTi6qzuM5L3HpdLawr59jzE\n",
      "DEBUG:KaBOBInterface:\t\t\t\t\t< GGPV_B_xtsNDTi6qzuM5L3HpdLawr59jzE\n",
      "DEBUG:KaBOBInterface:\t\t\t\t< GPGPV_B_xtsNDTi6qzuM5L3HpdLawr59jzE\n",
      "DEBUG:KaBOBInterface:\t\t\t\t> GGP_B_xtsNDTi6qzuM5L3HpdLawr59jzE\n",
      "DEBUG:KaBOBInterface:\t\t\t\t< GGP_B_xtsNDTi6qzuM5L3HpdLawr59jzE\n",
      "DEBUG:KaBOBInterface:\t\t\t< GP_B_xtsNDTi6qzuM5L3HpdLawr59jzE\n",
      "DEBUG:KaBOBInterface:\t\t\t> platelet glycoprotein 4\n",
      "DEBUG:KaBOBInterface:\t\t\t< platelet glycoprotein 4\n",
      "DEBUG:KaBOBInterface:\t\t< platelet glycoprotein 4 (human)\n",
      "DEBUG:KaBOBInterface:\t< B_cfQbTC4RyuvoDLCBo71Kfnbbkds\n",
      "DEBUG:KaBOBInterface:> B_HIxdv8kPYZxGm7zBGxk5T0eyzDI\n",
      "DEBUG:KaBOBInterface:< B_HIxdv8kPYZxGm7zBGxk5T0eyzDI\n"
     ]
    },
    {
     "name": "stdout",
     "output_type": "stream",
     "text": [
      "****** 16 ******\n"
     ]
    },
    {
     "name": "stderr",
     "output_type": "stream",
     "text": [
      "DEBUG:KaBOBInterface:\t> B_8gxEx8I2XfawAP9ULSRQVnevuA4\n",
      "DEBUG:KaBOBInterface:\t\t> AP-2 complex subunit alpha-2 (human)\n",
      "DEBUG:KaBOBInterface:\t\t\t> AP-2 complex subunit alpha-2\n",
      "DEBUG:KaBOBInterface:\t\t\t< AP-2 complex subunit alpha-2\n",
      "DEBUG:KaBOBInterface:\t\t\t> GP_B_9Gj6nOwteQIfo_83XQN5yqnRi3E\n",
      "DEBUG:KaBOBInterface:\t\t\t\t> GGP_B_9Gj6nOwteQIfo_83XQN5yqnRi3E\n",
      "DEBUG:KaBOBInterface:\t\t\t\t< GGP_B_9Gj6nOwteQIfo_83XQN5yqnRi3E\n",
      "DEBUG:KaBOBInterface:\t\t\t\t> GPGPV_B_9Gj6nOwteQIfo_83XQN5yqnRi3E\n",
      "DEBUG:KaBOBInterface:\t\t\t\t\t> GGPV_B_9Gj6nOwteQIfo_83XQN5yqnRi3E\n",
      "DEBUG:KaBOBInterface:\t\t\t\t\t< GGPV_B_9Gj6nOwteQIfo_83XQN5yqnRi3E\n",
      "DEBUG:KaBOBInterface:\t\t\t\t< GPGPV_B_9Gj6nOwteQIfo_83XQN5yqnRi3E\n",
      "DEBUG:KaBOBInterface:\t\t\t< GP_B_9Gj6nOwteQIfo_83XQN5yqnRi3E\n",
      "DEBUG:KaBOBInterface:\t\t< AP-2 complex subunit alpha-2 (human)\n",
      "DEBUG:KaBOBInterface:\t< B_8gxEx8I2XfawAP9ULSRQVnevuA4\n",
      "DEBUG:KaBOBInterface:> B_iJhofy7e5PB1H4FvJfnPoRIM9qI\n",
      "DEBUG:KaBOBInterface:< B_iJhofy7e5PB1H4FvJfnPoRIM9qI\n"
     ]
    },
    {
     "name": "stdout",
     "output_type": "stream",
     "text": [
      "****** 17 ******\n"
     ]
    },
    {
     "name": "stderr",
     "output_type": "stream",
     "text": [
      "DEBUG:KaBOBInterface:\t> B_lpqR9O83aFV3ZPxVP_XGP3yOE7k\n",
      "DEBUG:KaBOBInterface:\t\t> NPC2_HUMAN\n",
      "DEBUG:KaBOBInterface:\t\t\t> GP_B_JcjyO1U5QsSI9AOCcr4dpo35KeQ\n",
      "DEBUG:KaBOBInterface:\t\t\t\t> GPGPV_B_JcjyO1U5QsSI9AOCcr4dpo35KeQ\n",
      "DEBUG:KaBOBInterface:\t\t\t\t\t> GGPV_B_JcjyO1U5QsSI9AOCcr4dpo35KeQ\n",
      "DEBUG:KaBOBInterface:\t\t\t\t\t< GGPV_B_JcjyO1U5QsSI9AOCcr4dpo35KeQ\n",
      "DEBUG:KaBOBInterface:\t\t\t\t< GPGPV_B_JcjyO1U5QsSI9AOCcr4dpo35KeQ\n",
      "DEBUG:KaBOBInterface:\t\t\t\t> GGP_B_JcjyO1U5QsSI9AOCcr4dpo35KeQ\n",
      "DEBUG:KaBOBInterface:\t\t\t\t< GGP_B_JcjyO1U5QsSI9AOCcr4dpo35KeQ\n",
      "DEBUG:KaBOBInterface:\t\t\t< GP_B_JcjyO1U5QsSI9AOCcr4dpo35KeQ\n",
      "DEBUG:KaBOBInterface:\t\t\t> epididymal secretory protein E1\n",
      "DEBUG:KaBOBInterface:\t\t\t< epididymal secretory protein E1\n",
      "DEBUG:KaBOBInterface:\t\t< NPC2_HUMAN\n",
      "DEBUG:KaBOBInterface:\t< B_lpqR9O83aFV3ZPxVP_XGP3yOE7k\n",
      "DEBUG:KaBOBInterface:> B_oCTDchANqvfoWfwl-l0nKXK0UYE\n",
      "DEBUG:KaBOBInterface:< B_oCTDchANqvfoWfwl-l0nKXK0UYE\n"
     ]
    },
    {
     "name": "stdout",
     "output_type": "stream",
     "text": [
      "****** 18 ******\n"
     ]
    },
    {
     "name": "stderr",
     "output_type": "stream",
     "text": [
      "DEBUG:KaBOBInterface:\t> B__BJ1qCdn_1tCpyqonSXc5qJZBdA\n",
      "DEBUG:KaBOBInterface:\t\t> CLCA_HUMAN\n",
      "DEBUG:KaBOBInterface:\t\t\t> GP_B_LMAP0azGrY-Nlv_17TRrFCHE4ME\n",
      "DEBUG:KaBOBInterface:\t\t\t\t> GGP_B_LMAP0azGrY-Nlv_17TRrFCHE4ME\n",
      "DEBUG:KaBOBInterface:\t\t\t\t< GGP_B_LMAP0azGrY-Nlv_17TRrFCHE4ME\n",
      "DEBUG:KaBOBInterface:\t\t\t\t> GPGPV_B_LMAP0azGrY-Nlv_17TRrFCHE4ME\n",
      "DEBUG:KaBOBInterface:\t\t\t\t\t> GGPV_B_LMAP0azGrY-Nlv_17TRrFCHE4ME\n",
      "DEBUG:KaBOBInterface:\t\t\t\t\t< GGPV_B_LMAP0azGrY-Nlv_17TRrFCHE4ME\n",
      "DEBUG:KaBOBInterface:\t\t\t\t< GPGPV_B_LMAP0azGrY-Nlv_17TRrFCHE4ME\n",
      "DEBUG:KaBOBInterface:\t\t\t< GP_B_LMAP0azGrY-Nlv_17TRrFCHE4ME\n",
      "DEBUG:KaBOBInterface:\t\t\t> clathrin light chain A\n",
      "DEBUG:KaBOBInterface:\t\t\t< clathrin light chain A\n",
      "DEBUG:KaBOBInterface:\t\t< CLCA_HUMAN\n",
      "DEBUG:KaBOBInterface:\t< B__BJ1qCdn_1tCpyqonSXc5qJZBdA\n",
      "DEBUG:KaBOBInterface:> B_V6_12HosqmPXYeTtsRYnBnnzP9w\n",
      "DEBUG:KaBOBInterface:< B_V6_12HosqmPXYeTtsRYnBnnzP9w\n"
     ]
    },
    {
     "name": "stdout",
     "output_type": "stream",
     "text": [
      "****** 19 ******\n"
     ]
    },
    {
     "name": "stderr",
     "output_type": "stream",
     "text": [
      "DEBUG:KaBOBInterface:\t> B_e7Z_Gu0Nn6_FQGa4wGqIdPDPX2M\n",
      "DEBUG:KaBOBInterface:\t\t> heme oxygenase 1 (human)\n",
      "DEBUG:KaBOBInterface:\t\t\t> GP_B_rtHW5E3Ysj_J3y8p6qWMLun3jmQ\n",
      "DEBUG:KaBOBInterface:\t\t\t\t> GPGPV_B_rtHW5E3Ysj_J3y8p6qWMLun3jmQ\n",
      "DEBUG:KaBOBInterface:\t\t\t\t\t> GGPV_B_rtHW5E3Ysj_J3y8p6qWMLun3jmQ\n",
      "DEBUG:KaBOBInterface:\t\t\t\t\t< GGPV_B_rtHW5E3Ysj_J3y8p6qWMLun3jmQ\n",
      "DEBUG:KaBOBInterface:\t\t\t\t< GPGPV_B_rtHW5E3Ysj_J3y8p6qWMLun3jmQ\n",
      "DEBUG:KaBOBInterface:\t\t\t\t> GGP_B_rtHW5E3Ysj_J3y8p6qWMLun3jmQ\n",
      "DEBUG:KaBOBInterface:\t\t\t\t< GGP_B_rtHW5E3Ysj_J3y8p6qWMLun3jmQ\n",
      "DEBUG:KaBOBInterface:\t\t\t< GP_B_rtHW5E3Ysj_J3y8p6qWMLun3jmQ\n",
      "DEBUG:KaBOBInterface:\t\t\t> heme oxygenase 1\n",
      "DEBUG:KaBOBInterface:\t\t\t< heme oxygenase 1\n",
      "DEBUG:KaBOBInterface:\t\t< heme oxygenase 1 (human)\n",
      "DEBUG:KaBOBInterface:\t< B_e7Z_Gu0Nn6_FQGa4wGqIdPDPX2M\n",
      "DEBUG:KaBOBInterface:> B_ymenou7Lw571eeSvIJZEUm2U_bM\n",
      "DEBUG:KaBOBInterface:< B_ymenou7Lw571eeSvIJZEUm2U_bM\n"
     ]
    },
    {
     "name": "stdout",
     "output_type": "stream",
     "text": [
      "****** 20 ******\n"
     ]
    },
    {
     "name": "stderr",
     "output_type": "stream",
     "text": [
      "DEBUG:KaBOBInterface:\t> B_EgRI9Tm4iN_csNUTjUV3azADxT0\n",
      "DEBUG:KaBOBInterface:\t\t> AP2A1_HUMAN\n",
      "DEBUG:KaBOBInterface:\t\t\t> AP-2 complex subunit alpha-1\n",
      "DEBUG:KaBOBInterface:\t\t\t< AP-2 complex subunit alpha-1\n",
      "DEBUG:KaBOBInterface:\t\t\t> GP_B_KDMyBp7MWrSscddDpsyxp4bX8IU\n",
      "DEBUG:KaBOBInterface:\t\t\t\t> GGP_B_KDMyBp7MWrSscddDpsyxp4bX8IU\n",
      "DEBUG:KaBOBInterface:\t\t\t\t< GGP_B_KDMyBp7MWrSscddDpsyxp4bX8IU\n",
      "DEBUG:KaBOBInterface:\t\t\t\t> GPGPV_B_KDMyBp7MWrSscddDpsyxp4bX8IU\n",
      "DEBUG:KaBOBInterface:\t\t\t\t\t> GGPV_B_KDMyBp7MWrSscddDpsyxp4bX8IU\n",
      "DEBUG:KaBOBInterface:\t\t\t\t\t< GGPV_B_KDMyBp7MWrSscddDpsyxp4bX8IU\n",
      "DEBUG:KaBOBInterface:\t\t\t\t< GPGPV_B_KDMyBp7MWrSscddDpsyxp4bX8IU\n",
      "DEBUG:KaBOBInterface:\t\t\t< GP_B_KDMyBp7MWrSscddDpsyxp4bX8IU\n",
      "DEBUG:KaBOBInterface:\t\t< AP2A1_HUMAN\n",
      "DEBUG:KaBOBInterface:\t< B_EgRI9Tm4iN_csNUTjUV3azADxT0\n",
      "DEBUG:KaBOBInterface:> B_wTqKMjXdMTdtOmCB-WET7jZHRj8\n",
      "DEBUG:KaBOBInterface:< B_wTqKMjXdMTdtOmCB-WET7jZHRj8\n"
     ]
    },
    {
     "name": "stdout",
     "output_type": "stream",
     "text": [
      "****** 21 ******\n"
     ]
    },
    {
     "name": "stderr",
     "output_type": "stream",
     "text": [
      "DEBUG:KaBOBInterface:\t> B_1pU6G2vAIv-wYWNgwVjv99ZVJxM\n",
      "DEBUG:KaBOBInterface:\t\t> SOAT1_HUMAN\n",
      "DEBUG:KaBOBInterface:\t\t\t> GP_B_n76PGGfUqfqkjLhcFEW7Tq6GF8w\n",
      "DEBUG:KaBOBInterface:\t\t\t\t> GPGPV_B_n76PGGfUqfqkjLhcFEW7Tq6GF8w\n",
      "DEBUG:KaBOBInterface:\t\t\t\t\t> GGPV_B_n76PGGfUqfqkjLhcFEW7Tq6GF8w\n",
      "DEBUG:KaBOBInterface:\t\t\t\t\t< GGPV_B_n76PGGfUqfqkjLhcFEW7Tq6GF8w\n",
      "DEBUG:KaBOBInterface:\t\t\t\t< GPGPV_B_n76PGGfUqfqkjLhcFEW7Tq6GF8w\n",
      "DEBUG:KaBOBInterface:\t\t\t\t> GGP_B_n76PGGfUqfqkjLhcFEW7Tq6GF8w\n",
      "DEBUG:KaBOBInterface:\t\t\t\t< GGP_B_n76PGGfUqfqkjLhcFEW7Tq6GF8w\n",
      "DEBUG:KaBOBInterface:\t\t\t< GP_B_n76PGGfUqfqkjLhcFEW7Tq6GF8w\n",
      "DEBUG:KaBOBInterface:\t\t\t> sterol O-acyltransferase 1\n",
      "DEBUG:KaBOBInterface:\t\t\t< sterol O-acyltransferase 1\n",
      "DEBUG:KaBOBInterface:\t\t< SOAT1_HUMAN\n",
      "DEBUG:KaBOBInterface:\t< B_1pU6G2vAIv-wYWNgwVjv99ZVJxM\n",
      "DEBUG:KaBOBInterface:> B_kh9QHUU1IO5RcoGYluoI4H8LTeU\n",
      "DEBUG:KaBOBInterface:< B_kh9QHUU1IO5RcoGYluoI4H8LTeU\n"
     ]
    },
    {
     "name": "stdout",
     "output_type": "stream",
     "text": [
      "****** 22 ******\n"
     ]
    },
    {
     "name": "stderr",
     "output_type": "stream",
     "text": [
      "DEBUG:KaBOBInterface:\t> B_RPeDgFv92GnkMW5An7mrZGahWhI\n",
      "DEBUG:KaBOBInterface:\t\t> B2R5U3_HUMAN\n",
      "DEBUG:KaBOBInterface:\t\t\t> GP_B_DKvU9IgLbR_tSRSwgLcSBZtttKs\n",
      "DEBUG:KaBOBInterface:\t\t\t\t> GGP_B_DKvU9IgLbR_tSRSwgLcSBZtttKs\n",
      "DEBUG:KaBOBInterface:\t\t\t\t< GGP_B_DKvU9IgLbR_tSRSwgLcSBZtttKs\n",
      "DEBUG:KaBOBInterface:\t\t\t\t> GPGPV_B_DKvU9IgLbR_tSRSwgLcSBZtttKs\n",
      "DEBUG:KaBOBInterface:\t\t\t\t\t> GGPV_B_DKvU9IgLbR_tSRSwgLcSBZtttKs\n",
      "DEBUG:KaBOBInterface:\t\t\t\t\t< GGPV_B_DKvU9IgLbR_tSRSwgLcSBZtttKs\n",
      "DEBUG:KaBOBInterface:\t\t\t\t< GPGPV_B_DKvU9IgLbR_tSRSwgLcSBZtttKs\n",
      "DEBUG:KaBOBInterface:\t\t\t< GP_B_DKvU9IgLbR_tSRSwgLcSBZtttKs\n",
      "DEBUG:KaBOBInterface:\t\t\t> EH domain-containing protein 1\n",
      "DEBUG:KaBOBInterface:\t\t\t< EH domain-containing protein 1\n",
      "DEBUG:KaBOBInterface:\t\t< B2R5U3_HUMAN\n",
      "DEBUG:KaBOBInterface:\t< B_RPeDgFv92GnkMW5An7mrZGahWhI\n",
      "DEBUG:KaBOBInterface:> B_T7tPDRs-eblW-20TkvyImM9R90M\n",
      "DEBUG:KaBOBInterface:< B_T7tPDRs-eblW-20TkvyImM9R90M\n"
     ]
    },
    {
     "name": "stdout",
     "output_type": "stream",
     "text": [
      "****** 23 ******\n"
     ]
    },
    {
     "name": "stderr",
     "output_type": "stream",
     "text": [
      "DEBUG:KaBOBInterface:\t> B_maeKa5RBxoymVXbVXBTQNp7BkbM\n",
      "DEBUG:KaBOBInterface:\t\t> sterol O-acyltransferase 2 (human)\n",
      "DEBUG:KaBOBInterface:\t\t\t> sterol O-acyltransferase 2\n",
      "DEBUG:KaBOBInterface:\t\t\t< sterol O-acyltransferase 2\n",
      "DEBUG:KaBOBInterface:\t\t\t> GP_B_Q9EA0xTkilPsT3ZS7Cgfdq_CmCs\n",
      "DEBUG:KaBOBInterface:\t\t\t\t> GPGPV_B_Q9EA0xTkilPsT3ZS7Cgfdq_CmCs\n",
      "DEBUG:KaBOBInterface:\t\t\t\t\t> GGPV_B_Q9EA0xTkilPsT3ZS7Cgfdq_CmCs\n",
      "DEBUG:KaBOBInterface:\t\t\t\t\t< GGPV_B_Q9EA0xTkilPsT3ZS7Cgfdq_CmCs\n",
      "DEBUG:KaBOBInterface:\t\t\t\t< GPGPV_B_Q9EA0xTkilPsT3ZS7Cgfdq_CmCs\n",
      "DEBUG:KaBOBInterface:\t\t\t\t> GGP_B_Q9EA0xTkilPsT3ZS7Cgfdq_CmCs\n",
      "DEBUG:KaBOBInterface:\t\t\t\t< GGP_B_Q9EA0xTkilPsT3ZS7Cgfdq_CmCs\n",
      "DEBUG:KaBOBInterface:\t\t\t< GP_B_Q9EA0xTkilPsT3ZS7Cgfdq_CmCs\n",
      "DEBUG:KaBOBInterface:\t\t< sterol O-acyltransferase 2 (human)\n",
      "DEBUG:KaBOBInterface:\t< B_maeKa5RBxoymVXbVXBTQNp7BkbM\n",
      "DEBUG:KaBOBInterface:> B_HcXeLf1vMWZa18284GEoSbaC9eA\n",
      "DEBUG:KaBOBInterface:< B_HcXeLf1vMWZa18284GEoSbaC9eA\n"
     ]
    },
    {
     "name": "stdout",
     "output_type": "stream",
     "text": [
      "****** 24 ******\n"
     ]
    },
    {
     "name": "stderr",
     "output_type": "stream",
     "text": [
      "DEBUG:KaBOBInterface:\t> B_n1OAeUwhu6Q_DLdNKSWhjiR9wm0\n",
      "DEBUG:KaBOBInterface:\t\t> APOB_HUMAN\n",
      "DEBUG:KaBOBInterface:\t\t\t> GP_B_WWyJFfLGyp83xTJxo6LV-0LFa6s\n",
      "DEBUG:KaBOBInterface:\t\t\t\t> GPGPV_B_WWyJFfLGyp83xTJxo6LV-0LFa6s\n",
      "DEBUG:KaBOBInterface:\t\t\t\t\t> GGPV_B_WWyJFfLGyp83xTJxo6LV-0LFa6s\n",
      "DEBUG:KaBOBInterface:\t\t\t\t\t< GGPV_B_WWyJFfLGyp83xTJxo6LV-0LFa6s\n",
      "DEBUG:KaBOBInterface:\t\t\t\t< GPGPV_B_WWyJFfLGyp83xTJxo6LV-0LFa6s\n",
      "DEBUG:KaBOBInterface:\t\t\t\t> GGP_B_WWyJFfLGyp83xTJxo6LV-0LFa6s\n",
      "DEBUG:KaBOBInterface:\t\t\t\t< GGP_B_WWyJFfLGyp83xTJxo6LV-0LFa6s\n",
      "DEBUG:KaBOBInterface:\t\t\t< GP_B_WWyJFfLGyp83xTJxo6LV-0LFa6s\n",
      "DEBUG:KaBOBInterface:\t\t\t> apolipoprotein B-100\n",
      "DEBUG:KaBOBInterface:\t\t\t< apolipoprotein B-100\n",
      "DEBUG:KaBOBInterface:\t\t< APOB_HUMAN\n",
      "DEBUG:KaBOBInterface:\t< B_n1OAeUwhu6Q_DLdNKSWhjiR9wm0\n",
      "DEBUG:KaBOBInterface:> B_85YOUbxGJ1VKRJGpEUBuQSUUJpo\n",
      "DEBUG:KaBOBInterface:< B_85YOUbxGJ1VKRJGpEUBuQSUUJpo\n"
     ]
    },
    {
     "name": "stdout",
     "output_type": "stream",
     "text": [
      "****** 25 ******\n"
     ]
    },
    {
     "name": "stderr",
     "output_type": "stream",
     "text": [
      "DEBUG:KaBOBInterface:\t> B_ps63_V_LtQfX70lH7RbCQLjVaiU\n",
      "DEBUG:KaBOBInterface:\t\t> AP2B1_HUMAN\n",
      "DEBUG:KaBOBInterface:\t\t\t> GP_B_RByoRNpRAHbrOhDRjfa2uza-5D0\n",
      "DEBUG:KaBOBInterface:\t\t\t\t> GPGPV_B_RByoRNpRAHbrOhDRjfa2uza-5D0\n",
      "DEBUG:KaBOBInterface:\t\t\t\t\t> GGPV_B_RByoRNpRAHbrOhDRjfa2uza-5D0\n",
      "DEBUG:KaBOBInterface:\t\t\t\t\t< GGPV_B_RByoRNpRAHbrOhDRjfa2uza-5D0\n",
      "DEBUG:KaBOBInterface:\t\t\t\t< GPGPV_B_RByoRNpRAHbrOhDRjfa2uza-5D0\n",
      "DEBUG:KaBOBInterface:\t\t\t\t> GGP_B_RByoRNpRAHbrOhDRjfa2uza-5D0\n",
      "DEBUG:KaBOBInterface:\t\t\t\t< GGP_B_RByoRNpRAHbrOhDRjfa2uza-5D0\n",
      "DEBUG:KaBOBInterface:\t\t\t< GP_B_RByoRNpRAHbrOhDRjfa2uza-5D0\n",
      "DEBUG:KaBOBInterface:\t\t\t> AP-2 complex subunit beta\n",
      "DEBUG:KaBOBInterface:\t\t\t< AP-2 complex subunit beta\n",
      "DEBUG:KaBOBInterface:\t\t< AP2B1_HUMAN\n",
      "DEBUG:KaBOBInterface:\t< B_ps63_V_LtQfX70lH7RbCQLjVaiU\n",
      "DEBUG:KaBOBInterface:> B_8XbOhhEq14mge_EBrr6IvesHzqQ\n",
      "DEBUG:KaBOBInterface:< B_8XbOhhEq14mge_EBrr6IvesHzqQ\n"
     ]
    },
    {
     "name": "stdout",
     "output_type": "stream",
     "text": [
      "****** 26 ******\n"
     ]
    },
    {
     "name": "stderr",
     "output_type": "stream",
     "text": [
      "DEBUG:KaBOBInterface:\t> B_Qh1fB84OVMqwAL7kxdgi5G3_j6s\n",
      "DEBUG:KaBOBInterface:\t\t> clathrin heavy chain 1 (human)\n",
      "DEBUG:KaBOBInterface:\t\t\t> GP_B_-Fplro3EK-_n-9u8M02SO8Y6Ks0\n",
      "DEBUG:KaBOBInterface:\t\t\t\t> GGP_B_-Fplro3EK-_n-9u8M02SO8Y6Ks0\n",
      "DEBUG:KaBOBInterface:\t\t\t\t< GGP_B_-Fplro3EK-_n-9u8M02SO8Y6Ks0\n",
      "DEBUG:KaBOBInterface:\t\t\t\t> GPGPV_B_-Fplro3EK-_n-9u8M02SO8Y6Ks0\n",
      "DEBUG:KaBOBInterface:\t\t\t\t\t> GGPV_B_-Fplro3EK-_n-9u8M02SO8Y6Ks0\n",
      "DEBUG:KaBOBInterface:\t\t\t\t\t< GGPV_B_-Fplro3EK-_n-9u8M02SO8Y6Ks0\n",
      "DEBUG:KaBOBInterface:\t\t\t\t< GPGPV_B_-Fplro3EK-_n-9u8M02SO8Y6Ks0\n",
      "DEBUG:KaBOBInterface:\t\t\t< GP_B_-Fplro3EK-_n-9u8M02SO8Y6Ks0\n",
      "DEBUG:KaBOBInterface:\t\t\t> clathrin heavy chain 1\n",
      "DEBUG:KaBOBInterface:\t\t\t< clathrin heavy chain 1\n",
      "DEBUG:KaBOBInterface:\t\t< clathrin heavy chain 1 (human)\n",
      "DEBUG:KaBOBInterface:\t< B_Qh1fB84OVMqwAL7kxdgi5G3_j6s\n",
      "DEBUG:KaBOBInterface:> B_xVTrMuZOOnagoBINTYUdXCPs1j0\n",
      "DEBUG:KaBOBInterface:< B_xVTrMuZOOnagoBINTYUdXCPs1j0\n"
     ]
    },
    {
     "name": "stdout",
     "output_type": "stream",
     "text": [
      "****** 27 ******\n"
     ]
    },
    {
     "name": "stderr",
     "output_type": "stream",
     "text": [
      "DEBUG:KaBOBInterface:\t> B_fHl68X3dA9__qVWtks1Zt5i93i4\n",
      "DEBUG:KaBOBInterface:\t\t> lysosomal acid lipase/cholesteryl ester hydrolase (human)\n",
      "DEBUG:KaBOBInterface:\t\t\t> GP_B_Gl9TkDGmlHmevRs9snXaNIZtccE\n",
      "DEBUG:KaBOBInterface:\t\t\t\t> GPGPV_B_Gl9TkDGmlHmevRs9snXaNIZtccE\n",
      "DEBUG:KaBOBInterface:\t\t\t\t\t> GGPV_B_Gl9TkDGmlHmevRs9snXaNIZtccE\n",
      "DEBUG:KaBOBInterface:\t\t\t\t\t< GGPV_B_Gl9TkDGmlHmevRs9snXaNIZtccE\n",
      "DEBUG:KaBOBInterface:\t\t\t\t< GPGPV_B_Gl9TkDGmlHmevRs9snXaNIZtccE\n",
      "DEBUG:KaBOBInterface:\t\t\t\t> GGP_B_Gl9TkDGmlHmevRs9snXaNIZtccE\n",
      "DEBUG:KaBOBInterface:\t\t\t\t< GGP_B_Gl9TkDGmlHmevRs9snXaNIZtccE\n",
      "DEBUG:KaBOBInterface:\t\t\t< GP_B_Gl9TkDGmlHmevRs9snXaNIZtccE\n",
      "DEBUG:KaBOBInterface:\t\t\t> lysosomal acid lipase/cholesteryl ester hydrolase\n",
      "DEBUG:KaBOBInterface:\t\t\t< lysosomal acid lipase/cholesteryl ester hydrolase\n",
      "DEBUG:KaBOBInterface:\t\t< lysosomal acid lipase/cholesteryl ester hydrolase (human)\n",
      "DEBUG:KaBOBInterface:\t< B_fHl68X3dA9__qVWtks1Zt5i93i4\n",
      "DEBUG:KaBOBInterface:> B_t3iaKx0H4bdSFdmAcGcpfgRFsuQ\n",
      "DEBUG:KaBOBInterface:< B_t3iaKx0H4bdSFdmAcGcpfgRFsuQ\n",
      "DEBUG:KaBOBInterface:Closed AllegroGraph server --host:'amc-tantor.ucdenver.pvt' port:10037\n"
     ]
    }
   ],
   "source": [
    "hyper_cholesterol = \"obo:GO_0034383\"\n",
    "\n",
    "mops = None\n",
    "with KaBOBInterface(\"KaBOB_credentials.txt\") as interface:\n",
    "    bio_hyper_cholesterol = interface.get_bio(hyper_cholesterol)\n",
    "    \n",
    "    hyper_cholesterol_statements_of_interest = interface.get_statements(s=bio_hyper_cholesterol)\n",
    "    hyper_cholesterol_statements_of_interest.extend(interface.get_statements(o=bio_hyper_cholesterol))\n",
    "    \n",
    "    print(\"Hyper cholesterol is involved in %d statements of interest\" % len(hyper_cholesterol_statements_of_interest))\n",
    "    \n",
    "    count = 0\n",
    "    for statement in hyper_cholesterol_statements_of_interest:\n",
    "        print(\"****** %d ******\" % count)\n",
    "        interface.mopify(statement.getSubject())\n",
    "        count += 1\n",
    "        \n",
    "    mops = interface.mops\n",
    "\n",
    "print(\"Drawing graphs\")\n",
    "mops.draw_mops(\"E:/GDrive/Projects/Biology/images\")"
   ]
  },
  {
   "cell_type": "code",
   "execution_count": 16,
   "metadata": {},
   "outputs": [
    {
     "name": "stdout",
     "output_type": "stream",
     "text": [
      "Calculating statistics\n",
      "***Frame Statistics***\n",
      "\tNumber of mop: 281\n",
      "\n",
      "***Role Statistics***\n",
      "\tNumber of never_in_taxon: 2\n",
      "\tNumber of only_in_taxon: 24\n",
      "\tNumber of equivalent: 1\n",
      "\tNumber of has_participant: 24\n"
     ]
    }
   ],
   "source": [
    "print(\"Calculating statistics\")\n",
    "frame_stats, role_stats = mops.get_statistics()\n",
    "\n",
    "print(\"***Frame Statistics***\")\n",
    "for key, value in frame_stats.items():\n",
    "    print(\"\\tNumber of %s: %d\" % (key, value))\n",
    "\n",
    "print()\n",
    "\n",
    "print(\"***Role Statistics***\")\n",
    "for key, value in role_stats.items():\n",
    "    print(\"\\tNumber of %s: %d\" % (key, value))"
   ]
  },
  {
   "cell_type": "code",
   "execution_count": 18,
   "metadata": {},
   "outputs": [
    {
     "name": "stderr",
     "output_type": "stream",
     "text": [
      "DEBUG:KaBOBInterface:Connecting to AllegroGraph server --host:'amc-tantor.ucdenver.pvt' port:10037\n",
      "DEBUG:KaBOBInterface:Closed AllegroGraph server --host:'amc-tantor.ucdenver.pvt' port:10037\n"
     ]
    },
    {
     "name": "stdout",
     "output_type": "stream",
     "text": [
      "low-density lipoprotein particle clearance\n"
     ]
    }
   ],
   "source": [
    "with KaBOBInterface(\"KaBOB_credentials.txt\") as interface:\n",
    "    print(interface.get_node_label(bio_hyper_cholesterol, interface.get_labels(bio_hyper_cholesterol)))"
   ]
  },
  {
   "cell_type": "code",
   "execution_count": null,
   "metadata": {
    "collapsed": true
   },
   "outputs": [],
   "source": [
    "children\n",
    "nx.contracted_nodes(G, bio_hyper_cholesterol, )"
   ]
  }
 ],
 "metadata": {
  "celltoolbar": "Initialization Cell",
  "kernelspec": {
   "display_name": "Python 3",
   "language": "python",
   "name": "python3"
  },
  "language_info": {
   "codemirror_mode": {
    "name": "ipython",
    "version": 3
   },
   "file_extension": ".py",
   "mimetype": "text/x-python",
   "name": "python",
   "nbconvert_exporter": "python",
   "pygments_lexer": "ipython3",
   "version": "3.6.3"
  },
  "varInspector": {
   "cols": {
    "lenName": 16,
    "lenType": 16,
    "lenVar": 40
   },
   "kernels_config": {
    "python": {
     "delete_cmd_postfix": "",
     "delete_cmd_prefix": "del ",
     "library": "var_list.py",
     "varRefreshCmd": "print(var_dic_list())"
    },
    "r": {
     "delete_cmd_postfix": ") ",
     "delete_cmd_prefix": "rm(",
     "library": "var_list.r",
     "varRefreshCmd": "cat(var_dic_list()) "
    }
   },
   "types_to_exclude": [
    "module",
    "function",
    "builtin_function_or_method",
    "instance",
    "_Feature"
   ],
   "window_display": false
  }
 },
 "nbformat": 4,
 "nbformat_minor": 2
}
