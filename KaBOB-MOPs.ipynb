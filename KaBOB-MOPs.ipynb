{
 "cells": [
  {
   "cell_type": "markdown",
   "metadata": {},
   "source": [
    "# KaBOB-MOPs"
   ]
  },
  {
   "cell_type": "markdown",
   "metadata": {
    "collapsed": true
   },
   "source": [
    "## KaBOB Interface Test"
   ]
  },
  {
   "cell_type": "markdown",
   "metadata": {},
   "source": [
    "KaBOBInterface is used to mopify and parse KaBOB triples. OpenKaBOB opens a connection to KaBOB and closes it using a `with` statement"
   ]
  },
  {
   "cell_type": "code",
   "execution_count": 1,
   "metadata": {
    "init_cell": true
   },
   "outputs": [],
   "source": [
    "from KaBOB_Interface import KaBOBInterface\n",
    "import KaBOB_Constants\n",
    "import networkx as nx\n",
    "import pickle"
   ]
  },
  {
   "cell_type": "code",
   "execution_count": 1,
   "metadata": {},
   "outputs": [
    {
     "name": "stderr",
     "output_type": "stream",
     "text": [
      "DEBUG:OpenKaBOB:Connecting to AllegroGraph server --host:'amc-tantor.ucdenver.pvt' port:10037\n",
      "DEBUG:OpenKaBOB:Closed kabob_prod_feb2018\n"
     ]
    },
    {
     "name": "stdout",
     "output_type": "stream",
     "text": [
      "Triples in KaBOB: 283830446\n"
     ]
    }
   ],
   "source": [
    "with OpenKaBOB(\"KaBOB_credentials.txt\") as kabob:\n",
    "    print('Triples in KaBOB:', kabob.size())"
   ]
  },
  {
   "cell_type": "markdown",
   "metadata": {},
   "source": [
    "### Basic Querying"
   ]
  },
  {
   "cell_type": "markdown",
   "metadata": {},
   "source": [
    "#### Without using the interface (using just agraph_python)"
   ]
  },
  {
   "cell_type": "code",
   "execution_count": 4,
   "metadata": {},
   "outputs": [
    {
     "name": "stderr",
     "output_type": "stream",
     "text": [
      "DEBUG:OpenKaBOB:Connecting to AllegroGraph server --host:'amc-tantor.ucdenver.pvt' port:10037\n"
     ]
    },
    {
     "name": "stdout",
     "output_type": "stream",
     "text": [
      "Triples in KaBOB: 283830446\n",
      "Label for p53\n",
      "\t\"cellular tumor antigen p53 (human)\"\n",
      "\n",
      "Triples with p53 as the subject\n",
      "\t\"cellular tumor antigen p53 (human)\" subClassOf \"cellular tumor antigen p53\"\n",
      "\t\"cellular tumor antigen p53 (human)\" subClassOf \"Homo sapiens protein\"\n",
      "\n",
      "Triples with p53 as the object\n",
      "\t\"cellular tumor antigen p53 (human)\" subClassOf \"cellular tumor antigen p53 isoform 1 (human)\"\n",
      "\t\"cellular tumor antigen p53 (human)\" annotatedSource \"PR:P04637 located_in GO:0005654\"\n",
      "\t\"cellular tumor antigen p53 (human)\" subClassOf \"cellular tumor antigen p53 phosphorylated 15 (human)\"\n",
      "\t\"cellular tumor antigen p53 (human)\" subClassOf \"cellular tumor antigen p53 phosphorylated 14 (human)\"\n",
      "\t\"cellular tumor antigen p53 (human)\" subClassOf \"cellular tumor antigen p53 dimethylated 3 (human)\"\n",
      "\t\"cellular tumor antigen p53 (human)\" subClassOf \"cellular tumor antigen p53 phosphorylated 16 (human)\"\n",
      "\t\"cellular tumor antigen p53 (human)\" subClassOf \"cellular tumor antigen p53 phosphorylated 1 (human)\"\n",
      "\t\"cellular tumor antigen p53 (human)\" subClassOf \"cellular tumor antigen p53 phosphorylated 13 (human)\"\n",
      "\t\"cellular tumor antigen p53 (human)\" subClassOf \"cellular tumor antigen p53 dimethylated 2 (human)\"\n",
      "\t\"cellular tumor antigen p53 (human)\" subClassOf \"cellular tumor antigen p53 isoform h4 (human)\"\n",
      "\t\"cellular tumor antigen p53 (human)\" subClassOf \"cellular tumor antigen p53 isoform h7 (human)\"\n",
      "\t\"cellular tumor antigen p53 (human)\" subClassOf \"cellular tumor antigen p53 isoform h2 (human)\"\n",
      "\t\"cellular tumor antigen p53 (human)\" subClassOf \"cellular tumor antigen p53 isoform h8 (human)\"\n",
      "\t\"cellular tumor antigen p53 (human)\" subClassOf \"cellular tumor antigen p53 isoform h9 (human)\"\n",
      "\t\"cellular tumor antigen p53 (human)\" subClassOf \"cellular tumor antigen p53 isoform h5 (human)\"\n",
      "\t\"cellular tumor antigen p53 (human)\" subClassOf \"cellular tumor antigen p53 isoform h3 (human)\"\n",
      "\t\"cellular tumor antigen p53 (human)\" subClassOf \"cellular tumor antigen p53 isoform h6 (human)\"\n",
      "\t\"cellular tumor antigen p53 (human)\" subClassOf \"cellular tumor antigen p53 phosphorylated 19 (human)\"\n",
      "\t\"cellular tumor antigen p53 (human)\" subClassOf \"cellular tumor antigen p53 phosphorylated 17 (human)\"\n",
      "\t\"cellular tumor antigen p53 (human)\" subClassOf \"cellular tumor antigen p53 sumoylated 1 (human)\"\n",
      "\t\"cellular tumor antigen p53 (human)\" subClassOf \"cellular tumor antigen p53 phosphorylated 12 (human)\""
     ]
    },
    {
     "name": "stderr",
     "output_type": "stream",
     "text": [
      "DEBUG:OpenKaBOB:Closed kabob_prod_feb2018\n"
     ]
    },
    {
     "name": "stdout",
     "output_type": "stream",
     "text": [
      "\n",
      "\t\"cellular tumor antigen p53 (human)\" subClassOf \"cellular tumor antigen p53 ubiquitinated form (human)\"\n",
      "\t\"cellular tumor antigen p53 (human)\" subClassOf \"cellular tumor antigen p53 phosphorylated 18 (human)\"\n",
      "\t\"cellular tumor antigen p53 (human)\" subClassOf \"cellular tumor antigen p53 phosphorylated 4 (human)\"\n"
     ]
    }
   ],
   "source": [
    "from KaBOB_Interface import OpenKaBOB\n",
    "\n",
    "p53 = kabob.createURI(\"http://purl.obolibrary.org/obo/PR_P04637\")\n",
    "label = kabob.createURI(\"http://www.w3.org/2000/01/rdf-schema#label\")\n",
    "\n",
    "with OpenKaBOB() as kabob:\n",
    "    print('Triples in KaBOB:', kabob.size())\n",
    "    \n",
    "    print('Label for p53')\n",
    "    p53_labels = kabob.getStatements(p53, label).asList()\n",
    "    p53_label = p53_labels[0].getObject()\n",
    "    print(\"\\t%s\" % p53_label)\n",
    "    \n",
    "    print()\n",
    "    \n",
    "    print('Triples with p53 as the subject')\n",
    "    p53_as_subject = kabob.getStatements(p53, None, None)\n",
    "    with p53_as_subject:\n",
    "        p53_as_subject.enableDuplicateFilter()  # This may or may not be necessary all the time\n",
    "        for statement in p53_as_subject:\n",
    "            object_labels = kabob.getStatements(statement.getObject(), label).asList()\n",
    "            \n",
    "            if object_labels:\n",
    "                print(\"\\t%s %s %s\" % (p53_label, statement.getPredicate().getLocalName(), object_labels[0].getObject()))\n",
    "    \n",
    "    print()\n",
    "    \n",
    "    print('Triples with p53 as the object')\n",
    "    p53_as_object = kabob.getStatements(None, None, p53)\n",
    "    with p53_as_object:\n",
    "        p53_as_object.enableDuplicateFilter()\n",
    "        for statement in p53_as_object:\n",
    "            subject_labels = kabob.getStatements(statement.getSubject(), label).asList()\n",
    "            \n",
    "            if subject_labels:\n",
    "                print(\"\\t%s %s %s\" % (p53_label, statement.getPredicate().getLocalName(), subject_labels[0].getObject()))\n"
   ]
  },
  {
   "cell_type": "markdown",
   "metadata": {
    "collapsed": true
   },
   "source": [
    "#### With the interface"
   ]
  },
  {
   "cell_type": "code",
   "execution_count": 2,
   "metadata": {},
   "outputs": [
    {
     "name": "stderr",
     "output_type": "stream",
     "text": [
      "DEBUG:OpenKaBOB:Connecting to AllegroGraph server --host:'amc-tantor.ucdenver.pvt' port:10037\n"
     ]
    },
    {
     "name": "stdout",
     "output_type": "stream",
     "text": [
      "Label for p53\n",
      "\tcellular tumor antigen p53 (human)\n",
      "\n",
      "Triples with p53 as the subject\n",
      "\tcellular tumor antigen p53 (human) database_cross_reference \"UniProtKB:P04637\"\n",
      "\tcellular tumor antigen p53 (human) database_cross_reference \"Reactome:R-HSA-69488\"\n",
      "\tcellular tumor antigen p53 (human) id \"PR:P04637\"\n",
      "\tcellular tumor antigen p53 (human) has_obo_namespace \"protein\"\n",
      "\tcellular tumor antigen p53 (human) definition \"A cellular tumor antigen p53 that is encoded in the genome of human.\"\n",
      "\tcellular tumor antigen p53 (human) label \"cellular tumor antigen p53 (human)\"\n",
      "\tcellular tumor antigen p53 (human) comment \"Category=organism-gene.\"\n",
      "\tcellular tumor antigen p53 (human) subClassOf cellular tumor antigen p53\n",
      "\tcellular tumor antigen p53 (human) subClassOf Homo sapiens protein\n",
      "\tcellular tumor antigen p53 (human) subClassOf pr_genid1776552\n",
      "\tcellular tumor antigen p53 (human) subClassOf pr_genid338241\n",
      "\tcellular tumor antigen p53 (human) equivalentClass pr_genid338237\n",
      "\tcellular tumor antigen p53 (human) type Class\n",
      "\tcellular tumor antigen p53 (human) has_exact_synonym \"hTP53\"\n",
      "\n",
      "Triples with p53 as the object\n",
      "\tPR_P04637 denotes cellular tumor antigen p53 (human)\n",
      "\tcellular tumor antigen p53 isoform 1 (human) subClassOf cellular tumor antigen p53 (human)\n",
      "\tPR:P04637 located_in GO:0005654 annotatedSource cellular tumor antigen p53 (human)\n",
      "\tcellular tumor antigen p53 phosphorylated 15 (human) subClassOf cellular tumor antigen p53 (human)\n",
      "\tcellular tumor antigen p53 phosphorylated 14 (human) subClassOf cellular tumor antigen p53 (human)\n",
      "\tcellular tumor antigen p53 dimethylated 3 (human) subClassOf cellular tumor antigen p53 (human)\n",
      "\tcellular tumor antigen p53 phosphorylated 16 (human) subClassOf cellular tumor antigen p53 (human)\n",
      "\tcellular tumor antigen p53 phosphorylated 1 (human) subClassOf cellular tumor antigen p53 (human)\n",
      "\tcellular tumor antigen p53 phosphorylated 13 (human) subClassOf cellular tumor antigen p53 (human)\n",
      "\tcellular tumor antigen p53 dimethylated 2 (human) subClassOf cellular tumor antigen p53 (human)\n",
      "\tcellular tumor antigen p53 isoform h4 (human) subClassOf cellular tumor antigen p53 (human)\n",
      "\tpr_genid163811 first cellular tumor antigen p53 (human)\n",
      "\tcellular tumor antigen p53 isoform h7 (human) subClassOf cellular tumor antigen p53 (human)\n",
      "\tcellular tumor antigen p53 isoform h2 (human) subClassOf cellular tumor antigen p53 (human)\n",
      "\tcellular tumor antigen p53 isoform h8 (human) subClassOf cellular tumor antigen p53 (human)\n",
      "\tcellular tumor antigen p53 isoform h9 (human) subClassOf cellular tumor antigen p53 (human)\n",
      "\tpr_genid338244 annotatedSource cellular tumor antigen p53 (human)\n",
      "\tpr_genid338242 annotatedSource cellular tumor antigen p53 (human)\n",
      "\tcellular tumor antigen p53 isoform h5 (human) subClassOf cellular tumor antigen p53 (human)\n",
      "\tcellular tumor antigen p53 isoform h3 (human) subClassOf cellular tumor antigen p53 (human)\n",
      "\tcellular tumor antigen p53 isoform h6 (human) subClassOf cellular tumor antigen p53 (human)\n",
      "\tcellular tumor antigen p53 phosphorylated 19 (human) subClassOf cellular tumor antigen p53 (human)\n",
      "\tcellular tumor antigen p53 phosphorylated 17 (human) subClassOf cellular tumor antigen p53 (human)\n",
      "\tcellular tumor antigen p53 sumoylated 1 (human) subClassOf cellular tumor antigen p53 (human)\n",
      "\tcellular tumor antigen p53 phosphorylated 12 (human) subClassOf cellular tumor antigen p53 (human)\n",
      "\tcellular tumor antigen p53 ubiquitinated form (human) subClassOf cellular tumor antigen p53 (human)\n",
      "\tcellular tumor antigen p53 phosphorylated 18 (human) subClassOf cellular tumor antigen p53 (human)\n"
     ]
    },
    {
     "name": "stderr",
     "output_type": "stream",
     "text": [
      "DEBUG:OpenKaBOB:Closed kabob_prod_feb2018\n"
     ]
    },
    {
     "name": "stdout",
     "output_type": "stream",
     "text": [
      "\tcellular tumor antigen p53 phosphorylated 4 (human) subClassOf cellular tumor antigen p53 (human)\n"
     ]
    }
   ],
   "source": [
    "from KaBOB_Interface import KaBOBInterface\n",
    "\n",
    "p53 = \"obo:PR_P04637\"\n",
    "\n",
    "with KaBOBInterface(\"KaBOB_credentials.txt\") as interface:\n",
    "    print('Label for p53')\n",
    "    p53_label = interface.node_print_name(p53)\n",
    "    print(\"\\t%s\" % p53_label)\n",
    "    \n",
    "    print()\n",
    "    \n",
    "    print('Triples with p53 as the subject')\n",
    "    for statement in interface.agraph_get_statements(s=p53):\n",
    "        object_label = interface.node_print_name(statement.getObject())\n",
    "        predicate_label = interface.node_print_name(statement.getPredicate())\n",
    "        print(\"\\t%s %s %s\" % (p53_label, predicate_label, object_label))\n",
    "    \n",
    "    print()\n",
    "    \n",
    "    print('Triples with p53 as the object')\n",
    "    for statement in interface.agraph_get_statements(o=p53):\n",
    "        subject_label = interface.node_print_name(statement.getSubject())\n",
    "        predicate_label = interface.node_print_name(statement.getPredicate())\n",
    "        print(\"\\t%s %s %s\" % (subject_label, predicate_label, p53_label))"
   ]
  },
  {
   "cell_type": "markdown",
   "metadata": {},
   "source": [
    "### Mopification"
   ]
  },
  {
   "cell_type": "code",
   "execution_count": 1,
   "metadata": {},
   "outputs": [
    {
     "name": "stderr",
     "output_type": "stream",
     "text": [
      "DEBUG:OpenKaBOB:Connecting to AllegroGraph server --host:'amc-tantor.ucdenver.pvt' port:10037\n",
      "DEBUG:KaBOBInterface:> cellular tumor antigen p53 (human)\n",
      "DEBUG:KaBOBInterface:\t> cellular tumor antigen p53\n",
      "DEBUG:KaBOBInterface:\t\t> protein\n",
      "DEBUG:KaBOBInterface:\t\t\t> biopolymer\n",
      "DEBUG:KaBOBInterface:\t\t\t\t> interactor type\n",
      "DEBUG:KaBOBInterface:\t\t\t\t< interactor type\n",
      "DEBUG:KaBOBInterface:\t\t\t< biopolymer\n",
      "DEBUG:KaBOBInterface:\t\t\t> amino acid chain\n",
      "DEBUG:KaBOBInterface:\t\t\t\t> molecular entity\n",
      "DEBUG:KaBOBInterface:\t\t\t\t\t> chemical entity\n",
      "DEBUG:KaBOBInterface:\t\t\t\t\t\t> object\n",
      "DEBUG:KaBOBInterface:\t\t\t\t\t\t\t> material entity\n",
      "DEBUG:KaBOBInterface:\t\t\t\t\t\t\t\t> independent continuant\n",
      "DEBUG:KaBOBInterface:\t\t\t\t\t\t\t\t\t> continuant\n",
      "DEBUG:KaBOBInterface:\t\t\t\t\t\t\t\t\t\t> entity\n",
      "DEBUG:KaBOBInterface:\t\t\t\t\t\t\t\t\t\t< entity\n",
      "DEBUG:KaBOBInterface:\t\t\t\t\t\t\t\t\t\t> occurrent\n",
      "DEBUG:KaBOBInterface:\t\t\t\t\t\t\t\t\t\t< occurrent\n",
      "DEBUG:KaBOBInterface:\t\t\t\t\t\t\t\t\t< continuant\n",
      "DEBUG:KaBOBInterface:\t\t\t\t\t\t\t\t\t> specifically dependent continuant\n",
      "DEBUG:KaBOBInterface:\t\t\t\t\t\t\t\t\t\t> generically dependent continuant\n",
      "DEBUG:KaBOBInterface:\t\t\t\t\t\t\t\t\t\t< generically dependent continuant\n",
      "DEBUG:KaBOBInterface:\t\t\t\t\t\t\t\t\t< specifically dependent continuant\n",
      "DEBUG:KaBOBInterface:\t\t\t\t\t\t\t\t< independent continuant\n",
      "DEBUG:KaBOBInterface:\t\t\t\t\t\t\t\t> immaterial entity\n",
      "DEBUG:KaBOBInterface:\t\t\t\t\t\t\t\t< immaterial entity\n",
      "DEBUG:KaBOBInterface:\t\t\t\t\t\t\t< material entity\n",
      "DEBUG:KaBOBInterface:\t\t\t\t\t\t< object\n",
      "DEBUG:KaBOBInterface:\t\t\t\t\t< chemical entity\n",
      "DEBUG:KaBOBInterface:\t\t\t\t< molecular entity\n",
      "DEBUG:KaBOBInterface:\t\t\t\t> organic amino compound\n",
      "DEBUG:KaBOBInterface:\t\t\t\t\t> organonitrogen compound\n",
      "DEBUG:KaBOBInterface:\t\t\t\t\t\t> nitrogen molecular entity\n",
      "DEBUG:KaBOBInterface:\t\t\t\t\t\t\t> pnictogen molecular entity\n",
      "DEBUG:KaBOBInterface:\t\t\t\t\t\t\t\t> p-block molecular entity\n",
      "DEBUG:KaBOBInterface:\t\t\t\t\t\t\t\t\t> main group molecular entity\n",
      "DEBUG:KaBOBInterface:\t\t\t\t\t\t\t\t\t< main group molecular entity\n",
      "DEBUG:KaBOBInterface:\t\t\t\t\t\t\t\t< p-block molecular entity\n",
      "DEBUG:KaBOBInterface:\t\t\t\t\t\t\t< pnictogen molecular entity\n",
      "DEBUG:KaBOBInterface:\t\t\t\t\t\t< nitrogen molecular entity\n",
      "DEBUG:KaBOBInterface:\t\t\t\t\t\t> heteroorganic entity\n",
      "DEBUG:KaBOBInterface:\t\t\t\t\t\t\t> organic molecular entity\n",
      "DEBUG:KaBOBInterface:\t\t\t\t\t\t\t\t> carbon group molecular entity\n",
      "DEBUG:KaBOBInterface:\t\t\t\t\t\t\t\t< carbon group molecular entity\n",
      "DEBUG:KaBOBInterface:\t\t\t\t\t\t\t< organic molecular entity\n",
      "DEBUG:KaBOBInterface:\t\t\t\t\t\t< heteroorganic entity\n",
      "DEBUG:KaBOBInterface:\t\t\t\t\t< organonitrogen compound\n",
      "DEBUG:KaBOBInterface:\t\t\t\t< organic amino compound\n",
      "DEBUG:KaBOBInterface:\t\t\t< amino acid chain\n",
      "DEBUG:KaBOBInterface:\t\t\t> physical entity\n",
      "DEBUG:KaBOBInterface:\t\t\t< physical entity\n",
      "DEBUG:KaBOBInterface:\t\t\t> information biomacromolecule\n",
      "DEBUG:KaBOBInterface:\t\t\t\t> biomacromolecule\n",
      "DEBUG:KaBOBInterface:\t\t\t\t\t> macromolecule\n",
      "DEBUG:KaBOBInterface:\t\t\t\t\t\t> polyatomic entity\n",
      "DEBUG:KaBOBInterface:\t\t\t\t\t\t< polyatomic entity\n",
      "DEBUG:KaBOBInterface:\t\t\t\t\t< macromolecule\n",
      "DEBUG:KaBOBInterface:\t\t\t\t< biomacromolecule\n",
      "DEBUG:KaBOBInterface:\t\t\t< information biomacromolecule\n",
      "DEBUG:KaBOBInterface:\t\t< protein\n",
      "DEBUG:KaBOBInterface:\t< cellular tumor antigen p53\n",
      "DEBUG:KaBOBInterface:\t> GP_B_2VC6kJt0EwheaEg8GER1qC273bc\n",
      "WARNING:KaBOBInterface:\t\tTrivial mopification of non-BIO-world node <http://ccp.ucdenver.edu/obo/ext/IAO_EXT_0001716>\n",
      "DEBUG:KaBOBInterface:\t\t> gene product abstraction\n",
      "DEBUG:KaBOBInterface:\t\t< gene product abstraction\n",
      "DEBUG:KaBOBInterface:\t\t> GPGPV_B_2VC6kJt0EwheaEg8GER1qC273bc\n",
      "WARNING:KaBOBInterface:\t\t\tTrivial mopification of non-BIO-world node <http://ccp.ucdenver.edu/obo/ext/IAO_EXT_0001721>\n",
      "DEBUG:KaBOBInterface:\t\t\t> gene product or gene product variant abstraction\n",
      "DEBUG:KaBOBInterface:\t\t\t< gene product or gene product variant abstraction\n",
      "DEBUG:KaBOBInterface:\t\t\t> GGPV_B_2VC6kJt0EwheaEg8GER1qC273bc\n",
      "WARNING:KaBOBInterface:\t\t\t\tTrivial mopification of non-BIO-world node <http://ccp.ucdenver.edu/obo/ext/IAO_EXT_0001718>\n",
      "DEBUG:KaBOBInterface:\t\t\t\t> gene or gene product or variant abstraction\n",
      "DEBUG:KaBOBInterface:\t\t\t\t< gene or gene product or variant abstraction\n",
      "DEBUG:KaBOBInterface:\t\t\t< GGPV_B_2VC6kJt0EwheaEg8GER1qC273bc\n",
      "DEBUG:KaBOBInterface:\t\t< GPGPV_B_2VC6kJt0EwheaEg8GER1qC273bc\n",
      "DEBUG:KaBOBInterface:\t\t> GGP_B_2VC6kJt0EwheaEg8GER1qC273bc\n",
      "WARNING:KaBOBInterface:\t\t\tTrivial mopification of non-BIO-world node <http://ccp.ucdenver.edu/obo/ext/IAO_EXT_0001715>\n",
      "DEBUG:KaBOBInterface:\t\t\t> gene or gene product abstraction\n",
      "DEBUG:KaBOBInterface:\t\t\t< gene or gene product abstraction\n",
      "DEBUG:KaBOBInterface:\t\t< GGP_B_2VC6kJt0EwheaEg8GER1qC273bc\n",
      "DEBUG:KaBOBInterface:\t< GP_B_2VC6kJt0EwheaEg8GER1qC273bc\n",
      "DEBUG:KaBOBInterface:\t> Homo sapiens protein\n",
      "DEBUG:KaBOBInterface:\t\t> eukaryotic protein\n",
      "DEBUG:KaBOBInterface:\t\t\t> archaeal protein\n",
      "DEBUG:KaBOBInterface:\t\t\t\t> viral protein\n",
      "DEBUG:KaBOBInterface:\t\t\t\t< viral protein\n",
      "DEBUG:KaBOBInterface:\t\t\t< archaeal protein\n",
      "DEBUG:KaBOBInterface:\t\t\t> bacterial protein\n",
      "DEBUG:KaBOBInterface:\t\t\t< bacterial protein\n",
      "DEBUG:KaBOBInterface:\t\t< eukaryotic protein\n",
      "DEBUG:KaBOBInterface:\t< Homo sapiens protein\n",
      "DEBUG:KaBOBInterface:\t> Homo sapiens\n",
      "DEBUG:KaBOBInterface:\t\t> Homo\n",
      "DEBUG:KaBOBInterface:\t\t\t> Homininae\n",
      "DEBUG:KaBOBInterface:\t\t\t\t> Hominidae\n",
      "DEBUG:KaBOBInterface:\t\t\t\t\t> Hominoidea\n",
      "DEBUG:KaBOBInterface:\t\t\t\t\t\t> Catarrhini\n",
      "DEBUG:KaBOBInterface:\t\t\t\t\t\t\t> Simiiformes\n",
      "DEBUG:KaBOBInterface:\t\t\t\t\t\t\t\t> Haplorrhini\n",
      "DEBUG:KaBOBInterface:\t\t\t\t\t\t\t\t\t> Primates\n",
      "DEBUG:KaBOBInterface:\t\t\t\t\t\t\t\t\t\t> Euarchontoglires\n",
      "DEBUG:KaBOBInterface:\t\t\t\t\t\t\t\t\t\t\t> Boreoeutheria\n",
      "DEBUG:KaBOBInterface:\t\t\t\t\t\t\t\t\t\t\t\t> Eutheria\n",
      "DEBUG:KaBOBInterface:\t\t\t\t\t\t\t\t\t\t\t\t\t> Theria <Mammalia>\n",
      "DEBUG:KaBOBInterface:\t\t\t\t\t\t\t\t\t\t\t\t\t\t> Mammalia\n",
      "DEBUG:KaBOBInterface:\t\t\t\t\t\t\t\t\t\t\t\t\t\t\t> Amniota\n",
      "DEBUG:KaBOBInterface:\t\t\t\t\t\t\t\t\t\t\t\t\t\t\t\t> Tetrapoda\n",
      "DEBUG:KaBOBInterface:\t\t\t\t\t\t\t\t\t\t\t\t\t\t\t\t\t> Dipnotetrapodomorpha\n",
      "DEBUG:KaBOBInterface:\t\t\t\t\t\t\t\t\t\t\t\t\t\t\t\t\t\t> Sarcopterygii\n",
      "DEBUG:KaBOBInterface:\t\t\t\t\t\t\t\t\t\t\t\t\t\t\t\t\t\t\t> Euteleostomi\n",
      "DEBUG:KaBOBInterface:\t\t\t\t\t\t\t\t\t\t\t\t\t\t\t\t\t\t\t\t> Teleostomi\n",
      "DEBUG:KaBOBInterface:\t\t\t\t\t\t\t\t\t\t\t\t\t\t\t\t\t\t\t\t\t> Gnathostomata <vertebrate>\n",
      "DEBUG:KaBOBInterface:\t\t\t\t\t\t\t\t\t\t\t\t\t\t\t\t\t\t\t\t\t\t> Vertebrata <Metazoa>\n",
      "DEBUG:KaBOBInterface:\t\t\t\t\t\t\t\t\t\t\t\t\t\t\t\t\t\t\t\t\t\t\t> Craniata <chordata>\n",
      "DEBUG:KaBOBInterface:\t\t\t\t\t\t\t\t\t\t\t\t\t\t\t\t\t\t\t\t\t\t\t\t> Chordata\n",
      "DEBUG:KaBOBInterface:\t\t\t\t\t\t\t\t\t\t\t\t\t\t\t\t\t\t\t\t\t\t\t\t\t> Deuterostomia\n",
      "DEBUG:KaBOBInterface:\t\t\t\t\t\t\t\t\t\t\t\t\t\t\t\t\t\t\t\t\t\t\t\t\t\t> Bilateria\n",
      "DEBUG:KaBOBInterface:\t\t\t\t\t\t\t\t\t\t\t\t\t\t\t\t\t\t\t\t\t\t\t\t\t\t\t> Eumetazoa\n",
      "DEBUG:KaBOBInterface:\t\t\t\t\t\t\t\t\t\t\t\t\t\t\t\t\t\t\t\t\t\t\t\t\t\t\t\t> Metazoa\n",
      "DEBUG:KaBOBInterface:\t\t\t\t\t\t\t\t\t\t\t\t\t\t\t\t\t\t\t\t\t\t\t\t\t\t\t\t\t> Opisthokonta\n",
      "DEBUG:KaBOBInterface:\t\t\t\t\t\t\t\t\t\t\t\t\t\t\t\t\t\t\t\t\t\t\t\t\t\t\t\t\t\t> Eukaryota\n",
      "DEBUG:KaBOBInterface:\t\t\t\t\t\t\t\t\t\t\t\t\t\t\t\t\t\t\t\t\t\t\t\t\t\t\t\t\t\t\t> organism\n",
      "DEBUG:KaBOBInterface:\t\t\t\t\t\t\t\t\t\t\t\t\t\t\t\t\t\t\t\t\t\t\t\t\t\t\t\t\t\t\t< organism\n",
      "DEBUG:KaBOBInterface:\t\t\t\t\t\t\t\t\t\t\t\t\t\t\t\t\t\t\t\t\t\t\t\t\t\t\t\t\t\t\t> cellular organisms\n",
      "DEBUG:KaBOBInterface:\t\t\t\t\t\t\t\t\t\t\t\t\t\t\t\t\t\t\t\t\t\t\t\t\t\t\t\t\t\t\t\t> ncbitaxon\n",
      "DEBUG:KaBOBInterface:\t\t\t\t\t\t\t\t\t\t\t\t\t\t\t\t\t\t\t\t\t\t\t\t\t\t\t\t\t\t\t\t< ncbitaxon\n",
      "DEBUG:KaBOBInterface:\t\t\t\t\t\t\t\t\t\t\t\t\t\t\t\t\t\t\t\t\t\t\t\t\t\t\t\t\t\t\t< cellular organisms\n",
      "DEBUG:KaBOBInterface:\t\t\t\t\t\t\t\t\t\t\t\t\t\t\t\t\t\t\t\t\t\t\t\t\t\t\t\t\t\t\t> superkingdom\n",
      "DEBUG:KaBOBInterface:\t\t\t\t\t\t\t\t\t\t\t\t\t\t\t\t\t\t\t\t\t\t\t\t\t\t\t\t\t\t\t\t> taxonomic rank\n",
      "DEBUG:KaBOBInterface:\t\t\t\t\t\t\t\t\t\t\t\t\t\t\t\t\t\t\t\t\t\t\t\t\t\t\t\t\t\t\t\t< taxonomic rank\n",
      "DEBUG:KaBOBInterface:\t\t\t\t\t\t\t\t\t\t\t\t\t\t\t\t\t\t\t\t\t\t\t\t\t\t\t\t\t\t\t< superkingdom\n",
      "DEBUG:KaBOBInterface:\t\t\t\t\t\t\t\t\t\t\t\t\t\t\t\t\t\t\t\t\t\t\t\t\t\t\t\t\t\t< Eukaryota\n",
      "DEBUG:KaBOBInterface:\t\t\t\t\t\t\t\t\t\t\t\t\t\t\t\t\t\t\t\t\t\t\t\t\t\t\t\t\t\t> Alveolata\n",
      "DEBUG:KaBOBInterface:\t\t\t\t\t\t\t\t\t\t\t\t\t\t\t\t\t\t\t\t\t\t\t\t\t\t\t\t\t\t\t> Glaucocystophyceae\n",
      "DEBUG:KaBOBInterface:\t\t\t\t\t\t\t\t\t\t\t\t\t\t\t\t\t\t\t\t\t\t\t\t\t\t\t\t\t\t\t\t> Amoebozoa\n",
      "DEBUG:KaBOBInterface:\t\t\t\t\t\t\t\t\t\t\t\t\t\t\t\t\t\t\t\t\t\t\t\t\t\t\t\t\t\t\t\t< Amoebozoa\n",
      "DEBUG:KaBOBInterface:\t\t\t\t\t\t\t\t\t\t\t\t\t\t\t\t\t\t\t\t\t\t\t\t\t\t\t\t\t\t\t\t> class\n",
      "DEBUG:KaBOBInterface:\t\t\t\t\t\t\t\t\t\t\t\t\t\t\t\t\t\t\t\t\t\t\t\t\t\t\t\t\t\t\t\t< class\n",
      "DEBUG:KaBOBInterface:\t\t\t\t\t\t\t\t\t\t\t\t\t\t\t\t\t\t\t\t\t\t\t\t\t\t\t\t\t\t\t< Glaucocystophyceae\n",
      "DEBUG:KaBOBInterface:\t\t\t\t\t\t\t\t\t\t\t\t\t\t\t\t\t\t\t\t\t\t\t\t\t\t\t\t\t\t\t> Stramenopiles\n",
      "DEBUG:KaBOBInterface:\t\t\t\t\t\t\t\t\t\t\t\t\t\t\t\t\t\t\t\t\t\t\t\t\t\t\t\t\t\t\t\t> Euglenozoa\n",
      "DEBUG:KaBOBInterface:\t\t\t\t\t\t\t\t\t\t\t\t\t\t\t\t\t\t\t\t\t\t\t\t\t\t\t\t\t\t\t\t< Euglenozoa\n",
      "DEBUG:KaBOBInterface:\t\t\t\t\t\t\t\t\t\t\t\t\t\t\t\t\t\t\t\t\t\t\t\t\t\t\t\t\t\t\t< Stramenopiles\n",
      "DEBUG:KaBOBInterface:\t\t\t\t\t\t\t\t\t\t\t\t\t\t\t\t\t\t\t\t\t\t\t\t\t\t\t\t\t\t< Alveolata\n",
      "DEBUG:KaBOBInterface:\t\t\t\t\t\t\t\t\t\t\t\t\t\t\t\t\t\t\t\t\t\t\t\t\t\t\t\t\t< Opisthokonta\n",
      "DEBUG:KaBOBInterface:\t\t\t\t\t\t\t\t\t\t\t\t\t\t\t\t\t\t\t\t\t\t\t\t\t\t\t\t\t> Fungi\n",
      "DEBUG:KaBOBInterface:\t\t\t\t\t\t\t\t\t\t\t\t\t\t\t\t\t\t\t\t\t\t\t\t\t\t\t\t\t\t> kingdom\n"
     ]
    },
    {
     "name": "stderr",
     "output_type": "stream",
     "text": [
      "DEBUG:KaBOBInterface:\t\t\t\t\t\t\t\t\t\t\t\t\t\t\t\t\t\t\t\t\t\t\t\t\t\t\t\t\t\t< kingdom\n",
      "DEBUG:KaBOBInterface:\t\t\t\t\t\t\t\t\t\t\t\t\t\t\t\t\t\t\t\t\t\t\t\t\t\t\t\t\t< Fungi\n",
      "DEBUG:KaBOBInterface:\t\t\t\t\t\t\t\t\t\t\t\t\t\t\t\t\t\t\t\t\t\t\t\t\t\t\t\t< Metazoa\n",
      "DEBUG:KaBOBInterface:\t\t\t\t\t\t\t\t\t\t\t\t\t\t\t\t\t\t\t\t\t\t\t\t\t\t\t< Eumetazoa\n",
      "DEBUG:KaBOBInterface:\t\t\t\t\t\t\t\t\t\t\t\t\t\t\t\t\t\t\t\t\t\t\t\t\t\t\t> Cnidaria\n",
      "DEBUG:KaBOBInterface:\t\t\t\t\t\t\t\t\t\t\t\t\t\t\t\t\t\t\t\t\t\t\t\t\t\t\t\t> phylum\n",
      "DEBUG:KaBOBInterface:\t\t\t\t\t\t\t\t\t\t\t\t\t\t\t\t\t\t\t\t\t\t\t\t\t\t\t\t< phylum\n",
      "DEBUG:KaBOBInterface:\t\t\t\t\t\t\t\t\t\t\t\t\t\t\t\t\t\t\t\t\t\t\t\t\t\t\t< Cnidaria\n",
      "DEBUG:KaBOBInterface:\t\t\t\t\t\t\t\t\t\t\t\t\t\t\t\t\t\t\t\t\t\t\t\t\t\t< Bilateria\n",
      "DEBUG:KaBOBInterface:\t\t\t\t\t\t\t\t\t\t\t\t\t\t\t\t\t\t\t\t\t\t\t\t\t\t> Platyhelminthes\n",
      "DEBUG:KaBOBInterface:\t\t\t\t\t\t\t\t\t\t\t\t\t\t\t\t\t\t\t\t\t\t\t\t\t\t< Platyhelminthes\n",
      "DEBUG:KaBOBInterface:\t\t\t\t\t\t\t\t\t\t\t\t\t\t\t\t\t\t\t\t\t\t\t\t\t< Deuterostomia\n",
      "DEBUG:KaBOBInterface:\t\t\t\t\t\t\t\t\t\t\t\t\t\t\t\t\t\t\t\t\t\t\t\t< Chordata\n",
      "DEBUG:KaBOBInterface:\t\t\t\t\t\t\t\t\t\t\t\t\t\t\t\t\t\t\t\t\t\t\t\t> subphylum\n",
      "DEBUG:KaBOBInterface:\t\t\t\t\t\t\t\t\t\t\t\t\t\t\t\t\t\t\t\t\t\t\t\t< subphylum\n",
      "DEBUG:KaBOBInterface:\t\t\t\t\t\t\t\t\t\t\t\t\t\t\t\t\t\t\t\t\t\t\t< Craniata <chordata>\n",
      "DEBUG:KaBOBInterface:\t\t\t\t\t\t\t\t\t\t\t\t\t\t\t\t\t\t\t\t\t\t< Vertebrata <Metazoa>\n",
      "DEBUG:KaBOBInterface:\t\t\t\t\t\t\t\t\t\t\t\t\t\t\t\t\t\t\t\t\t< Gnathostomata <vertebrate>\n",
      "DEBUG:KaBOBInterface:\t\t\t\t\t\t\t\t\t\t\t\t\t\t\t\t\t\t\t\t\t> Chondrichthyes\n",
      "DEBUG:KaBOBInterface:\t\t\t\t\t\t\t\t\t\t\t\t\t\t\t\t\t\t\t\t\t< Chondrichthyes\n",
      "DEBUG:KaBOBInterface:\t\t\t\t\t\t\t\t\t\t\t\t\t\t\t\t\t\t\t\t< Teleostomi\n",
      "DEBUG:KaBOBInterface:\t\t\t\t\t\t\t\t\t\t\t\t\t\t\t\t\t\t\t< Euteleostomi\n",
      "DEBUG:KaBOBInterface:\t\t\t\t\t\t\t\t\t\t\t\t\t\t\t\t\t\t\t> superclass\n",
      "DEBUG:KaBOBInterface:\t\t\t\t\t\t\t\t\t\t\t\t\t\t\t\t\t\t\t< superclass\n",
      "DEBUG:KaBOBInterface:\t\t\t\t\t\t\t\t\t\t\t\t\t\t\t\t\t\t< Sarcopterygii\n",
      "DEBUG:KaBOBInterface:\t\t\t\t\t\t\t\t\t\t\t\t\t\t\t\t\t< Dipnotetrapodomorpha\n",
      "DEBUG:KaBOBInterface:\t\t\t\t\t\t\t\t\t\t\t\t\t\t\t\t\t> Dipnoi\n",
      "DEBUG:KaBOBInterface:\t\t\t\t\t\t\t\t\t\t\t\t\t\t\t\t\t< Dipnoi\n",
      "DEBUG:KaBOBInterface:\t\t\t\t\t\t\t\t\t\t\t\t\t\t\t\t< Tetrapoda\n",
      "DEBUG:KaBOBInterface:\t\t\t\t\t\t\t\t\t\t\t\t\t\t\t\t> Amphibia\n",
      "DEBUG:KaBOBInterface:\t\t\t\t\t\t\t\t\t\t\t\t\t\t\t\t< Amphibia\n",
      "DEBUG:KaBOBInterface:\t\t\t\t\t\t\t\t\t\t\t\t\t\t\t< Amniota\n",
      "DEBUG:KaBOBInterface:\t\t\t\t\t\t\t\t\t\t\t\t\t\t\t> Sauropsida\n",
      "DEBUG:KaBOBInterface:\t\t\t\t\t\t\t\t\t\t\t\t\t\t\t< Sauropsida\n",
      "DEBUG:KaBOBInterface:\t\t\t\t\t\t\t\t\t\t\t\t\t\t< Mammalia\n",
      "DEBUG:KaBOBInterface:\t\t\t\t\t\t\t\t\t\t\t\t\t\t> Prototheria\n",
      "DEBUG:KaBOBInterface:\t\t\t\t\t\t\t\t\t\t\t\t\t\t< Prototheria\n",
      "DEBUG:KaBOBInterface:\t\t\t\t\t\t\t\t\t\t\t\t\t< Theria <Mammalia>\n",
      "DEBUG:KaBOBInterface:\t\t\t\t\t\t\t\t\t\t\t\t< Eutheria\n",
      "DEBUG:KaBOBInterface:\t\t\t\t\t\t\t\t\t\t\t\t> Xenarthra\n",
      "DEBUG:KaBOBInterface:\t\t\t\t\t\t\t\t\t\t\t\t\t> superorder\n",
      "DEBUG:KaBOBInterface:\t\t\t\t\t\t\t\t\t\t\t\t\t< superorder\n",
      "DEBUG:KaBOBInterface:\t\t\t\t\t\t\t\t\t\t\t\t< Xenarthra\n",
      "DEBUG:KaBOBInterface:\t\t\t\t\t\t\t\t\t\t\t\t> Afrotheria\n",
      "DEBUG:KaBOBInterface:\t\t\t\t\t\t\t\t\t\t\t\t< Afrotheria\n",
      "DEBUG:KaBOBInterface:\t\t\t\t\t\t\t\t\t\t\t< Boreoeutheria\n",
      "DEBUG:KaBOBInterface:\t\t\t\t\t\t\t\t\t\t< Euarchontoglires\n",
      "DEBUG:KaBOBInterface:\t\t\t\t\t\t\t\t\t\t> order\n",
      "DEBUG:KaBOBInterface:\t\t\t\t\t\t\t\t\t\t< order\n",
      "DEBUG:KaBOBInterface:\t\t\t\t\t\t\t\t\t< Primates\n",
      "DEBUG:KaBOBInterface:\t\t\t\t\t\t\t\t\t> suborder\n",
      "DEBUG:KaBOBInterface:\t\t\t\t\t\t\t\t\t< suborder\n",
      "DEBUG:KaBOBInterface:\t\t\t\t\t\t\t\t< Haplorrhini\n",
      "DEBUG:KaBOBInterface:\t\t\t\t\t\t\t\t> Tarsiiformes\n",
      "DEBUG:KaBOBInterface:\t\t\t\t\t\t\t\t\t> infraorder\n",
      "DEBUG:KaBOBInterface:\t\t\t\t\t\t\t\t\t< infraorder\n",
      "DEBUG:KaBOBInterface:\t\t\t\t\t\t\t\t< Tarsiiformes\n",
      "DEBUG:KaBOBInterface:\t\t\t\t\t\t\t< Simiiformes\n",
      "DEBUG:KaBOBInterface:\t\t\t\t\t\t\t> parvorder\n",
      "DEBUG:KaBOBInterface:\t\t\t\t\t\t\t< parvorder\n",
      "DEBUG:KaBOBInterface:\t\t\t\t\t\t< Catarrhini\n",
      "DEBUG:KaBOBInterface:\t\t\t\t\t\t> superfamily\n",
      "DEBUG:KaBOBInterface:\t\t\t\t\t\t< superfamily\n",
      "DEBUG:KaBOBInterface:\t\t\t\t\t< Hominoidea\n",
      "DEBUG:KaBOBInterface:\t\t\t\t\t> family\n",
      "DEBUG:KaBOBInterface:\t\t\t\t\t< family\n",
      "DEBUG:KaBOBInterface:\t\t\t\t< Hominidae\n",
      "DEBUG:KaBOBInterface:\t\t\t\t> Ponginae\n",
      "DEBUG:KaBOBInterface:\t\t\t\t\t> subfamily\n",
      "DEBUG:KaBOBInterface:\t\t\t\t\t< subfamily\n",
      "DEBUG:KaBOBInterface:\t\t\t\t< Ponginae\n",
      "DEBUG:KaBOBInterface:\t\t\t< Homininae\n",
      "DEBUG:KaBOBInterface:\t\t\t> genus\n",
      "DEBUG:KaBOBInterface:\t\t\t< genus\n",
      "DEBUG:KaBOBInterface:\t\t< Homo\n",
      "DEBUG:KaBOBInterface:\t\t> species\n",
      "DEBUG:KaBOBInterface:\t\t< species\n",
      "DEBUG:KaBOBInterface:\t< Homo sapiens\n",
      "DEBUG:KaBOBInterface:< cellular tumor antigen p53 (human)\n",
      "DEBUG:OpenKaBOB:Closed kabob_class_latest\n"
     ]
    }
   ],
   "source": [
    "p53 = \"obo:PR_P04637\"\n",
    "\n",
    "with KaBOBInterface(\"KaBOB_credentials.txt\") as interface:\n",
    "    bio_p53 = interface.bio(interface.create_uri(p53))\n",
    "    interface.mopify(bio_p53)\n",
    "        \n",
    "#     interface.draw(layout=nx.circular_layout)"
   ]
  },
  {
   "cell_type": "code",
   "execution_count": 3,
   "metadata": {},
   "outputs": [
    {
     "name": "stderr",
     "output_type": "stream",
     "text": [
      "DEBUG:KaBOBInterface:Connecting to AllegroGraph server --host:'amc-tantor.ucdenver.pvt' port:10037\n"
     ]
    },
    {
     "name": "stdout",
     "output_type": "stream",
     "text": [
      "Reading mops\n"
     ]
    },
    {
     "name": "stderr",
     "output_type": "stream",
     "text": [
      "DEBUG:KaBOBInterface:Closed AllegroGraph server --host:'amc-tantor.ucdenver.pvt' port:10037\n"
     ]
    },
    {
     "name": "stdout",
     "output_type": "stream",
     "text": [
      "Calculating statistics\n",
      "***Frame Statistics***\n",
      "\tNumber of mop: 31211\n",
      "\n",
      "***Role Statistics***\n",
      "\tNumber of only_in_taxon: 3975\n",
      "\tNumber of equivalent: 674\n",
      "\tNumber of has_participant: 283\n",
      "\tNumber of causes or contributes to condition: 172\n",
      "\tNumber of transports or maintains localization of: 93\n",
      "\tNumber of has target end location: 93\n",
      "\tNumber of never_in_taxon: 25\n"
     ]
    }
   ],
   "source": [
    "with KaBOBInterface(\"KaBOB_credentials.txt\") as interface:\n",
    "    \n",
    "    print(\"Reading mops\")\n",
    "    mops = pickle.load(open(\"E:/Documents/KaBOB/pickles/mops.pickle\", \"rb\"))\n",
    "    interface.mops = mops\n",
    "    \n",
    "    print(\"Calculating statistics\")\n",
    "    frame_stats, role_stats = interface.mops.get_statistics()\n",
    "    \n",
    "    print(\"***Frame Statistics***\")\n",
    "    for key, value in frame_stats.items():\n",
    "        print(\"\\tNumber of %s: %d\" % (key, value))\n",
    "    \n",
    "    print()\n",
    "    \n",
    "    print(\"***Role Statistics***\")\n",
    "    for key, value in role_stats.items():\n",
    "        print(\"\\tNumber of %s: %d\" % (key, value))\n",
    "        \n",
    "    "
   ]
  },
  {
   "cell_type": "code",
   "execution_count": 23,
   "metadata": {},
   "outputs": [
    {
     "name": "stderr",
     "output_type": "stream",
     "text": [
      "DEBUG:KaBOBInterface:Connecting to AllegroGraph server --host:'amc-tantor.ucdenver.pvt' port:10037\n",
      "DEBUG:KaBOBInterface:> low-density lipoprotein particle clearance\n"
     ]
    },
    {
     "name": "stdout",
     "output_type": "stream",
     "text": [
      "Hyper cholesterol is involved in 28 statements of interest\n",
      "****** 0 ******\n"
     ]
    },
    {
     "name": "stderr",
     "output_type": "stream",
     "text": [
      "DEBUG:KaBOBInterface:\t> plasma lipoprotein particle clearance\n",
      "DEBUG:KaBOBInterface:\t\t> multicellular organismal process\n",
      "DEBUG:KaBOBInterface:\t\t\t> biological_process\n",
      "DEBUG:KaBOBInterface:\t\t\t\t> processual entity\n",
      "DEBUG:KaBOBInterface:\t\t\t\t\t> occurrent\n",
      "DEBUG:KaBOBInterface:\t\t\t\t\t\t> entity\n",
      "DEBUG:KaBOBInterface:\t\t\t\t\t\t< entity\n",
      "DEBUG:KaBOBInterface:\t\t\t\t\t< occurrent\n",
      "DEBUG:KaBOBInterface:\t\t\t\t< processual entity\n",
      "DEBUG:KaBOBInterface:\t\t\t< biological_process\n",
      "DEBUG:KaBOBInterface:\t\t\t> Saccharomyces cerevisiae\n",
      "DEBUG:KaBOBInterface:\t\t\t\t> Saccharomyces\n",
      "DEBUG:KaBOBInterface:\t\t\t\t\t> Saccharomycetaceae\n",
      "DEBUG:KaBOBInterface:\t\t\t\t\t\t> Saccharomycetales\n",
      "DEBUG:KaBOBInterface:\t\t\t\t\t\t\t> Saccharomycetes\n",
      "DEBUG:KaBOBInterface:\t\t\t\t\t\t\t\t> Saccharomycotina\n",
      "DEBUG:KaBOBInterface:\t\t\t\t\t\t\t\t\t> saccharomyceta\n",
      "DEBUG:KaBOBInterface:\t\t\t\t\t\t\t\t\t\t> Ascomycota\n",
      "DEBUG:KaBOBInterface:\t\t\t\t\t\t\t\t\t\t\t> Dikarya\n",
      "DEBUG:KaBOBInterface:\t\t\t\t\t\t\t\t\t\t\t\t> Fungi\n",
      "DEBUG:KaBOBInterface:\t\t\t\t\t\t\t\t\t\t\t\t\t> Opisthokonta\n",
      "DEBUG:KaBOBInterface:\t\t\t\t\t\t\t\t\t\t\t\t\t\t> Eukaryota\n",
      "DEBUG:KaBOBInterface:\t\t\t\t\t\t\t\t\t\t\t\t\t\t\t> organism\n",
      "DEBUG:KaBOBInterface:\t\t\t\t\t\t\t\t\t\t\t\t\t\t\t\t> object\n",
      "DEBUG:KaBOBInterface:\t\t\t\t\t\t\t\t\t\t\t\t\t\t\t\t\t> material entity\n",
      "DEBUG:KaBOBInterface:\t\t\t\t\t\t\t\t\t\t\t\t\t\t\t\t\t\t> independent continuant\n",
      "DEBUG:KaBOBInterface:\t\t\t\t\t\t\t\t\t\t\t\t\t\t\t\t\t\t\t> continuant\n",
      "DEBUG:KaBOBInterface:\t\t\t\t\t\t\t\t\t\t\t\t\t\t\t\t\t\t\t< continuant\n",
      "DEBUG:KaBOBInterface:\t\t\t\t\t\t\t\t\t\t\t\t\t\t\t\t\t\t< independent continuant\n",
      "DEBUG:KaBOBInterface:\t\t\t\t\t\t\t\t\t\t\t\t\t\t\t\t\t< material entity\n",
      "DEBUG:KaBOBInterface:\t\t\t\t\t\t\t\t\t\t\t\t\t\t\t\t< object\n",
      "DEBUG:KaBOBInterface:\t\t\t\t\t\t\t\t\t\t\t\t\t\t\t< organism\n",
      "DEBUG:KaBOBInterface:\t\t\t\t\t\t\t\t\t\t\t\t\t\t\t> cellular organisms\n",
      "DEBUG:KaBOBInterface:\t\t\t\t\t\t\t\t\t\t\t\t\t\t\t\t> ncbitaxon\n",
      "DEBUG:KaBOBInterface:\t\t\t\t\t\t\t\t\t\t\t\t\t\t\t\t< ncbitaxon\n",
      "DEBUG:KaBOBInterface:\t\t\t\t\t\t\t\t\t\t\t\t\t\t\t< cellular organisms\n",
      "DEBUG:KaBOBInterface:\t\t\t\t\t\t\t\t\t\t\t\t\t\t< Eukaryota\n",
      "DEBUG:KaBOBInterface:\t\t\t\t\t\t\t\t\t\t\t\t\t< Opisthokonta\n",
      "DEBUG:KaBOBInterface:\t\t\t\t\t\t\t\t\t\t\t\t< Fungi\n",
      "DEBUG:KaBOBInterface:\t\t\t\t\t\t\t\t\t\t\t< Dikarya\n",
      "DEBUG:KaBOBInterface:\t\t\t\t\t\t\t\t\t\t< Ascomycota\n",
      "DEBUG:KaBOBInterface:\t\t\t\t\t\t\t\t\t< saccharomyceta\n",
      "DEBUG:KaBOBInterface:\t\t\t\t\t\t\t\t< Saccharomycotina\n",
      "DEBUG:KaBOBInterface:\t\t\t\t\t\t\t< Saccharomycetes\n",
      "DEBUG:KaBOBInterface:\t\t\t\t\t\t< Saccharomycetales\n",
      "DEBUG:KaBOBInterface:\t\t\t\t\t< Saccharomycetaceae\n",
      "DEBUG:KaBOBInterface:\t\t\t\t< Saccharomyces\n",
      "DEBUG:KaBOBInterface:\t\t\t< Saccharomyces cerevisiae\n",
      "DEBUG:KaBOBInterface:\t\t\t> Schizosaccharomyces pombe\n",
      "DEBUG:KaBOBInterface:\t\t\t\t> Schizosaccharomyces\n",
      "DEBUG:KaBOBInterface:\t\t\t\t\t> Schizosaccharomycetaceae\n",
      "DEBUG:KaBOBInterface:\t\t\t\t\t\t> Schizosaccharomycetales\n",
      "DEBUG:KaBOBInterface:\t\t\t\t\t\t\t> Schizosaccharomycetes\n",
      "DEBUG:KaBOBInterface:\t\t\t\t\t\t\t\t> Taphrinomycotina\n",
      "DEBUG:KaBOBInterface:\t\t\t\t\t\t\t\t< Taphrinomycotina\n",
      "DEBUG:KaBOBInterface:\t\t\t\t\t\t\t< Schizosaccharomycetes\n",
      "DEBUG:KaBOBInterface:\t\t\t\t\t\t< Schizosaccharomycetales\n",
      "DEBUG:KaBOBInterface:\t\t\t\t\t< Schizosaccharomycetaceae\n",
      "DEBUG:KaBOBInterface:\t\t\t\t< Schizosaccharomyces\n",
      "DEBUG:KaBOBInterface:\t\t\t< Schizosaccharomyces pombe\n",
      "DEBUG:KaBOBInterface:\t\t< multicellular organismal process\n",
      "DEBUG:KaBOBInterface:\t< plasma lipoprotein particle clearance\n",
      "DEBUG:KaBOBInterface:< low-density lipoprotein particle clearance\n",
      "WARNING:KaBOBInterface:Trivial mopification of non-BIO-world node <http://ccp.ucdenver.edu/kabob/ice/GO_0034383>\n"
     ]
    },
    {
     "name": "stdout",
     "output_type": "stream",
     "text": [
      "****** 1 ******\n",
      "****** 2 ******\n"
     ]
    },
    {
     "name": "stderr",
     "output_type": "stream",
     "text": [
      "DEBUG:KaBOBInterface:> GO_0034383\n",
      "DEBUG:KaBOBInterface:< GO_0034383\n",
      "WARNING:KaBOBInterface:Trivial mopification of non-BIO-world node <http://ccp.ucdenver.edu/obo/ext/IDs-okLLDAonDHJaLjPoNkkW1696gVA>\n"
     ]
    },
    {
     "name": "stdout",
     "output_type": "stream",
     "text": [
      "****** 3 ******\n"
     ]
    },
    {
     "name": "stderr",
     "output_type": "stream",
     "text": [
      "DEBUG:KaBOBInterface:> IDs-okLLDAonDHJaLjPoNkkW1696gVA\n",
      "DEBUG:KaBOBInterface:< IDs-okLLDAonDHJaLjPoNkkW1696gVA\n"
     ]
    },
    {
     "name": "stdout",
     "output_type": "stream",
     "text": [
      "****** 4 ******\n"
     ]
    },
    {
     "name": "stderr",
     "output_type": "stream",
     "text": [
      "DEBUG:KaBOBInterface:\t> B_CZnTl2FzKqkHVISKgrytkFv0GAY\n",
      "DEBUG:KaBOBInterface:\t\t\t> Homo sapiens\n",
      "DEBUG:KaBOBInterface:\t\t\t\t> Homo\n",
      "DEBUG:KaBOBInterface:\t\t\t\t\t> Homininae\n",
      "DEBUG:KaBOBInterface:\t\t\t\t\t\t> Hominidae\n",
      "DEBUG:KaBOBInterface:\t\t\t\t\t\t\t> Hominoidea\n",
      "DEBUG:KaBOBInterface:\t\t\t\t\t\t\t\t> Catarrhini\n",
      "DEBUG:KaBOBInterface:\t\t\t\t\t\t\t\t\t> Simiiformes\n",
      "DEBUG:KaBOBInterface:\t\t\t\t\t\t\t\t\t\t> Haplorrhini\n",
      "DEBUG:KaBOBInterface:\t\t\t\t\t\t\t\t\t\t\t> Primates\n",
      "DEBUG:KaBOBInterface:\t\t\t\t\t\t\t\t\t\t\t\t> Euarchontoglires\n",
      "DEBUG:KaBOBInterface:\t\t\t\t\t\t\t\t\t\t\t\t\t> Boreoeutheria\n",
      "DEBUG:KaBOBInterface:\t\t\t\t\t\t\t\t\t\t\t\t\t\t> Eutheria\n",
      "DEBUG:KaBOBInterface:\t\t\t\t\t\t\t\t\t\t\t\t\t\t\t> Theria <Mammalia>\n",
      "DEBUG:KaBOBInterface:\t\t\t\t\t\t\t\t\t\t\t\t\t\t\t\t> Mammalia\n",
      "DEBUG:KaBOBInterface:\t\t\t\t\t\t\t\t\t\t\t\t\t\t\t\t\t> Amniota\n",
      "DEBUG:KaBOBInterface:\t\t\t\t\t\t\t\t\t\t\t\t\t\t\t\t\t\t> Tetrapoda\n",
      "DEBUG:KaBOBInterface:\t\t\t\t\t\t\t\t\t\t\t\t\t\t\t\t\t\t\t> Dipnotetrapodomorpha\n",
      "DEBUG:KaBOBInterface:\t\t\t\t\t\t\t\t\t\t\t\t\t\t\t\t\t\t\t\t> Sarcopterygii\n",
      "DEBUG:KaBOBInterface:\t\t\t\t\t\t\t\t\t\t\t\t\t\t\t\t\t\t\t\t\t> Euteleostomi\n",
      "DEBUG:KaBOBInterface:\t\t\t\t\t\t\t\t\t\t\t\t\t\t\t\t\t\t\t\t\t\t> Teleostomi\n",
      "DEBUG:KaBOBInterface:\t\t\t\t\t\t\t\t\t\t\t\t\t\t\t\t\t\t\t\t\t\t\t> Gnathostomata <vertebrate>\n",
      "DEBUG:KaBOBInterface:\t\t\t\t\t\t\t\t\t\t\t\t\t\t\t\t\t\t\t\t\t\t\t\t> Vertebrata <Metazoa>\n",
      "DEBUG:KaBOBInterface:\t\t\t\t\t\t\t\t\t\t\t\t\t\t\t\t\t\t\t\t\t\t\t\t\t> Craniata <chordata>\n",
      "DEBUG:KaBOBInterface:\t\t\t\t\t\t\t\t\t\t\t\t\t\t\t\t\t\t\t\t\t\t\t\t\t\t> Chordata\n",
      "DEBUG:KaBOBInterface:\t\t\t\t\t\t\t\t\t\t\t\t\t\t\t\t\t\t\t\t\t\t\t\t\t\t\t> Deuterostomia\n",
      "DEBUG:KaBOBInterface:\t\t\t\t\t\t\t\t\t\t\t\t\t\t\t\t\t\t\t\t\t\t\t\t\t\t\t\t> Bilateria\n",
      "DEBUG:KaBOBInterface:\t\t\t\t\t\t\t\t\t\t\t\t\t\t\t\t\t\t\t\t\t\t\t\t\t\t\t\t\t> Eumetazoa\n",
      "DEBUG:KaBOBInterface:\t\t\t\t\t\t\t\t\t\t\t\t\t\t\t\t\t\t\t\t\t\t\t\t\t\t\t\t\t\t> Metazoa\n",
      "DEBUG:KaBOBInterface:\t\t\t\t\t\t\t\t\t\t\t\t\t\t\t\t\t\t\t\t\t\t\t\t\t\t\t\t\t\t< Metazoa\n",
      "DEBUG:KaBOBInterface:\t\t\t\t\t\t\t\t\t\t\t\t\t\t\t\t\t\t\t\t\t\t\t\t\t\t\t\t\t< Eumetazoa\n",
      "DEBUG:KaBOBInterface:\t\t\t\t\t\t\t\t\t\t\t\t\t\t\t\t\t\t\t\t\t\t\t\t\t\t\t\t< Bilateria\n",
      "DEBUG:KaBOBInterface:\t\t\t\t\t\t\t\t\t\t\t\t\t\t\t\t\t\t\t\t\t\t\t\t\t\t\t< Deuterostomia\n",
      "DEBUG:KaBOBInterface:\t\t\t\t\t\t\t\t\t\t\t\t\t\t\t\t\t\t\t\t\t\t\t\t\t\t< Chordata\n",
      "DEBUG:KaBOBInterface:\t\t\t\t\t\t\t\t\t\t\t\t\t\t\t\t\t\t\t\t\t\t\t\t\t< Craniata <chordata>\n",
      "DEBUG:KaBOBInterface:\t\t\t\t\t\t\t\t\t\t\t\t\t\t\t\t\t\t\t\t\t\t\t\t< Vertebrata <Metazoa>\n",
      "DEBUG:KaBOBInterface:\t\t\t\t\t\t\t\t\t\t\t\t\t\t\t\t\t\t\t\t\t\t\t< Gnathostomata <vertebrate>\n",
      "DEBUG:KaBOBInterface:\t\t\t\t\t\t\t\t\t\t\t\t\t\t\t\t\t\t\t\t\t\t< Teleostomi\n",
      "DEBUG:KaBOBInterface:\t\t\t\t\t\t\t\t\t\t\t\t\t\t\t\t\t\t\t\t\t< Euteleostomi\n",
      "DEBUG:KaBOBInterface:\t\t\t\t\t\t\t\t\t\t\t\t\t\t\t\t\t\t\t\t< Sarcopterygii\n",
      "DEBUG:KaBOBInterface:\t\t\t\t\t\t\t\t\t\t\t\t\t\t\t\t\t\t\t< Dipnotetrapodomorpha\n",
      "DEBUG:KaBOBInterface:\t\t\t\t\t\t\t\t\t\t\t\t\t\t\t\t\t\t< Tetrapoda\n",
      "DEBUG:KaBOBInterface:\t\t\t\t\t\t\t\t\t\t\t\t\t\t\t\t\t< Amniota\n",
      "DEBUG:KaBOBInterface:\t\t\t\t\t\t\t\t\t\t\t\t\t\t\t\t< Mammalia\n",
      "DEBUG:KaBOBInterface:\t\t\t\t\t\t\t\t\t\t\t\t\t\t\t< Theria <Mammalia>\n",
      "DEBUG:KaBOBInterface:\t\t\t\t\t\t\t\t\t\t\t\t\t\t< Eutheria\n",
      "DEBUG:KaBOBInterface:\t\t\t\t\t\t\t\t\t\t\t\t\t< Boreoeutheria\n",
      "DEBUG:KaBOBInterface:\t\t\t\t\t\t\t\t\t\t\t\t< Euarchontoglires\n",
      "DEBUG:KaBOBInterface:\t\t\t\t\t\t\t\t\t\t\t< Primates\n",
      "DEBUG:KaBOBInterface:\t\t\t\t\t\t\t\t\t\t< Haplorrhini\n",
      "DEBUG:KaBOBInterface:\t\t\t\t\t\t\t\t\t< Simiiformes\n",
      "DEBUG:KaBOBInterface:\t\t\t\t\t\t\t\t< Catarrhini\n",
      "DEBUG:KaBOBInterface:\t\t\t\t\t\t\t< Hominoidea\n",
      "DEBUG:KaBOBInterface:\t\t\t\t\t\t< Hominidae\n",
      "DEBUG:KaBOBInterface:\t\t\t\t\t< Homininae\n",
      "DEBUG:KaBOBInterface:\t\t\t\t< Homo\n",
      "DEBUG:KaBOBInterface:\t\t\t< Homo sapiens\n",
      "DEBUG:KaBOBInterface:\t\t> neutral cholesterol ester hydrolase 1 (human)\n",
      "DEBUG:KaBOBInterface:\t\t\t> protein\n",
      "DEBUG:KaBOBInterface:\t\t\t\t> biopolymer\n",
      "DEBUG:KaBOBInterface:\t\t\t\t\t> interactor type\n",
      "DEBUG:KaBOBInterface:\t\t\t\t\t< interactor type\n",
      "DEBUG:KaBOBInterface:\t\t\t\t< biopolymer\n",
      "DEBUG:KaBOBInterface:\t\t\t\t> amino acid chain\n",
      "DEBUG:KaBOBInterface:\t\t\t\t\t> molecular entity\n",
      "DEBUG:KaBOBInterface:\t\t\t\t\t\t> chemical entity\n",
      "DEBUG:KaBOBInterface:\t\t\t\t\t\t< chemical entity\n",
      "DEBUG:KaBOBInterface:\t\t\t\t\t< molecular entity\n",
      "DEBUG:KaBOBInterface:\t\t\t\t\t> organic amino compound\n",
      "DEBUG:KaBOBInterface:\t\t\t\t\t\t> organonitrogen compound\n",
      "DEBUG:KaBOBInterface:\t\t\t\t\t\t\t> nitrogen molecular entity\n",
      "DEBUG:KaBOBInterface:\t\t\t\t\t\t\t\t> pnictogen molecular entity\n",
      "DEBUG:KaBOBInterface:\t\t\t\t\t\t\t\t\t> p-block molecular entity\n",
      "DEBUG:KaBOBInterface:\t\t\t\t\t\t\t\t\t\t> main group molecular entity\n",
      "DEBUG:KaBOBInterface:\t\t\t\t\t\t\t\t\t\t< main group molecular entity\n",
      "DEBUG:KaBOBInterface:\t\t\t\t\t\t\t\t\t< p-block molecular entity\n",
      "DEBUG:KaBOBInterface:\t\t\t\t\t\t\t\t< pnictogen molecular entity\n",
      "DEBUG:KaBOBInterface:\t\t\t\t\t\t\t< nitrogen molecular entity\n",
      "DEBUG:KaBOBInterface:\t\t\t\t\t\t\t> heteroorganic entity\n",
      "DEBUG:KaBOBInterface:\t\t\t\t\t\t\t\t> organic molecular entity\n",
      "DEBUG:KaBOBInterface:\t\t\t\t\t\t\t\t\t> carbon group molecular entity\n",
      "DEBUG:KaBOBInterface:\t\t\t\t\t\t\t\t\t< carbon group molecular entity\n",
      "DEBUG:KaBOBInterface:\t\t\t\t\t\t\t\t< organic molecular entity\n",
      "DEBUG:KaBOBInterface:\t\t\t\t\t\t\t< heteroorganic entity\n",
      "DEBUG:KaBOBInterface:\t\t\t\t\t\t< organonitrogen compound\n",
      "DEBUG:KaBOBInterface:\t\t\t\t\t< organic amino compound\n",
      "DEBUG:KaBOBInterface:\t\t\t\t< amino acid chain\n",
      "DEBUG:KaBOBInterface:\t\t\t\t> physical entity\n",
      "DEBUG:KaBOBInterface:\t\t\t\t< physical entity\n",
      "DEBUG:KaBOBInterface:\t\t\t\t> information biomacromolecule\n",
      "DEBUG:KaBOBInterface:\t\t\t\t\t> biomacromolecule\n",
      "DEBUG:KaBOBInterface:\t\t\t\t\t\t> macromolecule\n",
      "DEBUG:KaBOBInterface:\t\t\t\t\t\t\t> polyatomic entity\n",
      "DEBUG:KaBOBInterface:\t\t\t\t\t\t\t< polyatomic entity\n",
      "DEBUG:KaBOBInterface:\t\t\t\t\t\t< macromolecule\n",
      "DEBUG:KaBOBInterface:\t\t\t\t\t< biomacromolecule\n",
      "DEBUG:KaBOBInterface:\t\t\t\t< information biomacromolecule\n",
      "DEBUG:KaBOBInterface:\t\t\t< protein\n",
      "DEBUG:KaBOBInterface:\t\t\t> neutral cholesterol ester hydrolase 1\n",
      "DEBUG:KaBOBInterface:\t\t\t< neutral cholesterol ester hydrolase 1\n",
      "DEBUG:KaBOBInterface:\t\t\t> GP_B_OhNDomPQUi0XrbV3Cogg37T3vwQ\n",
      "WARNING:KaBOBInterface:\t\t\t\tTrivial mopification of non-BIO-world node <http://ccp.ucdenver.edu/obo/ext/IAO_EXT_0001716>\n",
      "DEBUG:KaBOBInterface:\t\t\t\t> gene product abstraction\n",
      "DEBUG:KaBOBInterface:\t\t\t\t< gene product abstraction\n",
      "DEBUG:KaBOBInterface:\t\t\t\t> GPGPV_B_OhNDomPQUi0XrbV3Cogg37T3vwQ\n",
      "WARNING:KaBOBInterface:\t\t\t\t\tTrivial mopification of non-BIO-world node <http://ccp.ucdenver.edu/obo/ext/IAO_EXT_0001721>\n",
      "DEBUG:KaBOBInterface:\t\t\t\t\t> gene product or gene product variant abstraction\n",
      "DEBUG:KaBOBInterface:\t\t\t\t\t< gene product or gene product variant abstraction\n",
      "DEBUG:KaBOBInterface:\t\t\t\t\t> GGPV_B_OhNDomPQUi0XrbV3Cogg37T3vwQ\n",
      "WARNING:KaBOBInterface:\t\t\t\t\t\tTrivial mopification of non-BIO-world node <http://ccp.ucdenver.edu/obo/ext/IAO_EXT_0001718>\n",
      "DEBUG:KaBOBInterface:\t\t\t\t\t\t> gene or gene product or variant abstraction\n",
      "DEBUG:KaBOBInterface:\t\t\t\t\t\t< gene or gene product or variant abstraction\n",
      "DEBUG:KaBOBInterface:\t\t\t\t\t< GGPV_B_OhNDomPQUi0XrbV3Cogg37T3vwQ\n",
      "DEBUG:KaBOBInterface:\t\t\t\t< GPGPV_B_OhNDomPQUi0XrbV3Cogg37T3vwQ\n",
      "DEBUG:KaBOBInterface:\t\t\t\t> GGP_B_OhNDomPQUi0XrbV3Cogg37T3vwQ\n",
      "WARNING:KaBOBInterface:\t\t\t\t\tTrivial mopification of non-BIO-world node <http://ccp.ucdenver.edu/obo/ext/IAO_EXT_0001715>\n",
      "DEBUG:KaBOBInterface:\t\t\t\t\t> gene or gene product abstraction\n",
      "DEBUG:KaBOBInterface:\t\t\t\t\t< gene or gene product abstraction\n",
      "DEBUG:KaBOBInterface:\t\t\t\t< GGP_B_OhNDomPQUi0XrbV3Cogg37T3vwQ\n",
      "DEBUG:KaBOBInterface:\t\t\t< GP_B_OhNDomPQUi0XrbV3Cogg37T3vwQ\n",
      "DEBUG:KaBOBInterface:\t\t\t> Homo sapiens protein\n",
      "DEBUG:KaBOBInterface:\t\t\t\t> eukaryotic protein\n",
      "DEBUG:KaBOBInterface:\t\t\t\t\t> BN_go-plus_genid272324\n",
      "DEBUG:KaBOBInterface:\t\t\t\t\t< BN_go-plus_genid272324\n",
      "DEBUG:KaBOBInterface:\t\t\t\t< eukaryotic protein\n",
      "DEBUG:KaBOBInterface:\t\t\t< Homo sapiens protein\n",
      "DEBUG:KaBOBInterface:\t\t< neutral cholesterol ester hydrolase 1 (human)\n",
      "DEBUG:KaBOBInterface:\t< B_CZnTl2FzKqkHVISKgrytkFv0GAY\n",
      "DEBUG:KaBOBInterface:> B_mgtZ4ysoacf-zMowcPTaIrT1OhU\n",
      "DEBUG:KaBOBInterface:< B_mgtZ4ysoacf-zMowcPTaIrT1OhU\n"
     ]
    },
    {
     "name": "stdout",
     "output_type": "stream",
     "text": [
      "****** 5 ******\n"
     ]
    },
    {
     "name": "stderr",
     "output_type": "stream",
     "text": [
      "DEBUG:KaBOBInterface:\t> B_1-Vf_p6os6igXEBI9MraCn02ves\n",
      "DEBUG:KaBOBInterface:\t\t> X6R390_HUMAN\n",
      "DEBUG:KaBOBInterface:\t\t\t> AP-2 complex subunit sigma\n",
      "DEBUG:KaBOBInterface:\t\t\t< AP-2 complex subunit sigma\n",
      "DEBUG:KaBOBInterface:\t\t\t> GP_B_4tx1YNvAMIdm2LzQ7HB5DUyFGeg\n",
      "DEBUG:KaBOBInterface:\t\t\t\t> GGP_B_4tx1YNvAMIdm2LzQ7HB5DUyFGeg\n",
      "DEBUG:KaBOBInterface:\t\t\t\t< GGP_B_4tx1YNvAMIdm2LzQ7HB5DUyFGeg\n",
      "DEBUG:KaBOBInterface:\t\t\t\t> GPGPV_B_4tx1YNvAMIdm2LzQ7HB5DUyFGeg\n",
      "DEBUG:KaBOBInterface:\t\t\t\t\t> GGPV_B_4tx1YNvAMIdm2LzQ7HB5DUyFGeg\n",
      "DEBUG:KaBOBInterface:\t\t\t\t\t< GGPV_B_4tx1YNvAMIdm2LzQ7HB5DUyFGeg\n",
      "DEBUG:KaBOBInterface:\t\t\t\t< GPGPV_B_4tx1YNvAMIdm2LzQ7HB5DUyFGeg\n",
      "DEBUG:KaBOBInterface:\t\t\t< GP_B_4tx1YNvAMIdm2LzQ7HB5DUyFGeg\n",
      "DEBUG:KaBOBInterface:\t\t< X6R390_HUMAN\n",
      "DEBUG:KaBOBInterface:\t< B_1-Vf_p6os6igXEBI9MraCn02ves\n",
      "DEBUG:KaBOBInterface:> B_BOZytRn7XAxZyU86xrmONYVsTVY\n",
      "DEBUG:KaBOBInterface:< B_BOZytRn7XAxZyU86xrmONYVsTVY\n"
     ]
    },
    {
     "name": "stdout",
     "output_type": "stream",
     "text": [
      "****** 6 ******\n"
     ]
    },
    {
     "name": "stderr",
     "output_type": "stream",
     "text": [
      "DEBUG:KaBOBInterface:\t> B_MHmZLMYwyi4I4Z5z72S1ByXEG3I\n",
      "DEBUG:KaBOBInterface:\t\t> SCRB1_HUMAN\n",
      "DEBUG:KaBOBInterface:\t\t\t> GP_B_jQai3rTpCMYH9SR7US5Y8_aarR8\n",
      "DEBUG:KaBOBInterface:\t\t\t\t> GPGPV_B_jQai3rTpCMYH9SR7US5Y8_aarR8\n",
      "DEBUG:KaBOBInterface:\t\t\t\t\t> GGPV_B_jQai3rTpCMYH9SR7US5Y8_aarR8\n",
      "DEBUG:KaBOBInterface:\t\t\t\t\t< GGPV_B_jQai3rTpCMYH9SR7US5Y8_aarR8\n",
      "DEBUG:KaBOBInterface:\t\t\t\t< GPGPV_B_jQai3rTpCMYH9SR7US5Y8_aarR8\n",
      "DEBUG:KaBOBInterface:\t\t\t\t> GGP_B_jQai3rTpCMYH9SR7US5Y8_aarR8\n",
      "DEBUG:KaBOBInterface:\t\t\t\t< GGP_B_jQai3rTpCMYH9SR7US5Y8_aarR8\n",
      "DEBUG:KaBOBInterface:\t\t\t< GP_B_jQai3rTpCMYH9SR7US5Y8_aarR8\n",
      "DEBUG:KaBOBInterface:\t\t\t> scavenger receptor class B member 1\n",
      "DEBUG:KaBOBInterface:\t\t\t< scavenger receptor class B member 1\n",
      "DEBUG:KaBOBInterface:\t\t< SCRB1_HUMAN\n",
      "DEBUG:KaBOBInterface:\t< B_MHmZLMYwyi4I4Z5z72S1ByXEG3I\n",
      "DEBUG:KaBOBInterface:> B_W1o9XtuX6h-ftfr88iHb5nAEPIM\n",
      "DEBUG:KaBOBInterface:< B_W1o9XtuX6h-ftfr88iHb5nAEPIM\n"
     ]
    },
    {
     "name": "stdout",
     "output_type": "stream",
     "text": [
      "****** 7 ******\n"
     ]
    },
    {
     "name": "stderr",
     "output_type": "stream",
     "text": [
      "DEBUG:KaBOBInterface:\t> B_GnxjMSUpWOMLjlYZq4AoUL3lNs8\n",
      "DEBUG:KaBOBInterface:\t\t> carboxylesterase 3 (human)\n",
      "DEBUG:KaBOBInterface:\t\t\t> carboxylesterase 3\n",
      "DEBUG:KaBOBInterface:\t\t\t< carboxylesterase 3\n",
      "DEBUG:KaBOBInterface:\t\t\t> GP_B_ELLU5uU5hEWaohha-gPgKWXI2DU\n",
      "DEBUG:KaBOBInterface:\t\t\t\t> GGP_B_ELLU5uU5hEWaohha-gPgKWXI2DU\n",
      "DEBUG:KaBOBInterface:\t\t\t\t< GGP_B_ELLU5uU5hEWaohha-gPgKWXI2DU\n",
      "DEBUG:KaBOBInterface:\t\t\t\t> GPGPV_B_ELLU5uU5hEWaohha-gPgKWXI2DU\n",
      "DEBUG:KaBOBInterface:\t\t\t\t\t> GGPV_B_ELLU5uU5hEWaohha-gPgKWXI2DU\n",
      "DEBUG:KaBOBInterface:\t\t\t\t\t< GGPV_B_ELLU5uU5hEWaohha-gPgKWXI2DU\n",
      "DEBUG:KaBOBInterface:\t\t\t\t< GPGPV_B_ELLU5uU5hEWaohha-gPgKWXI2DU\n",
      "DEBUG:KaBOBInterface:\t\t\t< GP_B_ELLU5uU5hEWaohha-gPgKWXI2DU\n",
      "DEBUG:KaBOBInterface:\t\t< carboxylesterase 3 (human)\n",
      "DEBUG:KaBOBInterface:\t< B_GnxjMSUpWOMLjlYZq4AoUL3lNs8\n",
      "DEBUG:KaBOBInterface:> B_jH2YTgG018ENn3N4Lc7Pxd3bTew\n",
      "DEBUG:KaBOBInterface:< B_jH2YTgG018ENn3N4Lc7Pxd3bTew\n"
     ]
    },
    {
     "name": "stdout",
     "output_type": "stream",
     "text": [
      "****** 8 ******\n"
     ]
    },
    {
     "name": "stderr",
     "output_type": "stream",
     "text": [
      "DEBUG:KaBOBInterface:\t> B_7rrIw61ghOyjjR51s7yr0gbyGds\n",
      "DEBUG:KaBOBInterface:\t\t> DGAT2_HUMAN\n",
      "DEBUG:KaBOBInterface:\t\t\t> GP_B_z5aOgA9AyJA0ynUmRSt9o99FdLI\n",
      "DEBUG:KaBOBInterface:\t\t\t\t> GPGPV_B_z5aOgA9AyJA0ynUmRSt9o99FdLI\n",
      "DEBUG:KaBOBInterface:\t\t\t\t\t> GGPV_B_z5aOgA9AyJA0ynUmRSt9o99FdLI\n",
      "DEBUG:KaBOBInterface:\t\t\t\t\t< GGPV_B_z5aOgA9AyJA0ynUmRSt9o99FdLI\n",
      "DEBUG:KaBOBInterface:\t\t\t\t< GPGPV_B_z5aOgA9AyJA0ynUmRSt9o99FdLI\n",
      "DEBUG:KaBOBInterface:\t\t\t\t> GGP_B_z5aOgA9AyJA0ynUmRSt9o99FdLI\n",
      "DEBUG:KaBOBInterface:\t\t\t\t< GGP_B_z5aOgA9AyJA0ynUmRSt9o99FdLI\n",
      "DEBUG:KaBOBInterface:\t\t\t< GP_B_z5aOgA9AyJA0ynUmRSt9o99FdLI\n",
      "DEBUG:KaBOBInterface:\t\t\t> diacylglycerol O-acyltransferase 2\n",
      "DEBUG:KaBOBInterface:\t\t\t< diacylglycerol O-acyltransferase 2\n",
      "DEBUG:KaBOBInterface:\t\t< DGAT2_HUMAN\n",
      "DEBUG:KaBOBInterface:\t< B_7rrIw61ghOyjjR51s7yr0gbyGds\n",
      "DEBUG:KaBOBInterface:> B_rFFmFrkPXt7OFpUmPHkTiFq04vA\n",
      "DEBUG:KaBOBInterface:< B_rFFmFrkPXt7OFpUmPHkTiFq04vA\n"
     ]
    },
    {
     "name": "stdout",
     "output_type": "stream",
     "text": [
      "****** 9 ******\n"
     ]
    },
    {
     "name": "stderr",
     "output_type": "stream",
     "text": [
      "DEBUG:KaBOBInterface:\t> B_zqM64XlsIdT5zTlk8DtOP1RAtaY\n",
      "DEBUG:KaBOBInterface:\t\t> low density lipoprotein receptor adapter protein 1 (human)\n",
      "DEBUG:KaBOBInterface:\t\t\t> GP_B_WdYy3zXYgX3Ru0XU7MdBbC1iKyo\n",
      "DEBUG:KaBOBInterface:\t\t\t\t> GGP_B_WdYy3zXYgX3Ru0XU7MdBbC1iKyo\n",
      "DEBUG:KaBOBInterface:\t\t\t\t< GGP_B_WdYy3zXYgX3Ru0XU7MdBbC1iKyo\n",
      "DEBUG:KaBOBInterface:\t\t\t\t> GPGPV_B_WdYy3zXYgX3Ru0XU7MdBbC1iKyo\n",
      "DEBUG:KaBOBInterface:\t\t\t\t\t> GGPV_B_WdYy3zXYgX3Ru0XU7MdBbC1iKyo\n",
      "DEBUG:KaBOBInterface:\t\t\t\t\t< GGPV_B_WdYy3zXYgX3Ru0XU7MdBbC1iKyo\n",
      "DEBUG:KaBOBInterface:\t\t\t\t< GPGPV_B_WdYy3zXYgX3Ru0XU7MdBbC1iKyo\n",
      "DEBUG:KaBOBInterface:\t\t\t< GP_B_WdYy3zXYgX3Ru0XU7MdBbC1iKyo\n",
      "DEBUG:KaBOBInterface:\t\t\t> low density lipoprotein receptor adapter protein 1\n",
      "DEBUG:KaBOBInterface:\t\t\t< low density lipoprotein receptor adapter protein 1\n",
      "DEBUG:KaBOBInterface:\t\t< low density lipoprotein receptor adapter protein 1 (human)\n",
      "DEBUG:KaBOBInterface:\t< B_zqM64XlsIdT5zTlk8DtOP1RAtaY\n",
      "DEBUG:KaBOBInterface:> B_pW3HeRvagRsdVYhfp9Mbd9mVI3U\n",
      "DEBUG:KaBOBInterface:< B_pW3HeRvagRsdVYhfp9Mbd9mVI3U\n"
     ]
    },
    {
     "name": "stdout",
     "output_type": "stream",
     "text": [
      "****** 10 ******\n"
     ]
    },
    {
     "name": "stderr",
     "output_type": "stream",
     "text": [
      "DEBUG:KaBOBInterface:\t> B_jc_tsol75eDBQtYoVXl8YCRygxQ\n",
      "DEBUG:KaBOBInterface:\t\t> AP2M1_HUMAN\n",
      "DEBUG:KaBOBInterface:\t\t\t> GP_B_4FWbgdgMlDiZ60VBs15gVepGIY0\n",
      "DEBUG:KaBOBInterface:\t\t\t\t> GGP_B_4FWbgdgMlDiZ60VBs15gVepGIY0\n",
      "DEBUG:KaBOBInterface:\t\t\t\t< GGP_B_4FWbgdgMlDiZ60VBs15gVepGIY0\n",
      "DEBUG:KaBOBInterface:\t\t\t\t> GPGPV_B_4FWbgdgMlDiZ60VBs15gVepGIY0\n",
      "DEBUG:KaBOBInterface:\t\t\t\t\t> GGPV_B_4FWbgdgMlDiZ60VBs15gVepGIY0\n",
      "DEBUG:KaBOBInterface:\t\t\t\t\t< GGPV_B_4FWbgdgMlDiZ60VBs15gVepGIY0\n",
      "DEBUG:KaBOBInterface:\t\t\t\t< GPGPV_B_4FWbgdgMlDiZ60VBs15gVepGIY0\n",
      "DEBUG:KaBOBInterface:\t\t\t< GP_B_4FWbgdgMlDiZ60VBs15gVepGIY0\n",
      "DEBUG:KaBOBInterface:\t\t\t> AP-2 complex subunit mu\n",
      "DEBUG:KaBOBInterface:\t\t\t< AP-2 complex subunit mu\n",
      "DEBUG:KaBOBInterface:\t\t< AP2M1_HUMAN\n",
      "DEBUG:KaBOBInterface:\t< B_jc_tsol75eDBQtYoVXl8YCRygxQ\n",
      "DEBUG:KaBOBInterface:> B_r2rur2b3Iw88n6W2QrSsLu3bzf4\n",
      "DEBUG:KaBOBInterface:< B_r2rur2b3Iw88n6W2QrSsLu3bzf4\n"
     ]
    },
    {
     "name": "stdout",
     "output_type": "stream",
     "text": [
      "****** 11 ******\n"
     ]
    },
    {
     "name": "stderr",
     "output_type": "stream",
     "text": [
      "DEBUG:KaBOBInterface:\t> B_9ZDSfYmExGGYvR-NgG05f54tDkU\n",
      "DEBUG:KaBOBInterface:\t\t> proprotein convertase subtilisin/kexin type 9 (human)\n",
      "DEBUG:KaBOBInterface:\t\t\t> GP_B_3j6FWH-_XeuvCsf_czKaFjbhl2w\n",
      "DEBUG:KaBOBInterface:\t\t\t\t> GPGPV_B_3j6FWH-_XeuvCsf_czKaFjbhl2w\n",
      "DEBUG:KaBOBInterface:\t\t\t\t\t> GGPV_B_3j6FWH-_XeuvCsf_czKaFjbhl2w\n",
      "DEBUG:KaBOBInterface:\t\t\t\t\t< GGPV_B_3j6FWH-_XeuvCsf_czKaFjbhl2w\n",
      "DEBUG:KaBOBInterface:\t\t\t\t< GPGPV_B_3j6FWH-_XeuvCsf_czKaFjbhl2w\n",
      "DEBUG:KaBOBInterface:\t\t\t\t> GGP_B_3j6FWH-_XeuvCsf_czKaFjbhl2w\n",
      "DEBUG:KaBOBInterface:\t\t\t\t< GGP_B_3j6FWH-_XeuvCsf_czKaFjbhl2w\n",
      "DEBUG:KaBOBInterface:\t\t\t< GP_B_3j6FWH-_XeuvCsf_czKaFjbhl2w\n",
      "DEBUG:KaBOBInterface:\t\t\t> proprotein convertase subtilisin/kexin type 9\n",
      "DEBUG:KaBOBInterface:\t\t\t< proprotein convertase subtilisin/kexin type 9\n",
      "DEBUG:KaBOBInterface:\t\t< proprotein convertase subtilisin/kexin type 9 (human)\n",
      "DEBUG:KaBOBInterface:\t< B_9ZDSfYmExGGYvR-NgG05f54tDkU\n",
      "DEBUG:KaBOBInterface:> B_kmDiRpDaHQP78Vz0LaKTiaR8rD8\n",
      "DEBUG:KaBOBInterface:< B_kmDiRpDaHQP78Vz0LaKTiaR8rD8\n"
     ]
    },
    {
     "name": "stdout",
     "output_type": "stream",
     "text": [
      "****** 12 ******\n"
     ]
    },
    {
     "name": "stderr",
     "output_type": "stream",
     "text": [
      "DEBUG:KaBOBInterface:\t> B_UsYNN8o2BVDuD-7bJ2hL69mH_f0\n",
      "DEBUG:KaBOBInterface:\t\t> adiponectin (human)\n",
      "DEBUG:KaBOBInterface:\t\t\t> adiponectin\n",
      "DEBUG:KaBOBInterface:\t\t\t< adiponectin\n",
      "DEBUG:KaBOBInterface:\t\t\t> GP_B_CBkCv8bgoTysDQ16AM8xsq86uuI\n",
      "DEBUG:KaBOBInterface:\t\t\t\t> GPGPV_B_CBkCv8bgoTysDQ16AM8xsq86uuI\n",
      "DEBUG:KaBOBInterface:\t\t\t\t\t> GGPV_B_CBkCv8bgoTysDQ16AM8xsq86uuI\n",
      "DEBUG:KaBOBInterface:\t\t\t\t\t< GGPV_B_CBkCv8bgoTysDQ16AM8xsq86uuI\n",
      "DEBUG:KaBOBInterface:\t\t\t\t< GPGPV_B_CBkCv8bgoTysDQ16AM8xsq86uuI\n",
      "DEBUG:KaBOBInterface:\t\t\t\t> GGP_B_CBkCv8bgoTysDQ16AM8xsq86uuI\n",
      "DEBUG:KaBOBInterface:\t\t\t\t< GGP_B_CBkCv8bgoTysDQ16AM8xsq86uuI\n",
      "DEBUG:KaBOBInterface:\t\t\t< GP_B_CBkCv8bgoTysDQ16AM8xsq86uuI\n",
      "DEBUG:KaBOBInterface:\t\t< adiponectin (human)\n",
      "DEBUG:KaBOBInterface:\t< B_UsYNN8o2BVDuD-7bJ2hL69mH_f0\n",
      "DEBUG:KaBOBInterface:> B_VBL3LzQJYcH8xmWCS7sQPh_Gc-o\n",
      "DEBUG:KaBOBInterface:< B_VBL3LzQJYcH8xmWCS7sQPh_Gc-o\n"
     ]
    },
    {
     "name": "stdout",
     "output_type": "stream",
     "text": [
      "****** 13 ******\n"
     ]
    },
    {
     "name": "stderr",
     "output_type": "stream",
     "text": [
      "DEBUG:KaBOBInterface:\t> B_C4nLyA54llRX1QIU_KW81cBYgIU\n",
      "DEBUG:KaBOBInterface:\t\t> low-density lipoprotein receptor (human)\n",
      "DEBUG:KaBOBInterface:\t\t\t> low-density lipoprotein receptor\n",
      "DEBUG:KaBOBInterface:\t\t\t< low-density lipoprotein receptor\n",
      "DEBUG:KaBOBInterface:\t\t\t> GP_B_ZZ9_CZfmJhFygoUXb7SZ0La5oeY\n",
      "DEBUG:KaBOBInterface:\t\t\t\t> GPGPV_B_ZZ9_CZfmJhFygoUXb7SZ0La5oeY\n",
      "DEBUG:KaBOBInterface:\t\t\t\t\t> GGPV_B_ZZ9_CZfmJhFygoUXb7SZ0La5oeY\n",
      "DEBUG:KaBOBInterface:\t\t\t\t\t< GGPV_B_ZZ9_CZfmJhFygoUXb7SZ0La5oeY\n",
      "DEBUG:KaBOBInterface:\t\t\t\t< GPGPV_B_ZZ9_CZfmJhFygoUXb7SZ0La5oeY\n",
      "DEBUG:KaBOBInterface:\t\t\t\t> GGP_B_ZZ9_CZfmJhFygoUXb7SZ0La5oeY\n",
      "DEBUG:KaBOBInterface:\t\t\t\t< GGP_B_ZZ9_CZfmJhFygoUXb7SZ0La5oeY\n",
      "DEBUG:KaBOBInterface:\t\t\t< GP_B_ZZ9_CZfmJhFygoUXb7SZ0La5oeY\n",
      "DEBUG:KaBOBInterface:\t\t< low-density lipoprotein receptor (human)\n",
      "DEBUG:KaBOBInterface:\t< B_C4nLyA54llRX1QIU_KW81cBYgIU\n",
      "DEBUG:KaBOBInterface:> B_xw3EptGcyxSCH1FQvkI91vw9s5U\n",
      "DEBUG:KaBOBInterface:< B_xw3EptGcyxSCH1FQvkI91vw9s5U\n"
     ]
    },
    {
     "name": "stdout",
     "output_type": "stream",
     "text": [
      "****** 14 ******\n"
     ]
    },
    {
     "name": "stderr",
     "output_type": "stream",
     "text": [
      "DEBUG:KaBOBInterface:\t> B_01wwjf3EzRuYEptRXOzwp6UfqPU\n",
      "DEBUG:KaBOBInterface:\t\t> Niemann-Pick C1 protein (human)\n",
      "DEBUG:KaBOBInterface:\t\t\t> Niemann-Pick C1 protein\n",
      "DEBUG:KaBOBInterface:\t\t\t< Niemann-Pick C1 protein\n",
      "DEBUG:KaBOBInterface:\t\t\t> GP_B_ChZk1IDw0yYBVx474JdIMAS38gQ\n",
      "DEBUG:KaBOBInterface:\t\t\t\t> GGP_B_ChZk1IDw0yYBVx474JdIMAS38gQ\n",
      "DEBUG:KaBOBInterface:\t\t\t\t< GGP_B_ChZk1IDw0yYBVx474JdIMAS38gQ\n",
      "DEBUG:KaBOBInterface:\t\t\t\t> GPGPV_B_ChZk1IDw0yYBVx474JdIMAS38gQ\n",
      "DEBUG:KaBOBInterface:\t\t\t\t\t> GGPV_B_ChZk1IDw0yYBVx474JdIMAS38gQ\n",
      "DEBUG:KaBOBInterface:\t\t\t\t\t< GGPV_B_ChZk1IDw0yYBVx474JdIMAS38gQ\n",
      "DEBUG:KaBOBInterface:\t\t\t\t< GPGPV_B_ChZk1IDw0yYBVx474JdIMAS38gQ\n",
      "DEBUG:KaBOBInterface:\t\t\t< GP_B_ChZk1IDw0yYBVx474JdIMAS38gQ\n",
      "DEBUG:KaBOBInterface:\t\t< Niemann-Pick C1 protein (human)\n",
      "DEBUG:KaBOBInterface:\t< B_01wwjf3EzRuYEptRXOzwp6UfqPU\n",
      "DEBUG:KaBOBInterface:> B_ADWq5ie5hLXzR58-kdLxVLvdKNU\n",
      "DEBUG:KaBOBInterface:< B_ADWq5ie5hLXzR58-kdLxVLvdKNU\n"
     ]
    },
    {
     "name": "stdout",
     "output_type": "stream",
     "text": [
      "****** 15 ******\n"
     ]
    },
    {
     "name": "stderr",
     "output_type": "stream",
     "text": [
      "DEBUG:KaBOBInterface:\t> B_cfQbTC4RyuvoDLCBo71Kfnbbkds\n",
      "DEBUG:KaBOBInterface:\t\t> platelet glycoprotein 4 (human)\n",
      "DEBUG:KaBOBInterface:\t\t\t> GP_B_xtsNDTi6qzuM5L3HpdLawr59jzE\n",
      "DEBUG:KaBOBInterface:\t\t\t\t> GPGPV_B_xtsNDTi6qzuM5L3HpdLawr59jzE\n",
      "DEBUG:KaBOBInterface:\t\t\t\t\t> GGPV_B_xtsNDTi6qzuM5L3HpdLawr59jzE\n",
      "DEBUG:KaBOBInterface:\t\t\t\t\t< GGPV_B_xtsNDTi6qzuM5L3HpdLawr59jzE\n",
      "DEBUG:KaBOBInterface:\t\t\t\t< GPGPV_B_xtsNDTi6qzuM5L3HpdLawr59jzE\n",
      "DEBUG:KaBOBInterface:\t\t\t\t> GGP_B_xtsNDTi6qzuM5L3HpdLawr59jzE\n",
      "DEBUG:KaBOBInterface:\t\t\t\t< GGP_B_xtsNDTi6qzuM5L3HpdLawr59jzE\n",
      "DEBUG:KaBOBInterface:\t\t\t< GP_B_xtsNDTi6qzuM5L3HpdLawr59jzE\n",
      "DEBUG:KaBOBInterface:\t\t\t> platelet glycoprotein 4\n",
      "DEBUG:KaBOBInterface:\t\t\t< platelet glycoprotein 4\n",
      "DEBUG:KaBOBInterface:\t\t< platelet glycoprotein 4 (human)\n",
      "DEBUG:KaBOBInterface:\t< B_cfQbTC4RyuvoDLCBo71Kfnbbkds\n",
      "DEBUG:KaBOBInterface:> B_HIxdv8kPYZxGm7zBGxk5T0eyzDI\n",
      "DEBUG:KaBOBInterface:< B_HIxdv8kPYZxGm7zBGxk5T0eyzDI\n"
     ]
    },
    {
     "name": "stdout",
     "output_type": "stream",
     "text": [
      "****** 16 ******\n"
     ]
    },
    {
     "name": "stderr",
     "output_type": "stream",
     "text": [
      "DEBUG:KaBOBInterface:\t> B_8gxEx8I2XfawAP9ULSRQVnevuA4\n",
      "DEBUG:KaBOBInterface:\t\t> AP-2 complex subunit alpha-2 (human)\n",
      "DEBUG:KaBOBInterface:\t\t\t> AP-2 complex subunit alpha-2\n",
      "DEBUG:KaBOBInterface:\t\t\t< AP-2 complex subunit alpha-2\n",
      "DEBUG:KaBOBInterface:\t\t\t> GP_B_9Gj6nOwteQIfo_83XQN5yqnRi3E\n",
      "DEBUG:KaBOBInterface:\t\t\t\t> GGP_B_9Gj6nOwteQIfo_83XQN5yqnRi3E\n",
      "DEBUG:KaBOBInterface:\t\t\t\t< GGP_B_9Gj6nOwteQIfo_83XQN5yqnRi3E\n",
      "DEBUG:KaBOBInterface:\t\t\t\t> GPGPV_B_9Gj6nOwteQIfo_83XQN5yqnRi3E\n",
      "DEBUG:KaBOBInterface:\t\t\t\t\t> GGPV_B_9Gj6nOwteQIfo_83XQN5yqnRi3E\n",
      "DEBUG:KaBOBInterface:\t\t\t\t\t< GGPV_B_9Gj6nOwteQIfo_83XQN5yqnRi3E\n",
      "DEBUG:KaBOBInterface:\t\t\t\t< GPGPV_B_9Gj6nOwteQIfo_83XQN5yqnRi3E\n",
      "DEBUG:KaBOBInterface:\t\t\t< GP_B_9Gj6nOwteQIfo_83XQN5yqnRi3E\n",
      "DEBUG:KaBOBInterface:\t\t< AP-2 complex subunit alpha-2 (human)\n",
      "DEBUG:KaBOBInterface:\t< B_8gxEx8I2XfawAP9ULSRQVnevuA4\n",
      "DEBUG:KaBOBInterface:> B_iJhofy7e5PB1H4FvJfnPoRIM9qI\n",
      "DEBUG:KaBOBInterface:< B_iJhofy7e5PB1H4FvJfnPoRIM9qI\n"
     ]
    },
    {
     "name": "stdout",
     "output_type": "stream",
     "text": [
      "****** 17 ******\n"
     ]
    },
    {
     "name": "stderr",
     "output_type": "stream",
     "text": [
      "DEBUG:KaBOBInterface:\t> B_lpqR9O83aFV3ZPxVP_XGP3yOE7k\n",
      "DEBUG:KaBOBInterface:\t\t> NPC2_HUMAN\n",
      "DEBUG:KaBOBInterface:\t\t\t> GP_B_JcjyO1U5QsSI9AOCcr4dpo35KeQ\n",
      "DEBUG:KaBOBInterface:\t\t\t\t> GPGPV_B_JcjyO1U5QsSI9AOCcr4dpo35KeQ\n",
      "DEBUG:KaBOBInterface:\t\t\t\t\t> GGPV_B_JcjyO1U5QsSI9AOCcr4dpo35KeQ\n",
      "DEBUG:KaBOBInterface:\t\t\t\t\t< GGPV_B_JcjyO1U5QsSI9AOCcr4dpo35KeQ\n",
      "DEBUG:KaBOBInterface:\t\t\t\t< GPGPV_B_JcjyO1U5QsSI9AOCcr4dpo35KeQ\n",
      "DEBUG:KaBOBInterface:\t\t\t\t> GGP_B_JcjyO1U5QsSI9AOCcr4dpo35KeQ\n",
      "DEBUG:KaBOBInterface:\t\t\t\t< GGP_B_JcjyO1U5QsSI9AOCcr4dpo35KeQ\n",
      "DEBUG:KaBOBInterface:\t\t\t< GP_B_JcjyO1U5QsSI9AOCcr4dpo35KeQ\n",
      "DEBUG:KaBOBInterface:\t\t\t> epididymal secretory protein E1\n",
      "DEBUG:KaBOBInterface:\t\t\t< epididymal secretory protein E1\n",
      "DEBUG:KaBOBInterface:\t\t< NPC2_HUMAN\n",
      "DEBUG:KaBOBInterface:\t< B_lpqR9O83aFV3ZPxVP_XGP3yOE7k\n",
      "DEBUG:KaBOBInterface:> B_oCTDchANqvfoWfwl-l0nKXK0UYE\n",
      "DEBUG:KaBOBInterface:< B_oCTDchANqvfoWfwl-l0nKXK0UYE\n"
     ]
    },
    {
     "name": "stdout",
     "output_type": "stream",
     "text": [
      "****** 18 ******\n"
     ]
    },
    {
     "name": "stderr",
     "output_type": "stream",
     "text": [
      "DEBUG:KaBOBInterface:\t> B__BJ1qCdn_1tCpyqonSXc5qJZBdA\n",
      "DEBUG:KaBOBInterface:\t\t> CLCA_HUMAN\n",
      "DEBUG:KaBOBInterface:\t\t\t> GP_B_LMAP0azGrY-Nlv_17TRrFCHE4ME\n",
      "DEBUG:KaBOBInterface:\t\t\t\t> GGP_B_LMAP0azGrY-Nlv_17TRrFCHE4ME\n",
      "DEBUG:KaBOBInterface:\t\t\t\t< GGP_B_LMAP0azGrY-Nlv_17TRrFCHE4ME\n",
      "DEBUG:KaBOBInterface:\t\t\t\t> GPGPV_B_LMAP0azGrY-Nlv_17TRrFCHE4ME\n",
      "DEBUG:KaBOBInterface:\t\t\t\t\t> GGPV_B_LMAP0azGrY-Nlv_17TRrFCHE4ME\n",
      "DEBUG:KaBOBInterface:\t\t\t\t\t< GGPV_B_LMAP0azGrY-Nlv_17TRrFCHE4ME\n",
      "DEBUG:KaBOBInterface:\t\t\t\t< GPGPV_B_LMAP0azGrY-Nlv_17TRrFCHE4ME\n",
      "DEBUG:KaBOBInterface:\t\t\t< GP_B_LMAP0azGrY-Nlv_17TRrFCHE4ME\n",
      "DEBUG:KaBOBInterface:\t\t\t> clathrin light chain A\n",
      "DEBUG:KaBOBInterface:\t\t\t< clathrin light chain A\n",
      "DEBUG:KaBOBInterface:\t\t< CLCA_HUMAN\n",
      "DEBUG:KaBOBInterface:\t< B__BJ1qCdn_1tCpyqonSXc5qJZBdA\n",
      "DEBUG:KaBOBInterface:> B_V6_12HosqmPXYeTtsRYnBnnzP9w\n",
      "DEBUG:KaBOBInterface:< B_V6_12HosqmPXYeTtsRYnBnnzP9w\n"
     ]
    },
    {
     "name": "stdout",
     "output_type": "stream",
     "text": [
      "****** 19 ******\n"
     ]
    },
    {
     "name": "stderr",
     "output_type": "stream",
     "text": [
      "DEBUG:KaBOBInterface:\t> B_e7Z_Gu0Nn6_FQGa4wGqIdPDPX2M\n",
      "DEBUG:KaBOBInterface:\t\t> heme oxygenase 1 (human)\n",
      "DEBUG:KaBOBInterface:\t\t\t> GP_B_rtHW5E3Ysj_J3y8p6qWMLun3jmQ\n",
      "DEBUG:KaBOBInterface:\t\t\t\t> GPGPV_B_rtHW5E3Ysj_J3y8p6qWMLun3jmQ\n",
      "DEBUG:KaBOBInterface:\t\t\t\t\t> GGPV_B_rtHW5E3Ysj_J3y8p6qWMLun3jmQ\n",
      "DEBUG:KaBOBInterface:\t\t\t\t\t< GGPV_B_rtHW5E3Ysj_J3y8p6qWMLun3jmQ\n",
      "DEBUG:KaBOBInterface:\t\t\t\t< GPGPV_B_rtHW5E3Ysj_J3y8p6qWMLun3jmQ\n",
      "DEBUG:KaBOBInterface:\t\t\t\t> GGP_B_rtHW5E3Ysj_J3y8p6qWMLun3jmQ\n",
      "DEBUG:KaBOBInterface:\t\t\t\t< GGP_B_rtHW5E3Ysj_J3y8p6qWMLun3jmQ\n",
      "DEBUG:KaBOBInterface:\t\t\t< GP_B_rtHW5E3Ysj_J3y8p6qWMLun3jmQ\n",
      "DEBUG:KaBOBInterface:\t\t\t> heme oxygenase 1\n",
      "DEBUG:KaBOBInterface:\t\t\t< heme oxygenase 1\n",
      "DEBUG:KaBOBInterface:\t\t< heme oxygenase 1 (human)\n",
      "DEBUG:KaBOBInterface:\t< B_e7Z_Gu0Nn6_FQGa4wGqIdPDPX2M\n",
      "DEBUG:KaBOBInterface:> B_ymenou7Lw571eeSvIJZEUm2U_bM\n",
      "DEBUG:KaBOBInterface:< B_ymenou7Lw571eeSvIJZEUm2U_bM\n"
     ]
    },
    {
     "name": "stdout",
     "output_type": "stream",
     "text": [
      "****** 20 ******\n"
     ]
    },
    {
     "name": "stderr",
     "output_type": "stream",
     "text": [
      "DEBUG:KaBOBInterface:\t> B_EgRI9Tm4iN_csNUTjUV3azADxT0\n",
      "DEBUG:KaBOBInterface:\t\t> AP2A1_HUMAN\n",
      "DEBUG:KaBOBInterface:\t\t\t> AP-2 complex subunit alpha-1\n",
      "DEBUG:KaBOBInterface:\t\t\t< AP-2 complex subunit alpha-1\n",
      "DEBUG:KaBOBInterface:\t\t\t> GP_B_KDMyBp7MWrSscddDpsyxp4bX8IU\n",
      "DEBUG:KaBOBInterface:\t\t\t\t> GGP_B_KDMyBp7MWrSscddDpsyxp4bX8IU\n",
      "DEBUG:KaBOBInterface:\t\t\t\t< GGP_B_KDMyBp7MWrSscddDpsyxp4bX8IU\n",
      "DEBUG:KaBOBInterface:\t\t\t\t> GPGPV_B_KDMyBp7MWrSscddDpsyxp4bX8IU\n",
      "DEBUG:KaBOBInterface:\t\t\t\t\t> GGPV_B_KDMyBp7MWrSscddDpsyxp4bX8IU\n",
      "DEBUG:KaBOBInterface:\t\t\t\t\t< GGPV_B_KDMyBp7MWrSscddDpsyxp4bX8IU\n",
      "DEBUG:KaBOBInterface:\t\t\t\t< GPGPV_B_KDMyBp7MWrSscddDpsyxp4bX8IU\n",
      "DEBUG:KaBOBInterface:\t\t\t< GP_B_KDMyBp7MWrSscddDpsyxp4bX8IU\n",
      "DEBUG:KaBOBInterface:\t\t< AP2A1_HUMAN\n",
      "DEBUG:KaBOBInterface:\t< B_EgRI9Tm4iN_csNUTjUV3azADxT0\n",
      "DEBUG:KaBOBInterface:> B_wTqKMjXdMTdtOmCB-WET7jZHRj8\n",
      "DEBUG:KaBOBInterface:< B_wTqKMjXdMTdtOmCB-WET7jZHRj8\n"
     ]
    },
    {
     "name": "stdout",
     "output_type": "stream",
     "text": [
      "****** 21 ******\n"
     ]
    },
    {
     "name": "stderr",
     "output_type": "stream",
     "text": [
      "DEBUG:KaBOBInterface:\t> B_1pU6G2vAIv-wYWNgwVjv99ZVJxM\n",
      "DEBUG:KaBOBInterface:\t\t> SOAT1_HUMAN\n",
      "DEBUG:KaBOBInterface:\t\t\t> GP_B_n76PGGfUqfqkjLhcFEW7Tq6GF8w\n",
      "DEBUG:KaBOBInterface:\t\t\t\t> GPGPV_B_n76PGGfUqfqkjLhcFEW7Tq6GF8w\n",
      "DEBUG:KaBOBInterface:\t\t\t\t\t> GGPV_B_n76PGGfUqfqkjLhcFEW7Tq6GF8w\n",
      "DEBUG:KaBOBInterface:\t\t\t\t\t< GGPV_B_n76PGGfUqfqkjLhcFEW7Tq6GF8w\n",
      "DEBUG:KaBOBInterface:\t\t\t\t< GPGPV_B_n76PGGfUqfqkjLhcFEW7Tq6GF8w\n",
      "DEBUG:KaBOBInterface:\t\t\t\t> GGP_B_n76PGGfUqfqkjLhcFEW7Tq6GF8w\n",
      "DEBUG:KaBOBInterface:\t\t\t\t< GGP_B_n76PGGfUqfqkjLhcFEW7Tq6GF8w\n",
      "DEBUG:KaBOBInterface:\t\t\t< GP_B_n76PGGfUqfqkjLhcFEW7Tq6GF8w\n",
      "DEBUG:KaBOBInterface:\t\t\t> sterol O-acyltransferase 1\n",
      "DEBUG:KaBOBInterface:\t\t\t< sterol O-acyltransferase 1\n",
      "DEBUG:KaBOBInterface:\t\t< SOAT1_HUMAN\n",
      "DEBUG:KaBOBInterface:\t< B_1pU6G2vAIv-wYWNgwVjv99ZVJxM\n",
      "DEBUG:KaBOBInterface:> B_kh9QHUU1IO5RcoGYluoI4H8LTeU\n",
      "DEBUG:KaBOBInterface:< B_kh9QHUU1IO5RcoGYluoI4H8LTeU\n"
     ]
    },
    {
     "name": "stdout",
     "output_type": "stream",
     "text": [
      "****** 22 ******\n"
     ]
    },
    {
     "name": "stderr",
     "output_type": "stream",
     "text": [
      "DEBUG:KaBOBInterface:\t> B_RPeDgFv92GnkMW5An7mrZGahWhI\n",
      "DEBUG:KaBOBInterface:\t\t> B2R5U3_HUMAN\n",
      "DEBUG:KaBOBInterface:\t\t\t> GP_B_DKvU9IgLbR_tSRSwgLcSBZtttKs\n",
      "DEBUG:KaBOBInterface:\t\t\t\t> GGP_B_DKvU9IgLbR_tSRSwgLcSBZtttKs\n",
      "DEBUG:KaBOBInterface:\t\t\t\t< GGP_B_DKvU9IgLbR_tSRSwgLcSBZtttKs\n",
      "DEBUG:KaBOBInterface:\t\t\t\t> GPGPV_B_DKvU9IgLbR_tSRSwgLcSBZtttKs\n",
      "DEBUG:KaBOBInterface:\t\t\t\t\t> GGPV_B_DKvU9IgLbR_tSRSwgLcSBZtttKs\n",
      "DEBUG:KaBOBInterface:\t\t\t\t\t< GGPV_B_DKvU9IgLbR_tSRSwgLcSBZtttKs\n",
      "DEBUG:KaBOBInterface:\t\t\t\t< GPGPV_B_DKvU9IgLbR_tSRSwgLcSBZtttKs\n",
      "DEBUG:KaBOBInterface:\t\t\t< GP_B_DKvU9IgLbR_tSRSwgLcSBZtttKs\n",
      "DEBUG:KaBOBInterface:\t\t\t> EH domain-containing protein 1\n",
      "DEBUG:KaBOBInterface:\t\t\t< EH domain-containing protein 1\n",
      "DEBUG:KaBOBInterface:\t\t< B2R5U3_HUMAN\n",
      "DEBUG:KaBOBInterface:\t< B_RPeDgFv92GnkMW5An7mrZGahWhI\n",
      "DEBUG:KaBOBInterface:> B_T7tPDRs-eblW-20TkvyImM9R90M\n",
      "DEBUG:KaBOBInterface:< B_T7tPDRs-eblW-20TkvyImM9R90M\n"
     ]
    },
    {
     "name": "stdout",
     "output_type": "stream",
     "text": [
      "****** 23 ******\n"
     ]
    },
    {
     "name": "stderr",
     "output_type": "stream",
     "text": [
      "DEBUG:KaBOBInterface:\t> B_maeKa5RBxoymVXbVXBTQNp7BkbM\n",
      "DEBUG:KaBOBInterface:\t\t> sterol O-acyltransferase 2 (human)\n",
      "DEBUG:KaBOBInterface:\t\t\t> sterol O-acyltransferase 2\n",
      "DEBUG:KaBOBInterface:\t\t\t< sterol O-acyltransferase 2\n",
      "DEBUG:KaBOBInterface:\t\t\t> GP_B_Q9EA0xTkilPsT3ZS7Cgfdq_CmCs\n",
      "DEBUG:KaBOBInterface:\t\t\t\t> GPGPV_B_Q9EA0xTkilPsT3ZS7Cgfdq_CmCs\n",
      "DEBUG:KaBOBInterface:\t\t\t\t\t> GGPV_B_Q9EA0xTkilPsT3ZS7Cgfdq_CmCs\n",
      "DEBUG:KaBOBInterface:\t\t\t\t\t< GGPV_B_Q9EA0xTkilPsT3ZS7Cgfdq_CmCs\n",
      "DEBUG:KaBOBInterface:\t\t\t\t< GPGPV_B_Q9EA0xTkilPsT3ZS7Cgfdq_CmCs\n",
      "DEBUG:KaBOBInterface:\t\t\t\t> GGP_B_Q9EA0xTkilPsT3ZS7Cgfdq_CmCs\n",
      "DEBUG:KaBOBInterface:\t\t\t\t< GGP_B_Q9EA0xTkilPsT3ZS7Cgfdq_CmCs\n",
      "DEBUG:KaBOBInterface:\t\t\t< GP_B_Q9EA0xTkilPsT3ZS7Cgfdq_CmCs\n",
      "DEBUG:KaBOBInterface:\t\t< sterol O-acyltransferase 2 (human)\n",
      "DEBUG:KaBOBInterface:\t< B_maeKa5RBxoymVXbVXBTQNp7BkbM\n",
      "DEBUG:KaBOBInterface:> B_HcXeLf1vMWZa18284GEoSbaC9eA\n",
      "DEBUG:KaBOBInterface:< B_HcXeLf1vMWZa18284GEoSbaC9eA\n"
     ]
    },
    {
     "name": "stdout",
     "output_type": "stream",
     "text": [
      "****** 24 ******\n"
     ]
    },
    {
     "name": "stderr",
     "output_type": "stream",
     "text": [
      "DEBUG:KaBOBInterface:\t> B_n1OAeUwhu6Q_DLdNKSWhjiR9wm0\n",
      "DEBUG:KaBOBInterface:\t\t> APOB_HUMAN\n",
      "DEBUG:KaBOBInterface:\t\t\t> GP_B_WWyJFfLGyp83xTJxo6LV-0LFa6s\n",
      "DEBUG:KaBOBInterface:\t\t\t\t> GPGPV_B_WWyJFfLGyp83xTJxo6LV-0LFa6s\n",
      "DEBUG:KaBOBInterface:\t\t\t\t\t> GGPV_B_WWyJFfLGyp83xTJxo6LV-0LFa6s\n",
      "DEBUG:KaBOBInterface:\t\t\t\t\t< GGPV_B_WWyJFfLGyp83xTJxo6LV-0LFa6s\n",
      "DEBUG:KaBOBInterface:\t\t\t\t< GPGPV_B_WWyJFfLGyp83xTJxo6LV-0LFa6s\n",
      "DEBUG:KaBOBInterface:\t\t\t\t> GGP_B_WWyJFfLGyp83xTJxo6LV-0LFa6s\n",
      "DEBUG:KaBOBInterface:\t\t\t\t< GGP_B_WWyJFfLGyp83xTJxo6LV-0LFa6s\n",
      "DEBUG:KaBOBInterface:\t\t\t< GP_B_WWyJFfLGyp83xTJxo6LV-0LFa6s\n",
      "DEBUG:KaBOBInterface:\t\t\t> apolipoprotein B-100\n",
      "DEBUG:KaBOBInterface:\t\t\t< apolipoprotein B-100\n",
      "DEBUG:KaBOBInterface:\t\t< APOB_HUMAN\n",
      "DEBUG:KaBOBInterface:\t< B_n1OAeUwhu6Q_DLdNKSWhjiR9wm0\n",
      "DEBUG:KaBOBInterface:> B_85YOUbxGJ1VKRJGpEUBuQSUUJpo\n",
      "DEBUG:KaBOBInterface:< B_85YOUbxGJ1VKRJGpEUBuQSUUJpo\n"
     ]
    },
    {
     "name": "stdout",
     "output_type": "stream",
     "text": [
      "****** 25 ******\n"
     ]
    },
    {
     "name": "stderr",
     "output_type": "stream",
     "text": [
      "DEBUG:KaBOBInterface:\t> B_ps63_V_LtQfX70lH7RbCQLjVaiU\n",
      "DEBUG:KaBOBInterface:\t\t> AP2B1_HUMAN\n",
      "DEBUG:KaBOBInterface:\t\t\t> GP_B_RByoRNpRAHbrOhDRjfa2uza-5D0\n",
      "DEBUG:KaBOBInterface:\t\t\t\t> GPGPV_B_RByoRNpRAHbrOhDRjfa2uza-5D0\n",
      "DEBUG:KaBOBInterface:\t\t\t\t\t> GGPV_B_RByoRNpRAHbrOhDRjfa2uza-5D0\n",
      "DEBUG:KaBOBInterface:\t\t\t\t\t< GGPV_B_RByoRNpRAHbrOhDRjfa2uza-5D0\n",
      "DEBUG:KaBOBInterface:\t\t\t\t< GPGPV_B_RByoRNpRAHbrOhDRjfa2uza-5D0\n",
      "DEBUG:KaBOBInterface:\t\t\t\t> GGP_B_RByoRNpRAHbrOhDRjfa2uza-5D0\n",
      "DEBUG:KaBOBInterface:\t\t\t\t< GGP_B_RByoRNpRAHbrOhDRjfa2uza-5D0\n",
      "DEBUG:KaBOBInterface:\t\t\t< GP_B_RByoRNpRAHbrOhDRjfa2uza-5D0\n",
      "DEBUG:KaBOBInterface:\t\t\t> AP-2 complex subunit beta\n",
      "DEBUG:KaBOBInterface:\t\t\t< AP-2 complex subunit beta\n",
      "DEBUG:KaBOBInterface:\t\t< AP2B1_HUMAN\n",
      "DEBUG:KaBOBInterface:\t< B_ps63_V_LtQfX70lH7RbCQLjVaiU\n",
      "DEBUG:KaBOBInterface:> B_8XbOhhEq14mge_EBrr6IvesHzqQ\n",
      "DEBUG:KaBOBInterface:< B_8XbOhhEq14mge_EBrr6IvesHzqQ\n"
     ]
    },
    {
     "name": "stdout",
     "output_type": "stream",
     "text": [
      "****** 26 ******\n"
     ]
    },
    {
     "name": "stderr",
     "output_type": "stream",
     "text": [
      "DEBUG:KaBOBInterface:\t> B_Qh1fB84OVMqwAL7kxdgi5G3_j6s\n",
      "DEBUG:KaBOBInterface:\t\t> clathrin heavy chain 1 (human)\n",
      "DEBUG:KaBOBInterface:\t\t\t> GP_B_-Fplro3EK-_n-9u8M02SO8Y6Ks0\n",
      "DEBUG:KaBOBInterface:\t\t\t\t> GGP_B_-Fplro3EK-_n-9u8M02SO8Y6Ks0\n",
      "DEBUG:KaBOBInterface:\t\t\t\t< GGP_B_-Fplro3EK-_n-9u8M02SO8Y6Ks0\n",
      "DEBUG:KaBOBInterface:\t\t\t\t> GPGPV_B_-Fplro3EK-_n-9u8M02SO8Y6Ks0\n",
      "DEBUG:KaBOBInterface:\t\t\t\t\t> GGPV_B_-Fplro3EK-_n-9u8M02SO8Y6Ks0\n",
      "DEBUG:KaBOBInterface:\t\t\t\t\t< GGPV_B_-Fplro3EK-_n-9u8M02SO8Y6Ks0\n",
      "DEBUG:KaBOBInterface:\t\t\t\t< GPGPV_B_-Fplro3EK-_n-9u8M02SO8Y6Ks0\n",
      "DEBUG:KaBOBInterface:\t\t\t< GP_B_-Fplro3EK-_n-9u8M02SO8Y6Ks0\n",
      "DEBUG:KaBOBInterface:\t\t\t> clathrin heavy chain 1\n",
      "DEBUG:KaBOBInterface:\t\t\t< clathrin heavy chain 1\n",
      "DEBUG:KaBOBInterface:\t\t< clathrin heavy chain 1 (human)\n",
      "DEBUG:KaBOBInterface:\t< B_Qh1fB84OVMqwAL7kxdgi5G3_j6s\n",
      "DEBUG:KaBOBInterface:> B_xVTrMuZOOnagoBINTYUdXCPs1j0\n",
      "DEBUG:KaBOBInterface:< B_xVTrMuZOOnagoBINTYUdXCPs1j0\n"
     ]
    },
    {
     "name": "stdout",
     "output_type": "stream",
     "text": [
      "****** 27 ******\n"
     ]
    },
    {
     "name": "stderr",
     "output_type": "stream",
     "text": [
      "DEBUG:KaBOBInterface:\t> B_fHl68X3dA9__qVWtks1Zt5i93i4\n",
      "DEBUG:KaBOBInterface:\t\t> lysosomal acid lipase/cholesteryl ester hydrolase (human)\n",
      "DEBUG:KaBOBInterface:\t\t\t> GP_B_Gl9TkDGmlHmevRs9snXaNIZtccE\n",
      "DEBUG:KaBOBInterface:\t\t\t\t> GPGPV_B_Gl9TkDGmlHmevRs9snXaNIZtccE\n",
      "DEBUG:KaBOBInterface:\t\t\t\t\t> GGPV_B_Gl9TkDGmlHmevRs9snXaNIZtccE\n",
      "DEBUG:KaBOBInterface:\t\t\t\t\t< GGPV_B_Gl9TkDGmlHmevRs9snXaNIZtccE\n",
      "DEBUG:KaBOBInterface:\t\t\t\t< GPGPV_B_Gl9TkDGmlHmevRs9snXaNIZtccE\n",
      "DEBUG:KaBOBInterface:\t\t\t\t> GGP_B_Gl9TkDGmlHmevRs9snXaNIZtccE\n",
      "DEBUG:KaBOBInterface:\t\t\t\t< GGP_B_Gl9TkDGmlHmevRs9snXaNIZtccE\n",
      "DEBUG:KaBOBInterface:\t\t\t< GP_B_Gl9TkDGmlHmevRs9snXaNIZtccE\n",
      "DEBUG:KaBOBInterface:\t\t\t> lysosomal acid lipase/cholesteryl ester hydrolase\n",
      "DEBUG:KaBOBInterface:\t\t\t< lysosomal acid lipase/cholesteryl ester hydrolase\n",
      "DEBUG:KaBOBInterface:\t\t< lysosomal acid lipase/cholesteryl ester hydrolase (human)\n",
      "DEBUG:KaBOBInterface:\t< B_fHl68X3dA9__qVWtks1Zt5i93i4\n",
      "DEBUG:KaBOBInterface:> B_t3iaKx0H4bdSFdmAcGcpfgRFsuQ\n",
      "DEBUG:KaBOBInterface:< B_t3iaKx0H4bdSFdmAcGcpfgRFsuQ\n",
      "DEBUG:KaBOBInterface:Closed AllegroGraph server --host:'amc-tantor.ucdenver.pvt' port:10037\n"
     ]
    },
    {
     "name": "stdout",
     "output_type": "stream",
     "text": [
      "Drawing graphs\n"
     ]
    }
   ],
   "source": [
    "hyper_cholesterol = \"obo:GO_0034383\"\n",
    "\n",
    "mops = None\n",
    "with KaBOBInterface(\"KaBOB_credentials.txt\") as interface:\n",
    "    bio_hyper_cholesterol = interface.get_bio(hyper_cholesterol)\n",
    "    \n",
    "    hyper_cholesterol_statements_of_interest = interface.get_statements(s=bio_hyper_cholesterol)\n",
    "    hyper_cholesterol_statements_of_interest.extend(interface.get_statements(o=bio_hyper_cholesterol))\n",
    "    \n",
    "    print(\"Hyper cholesterol is involved in %d statements of interest\" % len(hyper_cholesterol_statements_of_interest))\n",
    "    \n",
    "    count = 0\n",
    "    for statement in hyper_cholesterol_statements_of_interest:\n",
    "        print(\"****** %d ******\" % count)\n",
    "        interface.mopify(statement.getSubject())\n",
    "        count += 1\n",
    "        \n",
    "    mops = interface.mops\n",
    "\n",
    "mops.draw_mops(\"E:/GDrive/Projects/Biology/images\")"
   ]
  },
  {
   "cell_type": "code",
   "execution_count": 16,
   "metadata": {},
   "outputs": [
    {
     "name": "stdout",
     "output_type": "stream",
     "text": [
      "Calculating statistics\n",
      "***Frame Statistics***\n",
      "\tNumber of mop: 281\n",
      "\n",
      "***Role Statistics***\n",
      "\tNumber of never_in_taxon: 2\n",
      "\tNumber of only_in_taxon: 24\n",
      "\tNumber of equivalent: 1\n",
      "\tNumber of has_participant: 24\n"
     ]
    }
   ],
   "source": [
    "print(\"Calculating statistics\")\n",
    "frame_stats, role_stats = mops.get_statistics()\n",
    "\n",
    "print(\"***Frame Statistics***\")\n",
    "for key, value in frame_stats.items():\n",
    "    print(\"\\tNumber of %s: %d\" % (key, value))\n",
    "\n",
    "print()\n",
    "\n",
    "print(\"***Role Statistics***\")\n",
    "for key, value in role_stats.items():\n",
    "    print(\"\\tNumber of %s: %d\" % (key, value))"
   ]
  },
  {
   "cell_type": "code",
   "execution_count": 35,
   "metadata": {},
   "outputs": [
    {
     "name": "stderr",
     "output_type": "stream",
     "text": [
      "DEBUG:KaBOBInterface:Connecting to AllegroGraph server --host:'amc-tantor.ucdenver.pvt' port:10037\n",
      "DEBUG:KaBOBInterface:Closed AllegroGraph server --host:'amc-tantor.ucdenver.pvt' port:10037\n"
     ]
    },
    {
     "name": "stdout",
     "output_type": "stream",
     "text": [
      "low-density lipoprotein particle clearance\n"
     ]
    }
   ],
   "source": [
    "with KaBOBInterface(\"KaBOB_credentials.txt\") as interface:\n",
    "    print(interface.get_node_label(bio_hyper_cholesterol, interface.get_labels(bio_hyper_cholesterol)))"
   ]
  },
  {
   "cell_type": "markdown",
   "metadata": {},
   "source": [
    "Here, we collapse the children of LDL clearance"
   ]
  },
  {
   "cell_type": "code",
   "execution_count": 122,
   "metadata": {},
   "outputs": [],
   "source": [
    "from MOPs import MOPs\n",
    "\n",
    "neighbor_of_bio_hyper_cholesterol = lambda u, v: (u == bio_hyper_cholesterol and v in mops.neighbors(u))\n",
    "def label_edges(B, C):\n",
    "    for u in B:\n",
    "        for v in C:\n",
    "            if (u,v) in  mops.edges:\n",
    "                return {\"label\": mops.edges[u, v][\"label\"]}\n",
    "\n",
    "def label_nodes(B): \n",
    "    label = None\n",
    "    for u in B:\n",
    "         if u in nx.get_node_attributes(mops, \"label\"):\n",
    "            label ={\"label\": nx.get_node_attributes(mops, \"label\")[u]}\n",
    "            if u == bio_hyper_cholesterol:\n",
    "                return label\n",
    "            \n",
    "    return label\n",
    "            \n",
    "\n",
    "collapsed_graph = nx.quotient_graph(mops, neighbor_of_bio_hyper_cholesterol, edge_data=label_edges, node_data=label_nodes)\n",
    "\n",
    "collapsed_mops = MOPs()\n",
    "collapsed_mops.add_nodes_from(collapsed_graph.nodes(data=True))\n",
    "collapsed_mops.add_edges_from(collapsed_graph.edges)\n",
    "collapsed_mops.draw_mops(\"E:/GDrive/Projects/Biology/images\")"
   ]
  },
  {
   "cell_type": "code",
   "execution_count": 104,
   "metadata": {},
   "outputs": [
    {
     "data": {
      "text/plain": [
       "280"
      ]
     },
     "execution_count": 104,
     "metadata": {},
     "output_type": "execute_result"
    }
   ],
   "source": [
    "collapsed_graph.number_of_nodes()"
   ]
  },
  {
   "cell_type": "code",
   "execution_count": 135,
   "metadata": {},
   "outputs": [
    {
     "data": {
      "text/plain": [
       "{frozenset({<http://ccp.ucdenver.edu/kabob/bio/B_gHRGYnSlCSJ09CLanxc_Cysl9n8>}): 'APOB_HUMAN',\n",
       " frozenset({<http://ccp.ucdenver.edu/kabob/bio/B_WgGGsNipZjBCX-gYx4rFLm7GARM>}): 'Saccharomyces cerevisiae',\n",
       " frozenset({<http://ccp.ucdenver.edu/kabob/bio/B_J_hJJTg_QOKKIvJt6AoJ_C_t8AU>}): 'Homo sapiens protein',\n",
       " frozenset({<http://ccp.ucdenver.edu/kabob/bio/B_r2rur2b3Iw88n6W2QrSsLu3bzf4>}): 'B_r2rur2b3Iw88n6W2QrSsLu3bzf4',\n",
       " frozenset({<http://ccp.ucdenver.edu/kabob/bio/GGPV_B_JcjyO1U5QsSI9AOCcr4dpo35KeQ>}): 'GGPV_B_JcjyO1U5QsSI9AOCcr4dpo35KeQ',\n",
       " frozenset({<http://ccp.ucdenver.edu/kabob/bio/B_LJHU9pBpgkTn02i1BDTuGZHvekI>}): 'Homo sapiens',\n",
       " frozenset({<http://ccp.ucdenver.edu/kabob/bio/B_HefLS9fnex5-hJkdhjmAl7Gk-YM>}): 'Ascomycota',\n",
       " frozenset({<http://ccp.ucdenver.edu/kabob/bio/B_vozEr9-hmp8LLzU8pIyZXAUEeNY>}): 'Opisthokonta',\n",
       " frozenset({<http://ccp.ucdenver.edu/kabob/bio/B_82ukdgYlRN_R6FjmfiZWRy9VSHA>}): 'biological_process',\n",
       " frozenset({<http://ccp.ucdenver.edu/kabob/bio/GPGPV_B_WdYy3zXYgX3Ru0XU7MdBbC1iKyo>}): 'GPGPV_B_WdYy3zXYgX3Ru0XU7MdBbC1iKyo',\n",
       " frozenset({<http://ccp.ucdenver.edu/kabob/bio/B_-l2yWlEfudwrUZdUAM6-Q9p2sfg>,\n",
       "            <http://ccp.ucdenver.edu/kabob/bio/B_HRnSe3rTqk1kcEmeuz07e36zUFE>}): 'low-density lipoprotein particle clearance',\n",
       " frozenset({<http://ccp.ucdenver.edu/kabob/bio/GGP_B_ChZk1IDw0yYBVx474JdIMAS38gQ>}): 'GGP_B_ChZk1IDw0yYBVx474JdIMAS38gQ',\n",
       " frozenset({<http://ccp.ucdenver.edu/kabob/bio/B_UiV5ZJcw22WsLWtchbb-BrRtFDU>}): 'Eutheria',\n",
       " frozenset({<http://ccp.ucdenver.edu/kabob/bio/B_JxvnnntrJfgJTTF5d9V2TXFxhuU>}): 'biopolymer',\n",
       " frozenset({<http://ccp.ucdenver.edu/kabob/bio/GGPV_B_ELLU5uU5hEWaohha-gPgKWXI2DU>}): 'GGPV_B_ELLU5uU5hEWaohha-gPgKWXI2DU',\n",
       " frozenset({<http://ccp.ucdenver.edu/kabob/bio/B_EgRI9Tm4iN_csNUTjUV3azADxT0>}): 'B_EgRI9Tm4iN_csNUTjUV3azADxT0',\n",
       " frozenset({<http://ccp.ucdenver.edu/kabob/bio/GGPV_B_ChZk1IDw0yYBVx474JdIMAS38gQ>}): 'GGPV_B_ChZk1IDw0yYBVx474JdIMAS38gQ',\n",
       " frozenset({<http://ccp.ucdenver.edu/kabob/bio/B_lovtQhGR7tae78esPLExO7h6qQk>}): 'EH domain-containing protein 1',\n",
       " frozenset({<http://ccp.ucdenver.edu/kabob/bio/B_oCTDchANqvfoWfwl-l0nKXK0UYE>}): 'B_oCTDchANqvfoWfwl-l0nKXK0UYE',\n",
       " frozenset({<http://ccp.ucdenver.edu/kabob/bio/GP_B_LMAP0azGrY-Nlv_17TRrFCHE4ME>}): 'GP_B_LMAP0azGrY-Nlv_17TRrFCHE4ME',\n",
       " frozenset({<http://ccp.ucdenver.edu/kabob/bio/GPGPV_B_KDMyBp7MWrSscddDpsyxp4bX8IU>}): 'GPGPV_B_KDMyBp7MWrSscddDpsyxp4bX8IU',\n",
       " frozenset({<http://ccp.ucdenver.edu/kabob/bio/B_zlEN6Kp6zaMV3G1kZV-XexZvI6Q>}): 'Hominidae',\n",
       " frozenset({<http://ccp.ucdenver.edu/kabob/bio/B_QJVjOIfO-eCexIebVMGcTof_W-8>}): 'Schizosaccharomyces pombe',\n",
       " frozenset({<http://ccp.ucdenver.edu/kabob/bio/B_n1OAeUwhu6Q_DLdNKSWhjiR9wm0>}): 'B_n1OAeUwhu6Q_DLdNKSWhjiR9wm0',\n",
       " frozenset({<http://ccp.ucdenver.edu/kabob/bio/GPGPV_B_-Fplro3EK-_n-9u8M02SO8Y6Ks0>}): 'GPGPV_B_-Fplro3EK-_n-9u8M02SO8Y6Ks0',\n",
       " frozenset({<http://ccp.ucdenver.edu/kabob/bio/B_5xWvjU8Y-0lk1H7pntVVzZbqNVk>}): 'Schizosaccharomycetales',\n",
       " frozenset({<http://ccp.ucdenver.edu/kabob/bio/B_i8cL8jj9t1QMMJ31EFVSgx9ZvTc>}): 'eukaryotic protein',\n",
       " frozenset({<http://ccp.ucdenver.edu/kabob/bio/GP_B_OhNDomPQUi0XrbV3Cogg37T3vwQ>}): 'GP_B_OhNDomPQUi0XrbV3Cogg37T3vwQ',\n",
       " frozenset({<http://ccp.ucdenver.edu/kabob/bio/GP_B_4tx1YNvAMIdm2LzQ7HB5DUyFGeg>}): 'GP_B_4tx1YNvAMIdm2LzQ7HB5DUyFGeg',\n",
       " frozenset({<http://ccp.ucdenver.edu/kabob/bio/GPGPV_B_ELLU5uU5hEWaohha-gPgKWXI2DU>}): 'GPGPV_B_ELLU5uU5hEWaohha-gPgKWXI2DU',\n",
       " frozenset({<http://ccp.ucdenver.edu/kabob/bio/B_BOZytRn7XAxZyU86xrmONYVsTVY>}): 'B_BOZytRn7XAxZyU86xrmONYVsTVY',\n",
       " frozenset({<http://ccp.ucdenver.edu/kabob/bio/B_6loTbQPh9wdWYZAa5EIoINDqPM4>}): 'adiponectin',\n",
       " frozenset({<http://ccp.ucdenver.edu/kabob/bio/GP_B_4FWbgdgMlDiZ60VBs15gVepGIY0>}): 'GP_B_4FWbgdgMlDiZ60VBs15gVepGIY0',\n",
       " frozenset({<http://ccp.ucdenver.edu/kabob/bio/B_9ZDSfYmExGGYvR-NgG05f54tDkU>}): 'B_9ZDSfYmExGGYvR-NgG05f54tDkU',\n",
       " frozenset({<http://ccp.ucdenver.edu/kabob/bio/B_7aL-9l5srQ6gvboeA0Uu1-CFzOY>}): 'chemical entity',\n",
       " frozenset({<http://ccp.ucdenver.edu/kabob/bio/B__BJ1qCdn_1tCpyqonSXc5qJZBdA>}): 'B__BJ1qCdn_1tCpyqonSXc5qJZBdA',\n",
       " frozenset({<http://ccp.ucdenver.edu/kabob/bio/B_1qnGt04GbESygrSwJ3gj-8Ytt1s>}): 'Schizosaccharomycetes',\n",
       " frozenset({<http://ccp.ucdenver.edu/kabob/bio/GGPV_B_rtHW5E3Ysj_J3y8p6qWMLun3jmQ>}): 'GGPV_B_rtHW5E3Ysj_J3y8p6qWMLun3jmQ',\n",
       " frozenset({<http://ccp.ucdenver.edu/kabob/bio/GGP_B_rtHW5E3Ysj_J3y8p6qWMLun3jmQ>}): 'GGP_B_rtHW5E3Ysj_J3y8p6qWMLun3jmQ',\n",
       " frozenset({<http://ccp.ucdenver.edu/kabob/bio/B_E6wHyawgpFu4nkGUPVGv_UmoXJo>}): 'sterol O-acyltransferase 2',\n",
       " frozenset({<http://ccp.ucdenver.edu/kabob/bio/B_igLcWVShJ52MnhCLuY_hlLHz9JE>}): 'clathrin heavy chain 1',\n",
       " frozenset({<http://ccp.ucdenver.edu/kabob/bio/B_tEshufcJ1wyUbi6F03Gt0MI9lFI>}): 'B2R5U3_HUMAN',\n",
       " frozenset({<http://ccp.ucdenver.edu/kabob/bio/B_ymenou7Lw571eeSvIJZEUm2U_bM>}): 'B_ymenou7Lw571eeSvIJZEUm2U_bM',\n",
       " frozenset({<http://ccp.ucdenver.edu/kabob/bio/B_fHl68X3dA9__qVWtks1Zt5i93i4>}): 'B_fHl68X3dA9__qVWtks1Zt5i93i4',\n",
       " frozenset({<http://ccp.ucdenver.edu/obo/ext/IDs-okLLDAonDHJaLjPoNkkW1696gVA>}): 'IDs-okLLDAonDHJaLjPoNkkW1696gVA',\n",
       " frozenset({<http://ccp.ucdenver.edu/kabob/bio/B_01wwjf3EzRuYEptRXOzwp6UfqPU>}): 'B_01wwjf3EzRuYEptRXOzwp6UfqPU',\n",
       " frozenset({<http://ccp.ucdenver.edu/kabob/bio/GP_B_ChZk1IDw0yYBVx474JdIMAS38gQ>}): 'GP_B_ChZk1IDw0yYBVx474JdIMAS38gQ',\n",
       " frozenset({<http://ccp.ucdenver.edu/kabob/bio/B__4ycUiVQtDlAoJXq37H_Ls-DBh0>}): 'scavenger receptor class B member 1',\n",
       " frozenset({<http://ccp.ucdenver.edu/kabob/bio/B_SGid4Wi9UmrBwtloqz4Dak6nrek>}): 'interactor type',\n",
       " frozenset({<http://ccp.ucdenver.edu/kabob/bio/B_GVP1U8w3MUGOc2IGMKZKYa2bf34>}): 'Homininae',\n",
       " frozenset({<http://ccp.ucdenver.edu/kabob/bio/GGPV_B_RByoRNpRAHbrOhDRjfa2uza-5D0>}): 'GGPV_B_RByoRNpRAHbrOhDRjfa2uza-5D0',\n",
       " frozenset({<http://ccp.ucdenver.edu/kabob/bio/GGP_B_9Gj6nOwteQIfo_83XQN5yqnRi3E>}): 'GGP_B_9Gj6nOwteQIfo_83XQN5yqnRi3E',\n",
       " frozenset({<http://ccp.ucdenver.edu/kabob/bio/B_mg0RdCauURL8gUBSfzhL0zb5hfA>}): 'X6R390_HUMAN',\n",
       " frozenset({<http://ccp.ucdenver.edu/kabob/bio/B_upCY9PG25-a3lOCXkh2OlX4v6MQ>}): 'Saccharomyces',\n",
       " frozenset({<http://ccp.ucdenver.edu/kabob/bio/GGP_B_WdYy3zXYgX3Ru0XU7MdBbC1iKyo>}): 'GGP_B_WdYy3zXYgX3Ru0XU7MdBbC1iKyo',\n",
       " frozenset({<http://ccp.ucdenver.edu/obo/ext/IAO_EXT_0001716>}): 'gene product abstraction',\n",
       " frozenset({<http://ccp.ucdenver.edu/kabob/bio/B_RPeDgFv92GnkMW5An7mrZGahWhI>}): 'B_RPeDgFv92GnkMW5An7mrZGahWhI',\n",
       " frozenset({<http://ccp.ucdenver.edu/kabob/bio/B_B62K2UNt82AuvlZgjkhz5v8ksi0>}): 'independent continuant',\n",
       " frozenset({<http://ccp.ucdenver.edu/kabob/bio/GP_B_9Gj6nOwteQIfo_83XQN5yqnRi3E>}): 'GP_B_9Gj6nOwteQIfo_83XQN5yqnRi3E',\n",
       " frozenset({<http://ccp.ucdenver.edu/kabob/bio/GGPV_B_LMAP0azGrY-Nlv_17TRrFCHE4ME>}): 'GGPV_B_LMAP0azGrY-Nlv_17TRrFCHE4ME',\n",
       " frozenset({<http://ccp.ucdenver.edu/kabob/bio/GGPV_B_WdYy3zXYgX3Ru0XU7MdBbC1iKyo>}): 'GGPV_B_WdYy3zXYgX3Ru0XU7MdBbC1iKyo',\n",
       " frozenset({<http://ccp.ucdenver.edu/kabob/bio/GPGPV_B_4tx1YNvAMIdm2LzQ7HB5DUyFGeg>}): 'GPGPV_B_4tx1YNvAMIdm2LzQ7HB5DUyFGeg',\n",
       " frozenset({<http://ccp.ucdenver.edu/kabob/bio/B_rKMtvyptJXOsS1m0C0e8qUpe8f8>}): 'biomacromolecule',\n",
       " frozenset({<http://ccp.ucdenver.edu/kabob/bio/GGPV_B_z5aOgA9AyJA0ynUmRSt9o99FdLI>}): 'GGPV_B_z5aOgA9AyJA0ynUmRSt9o99FdLI',\n",
       " frozenset({<http://ccp.ucdenver.edu/kabob/bio/GPGPV_B_rtHW5E3Ysj_J3y8p6qWMLun3jmQ>}): 'GPGPV_B_rtHW5E3Ysj_J3y8p6qWMLun3jmQ',\n",
       " frozenset({<http://ccp.ucdenver.edu/kabob/bio/GPGPV_B_ChZk1IDw0yYBVx474JdIMAS38gQ>}): 'GPGPV_B_ChZk1IDw0yYBVx474JdIMAS38gQ',\n",
       " frozenset({<http://ccp.ucdenver.edu/kabob/bio/B_iUfvhQiU1TCew8EUXoUrkRrhPAQ>}): 'Simiiformes',\n",
       " frozenset({<http://ccp.ucdenver.edu/kabob/bio/B_HxxKmqgeCtMq5xTZ2us8eun_rng>}): 'sterol O-acyltransferase 2 (human)',\n",
       " frozenset({<http://ccp.ucdenver.edu/kabob/bio/GPGPV_B_xtsNDTi6qzuM5L3HpdLawr59jzE>}): 'GPGPV_B_xtsNDTi6qzuM5L3HpdLawr59jzE',\n",
       " frozenset({<http://ccp.ucdenver.edu/kabob/ice/GO_0034383>}): 'GO_0034383',\n",
       " frozenset({<http://ccp.ucdenver.edu/kabob/bio/B_jH2YTgG018ENn3N4Lc7Pxd3bTew>}): 'B_jH2YTgG018ENn3N4Lc7Pxd3bTew',\n",
       " frozenset({<http://ccp.ucdenver.edu/kabob/bio/B_vEKqtkveKoPHsgqubenbiTrlecU>}): 'Euteleostomi',\n",
       " frozenset({<http://ccp.ucdenver.edu/kabob/bio/B_hPlfCutiSWu5Pz4EF60g0Ctdl1k>}): 'ncbitaxon',\n",
       " frozenset({<http://ccp.ucdenver.edu/kabob/bio/GPGPV_B_WWyJFfLGyp83xTJxo6LV-0LFa6s>}): 'GPGPV_B_WWyJFfLGyp83xTJxo6LV-0LFa6s',\n",
       " frozenset({<http://ccp.ucdenver.edu/kabob/bio/GPGPV_B_4FWbgdgMlDiZ60VBs15gVepGIY0>}): 'GPGPV_B_4FWbgdgMlDiZ60VBs15gVepGIY0',\n",
       " frozenset({<http://ccp.ucdenver.edu/kabob/bio/GGPV_B_ZZ9_CZfmJhFygoUXb7SZ0La5oeY>}): 'GGPV_B_ZZ9_CZfmJhFygoUXb7SZ0La5oeY',\n",
       " frozenset({<http://ccp.ucdenver.edu/kabob/bio/B__kDj98S_nSLe66D9YFh-gQ9BpJo>}): 'processual entity',\n",
       " frozenset({<http://ccp.ucdenver.edu/kabob/bio/B_0-MnypTx7zlgcyt8_nYYONnoDPM>}): 'Craniata <chordata>',\n",
       " frozenset({<http://ccp.ucdenver.edu/kabob/bio/GGPV_B_DKvU9IgLbR_tSRSwgLcSBZtttKs>}): 'GGPV_B_DKvU9IgLbR_tSRSwgLcSBZtttKs',\n",
       " frozenset({<http://ccp.ucdenver.edu/kabob/bio/GGP_B_3j6FWH-_XeuvCsf_czKaFjbhl2w>}): 'GGP_B_3j6FWH-_XeuvCsf_czKaFjbhl2w',\n",
       " frozenset({<http://ccp.ucdenver.edu/kabob/bio/B_8gxEx8I2XfawAP9ULSRQVnevuA4>}): 'B_8gxEx8I2XfawAP9ULSRQVnevuA4',\n",
       " frozenset({<http://ccp.ucdenver.edu/kabob/bio/B_zcvsE-p3CoxZKoA7uj7osadWQf4>}): 'clathrin light chain A',\n",
       " frozenset({<http://ccp.ucdenver.edu/kabob/bio/B_kmDiRpDaHQP78Vz0LaKTiaR8rD8>}): 'B_kmDiRpDaHQP78Vz0LaKTiaR8rD8',\n",
       " frozenset({<http://ccp.ucdenver.edu/kabob/bio/B_OcpqAiQAuJsTh6XGYqmyBOutMH8>}): 'object',\n",
       " frozenset({<http://ccp.ucdenver.edu/kabob/bio/B_ofgnJrMWWT1xidc8tBt66_OUonE>}): 'Saccharomycetales',\n",
       " frozenset({<http://ccp.ucdenver.edu/kabob/bio/B_y83QYljPrWtPf35yJTPFh949PmI>}): 'organic molecular entity',\n",
       " frozenset({<http://ccp.ucdenver.edu/kabob/bio/B_0PQ_LxbbnRVbf4YxWp7fUA8PXR8>}): 'Amniota',\n",
       " frozenset({<http://ccp.ucdenver.edu/kabob/bio/B_AoakkXWx3Ie0xWKQ67v8-lplEG0>}): 'occurrent',\n",
       " frozenset({<http://ccp.ucdenver.edu/kabob/bio/GGPV_B_Gl9TkDGmlHmevRs9snXaNIZtccE>}): 'GGPV_B_Gl9TkDGmlHmevRs9snXaNIZtccE',\n",
       " frozenset({<http://ccp.ucdenver.edu/kabob/bio/B_WII5dzRoRxxyPjZuEXtyX6eELJg>}): 'SCRB1_HUMAN',\n",
       " frozenset({<http://ccp.ucdenver.edu/kabob/bio/B_sJuWUSAUbRF_uIMWcQnDSeSI8vI>}): 'Catarrhini',\n",
       " frozenset({<http://ccp.ucdenver.edu/kabob/bio/B_jc_tsol75eDBQtYoVXl8YCRygxQ>}): 'B_jc_tsol75eDBQtYoVXl8YCRygxQ',\n",
       " frozenset({<http://ccp.ucdenver.edu/kabob/bio/B_6yXdoHJVC_wLSy8Lw7qAKoZ1Vr4>}): 'sterol O-acyltransferase 1',\n",
       " frozenset({<http://ccp.ucdenver.edu/kabob/bio/B_uvWVQWlb7XBWPXBciGNBWdsnCGc>}): 'Taphrinomycotina',\n",
       " frozenset({<http://ccp.ucdenver.edu/kabob/bio/GGPV_B_4tx1YNvAMIdm2LzQ7HB5DUyFGeg>}): 'GGPV_B_4tx1YNvAMIdm2LzQ7HB5DUyFGeg',\n",
       " frozenset({<http://ccp.ucdenver.edu/kabob/bio/GGPV_B_9Gj6nOwteQIfo_83XQN5yqnRi3E>}): 'GGPV_B_9Gj6nOwteQIfo_83XQN5yqnRi3E',\n",
       " frozenset({<http://ccp.ucdenver.edu/kabob/bio/B_Z-W9IrDC9YfyHOiqJZPIxL621lQ>}): 'heme oxygenase 1',\n",
       " frozenset({<http://ccp.ucdenver.edu/kabob/bio/B_KSVFF0l3G_0zCEq90aqcbSDED9U>}): 'Eumetazoa',\n",
       " frozenset({<http://ccp.ucdenver.edu/kabob/bio/B_lZw3SbNTBEchudO2ex1wfvLdC_4>}): 'AP2B1_HUMAN',\n",
       " frozenset({<http://ccp.ucdenver.edu/kabob/bio/GP_B_Gl9TkDGmlHmevRs9snXaNIZtccE>}): 'GP_B_Gl9TkDGmlHmevRs9snXaNIZtccE',\n",
       " frozenset({<http://ccp.ucdenver.edu/kabob/bio/B_-u_QgaIPgVlfT0zzoVXpmWoECGk>}): 'neutral cholesterol ester hydrolase 1',\n",
       " frozenset({<http://ccp.ucdenver.edu/kabob/bio/GP_B_JcjyO1U5QsSI9AOCcr4dpo35KeQ>}): 'GP_B_JcjyO1U5QsSI9AOCcr4dpo35KeQ',\n",
       " frozenset({<http://ccp.ucdenver.edu/kabob/bio/B_1jQQflL-RqE9l34aM9XH719S1qE>}): 'neutral cholesterol ester hydrolase 1 (human)',\n",
       " frozenset({<http://ccp.ucdenver.edu/kabob/bio/GGPV_B_3j6FWH-_XeuvCsf_czKaFjbhl2w>}): 'GGPV_B_3j6FWH-_XeuvCsf_czKaFjbhl2w',\n",
       " frozenset({<http://ccp.ucdenver.edu/kabob/bio/B_ps63_V_LtQfX70lH7RbCQLjVaiU>}): 'B_ps63_V_LtQfX70lH7RbCQLjVaiU',\n",
       " frozenset({<http://ccp.ucdenver.edu/kabob/bio/B_pW3HeRvagRsdVYhfp9Mbd9mVI3U>}): 'B_pW3HeRvagRsdVYhfp9Mbd9mVI3U',\n",
       " frozenset({<http://ccp.ucdenver.edu/kabob/bio/B_DG3XetwsrkjSX1OYYK0ZtdQ9Nbo>}): 'Niemann-Pick C1 protein (human)',\n",
       " frozenset({<http://ccp.ucdenver.edu/kabob/bio/B_V6_12HosqmPXYeTtsRYnBnnzP9w>}): 'B_V6_12HosqmPXYeTtsRYnBnnzP9w',\n",
       " frozenset({<http://ccp.ucdenver.edu/kabob/bio/GPGPV_B_z5aOgA9AyJA0ynUmRSt9o99FdLI>}): 'GPGPV_B_z5aOgA9AyJA0ynUmRSt9o99FdLI',\n",
       " frozenset({<http://ccp.ucdenver.edu/kabob/bio/GGP_B_CBkCv8bgoTysDQ16AM8xsq86uuI>}): 'GGP_B_CBkCv8bgoTysDQ16AM8xsq86uuI',\n",
       " frozenset({<http://ccp.ucdenver.edu/kabob/bio/GP_B_DKvU9IgLbR_tSRSwgLcSBZtttKs>}): 'GP_B_DKvU9IgLbR_tSRSwgLcSBZtttKs',\n",
       " frozenset({<http://ccp.ucdenver.edu/kabob/bio/GPGPV_B_9Gj6nOwteQIfo_83XQN5yqnRi3E>}): 'GPGPV_B_9Gj6nOwteQIfo_83XQN5yqnRi3E',\n",
       " frozenset({<http://ccp.ucdenver.edu/kabob/bio/B_maeKa5RBxoymVXbVXBTQNp7BkbM>}): 'B_maeKa5RBxoymVXbVXBTQNp7BkbM',\n",
       " frozenset({<http://ccp.ucdenver.edu/kabob/bio/B_Qh1fB84OVMqwAL7kxdgi5G3_j6s>}): 'B_Qh1fB84OVMqwAL7kxdgi5G3_j6s',\n",
       " frozenset({<http://ccp.ucdenver.edu/kabob/bio/B_zqM64XlsIdT5zTlk8DtOP1RAtaY>}): 'B_zqM64XlsIdT5zTlk8DtOP1RAtaY',\n",
       " frozenset({<http://ccp.ucdenver.edu/kabob/bio/B_wKFsEmNq9K02rPQpsHgK25Bgp-k>}): 'Hominoidea',\n",
       " frozenset({<http://ccp.ucdenver.edu/kabob/bio/GGP_B_z5aOgA9AyJA0ynUmRSt9o99FdLI>}): 'GGP_B_z5aOgA9AyJA0ynUmRSt9o99FdLI',\n",
       " frozenset({<http://ccp.ucdenver.edu/kabob/bio/GP_B_jQai3rTpCMYH9SR7US5Y8_aarR8>}): 'GP_B_jQai3rTpCMYH9SR7US5Y8_aarR8',\n",
       " frozenset({<http://ccp.ucdenver.edu/kabob/bio/B_YfYeaXs9_v7BrYQXffkkgPX4uuE>}): 'CLCA_HUMAN',\n",
       " frozenset({<http://ccp.ucdenver.edu/kabob/bio/B_qfwz2-c1RiPTg6Bu6EhH29pbYTk>}): 'Schizosaccharomycetaceae',\n",
       " frozenset({<http://ccp.ucdenver.edu/kabob/bio/B_oNYC58dIM4sLFl-3_I1UTzuwHcg>}): 'heteroorganic entity',\n",
       " frozenset({<http://ccp.ucdenver.edu/kabob/bio/GGP_B_WWyJFfLGyp83xTJxo6LV-0LFa6s>}): 'GGP_B_WWyJFfLGyp83xTJxo6LV-0LFa6s',\n",
       " frozenset({<http://ccp.ucdenver.edu/kabob/bio/B_l23QFrNCOAwP7yjC5HTrGXGtd2g>}): 'Niemann-Pick C1 protein',\n",
       " frozenset({<http://ccp.ucdenver.edu/kabob/bio/B_ADWq5ie5hLXzR58-kdLxVLvdKNU>}): 'B_ADWq5ie5hLXzR58-kdLxVLvdKNU',\n",
       " frozenset({<http://ccp.ucdenver.edu/kabob/bio/B_lpqR9O83aFV3ZPxVP_XGP3yOE7k>}): 'B_lpqR9O83aFV3ZPxVP_XGP3yOE7k',\n",
       " frozenset({<http://ccp.ucdenver.edu/kabob/bio/B_e7Z_Gu0Nn6_FQGa4wGqIdPDPX2M>}): 'B_e7Z_Gu0Nn6_FQGa4wGqIdPDPX2M',\n",
       " frozenset({<http://ccp.ucdenver.edu/kabob/bio/B_KHebdzHhUW_y0QKDjoU2k0MPOig>}): 'Mammalia',\n",
       " frozenset({<http://ccp.ucdenver.edu/kabob/bio/GGPV_B_CBkCv8bgoTysDQ16AM8xsq86uuI>}): 'GGPV_B_CBkCv8bgoTysDQ16AM8xsq86uuI',\n",
       " frozenset({<http://ccp.ucdenver.edu/kabob/bio/B_xw3EptGcyxSCH1FQvkI91vw9s5U>}): 'B_xw3EptGcyxSCH1FQvkI91vw9s5U',\n",
       " frozenset({<http://ccp.ucdenver.edu/kabob/bio/GPGPV_B_Q9EA0xTkilPsT3ZS7Cgfdq_CmCs>}): 'GPGPV_B_Q9EA0xTkilPsT3ZS7Cgfdq_CmCs',\n",
       " frozenset({<http://ccp.ucdenver.edu/kabob/bio/GGP_B_Gl9TkDGmlHmevRs9snXaNIZtccE>}): 'GGP_B_Gl9TkDGmlHmevRs9snXaNIZtccE',\n",
       " frozenset({<http://ccp.ucdenver.edu/kabob/bio/GPGPV_B_CBkCv8bgoTysDQ16AM8xsq86uuI>}): 'GPGPV_B_CBkCv8bgoTysDQ16AM8xsq86uuI',\n",
       " frozenset({<http://ccp.ucdenver.edu/obo/ext/IAO_EXT_0001718>}): 'gene or gene product or variant abstraction',\n",
       " frozenset({<http://ccp.ucdenver.edu/kabob/bio/B_PwcwJU0viTb805HtYUgUwkMy2sg>}): 'entity',\n",
       " frozenset({<http://ccp.ucdenver.edu/kabob/bio/B_p50wB-6QTe9UutM78DYVkoZTufk>}): 'adiponectin (human)',\n",
       " frozenset({<http://ccp.ucdenver.edu/kabob/bio/B_bLd35GMoR0ILJUMHUlVVa7oxvzQ>}): 'multicellular organismal process',\n",
       " frozenset({<http://ccp.ucdenver.edu/kabob/bio/B_R588gFUwwXqbCRRzT7RjKI2PEi4>}): 'AP-2 complex subunit alpha-2 (human)',\n",
       " frozenset({<http://ccp.ucdenver.edu/kabob/bio/B_kh9QHUU1IO5RcoGYluoI4H8LTeU>}): 'B_kh9QHUU1IO5RcoGYluoI4H8LTeU',\n",
       " frozenset({<http://ccp.ucdenver.edu/kabob/bio/B_8-esKjXYazfnBVoEPCDp3T3-EjQ>}): 'protein',\n",
       " frozenset({<http://ccp.ucdenver.edu/kabob/bio/GGP_B_ELLU5uU5hEWaohha-gPgKWXI2DU>}): 'GGP_B_ELLU5uU5hEWaohha-gPgKWXI2DU',\n",
       " frozenset({<http://ccp.ucdenver.edu/kabob/bio/B_wDyhL93ZGTagprQY4FcNXH48eAY>}): 'amino acid chain',\n",
       " frozenset({<http://ccp.ucdenver.edu/kabob/bio/GGP_B_JcjyO1U5QsSI9AOCcr4dpo35KeQ>}): 'GGP_B_JcjyO1U5QsSI9AOCcr4dpo35KeQ',\n",
       " frozenset({<http://ccp.ucdenver.edu/kabob/bio/B_NnA--TmNtWX41ydJzdrlBTFE2jE>}): 'Sarcopterygii',\n",
       " frozenset({<http://ccp.ucdenver.edu/kabob/bio/GPGPV_B_LMAP0azGrY-Nlv_17TRrFCHE4ME>}): 'GPGPV_B_LMAP0azGrY-Nlv_17TRrFCHE4ME',\n",
       " frozenset({<http://ccp.ucdenver.edu/kabob/bio/B_64qqWaSp7dL4z0Lf7mW8KkZEvxU>}): 'lysosomal acid lipase/cholesteryl ester hydrolase',\n",
       " frozenset({<http://ccp.ucdenver.edu/kabob/bio/GGP_B_ZZ9_CZfmJhFygoUXb7SZ0La5oeY>}): 'GGP_B_ZZ9_CZfmJhFygoUXb7SZ0La5oeY',\n",
       " frozenset({<http://ccp.ucdenver.edu/kabob/bio/B_tDEWgcbjAeNFPuqyjVyIw40hVDY>}): 'platelet glycoprotein 4',\n",
       " frozenset({<http://ccp.ucdenver.edu/kabob/bio/B_E4dG_kkkQJ6gLD94WDOjz7spasc>}): 'low density lipoprotein receptor adapter protein 1 (human)',\n",
       " frozenset({<http://ccp.ucdenver.edu/kabob/bio/B_Zxrsb2uzee_dHTgehBZA8097IEs>}): 'low-density lipoprotein receptor (human)',\n",
       " frozenset({<http://ccp.ucdenver.edu/kabob/bio/GP_B_3j6FWH-_XeuvCsf_czKaFjbhl2w>}): 'GP_B_3j6FWH-_XeuvCsf_czKaFjbhl2w',\n",
       " frozenset({<http://ccp.ucdenver.edu/kabob/bio/B_wTqKMjXdMTdtOmCB-WET7jZHRj8>}): 'B_wTqKMjXdMTdtOmCB-WET7jZHRj8',\n",
       " frozenset({<http://ccp.ucdenver.edu/kabob/bio/B_cAFS3Q3a43oJKADzBuaiPoBZXlU>}): 'Dikarya',\n",
       " frozenset({<http://ccp.ucdenver.edu/kabob/bio/GGP_B_jQai3rTpCMYH9SR7US5Y8_aarR8>}): 'GGP_B_jQai3rTpCMYH9SR7US5Y8_aarR8',\n",
       " frozenset({<http://ccp.ucdenver.edu/kabob/bio/B_c3_jX_tD_Rg8gunAON-b-rGcKgs>}): 'information biomacromolecule',\n",
       " frozenset({<http://ccp.ucdenver.edu/kabob/bio/B_3_2aNMQp3bhzckA2RF10vXhzJ9s>}): 'molecular entity',\n",
       " frozenset({<http://ccp.ucdenver.edu/kabob/bio/B_mEWxa45h_AGiQ1nYF_jNeybXqn0>}): 'Saccharomycetes',\n",
       " frozenset({<http://ccp.ucdenver.edu/kabob/bio/B_n2Ug6qVizvVdMEaNuwE3c7JIUoI>}): 'Fungi',\n",
       " frozenset({<http://ccp.ucdenver.edu/kabob/bio/GP_B_KDMyBp7MWrSscddDpsyxp4bX8IU>}): 'GP_B_KDMyBp7MWrSscddDpsyxp4bX8IU',\n",
       " frozenset({<http://ccp.ucdenver.edu/kabob/bio/B_kf8JDUJNCsVmgIGNaK3iLGW6SMw>}): 'AP-2 complex subunit beta',\n",
       " frozenset({<http://ccp.ucdenver.edu/kabob/bio/GGPV_B_jQai3rTpCMYH9SR7US5Y8_aarR8>}): 'GGPV_B_jQai3rTpCMYH9SR7US5Y8_aarR8',\n",
       " frozenset({<http://ccp.ucdenver.edu/kabob/bio/B_ybH_rQnoGdcgFtz9n28ww3w_Kpw>}): 'AP2M1_HUMAN',\n",
       " frozenset({<http://ccp.ucdenver.edu/kabob/bio/B_zqFHRqDbAnTTmym8mrw2kex8jdc>}): 'carboxylesterase 3 (human)',\n",
       " frozenset({<http://ccp.ucdenver.edu/kabob/bio/GPGPV_B_Gl9TkDGmlHmevRs9snXaNIZtccE>}): 'GPGPV_B_Gl9TkDGmlHmevRs9snXaNIZtccE',\n",
       " frozenset({<http://ccp.ucdenver.edu/kabob/bio/GPGPV_B_jQai3rTpCMYH9SR7US5Y8_aarR8>}): 'GPGPV_B_jQai3rTpCMYH9SR7US5Y8_aarR8',\n",
       " frozenset({<http://ccp.ucdenver.edu/kabob/bio/B_9Humo5qfFSHp6eC9bXORZHPc6Ac>}): 'Saccharomycotina',\n",
       " frozenset({<http://ccp.ucdenver.edu/kabob/bio/BN_go-plus_genid272324>}): 'BN_go-plus_genid272324',\n",
       " frozenset({<http://ccp.ucdenver.edu/kabob/bio/B_bylkQFKKmG03vTSadG-pCSzGij8>}): 'Homo',\n",
       " frozenset({<http://ccp.ucdenver.edu/kabob/bio/B_XUw_Jcwe-K0_dlPCFxADBxRQdEU>}): 'clathrin heavy chain 1 (human)',\n",
       " frozenset({<http://ccp.ucdenver.edu/kabob/bio/GP_B_RByoRNpRAHbrOhDRjfa2uza-5D0>}): 'GP_B_RByoRNpRAHbrOhDRjfa2uza-5D0',\n",
       " frozenset({<http://ccp.ucdenver.edu/kabob/bio/B_W1o9XtuX6h-ftfr88iHb5nAEPIM>}): 'B_W1o9XtuX6h-ftfr88iHb5nAEPIM',\n",
       " frozenset({<http://ccp.ucdenver.edu/kabob/bio/GP_B_ELLU5uU5hEWaohha-gPgKWXI2DU>}): 'GP_B_ELLU5uU5hEWaohha-gPgKWXI2DU',\n",
       " frozenset({<http://ccp.ucdenver.edu/kabob/bio/B_1iawSqGPraaRw9cLTnYE07MVAew>}): 'diacylglycerol O-acyltransferase 2',\n",
       " frozenset({<http://ccp.ucdenver.edu/kabob/bio/GPGPV_B_n76PGGfUqfqkjLhcFEW7Tq6GF8w>}): 'GPGPV_B_n76PGGfUqfqkjLhcFEW7Tq6GF8w',\n",
       " frozenset({<http://ccp.ucdenver.edu/kabob/bio/GPGPV_B_RByoRNpRAHbrOhDRjfa2uza-5D0>}): 'GPGPV_B_RByoRNpRAHbrOhDRjfa2uza-5D0',\n",
       " frozenset({<http://ccp.ucdenver.edu/kabob/bio/B_4HriFOfGxnMBaldCFbaAaSdN6LA>}): 'carbon group molecular entity',\n",
       " frozenset({<http://ccp.ucdenver.edu/kabob/bio/B_2iDEfuxzEiYx-HlZ3OYkLm7QlfA>}): 'Tetrapoda',\n",
       " frozenset({<http://ccp.ucdenver.edu/kabob/bio/GP_B_n76PGGfUqfqkjLhcFEW7Tq6GF8w>}): 'GP_B_n76PGGfUqfqkjLhcFEW7Tq6GF8w',\n",
       " frozenset({<http://ccp.ucdenver.edu/kabob/bio/GGPV_B_4FWbgdgMlDiZ60VBs15gVepGIY0>}): 'GGPV_B_4FWbgdgMlDiZ60VBs15gVepGIY0',\n",
       " frozenset({<http://ccp.ucdenver.edu/kabob/bio/GGP_B_-Fplro3EK-_n-9u8M02SO8Y6Ks0>}): 'GGP_B_-Fplro3EK-_n-9u8M02SO8Y6Ks0',\n",
       " frozenset({<http://ccp.ucdenver.edu/kabob/bio/B_avn8l_GPbzn-j6dWH1K1aXEoC0s>}): 'pnictogen molecular entity',\n",
       " frozenset({<http://ccp.ucdenver.edu/kabob/bio/B_9QA7gRdllG9rJX_1wfSOy1FtEHk>}): 'Teleostomi',\n",
       " frozenset({<http://ccp.ucdenver.edu/kabob/bio/B_KFB0LkxlEBqVqxxzI549vTBzM8E>}): 'p-block molecular entity',\n",
       " frozenset({<http://ccp.ucdenver.edu/kabob/bio/B_9dgfvtUR-br2UP9RhZ0JerOsXoE>}): 'Theria <Mammalia>',\n",
       " frozenset({<http://ccp.ucdenver.edu/kabob/bio/B_Axe3SmB3ZP2PvGhaLcEGI-E3iwM>}): 'material entity',\n",
       " frozenset({<http://ccp.ucdenver.edu/kabob/bio/B_0SrLN4BHnrK2LkOToayIUrI1b2A>}): 'platelet glycoprotein 4 (human)',\n",
       " frozenset({<http://ccp.ucdenver.edu/kabob/bio/B_HIxdv8kPYZxGm7zBGxk5T0eyzDI>}): 'B_HIxdv8kPYZxGm7zBGxk5T0eyzDI',\n",
       " frozenset({<http://ccp.ucdenver.edu/kabob/bio/B_MHmZLMYwyi4I4Z5z72S1ByXEG3I>}): 'B_MHmZLMYwyi4I4Z5z72S1ByXEG3I',\n",
       " frozenset({<http://ccp.ucdenver.edu/kabob/bio/GGP_B_Q9EA0xTkilPsT3ZS7Cgfdq_CmCs>}): 'GGP_B_Q9EA0xTkilPsT3ZS7Cgfdq_CmCs',\n",
       " frozenset({<http://ccp.ucdenver.edu/kabob/bio/B_uGbXuVsj2tTjGUW-SLv_9ZhlLoY>}): 'lysosomal acid lipase/cholesteryl ester hydrolase (human)',\n",
       " frozenset({<http://ccp.ucdenver.edu/kabob/bio/GP_B_-Fplro3EK-_n-9u8M02SO8Y6Ks0>}): 'GP_B_-Fplro3EK-_n-9u8M02SO8Y6Ks0',\n",
       " frozenset({<http://ccp.ucdenver.edu/kabob/bio/GP_B_z5aOgA9AyJA0ynUmRSt9o99FdLI>}): 'GP_B_z5aOgA9AyJA0ynUmRSt9o99FdLI',\n",
       " frozenset({<http://ccp.ucdenver.edu/kabob/bio/GGP_B_DKvU9IgLbR_tSRSwgLcSBZtttKs>}): 'GGP_B_DKvU9IgLbR_tSRSwgLcSBZtttKs',\n",
       " frozenset({<http://ccp.ucdenver.edu/kabob/bio/B_STavHonrcj_-wDgsaOwREs6bs0Y>}): 'polyatomic entity',\n",
       " frozenset({<http://ccp.ucdenver.edu/kabob/bio/B_Bkji6bsC1Oc1xvhKzlpXqU50b6w>}): 'AP-2 complex subunit mu',\n",
       " frozenset({<http://ccp.ucdenver.edu/kabob/bio/B_cUAQHSC8uoxpisoAqOrYpT_TrPA>}): 'SOAT1_HUMAN',\n",
       " frozenset({<http://ccp.ucdenver.edu/kabob/bio/B_JV9gm6unQSLnyhGG8iLSJ0baGjQ>}): 'macromolecule',\n",
       " frozenset({<http://ccp.ucdenver.edu/kabob/bio/GP_B_WdYy3zXYgX3Ru0XU7MdBbC1iKyo>}): 'GP_B_WdYy3zXYgX3Ru0XU7MdBbC1iKyo',\n",
       " frozenset({<http://ccp.ucdenver.edu/obo/ext/IAO_EXT_0001721>}): 'gene product or gene product variant abstraction',\n",
       " frozenset({<http://ccp.ucdenver.edu/kabob/bio/B_T7tPDRs-eblW-20TkvyImM9R90M>}): 'B_T7tPDRs-eblW-20TkvyImM9R90M',\n",
       " frozenset({<http://ccp.ucdenver.edu/kabob/bio/GP_B_Q9EA0xTkilPsT3ZS7Cgfdq_CmCs>}): 'GP_B_Q9EA0xTkilPsT3ZS7Cgfdq_CmCs',\n",
       " frozenset({<http://ccp.ucdenver.edu/kabob/bio/GGP_B_RByoRNpRAHbrOhDRjfa2uza-5D0>}): 'GGP_B_RByoRNpRAHbrOhDRjfa2uza-5D0',\n",
       " frozenset({<http://ccp.ucdenver.edu/kabob/bio/GPGPV_B_JcjyO1U5QsSI9AOCcr4dpo35KeQ>}): 'GPGPV_B_JcjyO1U5QsSI9AOCcr4dpo35KeQ',\n",
       " frozenset({<http://ccp.ucdenver.edu/kabob/bio/B_5sCbpXuCTp3NFmn4heUh9JlE0xc>}): 'AP-2 complex subunit sigma',\n",
       " frozenset({<http://ccp.ucdenver.edu/kabob/bio/B_VBL3LzQJYcH8xmWCS7sQPh_Gc-o>}): 'B_VBL3LzQJYcH8xmWCS7sQPh_Gc-o',\n",
       " frozenset({<http://ccp.ucdenver.edu/kabob/bio/B_bZoIHIAzTw88_aIRW6aN1MyYkj8>}): 'Primates',\n",
       " frozenset({<http://ccp.ucdenver.edu/kabob/bio/GGP_B_LMAP0azGrY-Nlv_17TRrFCHE4ME>}): 'GGP_B_LMAP0azGrY-Nlv_17TRrFCHE4ME',\n",
       " frozenset({<http://ccp.ucdenver.edu/kabob/bio/B_J_8x5MU0UbBEP2hJqdfqD0BFwyw>}): 'Gnathostomata <vertebrate>',\n",
       " frozenset({<http://ccp.ucdenver.edu/kabob/bio/GGP_B_4tx1YNvAMIdm2LzQ7HB5DUyFGeg>}): 'GGP_B_4tx1YNvAMIdm2LzQ7HB5DUyFGeg',\n",
       " frozenset({<http://ccp.ucdenver.edu/kabob/bio/GP_B_xtsNDTi6qzuM5L3HpdLawr59jzE>}): 'GP_B_xtsNDTi6qzuM5L3HpdLawr59jzE',\n",
       " frozenset({<http://ccp.ucdenver.edu/kabob/bio/B_cfQbTC4RyuvoDLCBo71Kfnbbkds>}): 'B_cfQbTC4RyuvoDLCBo71Kfnbbkds',\n",
       " frozenset({<http://ccp.ucdenver.edu/kabob/bio/GP_B_rtHW5E3Ysj_J3y8p6qWMLun3jmQ>}): 'GP_B_rtHW5E3Ysj_J3y8p6qWMLun3jmQ',\n",
       " frozenset({<http://ccp.ucdenver.edu/kabob/bio/GGP_B_OhNDomPQUi0XrbV3Cogg37T3vwQ>}): 'GGP_B_OhNDomPQUi0XrbV3Cogg37T3vwQ',\n",
       " frozenset({<http://ccp.ucdenver.edu/kabob/bio/B_queT3o1sotzIlViz6sh_lI3E0Qs>}): 'nitrogen molecular entity',\n",
       " frozenset({<http://ccp.ucdenver.edu/kabob/bio/B_8XbOhhEq14mge_EBrr6IvesHzqQ>}): 'B_8XbOhhEq14mge_EBrr6IvesHzqQ',\n",
       " frozenset({<http://ccp.ucdenver.edu/kabob/bio/B_rNmoJJ8iYVKt-Uzx-jdlnws5gG8>}): 'Dipnotetrapodomorpha',\n",
       " frozenset({<http://ccp.ucdenver.edu/kabob/bio/GGPV_B_KDMyBp7MWrSscddDpsyxp4bX8IU>}): 'GGPV_B_KDMyBp7MWrSscddDpsyxp4bX8IU',\n",
       " frozenset({<http://ccp.ucdenver.edu/kabob/bio/B_WGCC4IH2-4EIg4tUhSCbETMZVEY>}): 'organic amino compound',\n",
       " frozenset({<http://ccp.ucdenver.edu/kabob/bio/B_05kLk2FQm9DXmgayPy3vVXzWpsA>}): 'Chordata',\n",
       " frozenset({<http://ccp.ucdenver.edu/kabob/bio/GP_B_CBkCv8bgoTysDQ16AM8xsq86uuI>}): 'GP_B_CBkCv8bgoTysDQ16AM8xsq86uuI',\n",
       " frozenset({<http://ccp.ucdenver.edu/kabob/bio/GGPV_B_xtsNDTi6qzuM5L3HpdLawr59jzE>}): 'GGPV_B_xtsNDTi6qzuM5L3HpdLawr59jzE',\n",
       " frozenset({<http://ccp.ucdenver.edu/kabob/bio/B_31FNm0DBweh86HEbIqRSwAkdfP8>}): 'DGAT2_HUMAN',\n",
       " frozenset({<http://ccp.ucdenver.edu/kabob/bio/B_kg-aFzV3AJJO0xB2K1zLrpGZrPA>}): 'organonitrogen compound',\n",
       " frozenset({<http://ccp.ucdenver.edu/kabob/bio/B_uyo95KF0ZcQMs6wAE4nZtvStY0o>}): 'AP-2 complex subunit alpha-2',\n",
       " frozenset({<http://ccp.ucdenver.edu/kabob/bio/B_YCERItp1AnAbTYnNRk0XqncbuVU>}): 'heme oxygenase 1 (human)',\n",
       " frozenset({<http://ccp.ucdenver.edu/kabob/bio/B_EbZzluVVCRu2_qEb9AQ3umfIP5Q>}): 'Euarchontoglires',\n",
       " frozenset({<http://ccp.ucdenver.edu/kabob/bio/B_4Ubd5yaWb8he-0yCRpWGNR7mOBg>}): 'NPC2_HUMAN',\n",
       " frozenset({<http://ccp.ucdenver.edu/kabob/bio/GGP_B_n76PGGfUqfqkjLhcFEW7Tq6GF8w>}): 'GGP_B_n76PGGfUqfqkjLhcFEW7Tq6GF8w',\n",
       " frozenset({<http://ccp.ucdenver.edu/kabob/bio/B_OyfRgOMVcljzFxAR-xiEJNnboEU>}): 'saccharomyceta',\n",
       " frozenset({<http://ccp.ucdenver.edu/kabob/bio/B_UsYNN8o2BVDuD-7bJ2hL69mH_f0>}): 'B_UsYNN8o2BVDuD-7bJ2hL69mH_f0',\n",
       " frozenset({<http://ccp.ucdenver.edu/kabob/bio/B_weDEBCx95rt8OvfaB7TRj7BF3n8>}): 'low-density lipoprotein receptor',\n",
       " frozenset({<http://ccp.ucdenver.edu/kabob/bio/B_2k7xyXgXs5FSb8O7_LvyCtGuszk>}): 'Eukaryota',\n",
       " frozenset({<http://ccp.ucdenver.edu/kabob/bio/B_C4nLyA54llRX1QIU_KW81cBYgIU>}): 'B_C4nLyA54llRX1QIU_KW81cBYgIU',\n",
       " frozenset({<http://ccp.ucdenver.edu/kabob/bio/B_8j7dn3iTh1kplc8NRD3PVfSCs4s>}): 'Boreoeutheria',\n",
       " frozenset({<http://ccp.ucdenver.edu/kabob/bio/B_mgtZ4ysoacf-zMowcPTaIrT1OhU>}): 'B_mgtZ4ysoacf-zMowcPTaIrT1OhU',\n",
       " frozenset({<http://ccp.ucdenver.edu/kabob/bio/GP_B_ZZ9_CZfmJhFygoUXb7SZ0La5oeY>}): 'GP_B_ZZ9_CZfmJhFygoUXb7SZ0La5oeY',\n",
       " frozenset({<http://ccp.ucdenver.edu/kabob/bio/B_1pU6G2vAIv-wYWNgwVjv99ZVJxM>}): 'B_1pU6G2vAIv-wYWNgwVjv99ZVJxM',\n",
       " frozenset({<http://ccp.ucdenver.edu/kabob/bio/B_4FO0h37oVglgN1KWfVH300W9pdw>}): 'Deuterostomia',\n",
       " frozenset({<http://ccp.ucdenver.edu/kabob/bio/GPGPV_B_DKvU9IgLbR_tSRSwgLcSBZtttKs>}): 'GPGPV_B_DKvU9IgLbR_tSRSwgLcSBZtttKs',\n",
       " frozenset({<http://ccp.ucdenver.edu/kabob/bio/B_vYwq9BF6i6Sn_5kDgILKSp2naaE>}): 'Vertebrata <Metazoa>',\n",
       " frozenset({<http://ccp.ucdenver.edu/obo/ext/IAO_EXT_0001715>}): 'gene or gene product abstraction',\n",
       " frozenset({<http://ccp.ucdenver.edu/kabob/bio/GPGPV_B_3j6FWH-_XeuvCsf_czKaFjbhl2w>}): 'GPGPV_B_3j6FWH-_XeuvCsf_czKaFjbhl2w',\n",
       " frozenset({<http://ccp.ucdenver.edu/kabob/bio/GPGPV_B_OhNDomPQUi0XrbV3Cogg37T3vwQ>}): 'GPGPV_B_OhNDomPQUi0XrbV3Cogg37T3vwQ',\n",
       " frozenset({<http://ccp.ucdenver.edu/kabob/bio/B_qphFSRjT3ZjeuzkQorKGLHS_0rs>}): 'epididymal secretory protein E1',\n",
       " frozenset({<http://ccp.ucdenver.edu/kabob/bio/B_HcXeLf1vMWZa18284GEoSbaC9eA>}): 'B_HcXeLf1vMWZa18284GEoSbaC9eA',\n",
       " frozenset({<http://ccp.ucdenver.edu/kabob/bio/B_GSqf9CL9yGebgXQAd1-UsTlyRA4>}): 'AP-2 complex subunit alpha-1',\n",
       " frozenset({<http://ccp.ucdenver.edu/kabob/bio/B_BU_LfjF7lzFNhh2Wjnh8rWg2jcs>}): 'Saccharomycetaceae',\n",
       " frozenset({<http://ccp.ucdenver.edu/kabob/bio/B_85YOUbxGJ1VKRJGpEUBuQSUUJpo>}): 'B_85YOUbxGJ1VKRJGpEUBuQSUUJpo',\n",
       " frozenset({<http://ccp.ucdenver.edu/kabob/bio/B_GnxjMSUpWOMLjlYZq4AoUL3lNs8>}): 'B_GnxjMSUpWOMLjlYZq4AoUL3lNs8',\n",
       " frozenset({<http://ccp.ucdenver.edu/kabob/bio/B_7rrIw61ghOyjjR51s7yr0gbyGds>}): 'B_7rrIw61ghOyjjR51s7yr0gbyGds',\n",
       " frozenset({<http://ccp.ucdenver.edu/kabob/bio/GGP_B_4FWbgdgMlDiZ60VBs15gVepGIY0>}): 'GGP_B_4FWbgdgMlDiZ60VBs15gVepGIY0',\n",
       " frozenset({<http://ccp.ucdenver.edu/kabob/bio/GGPV_B_Q9EA0xTkilPsT3ZS7Cgfdq_CmCs>}): 'GGPV_B_Q9EA0xTkilPsT3ZS7Cgfdq_CmCs',\n",
       " frozenset({<http://ccp.ucdenver.edu/kabob/bio/B_s_2DSkDzL2amjB-kwrMH0K7NdI8>}): 'Schizosaccharomyces',\n",
       " frozenset({<http://ccp.ucdenver.edu/kabob/bio/B_XngY2zbSB4QQGRXfQlmklfkWcQw>}): 'Bilateria',\n",
       " frozenset({<http://ccp.ucdenver.edu/kabob/bio/GGP_B_KDMyBp7MWrSscddDpsyxp4bX8IU>}): 'GGP_B_KDMyBp7MWrSscddDpsyxp4bX8IU',\n",
       " frozenset({<http://ccp.ucdenver.edu/kabob/bio/B_rFFmFrkPXt7OFpUmPHkTiFq04vA>}): 'B_rFFmFrkPXt7OFpUmPHkTiFq04vA',\n",
       " frozenset({<http://ccp.ucdenver.edu/kabob/bio/B_n0v_uDCIjafPRq3GhQUT55c1_Fk>}): 'proprotein convertase subtilisin/kexin type 9',\n",
       " frozenset({<http://ccp.ucdenver.edu/kabob/bio/B_xVTrMuZOOnagoBINTYUdXCPs1j0>}): 'B_xVTrMuZOOnagoBINTYUdXCPs1j0',\n",
       " frozenset({<http://ccp.ucdenver.edu/kabob/bio/B_CZnTl2FzKqkHVISKgrytkFv0GAY>}): 'B_CZnTl2FzKqkHVISKgrytkFv0GAY',\n",
       " frozenset({<http://ccp.ucdenver.edu/kabob/bio/GP_B_WWyJFfLGyp83xTJxo6LV-0LFa6s>}): 'GP_B_WWyJFfLGyp83xTJxo6LV-0LFa6s',\n",
       " frozenset({<http://ccp.ucdenver.edu/kabob/bio/B_DF5aLcdDXgwrTdhIvI0AmyA14-U>}): 'proprotein convertase subtilisin/kexin type 9 (human)',\n",
       " frozenset({<http://ccp.ucdenver.edu/kabob/bio/B__ZBXNmLNU81hAFDakKFC4sSI3oc>}): 'AP2A1_HUMAN',\n",
       " frozenset({<http://ccp.ucdenver.edu/kabob/bio/GGPV_B_-Fplro3EK-_n-9u8M02SO8Y6Ks0>}): 'GGPV_B_-Fplro3EK-_n-9u8M02SO8Y6Ks0',\n",
       " frozenset({<http://ccp.ucdenver.edu/kabob/bio/B_0FBDMw89JQlTQNAHaoyHfIGB_7s>}): 'low density lipoprotein receptor adapter protein 1',\n",
       " frozenset({<http://ccp.ucdenver.edu/kabob/bio/GGP_B_xtsNDTi6qzuM5L3HpdLawr59jzE>}): 'GGP_B_xtsNDTi6qzuM5L3HpdLawr59jzE',\n",
       " frozenset({<http://ccp.ucdenver.edu/kabob/bio/B_4Lfxglao_7CYZB_4z6p3vdQfGHE>}): 'continuant',\n",
       " frozenset({<http://ccp.ucdenver.edu/kabob/bio/B_NbMxMRjNswSFQN2PUJAkySnQRus>}): 'cellular organisms',\n",
       " frozenset({<http://ccp.ucdenver.edu/kabob/bio/B_xpIXyiVEhwW_R0Uu0gzZQ9bVqO8>}): 'physical entity',\n",
       " frozenset({<http://ccp.ucdenver.edu/kabob/bio/B_qGX_bAu4-Ua9FDh_3Oh-Vx3KIuk>}): 'carboxylesterase 3',\n",
       " frozenset({<http://ccp.ucdenver.edu/kabob/bio/B_1-Vf_p6os6igXEBI9MraCn02ves>}): 'B_1-Vf_p6os6igXEBI9MraCn02ves',\n",
       " frozenset({<http://ccp.ucdenver.edu/kabob/bio/B_MXb5WVXUuE124bl3Jh3cZhMCcTs>}): 'Metazoa',\n",
       " frozenset({<http://ccp.ucdenver.edu/kabob/bio/GGPV_B_n76PGGfUqfqkjLhcFEW7Tq6GF8w>}): 'GGPV_B_n76PGGfUqfqkjLhcFEW7Tq6GF8w',\n",
       " frozenset({<http://ccp.ucdenver.edu/kabob/bio/B_HhXlrN0Fy0xameJh2zDMxLEc74o>}): 'Haplorrhini',\n",
       " frozenset({<http://ccp.ucdenver.edu/kabob/bio/B_MqibViCXaOThgwCPceYffw9P8-w>}): 'apolipoprotein B-100',\n",
       " frozenset({<http://ccp.ucdenver.edu/kabob/bio/B_t3iaKx0H4bdSFdmAcGcpfgRFsuQ>}): 'B_t3iaKx0H4bdSFdmAcGcpfgRFsuQ',\n",
       " frozenset({<http://ccp.ucdenver.edu/kabob/bio/GGPV_B_OhNDomPQUi0XrbV3Cogg37T3vwQ>}): 'GGPV_B_OhNDomPQUi0XrbV3Cogg37T3vwQ',\n",
       " frozenset({<http://ccp.ucdenver.edu/kabob/bio/GGPV_B_WWyJFfLGyp83xTJxo6LV-0LFa6s>}): 'GGPV_B_WWyJFfLGyp83xTJxo6LV-0LFa6s',\n",
       " frozenset({<http://ccp.ucdenver.edu/kabob/bio/GPGPV_B_ZZ9_CZfmJhFygoUXb7SZ0La5oeY>}): 'GPGPV_B_ZZ9_CZfmJhFygoUXb7SZ0La5oeY',\n",
       " frozenset({<http://ccp.ucdenver.edu/kabob/bio/B_iJhofy7e5PB1H4FvJfnPoRIM9qI>}): 'B_iJhofy7e5PB1H4FvJfnPoRIM9qI',\n",
       " frozenset({<http://ccp.ucdenver.edu/kabob/bio/B_udo238wmP0sc-Wz9zpjnmIFTXJ8>}): 'main group molecular entity',\n",
       " frozenset({<http://ccp.ucdenver.edu/kabob/bio/B_6I78_aqI-U9CHSvX-PKtMqSqGZM>}): 'organism'}"
      ]
     },
     "execution_count": 135,
     "metadata": {},
     "output_type": "execute_result"
    }
   ],
   "source": [
    "nx.get_edge_attributes(collapsed_graph, \"label\")"
   ]
  },
  {
   "cell_type": "code",
   "execution_count": null,
   "metadata": {
    "collapsed": true
   },
   "outputs": [],
   "source": []
  }
 ],
 "metadata": {
  "celltoolbar": "Initialization Cell",
  "kernelspec": {
   "display_name": "Python 3",
   "language": "python",
   "name": "python3"
  },
  "language_info": {
   "codemirror_mode": {
    "name": "ipython",
    "version": 3
   },
   "file_extension": ".py",
   "mimetype": "text/x-python",
   "name": "python",
   "nbconvert_exporter": "python",
   "pygments_lexer": "ipython3",
   "version": "3.6.3"
  },
  "varInspector": {
   "cols": {
    "lenName": 16,
    "lenType": 16,
    "lenVar": 40
   },
   "kernels_config": {
    "python": {
     "delete_cmd_postfix": "",
     "delete_cmd_prefix": "del ",
     "library": "var_list.py",
     "varRefreshCmd": "print(var_dic_list())"
    },
    "r": {
     "delete_cmd_postfix": ") ",
     "delete_cmd_prefix": "rm(",
     "library": "var_list.r",
     "varRefreshCmd": "cat(var_dic_list()) "
    }
   },
   "types_to_exclude": [
    "module",
    "function",
    "builtin_function_or_method",
    "instance",
    "_Feature"
   ],
   "window_display": false
  }
 },
 "nbformat": 4,
 "nbformat_minor": 2
}
