{
 "cells": [
  {
   "cell_type": "markdown",
   "metadata": {},
   "source": [
    "# KaBOB-MOPs"
   ]
  },
  {
   "cell_type": "markdown",
   "metadata": {
    "collapsed": true
   },
   "source": [
    "## KaBOB Interface Test"
   ]
  },
  {
   "cell_type": "markdown",
   "metadata": {},
   "source": [
    "KaBOBInterface is used to mopify and parse KaBOB triples. OpenKaBOB opens a connection to KaBOB and closes it using a `with` statement"
   ]
  },
  {
   "cell_type": "code",
   "execution_count": 3,
   "metadata": {
    "collapsed": true,
    "init_cell": true
   },
   "outputs": [],
   "source": [
    "from KaBOB_Interface import KaBOBInterface, OpenKaBOB\n",
    "import KaBOB_Constants\n",
    "import networkx as nx\n",
    "import pickle"
   ]
  },
  {
   "cell_type": "code",
   "execution_count": 1,
   "metadata": {},
   "outputs": [
    {
     "name": "stderr",
     "output_type": "stream",
     "text": [
      "DEBUG:OpenKaBOB:Connecting to AllegroGraph server --host:'amc-tantor.ucdenver.pvt' port:10037\n",
      "DEBUG:OpenKaBOB:Closed kabob_prod_feb2018\n"
     ]
    },
    {
     "name": "stdout",
     "output_type": "stream",
     "text": [
      "Triples in KaBOB: 283830446\n"
     ]
    }
   ],
   "source": [
    "with OpenKaBOB(\"KaBOB_credentials.txt\") as kabob:\n",
    "    print('Triples in KaBOB:', kabob.size())"
   ]
  },
  {
   "cell_type": "markdown",
   "metadata": {},
   "source": [
    "### Basic Querying"
   ]
  },
  {
   "cell_type": "markdown",
   "metadata": {},
   "source": [
    "#### Without using the interface (using just agraph_python)"
   ]
  },
  {
   "cell_type": "code",
   "execution_count": 4,
   "metadata": {},
   "outputs": [
    {
     "name": "stderr",
     "output_type": "stream",
     "text": [
      "DEBUG:OpenKaBOB:Connecting to AllegroGraph server --host:'amc-tantor.ucdenver.pvt' port:10037\n"
     ]
    },
    {
     "name": "stdout",
     "output_type": "stream",
     "text": [
      "Triples in KaBOB: 283830446\n",
      "Label for p53\n",
      "\t\"cellular tumor antigen p53 (human)\"\n",
      "\n",
      "Triples with p53 as the subject\n",
      "\t\"cellular tumor antigen p53 (human)\" subClassOf \"cellular tumor antigen p53\"\n",
      "\t\"cellular tumor antigen p53 (human)\" subClassOf \"Homo sapiens protein\"\n",
      "\n",
      "Triples with p53 as the object\n",
      "\t\"cellular tumor antigen p53 (human)\" subClassOf \"cellular tumor antigen p53 isoform 1 (human)\"\n",
      "\t\"cellular tumor antigen p53 (human)\" annotatedSource \"PR:P04637 located_in GO:0005654\"\n",
      "\t\"cellular tumor antigen p53 (human)\" subClassOf \"cellular tumor antigen p53 phosphorylated 15 (human)\"\n",
      "\t\"cellular tumor antigen p53 (human)\" subClassOf \"cellular tumor antigen p53 phosphorylated 14 (human)\"\n",
      "\t\"cellular tumor antigen p53 (human)\" subClassOf \"cellular tumor antigen p53 dimethylated 3 (human)\"\n",
      "\t\"cellular tumor antigen p53 (human)\" subClassOf \"cellular tumor antigen p53 phosphorylated 16 (human)\"\n",
      "\t\"cellular tumor antigen p53 (human)\" subClassOf \"cellular tumor antigen p53 phosphorylated 1 (human)\"\n",
      "\t\"cellular tumor antigen p53 (human)\" subClassOf \"cellular tumor antigen p53 phosphorylated 13 (human)\"\n",
      "\t\"cellular tumor antigen p53 (human)\" subClassOf \"cellular tumor antigen p53 dimethylated 2 (human)\"\n",
      "\t\"cellular tumor antigen p53 (human)\" subClassOf \"cellular tumor antigen p53 isoform h4 (human)\"\n",
      "\t\"cellular tumor antigen p53 (human)\" subClassOf \"cellular tumor antigen p53 isoform h7 (human)\"\n",
      "\t\"cellular tumor antigen p53 (human)\" subClassOf \"cellular tumor antigen p53 isoform h2 (human)\"\n",
      "\t\"cellular tumor antigen p53 (human)\" subClassOf \"cellular tumor antigen p53 isoform h8 (human)\"\n",
      "\t\"cellular tumor antigen p53 (human)\" subClassOf \"cellular tumor antigen p53 isoform h9 (human)\"\n",
      "\t\"cellular tumor antigen p53 (human)\" subClassOf \"cellular tumor antigen p53 isoform h5 (human)\"\n",
      "\t\"cellular tumor antigen p53 (human)\" subClassOf \"cellular tumor antigen p53 isoform h3 (human)\"\n",
      "\t\"cellular tumor antigen p53 (human)\" subClassOf \"cellular tumor antigen p53 isoform h6 (human)\"\n",
      "\t\"cellular tumor antigen p53 (human)\" subClassOf \"cellular tumor antigen p53 phosphorylated 19 (human)\"\n",
      "\t\"cellular tumor antigen p53 (human)\" subClassOf \"cellular tumor antigen p53 phosphorylated 17 (human)\"\n",
      "\t\"cellular tumor antigen p53 (human)\" subClassOf \"cellular tumor antigen p53 sumoylated 1 (human)\"\n",
      "\t\"cellular tumor antigen p53 (human)\" subClassOf \"cellular tumor antigen p53 phosphorylated 12 (human)\""
     ]
    },
    {
     "name": "stderr",
     "output_type": "stream",
     "text": [
      "DEBUG:OpenKaBOB:Closed kabob_prod_feb2018\n"
     ]
    },
    {
     "name": "stdout",
     "output_type": "stream",
     "text": [
      "\n",
      "\t\"cellular tumor antigen p53 (human)\" subClassOf \"cellular tumor antigen p53 ubiquitinated form (human)\"\n",
      "\t\"cellular tumor antigen p53 (human)\" subClassOf \"cellular tumor antigen p53 phosphorylated 18 (human)\"\n",
      "\t\"cellular tumor antigen p53 (human)\" subClassOf \"cellular tumor antigen p53 phosphorylated 4 (human)\"\n"
     ]
    }
   ],
   "source": [
    "from KaBOB_Interface import OpenKaBOB\n",
    "\n",
    "p53 = kabob.createURI(\"http://purl.obolibrary.org/obo/PR_P04637\")\n",
    "label = kabob.createURI(\"http://www.w3.org/2000/01/rdf-schema#label\")\n",
    "\n",
    "with OpenKaBOB() as kabob:\n",
    "    print('Triples in KaBOB:', kabob.size())\n",
    "    \n",
    "    print('Label for p53')\n",
    "    p53_labels = kabob.getStatements(p53, label).asList()\n",
    "    p53_label = p53_labels[0].getObject()\n",
    "    print(\"\\t%s\" % p53_label)\n",
    "    \n",
    "    print()\n",
    "    \n",
    "    print('Triples with p53 as the subject')\n",
    "    p53_as_subject = kabob.getStatements(p53, None, None)\n",
    "    with p53_as_subject:\n",
    "        p53_as_subject.enableDuplicateFilter()  # This may or may not be necessary all the time\n",
    "        for statement in p53_as_subject:\n",
    "            object_labels = kabob.getStatements(statement.getObject(), label).asList()\n",
    "            \n",
    "            if object_labels:\n",
    "                print(\"\\t%s %s %s\" % (p53_label, statement.getPredicate().getLocalName(), object_labels[0].getObject()))\n",
    "    \n",
    "    print()\n",
    "    \n",
    "    print('Triples with p53 as the object')\n",
    "    p53_as_object = kabob.getStatements(None, None, p53)\n",
    "    with p53_as_object:\n",
    "        p53_as_object.enableDuplicateFilter()\n",
    "        for statement in p53_as_object:\n",
    "            subject_labels = kabob.getStatements(statement.getSubject(), label).asList()\n",
    "            \n",
    "            if subject_labels:\n",
    "                print(\"\\t%s %s %s\" % (p53_label, statement.getPredicate().getLocalName(), subject_labels[0].getObject()))\n"
   ]
  },
  {
   "cell_type": "markdown",
   "metadata": {
    "collapsed": true
   },
   "source": [
    "#### With the interface"
   ]
  },
  {
   "cell_type": "code",
   "execution_count": 2,
   "metadata": {},
   "outputs": [
    {
     "name": "stderr",
     "output_type": "stream",
     "text": [
      "DEBUG:OpenKaBOB:Connecting to AllegroGraph server --host:'amc-tantor.ucdenver.pvt' port:10037\n"
     ]
    },
    {
     "name": "stdout",
     "output_type": "stream",
     "text": [
      "Label for p53\n",
      "\tcellular tumor antigen p53 (human)\n",
      "\n",
      "Triples with p53 as the subject\n",
      "\tcellular tumor antigen p53 (human) database_cross_reference \"UniProtKB:P04637\"\n",
      "\tcellular tumor antigen p53 (human) database_cross_reference \"Reactome:R-HSA-69488\"\n",
      "\tcellular tumor antigen p53 (human) id \"PR:P04637\"\n",
      "\tcellular tumor antigen p53 (human) has_obo_namespace \"protein\"\n",
      "\tcellular tumor antigen p53 (human) definition \"A cellular tumor antigen p53 that is encoded in the genome of human.\"\n",
      "\tcellular tumor antigen p53 (human) label \"cellular tumor antigen p53 (human)\"\n",
      "\tcellular tumor antigen p53 (human) comment \"Category=organism-gene.\"\n",
      "\tcellular tumor antigen p53 (human) subClassOf cellular tumor antigen p53\n",
      "\tcellular tumor antigen p53 (human) subClassOf Homo sapiens protein\n",
      "\tcellular tumor antigen p53 (human) subClassOf pr_genid1776552\n",
      "\tcellular tumor antigen p53 (human) subClassOf pr_genid338241\n",
      "\tcellular tumor antigen p53 (human) equivalentClass pr_genid338237\n",
      "\tcellular tumor antigen p53 (human) type Class\n",
      "\tcellular tumor antigen p53 (human) has_exact_synonym \"hTP53\"\n",
      "\n",
      "Triples with p53 as the object\n",
      "\tPR_P04637 denotes cellular tumor antigen p53 (human)\n",
      "\tcellular tumor antigen p53 isoform 1 (human) subClassOf cellular tumor antigen p53 (human)\n",
      "\tPR:P04637 located_in GO:0005654 annotatedSource cellular tumor antigen p53 (human)\n",
      "\tcellular tumor antigen p53 phosphorylated 15 (human) subClassOf cellular tumor antigen p53 (human)\n",
      "\tcellular tumor antigen p53 phosphorylated 14 (human) subClassOf cellular tumor antigen p53 (human)\n",
      "\tcellular tumor antigen p53 dimethylated 3 (human) subClassOf cellular tumor antigen p53 (human)\n",
      "\tcellular tumor antigen p53 phosphorylated 16 (human) subClassOf cellular tumor antigen p53 (human)\n",
      "\tcellular tumor antigen p53 phosphorylated 1 (human) subClassOf cellular tumor antigen p53 (human)\n",
      "\tcellular tumor antigen p53 phosphorylated 13 (human) subClassOf cellular tumor antigen p53 (human)\n",
      "\tcellular tumor antigen p53 dimethylated 2 (human) subClassOf cellular tumor antigen p53 (human)\n",
      "\tcellular tumor antigen p53 isoform h4 (human) subClassOf cellular tumor antigen p53 (human)\n",
      "\tpr_genid163811 first cellular tumor antigen p53 (human)\n",
      "\tcellular tumor antigen p53 isoform h7 (human) subClassOf cellular tumor antigen p53 (human)\n",
      "\tcellular tumor antigen p53 isoform h2 (human) subClassOf cellular tumor antigen p53 (human)\n",
      "\tcellular tumor antigen p53 isoform h8 (human) subClassOf cellular tumor antigen p53 (human)\n",
      "\tcellular tumor antigen p53 isoform h9 (human) subClassOf cellular tumor antigen p53 (human)\n",
      "\tpr_genid338244 annotatedSource cellular tumor antigen p53 (human)\n",
      "\tpr_genid338242 annotatedSource cellular tumor antigen p53 (human)\n",
      "\tcellular tumor antigen p53 isoform h5 (human) subClassOf cellular tumor antigen p53 (human)\n",
      "\tcellular tumor antigen p53 isoform h3 (human) subClassOf cellular tumor antigen p53 (human)\n",
      "\tcellular tumor antigen p53 isoform h6 (human) subClassOf cellular tumor antigen p53 (human)\n",
      "\tcellular tumor antigen p53 phosphorylated 19 (human) subClassOf cellular tumor antigen p53 (human)\n",
      "\tcellular tumor antigen p53 phosphorylated 17 (human) subClassOf cellular tumor antigen p53 (human)\n",
      "\tcellular tumor antigen p53 sumoylated 1 (human) subClassOf cellular tumor antigen p53 (human)\n",
      "\tcellular tumor antigen p53 phosphorylated 12 (human) subClassOf cellular tumor antigen p53 (human)\n",
      "\tcellular tumor antigen p53 ubiquitinated form (human) subClassOf cellular tumor antigen p53 (human)\n",
      "\tcellular tumor antigen p53 phosphorylated 18 (human) subClassOf cellular tumor antigen p53 (human)\n"
     ]
    },
    {
     "name": "stderr",
     "output_type": "stream",
     "text": [
      "DEBUG:OpenKaBOB:Closed kabob_prod_feb2018\n"
     ]
    },
    {
     "name": "stdout",
     "output_type": "stream",
     "text": [
      "\tcellular tumor antigen p53 phosphorylated 4 (human) subClassOf cellular tumor antigen p53 (human)\n"
     ]
    }
   ],
   "source": [
    "from KaBOB_Interface import KaBOBInterface, OpenKaBOB\n",
    "\n",
    "p53 = \"obo:PR_P04637\"\n",
    "\n",
    "with OpenKaBOB(\"KaBOB_credentials.txt\") as kabob:\n",
    "    interface = KaBOBInterface(kabob)\n",
    "    \n",
    "    print('Label for p53')\n",
    "    p53_label = interface.node_print_name(p53)\n",
    "    print(\"\\t%s\" % p53_label)\n",
    "    \n",
    "    print()\n",
    "    \n",
    "    print('Triples with p53 as the subject')\n",
    "    for statement in interface.agraph_get_statements(s=p53):\n",
    "        object_label = interface.node_print_name(statement.getObject())\n",
    "        predicate_label = interface.node_print_name(statement.getPredicate())\n",
    "        print(\"\\t%s %s %s\" % (p53_label, predicate_label, object_label))\n",
    "    \n",
    "    print()\n",
    "    \n",
    "    print('Triples with p53 as the object')\n",
    "    for statement in interface.agraph_get_statements(o=p53):\n",
    "        subject_label = interface.node_print_name(statement.getSubject())\n",
    "        predicate_label = interface.node_print_name(statement.getPredicate())\n",
    "        print(\"\\t%s %s %s\" % (subject_label, predicate_label, p53_label))"
   ]
  },
  {
   "cell_type": "markdown",
   "metadata": {},
   "source": [
    "### Mopification"
   ]
  },
  {
   "cell_type": "code",
   "execution_count": 1,
   "metadata": {},
   "outputs": [
    {
     "name": "stderr",
     "output_type": "stream",
     "text": [
      "DEBUG:OpenKaBOB:Connecting to AllegroGraph server --host:'amc-tantor.ucdenver.pvt' port:10037\n",
      "DEBUG:KaBOBInterface:> cellular tumor antigen p53 (human)\n",
      "DEBUG:KaBOBInterface:\t> cellular tumor antigen p53\n",
      "DEBUG:KaBOBInterface:\t\t> protein\n",
      "DEBUG:KaBOBInterface:\t\t\t> biopolymer\n",
      "DEBUG:KaBOBInterface:\t\t\t\t> interactor type\n",
      "DEBUG:KaBOBInterface:\t\t\t\t< interactor type\n",
      "DEBUG:KaBOBInterface:\t\t\t< biopolymer\n",
      "DEBUG:KaBOBInterface:\t\t\t> amino acid chain\n",
      "DEBUG:KaBOBInterface:\t\t\t\t> molecular entity\n",
      "DEBUG:KaBOBInterface:\t\t\t\t\t> chemical entity\n",
      "DEBUG:KaBOBInterface:\t\t\t\t\t\t> object\n",
      "DEBUG:KaBOBInterface:\t\t\t\t\t\t\t> material entity\n",
      "DEBUG:KaBOBInterface:\t\t\t\t\t\t\t\t> independent continuant\n",
      "DEBUG:KaBOBInterface:\t\t\t\t\t\t\t\t\t> continuant\n",
      "DEBUG:KaBOBInterface:\t\t\t\t\t\t\t\t\t\t> entity\n",
      "DEBUG:KaBOBInterface:\t\t\t\t\t\t\t\t\t\t< entity\n",
      "DEBUG:KaBOBInterface:\t\t\t\t\t\t\t\t\t\t> occurrent\n",
      "DEBUG:KaBOBInterface:\t\t\t\t\t\t\t\t\t\t< occurrent\n",
      "DEBUG:KaBOBInterface:\t\t\t\t\t\t\t\t\t< continuant\n",
      "DEBUG:KaBOBInterface:\t\t\t\t\t\t\t\t\t> specifically dependent continuant\n",
      "DEBUG:KaBOBInterface:\t\t\t\t\t\t\t\t\t\t> generically dependent continuant\n",
      "DEBUG:KaBOBInterface:\t\t\t\t\t\t\t\t\t\t< generically dependent continuant\n",
      "DEBUG:KaBOBInterface:\t\t\t\t\t\t\t\t\t< specifically dependent continuant\n",
      "DEBUG:KaBOBInterface:\t\t\t\t\t\t\t\t< independent continuant\n",
      "DEBUG:KaBOBInterface:\t\t\t\t\t\t\t\t> immaterial entity\n",
      "DEBUG:KaBOBInterface:\t\t\t\t\t\t\t\t< immaterial entity\n",
      "DEBUG:KaBOBInterface:\t\t\t\t\t\t\t< material entity\n",
      "DEBUG:KaBOBInterface:\t\t\t\t\t\t< object\n",
      "DEBUG:KaBOBInterface:\t\t\t\t\t< chemical entity\n",
      "DEBUG:KaBOBInterface:\t\t\t\t< molecular entity\n",
      "DEBUG:KaBOBInterface:\t\t\t\t> organic amino compound\n",
      "DEBUG:KaBOBInterface:\t\t\t\t\t> organonitrogen compound\n",
      "DEBUG:KaBOBInterface:\t\t\t\t\t\t> nitrogen molecular entity\n",
      "DEBUG:KaBOBInterface:\t\t\t\t\t\t\t> pnictogen molecular entity\n",
      "DEBUG:KaBOBInterface:\t\t\t\t\t\t\t\t> p-block molecular entity\n",
      "DEBUG:KaBOBInterface:\t\t\t\t\t\t\t\t\t> main group molecular entity\n",
      "DEBUG:KaBOBInterface:\t\t\t\t\t\t\t\t\t< main group molecular entity\n",
      "DEBUG:KaBOBInterface:\t\t\t\t\t\t\t\t< p-block molecular entity\n",
      "DEBUG:KaBOBInterface:\t\t\t\t\t\t\t< pnictogen molecular entity\n",
      "DEBUG:KaBOBInterface:\t\t\t\t\t\t< nitrogen molecular entity\n",
      "DEBUG:KaBOBInterface:\t\t\t\t\t\t> heteroorganic entity\n",
      "DEBUG:KaBOBInterface:\t\t\t\t\t\t\t> organic molecular entity\n",
      "DEBUG:KaBOBInterface:\t\t\t\t\t\t\t\t> carbon group molecular entity\n",
      "DEBUG:KaBOBInterface:\t\t\t\t\t\t\t\t< carbon group molecular entity\n",
      "DEBUG:KaBOBInterface:\t\t\t\t\t\t\t< organic molecular entity\n",
      "DEBUG:KaBOBInterface:\t\t\t\t\t\t< heteroorganic entity\n",
      "DEBUG:KaBOBInterface:\t\t\t\t\t< organonitrogen compound\n",
      "DEBUG:KaBOBInterface:\t\t\t\t< organic amino compound\n",
      "DEBUG:KaBOBInterface:\t\t\t< amino acid chain\n",
      "DEBUG:KaBOBInterface:\t\t\t> physical entity\n",
      "DEBUG:KaBOBInterface:\t\t\t< physical entity\n",
      "DEBUG:KaBOBInterface:\t\t\t> information biomacromolecule\n",
      "DEBUG:KaBOBInterface:\t\t\t\t> biomacromolecule\n",
      "DEBUG:KaBOBInterface:\t\t\t\t\t> macromolecule\n",
      "DEBUG:KaBOBInterface:\t\t\t\t\t\t> polyatomic entity\n",
      "DEBUG:KaBOBInterface:\t\t\t\t\t\t< polyatomic entity\n",
      "DEBUG:KaBOBInterface:\t\t\t\t\t< macromolecule\n",
      "DEBUG:KaBOBInterface:\t\t\t\t< biomacromolecule\n",
      "DEBUG:KaBOBInterface:\t\t\t< information biomacromolecule\n",
      "DEBUG:KaBOBInterface:\t\t< protein\n",
      "DEBUG:KaBOBInterface:\t< cellular tumor antigen p53\n",
      "DEBUG:KaBOBInterface:\t> GP_B_2VC6kJt0EwheaEg8GER1qC273bc\n",
      "WARNING:KaBOBInterface:\t\tTrivial mopification of non-BIO-world node <http://ccp.ucdenver.edu/obo/ext/IAO_EXT_0001716>\n",
      "DEBUG:KaBOBInterface:\t\t> gene product abstraction\n",
      "DEBUG:KaBOBInterface:\t\t< gene product abstraction\n",
      "DEBUG:KaBOBInterface:\t\t> GPGPV_B_2VC6kJt0EwheaEg8GER1qC273bc\n",
      "WARNING:KaBOBInterface:\t\t\tTrivial mopification of non-BIO-world node <http://ccp.ucdenver.edu/obo/ext/IAO_EXT_0001721>\n",
      "DEBUG:KaBOBInterface:\t\t\t> gene product or gene product variant abstraction\n",
      "DEBUG:KaBOBInterface:\t\t\t< gene product or gene product variant abstraction\n",
      "DEBUG:KaBOBInterface:\t\t\t> GGPV_B_2VC6kJt0EwheaEg8GER1qC273bc\n",
      "WARNING:KaBOBInterface:\t\t\t\tTrivial mopification of non-BIO-world node <http://ccp.ucdenver.edu/obo/ext/IAO_EXT_0001718>\n",
      "DEBUG:KaBOBInterface:\t\t\t\t> gene or gene product or variant abstraction\n",
      "DEBUG:KaBOBInterface:\t\t\t\t< gene or gene product or variant abstraction\n",
      "DEBUG:KaBOBInterface:\t\t\t< GGPV_B_2VC6kJt0EwheaEg8GER1qC273bc\n",
      "DEBUG:KaBOBInterface:\t\t< GPGPV_B_2VC6kJt0EwheaEg8GER1qC273bc\n",
      "DEBUG:KaBOBInterface:\t\t> GGP_B_2VC6kJt0EwheaEg8GER1qC273bc\n",
      "WARNING:KaBOBInterface:\t\t\tTrivial mopification of non-BIO-world node <http://ccp.ucdenver.edu/obo/ext/IAO_EXT_0001715>\n",
      "DEBUG:KaBOBInterface:\t\t\t> gene or gene product abstraction\n",
      "DEBUG:KaBOBInterface:\t\t\t< gene or gene product abstraction\n",
      "DEBUG:KaBOBInterface:\t\t< GGP_B_2VC6kJt0EwheaEg8GER1qC273bc\n",
      "DEBUG:KaBOBInterface:\t< GP_B_2VC6kJt0EwheaEg8GER1qC273bc\n",
      "DEBUG:KaBOBInterface:\t> Homo sapiens protein\n",
      "DEBUG:KaBOBInterface:\t\t> eukaryotic protein\n",
      "DEBUG:KaBOBInterface:\t\t\t> archaeal protein\n",
      "DEBUG:KaBOBInterface:\t\t\t\t> viral protein\n",
      "DEBUG:KaBOBInterface:\t\t\t\t< viral protein\n",
      "DEBUG:KaBOBInterface:\t\t\t< archaeal protein\n",
      "DEBUG:KaBOBInterface:\t\t\t> bacterial protein\n",
      "DEBUG:KaBOBInterface:\t\t\t< bacterial protein\n",
      "DEBUG:KaBOBInterface:\t\t< eukaryotic protein\n",
      "DEBUG:KaBOBInterface:\t< Homo sapiens protein\n",
      "DEBUG:KaBOBInterface:\t> Homo sapiens\n",
      "DEBUG:KaBOBInterface:\t\t> Homo\n",
      "DEBUG:KaBOBInterface:\t\t\t> Homininae\n",
      "DEBUG:KaBOBInterface:\t\t\t\t> Hominidae\n",
      "DEBUG:KaBOBInterface:\t\t\t\t\t> Hominoidea\n",
      "DEBUG:KaBOBInterface:\t\t\t\t\t\t> Catarrhini\n",
      "DEBUG:KaBOBInterface:\t\t\t\t\t\t\t> Simiiformes\n",
      "DEBUG:KaBOBInterface:\t\t\t\t\t\t\t\t> Haplorrhini\n",
      "DEBUG:KaBOBInterface:\t\t\t\t\t\t\t\t\t> Primates\n",
      "DEBUG:KaBOBInterface:\t\t\t\t\t\t\t\t\t\t> Euarchontoglires\n",
      "DEBUG:KaBOBInterface:\t\t\t\t\t\t\t\t\t\t\t> Boreoeutheria\n",
      "DEBUG:KaBOBInterface:\t\t\t\t\t\t\t\t\t\t\t\t> Eutheria\n",
      "DEBUG:KaBOBInterface:\t\t\t\t\t\t\t\t\t\t\t\t\t> Theria <Mammalia>\n",
      "DEBUG:KaBOBInterface:\t\t\t\t\t\t\t\t\t\t\t\t\t\t> Mammalia\n",
      "DEBUG:KaBOBInterface:\t\t\t\t\t\t\t\t\t\t\t\t\t\t\t> Amniota\n",
      "DEBUG:KaBOBInterface:\t\t\t\t\t\t\t\t\t\t\t\t\t\t\t\t> Tetrapoda\n",
      "DEBUG:KaBOBInterface:\t\t\t\t\t\t\t\t\t\t\t\t\t\t\t\t\t> Dipnotetrapodomorpha\n",
      "DEBUG:KaBOBInterface:\t\t\t\t\t\t\t\t\t\t\t\t\t\t\t\t\t\t> Sarcopterygii\n",
      "DEBUG:KaBOBInterface:\t\t\t\t\t\t\t\t\t\t\t\t\t\t\t\t\t\t\t> Euteleostomi\n",
      "DEBUG:KaBOBInterface:\t\t\t\t\t\t\t\t\t\t\t\t\t\t\t\t\t\t\t\t> Teleostomi\n",
      "DEBUG:KaBOBInterface:\t\t\t\t\t\t\t\t\t\t\t\t\t\t\t\t\t\t\t\t\t> Gnathostomata <vertebrate>\n",
      "DEBUG:KaBOBInterface:\t\t\t\t\t\t\t\t\t\t\t\t\t\t\t\t\t\t\t\t\t\t> Vertebrata <Metazoa>\n",
      "DEBUG:KaBOBInterface:\t\t\t\t\t\t\t\t\t\t\t\t\t\t\t\t\t\t\t\t\t\t\t> Craniata <chordata>\n",
      "DEBUG:KaBOBInterface:\t\t\t\t\t\t\t\t\t\t\t\t\t\t\t\t\t\t\t\t\t\t\t\t> Chordata\n",
      "DEBUG:KaBOBInterface:\t\t\t\t\t\t\t\t\t\t\t\t\t\t\t\t\t\t\t\t\t\t\t\t\t> Deuterostomia\n",
      "DEBUG:KaBOBInterface:\t\t\t\t\t\t\t\t\t\t\t\t\t\t\t\t\t\t\t\t\t\t\t\t\t\t> Bilateria\n",
      "DEBUG:KaBOBInterface:\t\t\t\t\t\t\t\t\t\t\t\t\t\t\t\t\t\t\t\t\t\t\t\t\t\t\t> Eumetazoa\n",
      "DEBUG:KaBOBInterface:\t\t\t\t\t\t\t\t\t\t\t\t\t\t\t\t\t\t\t\t\t\t\t\t\t\t\t\t> Metazoa\n",
      "DEBUG:KaBOBInterface:\t\t\t\t\t\t\t\t\t\t\t\t\t\t\t\t\t\t\t\t\t\t\t\t\t\t\t\t\t> Opisthokonta\n",
      "DEBUG:KaBOBInterface:\t\t\t\t\t\t\t\t\t\t\t\t\t\t\t\t\t\t\t\t\t\t\t\t\t\t\t\t\t\t> Eukaryota\n",
      "DEBUG:KaBOBInterface:\t\t\t\t\t\t\t\t\t\t\t\t\t\t\t\t\t\t\t\t\t\t\t\t\t\t\t\t\t\t\t> organism\n",
      "DEBUG:KaBOBInterface:\t\t\t\t\t\t\t\t\t\t\t\t\t\t\t\t\t\t\t\t\t\t\t\t\t\t\t\t\t\t\t< organism\n",
      "DEBUG:KaBOBInterface:\t\t\t\t\t\t\t\t\t\t\t\t\t\t\t\t\t\t\t\t\t\t\t\t\t\t\t\t\t\t\t> cellular organisms\n",
      "DEBUG:KaBOBInterface:\t\t\t\t\t\t\t\t\t\t\t\t\t\t\t\t\t\t\t\t\t\t\t\t\t\t\t\t\t\t\t\t> ncbitaxon\n",
      "DEBUG:KaBOBInterface:\t\t\t\t\t\t\t\t\t\t\t\t\t\t\t\t\t\t\t\t\t\t\t\t\t\t\t\t\t\t\t\t< ncbitaxon\n",
      "DEBUG:KaBOBInterface:\t\t\t\t\t\t\t\t\t\t\t\t\t\t\t\t\t\t\t\t\t\t\t\t\t\t\t\t\t\t\t< cellular organisms\n",
      "DEBUG:KaBOBInterface:\t\t\t\t\t\t\t\t\t\t\t\t\t\t\t\t\t\t\t\t\t\t\t\t\t\t\t\t\t\t\t> superkingdom\n",
      "DEBUG:KaBOBInterface:\t\t\t\t\t\t\t\t\t\t\t\t\t\t\t\t\t\t\t\t\t\t\t\t\t\t\t\t\t\t\t\t> taxonomic rank\n",
      "DEBUG:KaBOBInterface:\t\t\t\t\t\t\t\t\t\t\t\t\t\t\t\t\t\t\t\t\t\t\t\t\t\t\t\t\t\t\t\t< taxonomic rank\n",
      "DEBUG:KaBOBInterface:\t\t\t\t\t\t\t\t\t\t\t\t\t\t\t\t\t\t\t\t\t\t\t\t\t\t\t\t\t\t\t< superkingdom\n",
      "DEBUG:KaBOBInterface:\t\t\t\t\t\t\t\t\t\t\t\t\t\t\t\t\t\t\t\t\t\t\t\t\t\t\t\t\t\t< Eukaryota\n",
      "DEBUG:KaBOBInterface:\t\t\t\t\t\t\t\t\t\t\t\t\t\t\t\t\t\t\t\t\t\t\t\t\t\t\t\t\t\t> Alveolata\n",
      "DEBUG:KaBOBInterface:\t\t\t\t\t\t\t\t\t\t\t\t\t\t\t\t\t\t\t\t\t\t\t\t\t\t\t\t\t\t\t> Glaucocystophyceae\n",
      "DEBUG:KaBOBInterface:\t\t\t\t\t\t\t\t\t\t\t\t\t\t\t\t\t\t\t\t\t\t\t\t\t\t\t\t\t\t\t\t> Amoebozoa\n",
      "DEBUG:KaBOBInterface:\t\t\t\t\t\t\t\t\t\t\t\t\t\t\t\t\t\t\t\t\t\t\t\t\t\t\t\t\t\t\t\t< Amoebozoa\n",
      "DEBUG:KaBOBInterface:\t\t\t\t\t\t\t\t\t\t\t\t\t\t\t\t\t\t\t\t\t\t\t\t\t\t\t\t\t\t\t\t> class\n",
      "DEBUG:KaBOBInterface:\t\t\t\t\t\t\t\t\t\t\t\t\t\t\t\t\t\t\t\t\t\t\t\t\t\t\t\t\t\t\t\t< class\n",
      "DEBUG:KaBOBInterface:\t\t\t\t\t\t\t\t\t\t\t\t\t\t\t\t\t\t\t\t\t\t\t\t\t\t\t\t\t\t\t< Glaucocystophyceae\n",
      "DEBUG:KaBOBInterface:\t\t\t\t\t\t\t\t\t\t\t\t\t\t\t\t\t\t\t\t\t\t\t\t\t\t\t\t\t\t\t> Stramenopiles\n",
      "DEBUG:KaBOBInterface:\t\t\t\t\t\t\t\t\t\t\t\t\t\t\t\t\t\t\t\t\t\t\t\t\t\t\t\t\t\t\t\t> Euglenozoa\n",
      "DEBUG:KaBOBInterface:\t\t\t\t\t\t\t\t\t\t\t\t\t\t\t\t\t\t\t\t\t\t\t\t\t\t\t\t\t\t\t\t< Euglenozoa\n",
      "DEBUG:KaBOBInterface:\t\t\t\t\t\t\t\t\t\t\t\t\t\t\t\t\t\t\t\t\t\t\t\t\t\t\t\t\t\t\t< Stramenopiles\n",
      "DEBUG:KaBOBInterface:\t\t\t\t\t\t\t\t\t\t\t\t\t\t\t\t\t\t\t\t\t\t\t\t\t\t\t\t\t\t< Alveolata\n",
      "DEBUG:KaBOBInterface:\t\t\t\t\t\t\t\t\t\t\t\t\t\t\t\t\t\t\t\t\t\t\t\t\t\t\t\t\t< Opisthokonta\n",
      "DEBUG:KaBOBInterface:\t\t\t\t\t\t\t\t\t\t\t\t\t\t\t\t\t\t\t\t\t\t\t\t\t\t\t\t\t> Fungi\n",
      "DEBUG:KaBOBInterface:\t\t\t\t\t\t\t\t\t\t\t\t\t\t\t\t\t\t\t\t\t\t\t\t\t\t\t\t\t\t> kingdom\n"
     ]
    },
    {
     "name": "stderr",
     "output_type": "stream",
     "text": [
      "DEBUG:KaBOBInterface:\t\t\t\t\t\t\t\t\t\t\t\t\t\t\t\t\t\t\t\t\t\t\t\t\t\t\t\t\t\t< kingdom\n",
      "DEBUG:KaBOBInterface:\t\t\t\t\t\t\t\t\t\t\t\t\t\t\t\t\t\t\t\t\t\t\t\t\t\t\t\t\t< Fungi\n",
      "DEBUG:KaBOBInterface:\t\t\t\t\t\t\t\t\t\t\t\t\t\t\t\t\t\t\t\t\t\t\t\t\t\t\t\t< Metazoa\n",
      "DEBUG:KaBOBInterface:\t\t\t\t\t\t\t\t\t\t\t\t\t\t\t\t\t\t\t\t\t\t\t\t\t\t\t< Eumetazoa\n",
      "DEBUG:KaBOBInterface:\t\t\t\t\t\t\t\t\t\t\t\t\t\t\t\t\t\t\t\t\t\t\t\t\t\t\t> Cnidaria\n",
      "DEBUG:KaBOBInterface:\t\t\t\t\t\t\t\t\t\t\t\t\t\t\t\t\t\t\t\t\t\t\t\t\t\t\t\t> phylum\n",
      "DEBUG:KaBOBInterface:\t\t\t\t\t\t\t\t\t\t\t\t\t\t\t\t\t\t\t\t\t\t\t\t\t\t\t\t< phylum\n",
      "DEBUG:KaBOBInterface:\t\t\t\t\t\t\t\t\t\t\t\t\t\t\t\t\t\t\t\t\t\t\t\t\t\t\t< Cnidaria\n",
      "DEBUG:KaBOBInterface:\t\t\t\t\t\t\t\t\t\t\t\t\t\t\t\t\t\t\t\t\t\t\t\t\t\t< Bilateria\n",
      "DEBUG:KaBOBInterface:\t\t\t\t\t\t\t\t\t\t\t\t\t\t\t\t\t\t\t\t\t\t\t\t\t\t> Platyhelminthes\n",
      "DEBUG:KaBOBInterface:\t\t\t\t\t\t\t\t\t\t\t\t\t\t\t\t\t\t\t\t\t\t\t\t\t\t< Platyhelminthes\n",
      "DEBUG:KaBOBInterface:\t\t\t\t\t\t\t\t\t\t\t\t\t\t\t\t\t\t\t\t\t\t\t\t\t< Deuterostomia\n",
      "DEBUG:KaBOBInterface:\t\t\t\t\t\t\t\t\t\t\t\t\t\t\t\t\t\t\t\t\t\t\t\t< Chordata\n",
      "DEBUG:KaBOBInterface:\t\t\t\t\t\t\t\t\t\t\t\t\t\t\t\t\t\t\t\t\t\t\t\t> subphylum\n",
      "DEBUG:KaBOBInterface:\t\t\t\t\t\t\t\t\t\t\t\t\t\t\t\t\t\t\t\t\t\t\t\t< subphylum\n",
      "DEBUG:KaBOBInterface:\t\t\t\t\t\t\t\t\t\t\t\t\t\t\t\t\t\t\t\t\t\t\t< Craniata <chordata>\n",
      "DEBUG:KaBOBInterface:\t\t\t\t\t\t\t\t\t\t\t\t\t\t\t\t\t\t\t\t\t\t< Vertebrata <Metazoa>\n",
      "DEBUG:KaBOBInterface:\t\t\t\t\t\t\t\t\t\t\t\t\t\t\t\t\t\t\t\t\t< Gnathostomata <vertebrate>\n",
      "DEBUG:KaBOBInterface:\t\t\t\t\t\t\t\t\t\t\t\t\t\t\t\t\t\t\t\t\t> Chondrichthyes\n",
      "DEBUG:KaBOBInterface:\t\t\t\t\t\t\t\t\t\t\t\t\t\t\t\t\t\t\t\t\t< Chondrichthyes\n",
      "DEBUG:KaBOBInterface:\t\t\t\t\t\t\t\t\t\t\t\t\t\t\t\t\t\t\t\t< Teleostomi\n",
      "DEBUG:KaBOBInterface:\t\t\t\t\t\t\t\t\t\t\t\t\t\t\t\t\t\t\t< Euteleostomi\n",
      "DEBUG:KaBOBInterface:\t\t\t\t\t\t\t\t\t\t\t\t\t\t\t\t\t\t\t> superclass\n",
      "DEBUG:KaBOBInterface:\t\t\t\t\t\t\t\t\t\t\t\t\t\t\t\t\t\t\t< superclass\n",
      "DEBUG:KaBOBInterface:\t\t\t\t\t\t\t\t\t\t\t\t\t\t\t\t\t\t< Sarcopterygii\n",
      "DEBUG:KaBOBInterface:\t\t\t\t\t\t\t\t\t\t\t\t\t\t\t\t\t< Dipnotetrapodomorpha\n",
      "DEBUG:KaBOBInterface:\t\t\t\t\t\t\t\t\t\t\t\t\t\t\t\t\t> Dipnoi\n",
      "DEBUG:KaBOBInterface:\t\t\t\t\t\t\t\t\t\t\t\t\t\t\t\t\t< Dipnoi\n",
      "DEBUG:KaBOBInterface:\t\t\t\t\t\t\t\t\t\t\t\t\t\t\t\t< Tetrapoda\n",
      "DEBUG:KaBOBInterface:\t\t\t\t\t\t\t\t\t\t\t\t\t\t\t\t> Amphibia\n",
      "DEBUG:KaBOBInterface:\t\t\t\t\t\t\t\t\t\t\t\t\t\t\t\t< Amphibia\n",
      "DEBUG:KaBOBInterface:\t\t\t\t\t\t\t\t\t\t\t\t\t\t\t< Amniota\n",
      "DEBUG:KaBOBInterface:\t\t\t\t\t\t\t\t\t\t\t\t\t\t\t> Sauropsida\n",
      "DEBUG:KaBOBInterface:\t\t\t\t\t\t\t\t\t\t\t\t\t\t\t< Sauropsida\n",
      "DEBUG:KaBOBInterface:\t\t\t\t\t\t\t\t\t\t\t\t\t\t< Mammalia\n",
      "DEBUG:KaBOBInterface:\t\t\t\t\t\t\t\t\t\t\t\t\t\t> Prototheria\n",
      "DEBUG:KaBOBInterface:\t\t\t\t\t\t\t\t\t\t\t\t\t\t< Prototheria\n",
      "DEBUG:KaBOBInterface:\t\t\t\t\t\t\t\t\t\t\t\t\t< Theria <Mammalia>\n",
      "DEBUG:KaBOBInterface:\t\t\t\t\t\t\t\t\t\t\t\t< Eutheria\n",
      "DEBUG:KaBOBInterface:\t\t\t\t\t\t\t\t\t\t\t\t> Xenarthra\n",
      "DEBUG:KaBOBInterface:\t\t\t\t\t\t\t\t\t\t\t\t\t> superorder\n",
      "DEBUG:KaBOBInterface:\t\t\t\t\t\t\t\t\t\t\t\t\t< superorder\n",
      "DEBUG:KaBOBInterface:\t\t\t\t\t\t\t\t\t\t\t\t< Xenarthra\n",
      "DEBUG:KaBOBInterface:\t\t\t\t\t\t\t\t\t\t\t\t> Afrotheria\n",
      "DEBUG:KaBOBInterface:\t\t\t\t\t\t\t\t\t\t\t\t< Afrotheria\n",
      "DEBUG:KaBOBInterface:\t\t\t\t\t\t\t\t\t\t\t< Boreoeutheria\n",
      "DEBUG:KaBOBInterface:\t\t\t\t\t\t\t\t\t\t< Euarchontoglires\n",
      "DEBUG:KaBOBInterface:\t\t\t\t\t\t\t\t\t\t> order\n",
      "DEBUG:KaBOBInterface:\t\t\t\t\t\t\t\t\t\t< order\n",
      "DEBUG:KaBOBInterface:\t\t\t\t\t\t\t\t\t< Primates\n",
      "DEBUG:KaBOBInterface:\t\t\t\t\t\t\t\t\t> suborder\n",
      "DEBUG:KaBOBInterface:\t\t\t\t\t\t\t\t\t< suborder\n",
      "DEBUG:KaBOBInterface:\t\t\t\t\t\t\t\t< Haplorrhini\n",
      "DEBUG:KaBOBInterface:\t\t\t\t\t\t\t\t> Tarsiiformes\n",
      "DEBUG:KaBOBInterface:\t\t\t\t\t\t\t\t\t> infraorder\n",
      "DEBUG:KaBOBInterface:\t\t\t\t\t\t\t\t\t< infraorder\n",
      "DEBUG:KaBOBInterface:\t\t\t\t\t\t\t\t< Tarsiiformes\n",
      "DEBUG:KaBOBInterface:\t\t\t\t\t\t\t< Simiiformes\n",
      "DEBUG:KaBOBInterface:\t\t\t\t\t\t\t> parvorder\n",
      "DEBUG:KaBOBInterface:\t\t\t\t\t\t\t< parvorder\n",
      "DEBUG:KaBOBInterface:\t\t\t\t\t\t< Catarrhini\n",
      "DEBUG:KaBOBInterface:\t\t\t\t\t\t> superfamily\n",
      "DEBUG:KaBOBInterface:\t\t\t\t\t\t< superfamily\n",
      "DEBUG:KaBOBInterface:\t\t\t\t\t< Hominoidea\n",
      "DEBUG:KaBOBInterface:\t\t\t\t\t> family\n",
      "DEBUG:KaBOBInterface:\t\t\t\t\t< family\n",
      "DEBUG:KaBOBInterface:\t\t\t\t< Hominidae\n",
      "DEBUG:KaBOBInterface:\t\t\t\t> Ponginae\n",
      "DEBUG:KaBOBInterface:\t\t\t\t\t> subfamily\n",
      "DEBUG:KaBOBInterface:\t\t\t\t\t< subfamily\n",
      "DEBUG:KaBOBInterface:\t\t\t\t< Ponginae\n",
      "DEBUG:KaBOBInterface:\t\t\t< Homininae\n",
      "DEBUG:KaBOBInterface:\t\t\t> genus\n",
      "DEBUG:KaBOBInterface:\t\t\t< genus\n",
      "DEBUG:KaBOBInterface:\t\t< Homo\n",
      "DEBUG:KaBOBInterface:\t\t> species\n",
      "DEBUG:KaBOBInterface:\t\t< species\n",
      "DEBUG:KaBOBInterface:\t< Homo sapiens\n",
      "DEBUG:KaBOBInterface:< cellular tumor antigen p53 (human)\n",
      "DEBUG:OpenKaBOB:Closed kabob_class_latest\n"
     ]
    }
   ],
   "source": [
    "p53 = \"obo:PR_P04637\"\n",
    "\n",
    "with OpenKaBOB(\"KaBOB_credentials.txt\") as kabob:\n",
    "    interface = KaBOBInterface(kabob)\n",
    "    bio_p53 = interface.bio(interface.create_uri(p53))\n",
    "    interface.mopify(bio_p53)\n",
    "        \n",
    "#     interface.draw(layout=nx.circular_layout)"
   ]
  },
  {
   "cell_type": "markdown",
   "metadata": {},
   "source": [
    "Number of nodes in Bio World"
   ]
  },
  {
   "cell_type": "code",
   "execution_count": 6,
   "metadata": {},
   "outputs": [
    {
     "name": "stderr",
     "output_type": "stream",
     "text": [
      "DEBUG:OpenKaBOB:Connecting to AllegroGraph server --host:'amc-tantor.ucdenver.pvt' port:10037\n"
     ]
    }
   ],
   "source": [
    "k = OpenKaBOB(\"KaBOB_credentials.txt\")\n",
    "k.connect_to_kabob()\n",
    "kabob = k.kabob\n",
    "interface = pickle.load(open(\"pickles/interface_30.pickle\", \"rb\"))\n",
    "interface.kabob = kabob\n",
    "# interface = KaBOBInterface(kabob)\n",
    "# print(len(interface.get_bio_world()))"
   ]
  },
  {
   "cell_type": "code",
   "execution_count": 4,
   "metadata": {},
   "outputs": [],
   "source": [
    "interface.mopify_bio_world(num_nodes=30)"
   ]
  },
  {
   "cell_type": "code",
   "execution_count": null,
   "metadata": {},
   "outputs": [],
   "source": [
    "interface.draw(layout=nx.fruchterman_reingold_layout, size=900)"
   ]
  },
  {
   "cell_type": "code",
   "execution_count": 1,
   "metadata": {},
   "outputs": [
    {
     "name": "stdout",
     "output_type": "stream",
     "text": [
      "['male-person', 'person', 'animate-thing', 'thing']\n"
     ]
    },
    {
     "data": {
      "image/png": "[encoded data removed]",
      "text/plain": [
       "<matplotlib.figure.Figure at 0x15234d6c9b0>"
      ]
     },
     "metadata": {},
     "output_type": "display_data"
    }
   ],
   "source": [
    "%matplotlib inline\n",
    "import matplotlib as plt\n",
    "import networkx as nx\n",
    "from MOPs import MOPsManager\n",
    "\n",
    "\n",
    "manager = MOPsManager()\n",
    "\n",
    "manager.add_mop(\"thing\")\n",
    "manager.add_mop(\"animate-thing\", abstractions=[\"thing\"])\n",
    "manager.add_mop(\"person\", abstractions=[\"animate-thing\"])\n",
    "manager.add_mop(\"dog\", abstractions=[\"animate-thing\"])\n",
    "manager.add_mop(\"male-person\", abstractions=[\"person\"])\n",
    "manager.add_mop(\"female-person\", abstractions=[\"person\"])\n",
    "manager.add_mop(\"circus-performer\", abstractions=[\"animate-thing\"])\n",
    "\n",
    "manager.add_instance(\"john-1\", abstractions=[\"male-person\", \"circus-performer\"])\n",
    "manager.add_instance(\"bob-3\", abstractions=[\"male-person\"])\n",
    "manager.add_instance(\"mary-0\", abstractions=[\"female-person\"])\n",
    "manager.add_instance(\"buddy-8\", abstractions=[\"dog\"])\n",
    "manager.add_mop(\"thing\")\n",
    "\n",
    "pos = nx.spring_layout(manager.abstraction_hierarchy, k=3)\n",
    "nx.draw(manager.abstraction_hierarchy, with_labels=True)\n",
    "\n"
   ]
  },
  {
   "cell_type": "code",
   "execution_count": 15,
   "metadata": {},
   "outputs": [],
   "source": [
    "BP_root = \"obo:GO_0008150\"\n",
    "MF_root = \"obo:GO_0003674\"\n",
    "CC_root = \"obo:GO_0005575\"\n",
    "PRO_root = \"obo:PR_000000001\"\n",
    "localization_process = \"obo:GO_0051179\"\n",
    "binding_process = \"obo:GO_0005488\"\n",
    "interaction = \"obo:MI_0000\"\n",
    "physical_association = \"obo:MI_0915\"\n",
    "apoptotic_process = \"obo:GO_0006915\"\n",
    "p53 = \"obo:PR_P04637\"\n",
    "cytochrome_C = \"obo:PR_P08574\""
   ]
  },
  {
   "cell_type": "code",
   "execution_count": null,
   "metadata": {},
   "outputs": [],
   "source": []
  }
 ],
 "metadata": {
  "celltoolbar": "Initialization Cell",
  "kernelspec": {
   "display_name": "Python 3",
   "language": "python",
   "name": "python3"
  },
  "varInspector": {
   "cols": {
    "lenName": 16,
    "lenType": 16,
    "lenVar": 40
   },
   "kernels_config": {
    "python": {
     "delete_cmd_postfix": "",
     "delete_cmd_prefix": "del ",
     "library": "var_list.py",
     "varRefreshCmd": "print(var_dic_list())"
    },
    "r": {
     "delete_cmd_postfix": ") ",
     "delete_cmd_prefix": "rm(",
     "library": "var_list.r",
     "varRefreshCmd": "cat(var_dic_list()) "
    }
   },
   "types_to_exclude": [
    "module",
    "function",
    "builtin_function_or_method",
    "instance",
    "_Feature"
   ],
   "window_display": false
  }
 },
 "nbformat": 4,
 "nbformat_minor": 2
}
